{
  "nbformat": 4,
  "nbformat_minor": 0,
  "metadata": {
    "colab": {
      "provenance": [],
      "authorship_tag": "ABX9TyPshQ6A04daP9u59Kc0RR48",
      "include_colab_link": true
    },
    "kernelspec": {
      "name": "python3",
      "display_name": "Python 3"
    },
    "language_info": {
      "name": "python"
    }
  },
  "cells": [
    {
      "cell_type": "markdown",
      "metadata": {
        "id": "view-in-github",
        "colab_type": "text"
      },
      "source": [
        "<a href=\"https://colab.research.google.com/github/jiyeonjin/0624_new/blob/main/0625_python_define_%26_class.ipynb\" target=\"_parent\"><img src=\"https://colab.research.google.com/assets/colab-badge.svg\" alt=\"Open In Colab\"/></a>"
      ]
    },
    {
      "cell_type": "code",
      "execution_count": 2,
      "metadata": {
        "id": "L1816MYlkPyZ"
      },
      "outputs": [],
      "source": [
        "def my_function():\n",
        "  print(\"Hello from a function\")"
      ]
    },
    {
      "cell_type": "markdown",
      "source": [
        "def는 함수 정의할 때 쓰는 키워드.\n",
        "\n",
        "my_function()을 실행하면 print() 문이 실행되어 **\"Hello from a function\"**이 출력된다."
      ],
      "metadata": {
        "id": "RwCF7roBo3E2"
      }
    },
    {
      "cell_type": "code",
      "source": [
        "def my_function():\n",
        "  print(\"Hello from a fuction\")\n",
        "\n",
        "my_function()"
      ],
      "metadata": {
        "colab": {
          "base_uri": "https://localhost:8080/"
        },
        "id": "PvSkzu2IkdbT",
        "outputId": "e9cdb1b5-f509-43e1-fd3a-4f8a48989101"
      },
      "execution_count": 1,
      "outputs": [
        {
          "output_type": "stream",
          "name": "stdout",
          "text": [
            "Hello from a fuction\n"
          ]
        }
      ]
    },
    {
      "cell_type": "markdown",
      "source": [
        "def my_function(fname):\tfname이라는 이름의 매개변수를 받는 함수 정의\n",
        "\n",
        "이 함수는 fname 자리에 다른 이름을 넣어 호출하면, \"이름 Refsnes\" 형식으로 출력해주는 함수이다."
      ],
      "metadata": {
        "id": "qypc0OTOpCdx"
      }
    },
    {
      "cell_type": "code",
      "source": [
        "def my_function(fname):\n",
        "  print(fname+\"Refsnes\")\n",
        "\n",
        "my_function(\"Emil\")\n",
        "my_function(\"Tobias\")\n",
        "my_function(\"Linus\")"
      ],
      "metadata": {
        "colab": {
          "base_uri": "https://localhost:8080/"
        },
        "id": "NDzpenUCkdR6",
        "outputId": "01c2beb4-7156-44f6-a36b-1700ec1c034a"
      },
      "execution_count": 3,
      "outputs": [
        {
          "output_type": "stream",
          "name": "stdout",
          "text": [
            "EmilRefsnes\n",
            "TobiasRefsnes\n",
            "LinusRefsnes\n"
          ]
        }
      ]
    },
    {
      "cell_type": "markdown",
      "source": [
        "1.함수는 여러 개의 입력값(인자)을 받을 수 있다.\n",
        "\n",
        "2.fname과 lname은 각각 함수 안에서 사용할 수 있는 변수가 된다.\n",
        "\n",
        "이 함수는 이름과 성을 받아서 둘을 붙여 출력하는 함수.\n"
      ],
      "metadata": {
        "id": "jfnqLwLYpQgp"
      }
    },
    {
      "cell_type": "code",
      "source": [
        "def my_function(fname, lname):\n",
        "  print(fname+\" \"+lname)\n",
        "\n",
        "my_function(\"Emil\",\"Refsnes\")"
      ],
      "metadata": {
        "colab": {
          "base_uri": "https://localhost:8080/"
        },
        "id": "DrwGQ0ook56G",
        "outputId": "7ddb29bf-8715-435b-d29f-b289ba451a00"
      },
      "execution_count": 4,
      "outputs": [
        {
          "output_type": "stream",
          "name": "stdout",
          "text": [
            "Emil Refsnes\n"
          ]
        }
      ]
    },
    {
      "cell_type": "markdown",
      "source": [
        "문자열과 세 번째 아이 이름을 붙여서 출력함"
      ],
      "metadata": {
        "id": "zViy8IyGqDjz"
      }
    },
    {
      "cell_type": "code",
      "source": [
        "def my_function(*kids):\n",
        "  print(\"The youngest child is\" + kids[2])\n",
        "\n",
        "my_function(\"Emil\",\"Tobias\",\"Linus\")"
      ],
      "metadata": {
        "colab": {
          "base_uri": "https://localhost:8080/"
        },
        "id": "h48tl839k53s",
        "outputId": "7d0d4ecc-147e-4597-c49d-b888d1f5c6e0"
      },
      "execution_count": 5,
      "outputs": [
        {
          "output_type": "stream",
          "name": "stdout",
          "text": [
            "The youngest child isLinus\n"
          ]
        }
      ]
    },
    {
      "cell_type": "markdown",
      "source": [
        "\n",
        "\n",
        "x = 5는 초기값 역할을 하는 클래스 변수이다.\n",
        "\n",
        "p1이라는 **객체(인스턴스)**를 만든 뒤, x값을 출력하면 5가 나온다.\n",
        "\n",
        "MyClass라는 틀로 p1이라는 객체를 만들고, 그 안에 들어 있는 x라는 값을 꺼낸 것이다."
      ],
      "metadata": {
        "id": "ojIbzZ7LqSlq"
      }
    },
    {
      "cell_type": "code",
      "source": [
        "class MyClass:\n",
        "  x=5\n",
        "\n",
        "p1=MyClass()\n",
        "print(p1.x)"
      ],
      "metadata": {
        "colab": {
          "base_uri": "https://localhost:8080/"
        },
        "id": "UtyxjTkHk50V",
        "outputId": "2fc63c56-8263-4f07-885f-47b020cec440"
      },
      "execution_count": 6,
      "outputs": [
        {
          "output_type": "stream",
          "name": "stdout",
          "text": [
            "5\n"
          ]
        }
      ]
    },
    {
      "cell_type": "code",
      "source": [
        "p1=MyClass()\n",
        "print(p1.x)"
      ],
      "metadata": {
        "colab": {
          "base_uri": "https://localhost:8080/"
        },
        "id": "Eq8VjNYak5xd",
        "outputId": "24dca8df-4134-4ecb-958a-8cd443e53b86"
      },
      "execution_count": 7,
      "outputs": [
        {
          "output_type": "stream",
          "name": "stdout",
          "text": [
            "5\n"
          ]
        }
      ]
    },
    {
      "cell_type": "markdown",
      "source": [
        "클래스 만들기 → __init__으로 초기화 → 인스턴스 변수 설정하고 → 객체 만들고 → 속성 접근해서 사용"
      ],
      "metadata": {
        "id": "lA93wwVwnX84"
      }
    },
    {
      "cell_type": "code",
      "source": [
        "class Person:\n",
        "  def __init__(self,name,age):\n",
        "    self.name=name\n",
        "    self.age=age\n",
        "\n",
        "p1=Person(\"John\",36)\n",
        "\n",
        "print(p1.name)\n",
        "print(p1.age)"
      ],
      "metadata": {
        "colab": {
          "base_uri": "https://localhost:8080/"
        },
        "id": "YwMIdTiPl5Qi",
        "outputId": "85117186-8760-4307-b951-aa4fb7bd7842"
      },
      "execution_count": 8,
      "outputs": [
        {
          "output_type": "stream",
          "name": "stdout",
          "text": [
            "John\n",
            "36\n"
          ]
        }
      ]
    },
    {
      "cell_type": "markdown",
      "source": [
        "print(p1) -> 객체 자체 출력(기본값은 메모리 주소 형태), __str__ 추가 -> 사람이 읽기 좋게 하기 위함"
      ],
      "metadata": {
        "id": "izlX-8f2nLSg"
      }
    },
    {
      "cell_type": "code",
      "source": [
        "class Person:\n",
        "  def __init__(self,name,age):\n",
        "    self.name=name\n",
        "    self.age=age\n",
        "\n",
        "p1=Person(\"John\",36)\n",
        "\n",
        "print(p1)"
      ],
      "metadata": {
        "colab": {
          "base_uri": "https://localhost:8080/"
        },
        "id": "1OXg5Izyl5MH",
        "outputId": "28dec31e-1a0d-4615-e139-ac85af21acb2"
      },
      "execution_count": 9,
      "outputs": [
        {
          "output_type": "stream",
          "name": "stdout",
          "text": [
            "<__main__.Person object at 0x7d9051993850>\n"
          ]
        }
      ]
    },
    {
      "cell_type": "markdown",
      "source": [
        "__str__ 없으면 → <__main__.Person object at 0x...> 출력됨\n",
        "\n",
        "__str__ 있으면 → 우리가 지정한 문자열이 출력됨 (John(36)처럼)"
      ],
      "metadata": {
        "id": "fgFQbCvQn6wt"
      }
    },
    {
      "cell_type": "code",
      "source": [
        "class Person:\n",
        "  def __init__(self,name,age):\n",
        "    self.name=name\n",
        "    self.age=age\n",
        "\n",
        "  def __str__(self):\n",
        "    return f\"{self.name}({self.age})\"\n",
        "\n",
        "p1=Person(\"John\",36)\n",
        "\n",
        "print(p1)"
      ],
      "metadata": {
        "colab": {
          "base_uri": "https://localhost:8080/"
        },
        "id": "lp__T-Itl5G4",
        "outputId": "81dc5d48-fe76-442c-92bb-0022b27e401c"
      },
      "execution_count": 10,
      "outputs": [
        {
          "output_type": "stream",
          "name": "stdout",
          "text": [
            "John(36)\n"
          ]
        }
      ]
    },
    {
      "cell_type": "markdown",
      "source": [
        "p1.myfunc()은 \"Hello my name is John\"을 출력하는 메서드를 실행한 것이다.\n",
        "\n",
        "객체에 동작(기능)을 추가하고 싶을 때 이렇게 메서드를 만들어서 쓸 수 있다."
      ],
      "metadata": {
        "id": "0FET95p6oRrc"
      }
    },
    {
      "cell_type": "code",
      "source": [
        "class Person:\n",
        "  def __init__(self,name,age):\n",
        "    self.name=name\n",
        "    self.age=age\n",
        "\n",
        "  def myfunc(self):\n",
        "    print(\"Hello my name is\" + self.name)\n",
        "\n",
        "p1=Person(\"John\",36)\n",
        "p1.myfunc()"
      ],
      "metadata": {
        "colab": {
          "base_uri": "https://localhost:8080/"
        },
        "id": "B1JwfSkdm0yA",
        "outputId": "7159f5e4-df3c-4ba9-812b-925e12579370"
      },
      "execution_count": 11,
      "outputs": [
        {
          "output_type": "stream",
          "name": "stdout",
          "text": [
            "Hello my name isJohn\n"
          ]
        }
      ]
    }
  ]
}