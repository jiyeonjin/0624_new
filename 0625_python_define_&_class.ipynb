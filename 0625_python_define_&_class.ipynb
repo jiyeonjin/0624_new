{
  "nbformat": 4,
  "nbformat_minor": 0,
  "metadata": {
    "colab": {
      "provenance": [],
      "authorship_tag": "ABX9TyP7ox3yZ/Yn4ITbpvUA/mbY",
      "include_colab_link": true
    },
    "kernelspec": {
      "name": "python3",
      "display_name": "Python 3"
    },
    "language_info": {
      "name": "python"
    }
  },
  "cells": [
    {
      "cell_type": "markdown",
      "metadata": {
        "id": "view-in-github",
        "colab_type": "text"
      },
      "source": [
        "<a href=\"https://colab.research.google.com/github/jiyeonjin/0624_new/blob/main/0625_python_define_%26_class.ipynb\" target=\"_parent\"><img src=\"https://colab.research.google.com/assets/colab-badge.svg\" alt=\"Open In Colab\"/></a>"
      ]
    },
    {
      "cell_type": "markdown",
      "source": [
        "def는 함수 정의할 때 쓰는 키워드이다."
      ],
      "metadata": {
        "id": "SyxkxLKptw_u"
      }
    },
    {
      "cell_type": "code",
      "execution_count": null,
      "metadata": {
        "id": "L1816MYlkPyZ"
      },
      "outputs": [],
      "source": [
        "def my_function():\n",
        "  print(\"Hello from a function\")"
      ]
    },
    {
      "cell_type": "markdown",
      "source": [
        "\n",
        "\n",
        "my_function()을 실행하면 print() 문이 실행되어 **\"Hello from a function\"**이 출력된다."
      ],
      "metadata": {
        "id": "RwCF7roBo3E2"
      }
    },
    {
      "cell_type": "code",
      "source": [
        "def my_function():\n",
        "  print(\"Hello from a fuction\")\n",
        "\n",
        "my_function()"
      ],
      "metadata": {
        "colab": {
          "base_uri": "https://localhost:8080/"
        },
        "id": "PvSkzu2IkdbT",
        "outputId": "e9cdb1b5-f509-43e1-fd3a-4f8a48989101"
      },
      "execution_count": null,
      "outputs": [
        {
          "output_type": "stream",
          "name": "stdout",
          "text": [
            "Hello from a fuction\n"
          ]
        }
      ]
    },
    {
      "cell_type": "markdown",
      "source": [
        "def my_function(fname):\tfname이라는 이름의 매개변수를 받는 함수 정의\n",
        "\n",
        "이 함수는 fname 자리에 다른 이름을 넣어 호출하면, \"이름 Refsnes\" 형식으로 출력해주는 함수이다."
      ],
      "metadata": {
        "id": "qypc0OTOpCdx"
      }
    },
    {
      "cell_type": "code",
      "source": [
        "def my_function(fname):\n",
        "  print(fname+\"Refsnes\")\n",
        "\n",
        "my_function(\"Emil\")\n",
        "my_function(\"Tobias\")\n",
        "my_function(\"Linus\")"
      ],
      "metadata": {
        "colab": {
          "base_uri": "https://localhost:8080/"
        },
        "id": "NDzpenUCkdR6",
        "outputId": "01c2beb4-7156-44f6-a36b-1700ec1c034a"
      },
      "execution_count": null,
      "outputs": [
        {
          "output_type": "stream",
          "name": "stdout",
          "text": [
            "EmilRefsnes\n",
            "TobiasRefsnes\n",
            "LinusRefsnes\n"
          ]
        }
      ]
    },
    {
      "cell_type": "markdown",
      "source": [
        "1.함수는 여러 개의 입력값(인자)을 받을 수 있다.\n",
        "\n",
        "2.fname과 lname은 각각 함수 안에서 사용할 수 있는 변수가 된다.\n",
        "\n",
        "이 함수는 이름과 성을 받아서 둘을 붙여 출력하는 함수.\n"
      ],
      "metadata": {
        "id": "jfnqLwLYpQgp"
      }
    },
    {
      "cell_type": "code",
      "source": [
        "def my_function(fname, lname):\n",
        "  print(fname+\" \"+lname)\n",
        "\n",
        "my_function(\"Emil\",\"Refsnes\")"
      ],
      "metadata": {
        "colab": {
          "base_uri": "https://localhost:8080/"
        },
        "id": "DrwGQ0ook56G",
        "outputId": "7ddb29bf-8715-435b-d29f-b289ba451a00"
      },
      "execution_count": null,
      "outputs": [
        {
          "output_type": "stream",
          "name": "stdout",
          "text": [
            "Emil Refsnes\n"
          ]
        }
      ]
    },
    {
      "cell_type": "markdown",
      "source": [
        "문자열과 세 번째 아이 이름을 붙여서 출력함"
      ],
      "metadata": {
        "id": "zViy8IyGqDjz"
      }
    },
    {
      "cell_type": "code",
      "source": [
        "def my_function(*kids):\n",
        "  print(\"The youngest child is\" + kids[2])\n",
        "\n",
        "my_function(\"Emil\",\"Tobias\",\"Linus\")"
      ],
      "metadata": {
        "colab": {
          "base_uri": "https://localhost:8080/"
        },
        "id": "h48tl839k53s",
        "outputId": "7d0d4ecc-147e-4597-c49d-b888d1f5c6e0"
      },
      "execution_count": null,
      "outputs": [
        {
          "output_type": "stream",
          "name": "stdout",
          "text": [
            "The youngest child isLinus\n"
          ]
        }
      ]
    },
    {
      "cell_type": "markdown",
      "source": [
        "\n",
        "\n",
        "x = 5는 초기값 역할을 하는 클래스 변수이다.\n",
        "\n",
        "p1이라는 **객체(인스턴스)**를 만든 뒤, x값을 출력하면 5가 나온다.\n",
        "\n",
        "MyClass라는 틀로 p1이라는 객체를 만들고, 그 안에 들어 있는 x라는 값을 꺼낸 것이다."
      ],
      "metadata": {
        "id": "ojIbzZ7LqSlq"
      }
    },
    {
      "cell_type": "code",
      "source": [
        "class MyClass:\n",
        "  x=5\n",
        "\n",
        "p1=MyClass()\n",
        "print(p1.x)"
      ],
      "metadata": {
        "colab": {
          "base_uri": "https://localhost:8080/"
        },
        "id": "UtyxjTkHk50V",
        "outputId": "2fc63c56-8263-4f07-885f-47b020cec440"
      },
      "execution_count": null,
      "outputs": [
        {
          "output_type": "stream",
          "name": "stdout",
          "text": [
            "5\n"
          ]
        }
      ]
    },
    {
      "cell_type": "markdown",
      "source": [
        "클래스 만들기 → __init__으로 초기화 → 인스턴스 변수 설정하고 → 객체 만들고 → 속성 접근해서 사용"
      ],
      "metadata": {
        "id": "lA93wwVwnX84"
      }
    },
    {
      "cell_type": "code",
      "source": [
        "class Person:\n",
        "  def __init__(self,name,age):\n",
        "    self.name=name\n",
        "    self.age=age\n",
        "\n",
        "p1=Person(\"John\",36)\n",
        "\n",
        "print(p1.name)\n",
        "print(p1.age)"
      ],
      "metadata": {
        "colab": {
          "base_uri": "https://localhost:8080/"
        },
        "id": "YwMIdTiPl5Qi",
        "outputId": "85117186-8760-4307-b951-aa4fb7bd7842"
      },
      "execution_count": null,
      "outputs": [
        {
          "output_type": "stream",
          "name": "stdout",
          "text": [
            "John\n",
            "36\n"
          ]
        }
      ]
    },
    {
      "cell_type": "markdown",
      "source": [
        "print(p1) -> 객체 자체 출력(기본값은 메모리 주소 형태), __str__ 추가 -> 사람이 읽기 좋게 하기 위함"
      ],
      "metadata": {
        "id": "izlX-8f2nLSg"
      }
    },
    {
      "cell_type": "code",
      "source": [
        "class Person:\n",
        "  def __init__(self,name,age):\n",
        "    self.name=name\n",
        "    self.age=age\n",
        "\n",
        "p1=Person(\"John\",36)\n",
        "\n",
        "print(p1)"
      ],
      "metadata": {
        "colab": {
          "base_uri": "https://localhost:8080/"
        },
        "id": "1OXg5Izyl5MH",
        "outputId": "28dec31e-1a0d-4615-e139-ac85af21acb2"
      },
      "execution_count": null,
      "outputs": [
        {
          "output_type": "stream",
          "name": "stdout",
          "text": [
            "<__main__.Person object at 0x7d9051993850>\n"
          ]
        }
      ]
    },
    {
      "cell_type": "markdown",
      "source": [
        "__str__ 없으면 → <__main__.Person object at 0x...> 출력됨\n",
        "\n",
        "__str__ 있으면 → 우리가 지정한 문자열이 출력됨 (John(36)처럼)"
      ],
      "metadata": {
        "id": "fgFQbCvQn6wt"
      }
    },
    {
      "cell_type": "code",
      "source": [
        "class Person:\n",
        "  def __init__(self,name,age):\n",
        "    self.name=name\n",
        "    self.age=age\n",
        "\n",
        "  def __str__(self):\n",
        "    return f\"{self.name}({self.age})\"\n",
        "\n",
        "p1=Person(\"John\",36)\n",
        "\n",
        "print(p1)"
      ],
      "metadata": {
        "colab": {
          "base_uri": "https://localhost:8080/"
        },
        "id": "lp__T-Itl5G4",
        "outputId": "81dc5d48-fe76-442c-92bb-0022b27e401c"
      },
      "execution_count": null,
      "outputs": [
        {
          "output_type": "stream",
          "name": "stdout",
          "text": [
            "John(36)\n"
          ]
        }
      ]
    },
    {
      "cell_type": "markdown",
      "source": [
        "p1.myfunc()은 \"Hello my name is John\"을 출력하는 메서드를 실행한 것이다.\n",
        "\n",
        "객체에 동작(기능)을 추가하고 싶을 때 이렇게 메서드를 만들어서 쓸 수 있다."
      ],
      "metadata": {
        "id": "0FET95p6oRrc"
      }
    },
    {
      "cell_type": "code",
      "source": [
        "class Person:\n",
        "  def __init__(self,name,age):\n",
        "    self.name=name\n",
        "    self.age=age\n",
        "\n",
        "  def myfunc(self):\n",
        "    print(\"Hello my name is\" + self.name)\n",
        "\n",
        "p1=Person(\"John\",36)\n",
        "p1.myfunc()"
      ],
      "metadata": {
        "colab": {
          "base_uri": "https://localhost:8080/"
        },
        "id": "B1JwfSkdm0yA",
        "outputId": "7159f5e4-df3c-4ba9-812b-925e12579370"
      },
      "execution_count": null,
      "outputs": [
        {
          "output_type": "stream",
          "name": "stdout",
          "text": [
            "Hello my name isJohn\n"
          ]
        }
      ]
    },
    {
      "cell_type": "markdown",
      "source": [
        "# 1. 최대 속도 제한 체크 샘플 코드\n",
        "\n",
        "MAX_SPEED -> 상수 역할을 하는 변수로 쓰인다.\n",
        "if 문으로 조건 검사 (speed > MAX_SPEED) 후,\n",
        "return으로 함수 결과를 돌려주는 코드이다."
      ],
      "metadata": {
        "id": "NhMijoBatMT-"
      }
    },
    {
      "cell_type": "code",
      "source": [
        "MAX_SPEED = 100\n",
        "\n",
        "def check_speed(speed):\n",
        "    if speed > MAX_SPEED:\n",
        "        return \"속도 초과! 감속하세요.\"\n",
        "    else:\n",
        "        return \"속도 정상입니다.\"\n",
        "\n",
        "print(check_speed(120))\n",
        "print(check_speed(80))"
      ],
      "metadata": {
        "id": "7brodTWKsuXr",
        "outputId": "22073c7d-3eb0-44c9-c27a-a9f57e39d40e",
        "colab": {
          "base_uri": "https://localhost:8080/"
        }
      },
      "execution_count": 1,
      "outputs": [
        {
          "output_type": "stream",
          "name": "stdout",
          "text": [
            "속도 초과! 감속하세요.\n",
            "속도 정상입니다.\n"
          ]
        }
      ]
    },
    {
      "cell_type": "markdown",
      "source": [
        "# 2. 차선 인식 여부 판단 코드 핵심\n",
        "센서 값과 임계값을 비교해 True/False 불린 값 반환\n",
        "\n",
        "비교 연산자(>=)가 있으며, 간단한 조건식으로 결과 판단 가능한 코드이다."
      ],
      "metadata": {
        "id": "Ii_oMs9gtMwf"
      }
    },
    {
      "cell_type": "code",
      "source": [
        "LANE_DETECTION_THRESHOLD = 0.7\n",
        "\n",
        "def is_lane_detected(sensor_value):\n",
        "    return sensor_value >= LANE_DETECTION_THRESHOLD\n",
        "\n",
        "print(is_lane_detected(0.75))\n",
        "print(is_lane_detected(0.5))"
      ],
      "metadata": {
        "id": "oFp8qTa4suI3",
        "outputId": "2190efe8-8360-4ede-81f8-2d95340c0a29",
        "colab": {
          "base_uri": "https://localhost:8080/"
        }
      },
      "execution_count": 2,
      "outputs": [
        {
          "output_type": "stream",
          "name": "stdout",
          "text": [
            "True\n",
            "False\n"
          ]
        }
      ]
    },
    {
      "cell_type": "markdown",
      "source": [
        "# 3. 안전 거리 확인 코드 핵심\n",
        "\n",
        "거리 값을 비교해 안전 여부를 판단하는 코드이다.\n",
        "조건문에서 < 연산자를 사용했고, 문자열을 반환하여 사용자에게 메시지 전달한다."
      ],
      "metadata": {
        "id": "yBoD2tSatNH6"
      }
    },
    {
      "cell_type": "code",
      "source": [
        "SAFE_DISTANCE = 5  # 안전 거리(m)\n",
        "\n",
        "def check_distance(distance_to_car):\n",
        "    if distance_to_car < SAFE_DISTANCE:\n",
        "        return \"안전 거리 미달! 감속 필요.\"\n",
        "    else:\n",
        "        return \"안전 거리 확보.\"\n",
        "\n",
        "print(check_distance(3))\n",
        "print(check_distance(6))"
      ],
      "metadata": {
        "id": "s2SVAhPBs-vF",
        "outputId": "8c5e18bf-2537-4cac-a7ac-486b32515310",
        "colab": {
          "base_uri": "https://localhost:8080/"
        }
      },
      "execution_count": 3,
      "outputs": [
        {
          "output_type": "stream",
          "name": "stdout",
          "text": [
            "안전 거리 미달! 감속 필요.\n",
            "안전 거리 확보.\n"
          ]
        }
      ]
    },
    {
      "cell_type": "markdown",
      "source": [
        "# 4. 주행 모드 전환 코드 핵심\n",
        "\n",
        "상수로 모드 구분 (1=자율주행, 0=수동)\n",
        "여러 조건을 if-elif-else로 처리하는 방법이 쓰임.\n"
      ],
      "metadata": {
        "id": "ASYfwyBftNp-"
      }
    },
    {
      "cell_type": "code",
      "source": [
        "DRIVE_MODE_AUTONOMOUS = 1\n",
        "DRIVE_MODE_MANUAL = 0\n",
        "\n",
        "def mode_message(mode):\n",
        "    if mode == DRIVE_MODE_AUTONOMOUS:\n",
        "        return \"자율주행 모드 활성화\"\n",
        "    elif mode == DRIVE_MODE_MANUAL:\n",
        "        return \"수동 주행 모드 활성화\"\n",
        "    else:\n",
        "        return \"알 수 없는 모드\"\n",
        "\n",
        "print(mode_message(1))\n",
        "print(mode_message(0))"
      ],
      "metadata": {
        "id": "BXnBif5zs-ob",
        "outputId": "ec29a14f-ce53-4cc8-c3b2-9f6ec6c8ca5b",
        "colab": {
          "base_uri": "https://localhost:8080/"
        }
      },
      "execution_count": 4,
      "outputs": [
        {
          "output_type": "stream",
          "name": "stdout",
          "text": [
            "자율주행 모드 활성화\n",
            "수동 주행 모드 활성화\n"
          ]
        }
      ]
    },
    {
      "cell_type": "markdown",
      "source": [
        "# 5. 경고음 울리기 코드 핵심\n",
        "\n",
        "상수를 출력에 활용하는 방법 (f-string 활용)\n",
        "함수 호출로 동작 실행, 출력 함수 print 이해하기\n",
        "\n"
      ],
      "metadata": {
        "id": "n_hS5fM7tORf"
      }
    },
    {
      "cell_type": "code",
      "source": [
        "WARNING_BEEP_FREQ = 440\n",
        "\n",
        "def beep_warning():\n",
        "    print(f\"경고음 발생! 주파수: {WARNING_BEEP_FREQ}Hz\")\n",
        "\n",
        "beep_warning()"
      ],
      "metadata": {
        "id": "RhN42sTGs-hB",
        "outputId": "4d5e1a53-ab59-425c-d03b-29735aaa67ab",
        "colab": {
          "base_uri": "https://localhost:8080/"
        }
      },
      "execution_count": 5,
      "outputs": [
        {
          "output_type": "stream",
          "name": "stdout",
          "text": [
            "경고음 발생! 주파수: 440Hz\n"
          ]
        }
      ]
    }
  ]
}