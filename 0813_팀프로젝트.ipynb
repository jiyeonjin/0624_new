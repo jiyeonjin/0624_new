{
  "nbformat": 4,
  "nbformat_minor": 0,
  "metadata": {
    "colab": {
      "provenance": [],
      "gpuType": "T4",
      "include_colab_link": true
    },
    "kernelspec": {
      "name": "python3",
      "display_name": "Python 3"
    },
    "language_info": {
      "name": "python"
    },
    "accelerator": "GPU"
  },
  "cells": [
    {
      "cell_type": "markdown",
      "metadata": {
        "id": "view-in-github",
        "colab_type": "text"
      },
      "source": [
        "<a href=\"https://colab.research.google.com/github/jiyeonjin/0624_new/blob/main/0813_%ED%8C%80%ED%94%84%EB%A1%9C%EC%A0%9D%ED%8A%B8.ipynb\" target=\"_parent\"><img src=\"https://colab.research.google.com/assets/colab-badge.svg\" alt=\"Open In Colab\"/></a>"
      ]
    },
    {
      "cell_type": "code",
      "source": [
        "import shutil\n",
        "import os\n",
        "\n",
        "folder = \"/content\"\n",
        "for filename in os.listdir(folder):\n",
        "    file_path = os.path.join(folder, filename)\n",
        "    try:\n",
        "        if os.path.isfile(file_path) or os.path.islink(file_path):\n",
        "            os.unlink(file_path)  # 파일 또는 심볼릭 링크 삭제\n",
        "        elif os.path.isdir(file_path):\n",
        "            shutil.rmtree(file_path)  # 폴더(디렉토리) 삭제\n",
        "    except Exception as e:\n",
        "        print(f'Failed to delete {file_path}. Reason: {e}')\n",
        "\n",
        "# 위 코드는 아래 코드들에서 오류났을 때, 처음부터 다시 시작하고 싶을 때, 생긴 파일을 다 삭제해주는 코드! (리셋느낌)"
      ],
      "metadata": {
        "id": "lNEKq0XOZFRp"
      },
      "execution_count": null,
      "outputs": []
    },
    {
      "cell_type": "markdown",
      "source": [
        "## 필요한 라이브러리 설치"
      ],
      "metadata": {
        "id": "L6akkbj0wTgt"
      }
    },
    {
      "cell_type": "code",
      "source": [
        "!pip install torch torchvision\n",
        "!pip install segmentation-models-pytorch\n",
        "!pip install albumentations\n",
        "!pip install opencv-python"
      ],
      "metadata": {
        "colab": {
          "base_uri": "https://localhost:8080/"
        },
        "id": "TMOCPXOOG0ki",
        "outputId": "2a859e6a-212e-4a9e-f640-929b85abcfcd"
      },
      "execution_count": null,
      "outputs": [
        {
          "output_type": "stream",
          "name": "stdout",
          "text": [
            "Requirement already satisfied: torch in /usr/local/lib/python3.11/dist-packages (2.6.0+cu124)\n",
            "Requirement already satisfied: torchvision in /usr/local/lib/python3.11/dist-packages (0.21.0+cu124)\n",
            "Requirement already satisfied: filelock in /usr/local/lib/python3.11/dist-packages (from torch) (3.18.0)\n",
            "Requirement already satisfied: typing-extensions>=4.10.0 in /usr/local/lib/python3.11/dist-packages (from torch) (4.14.1)\n",
            "Requirement already satisfied: networkx in /usr/local/lib/python3.11/dist-packages (from torch) (3.5)\n",
            "Requirement already satisfied: jinja2 in /usr/local/lib/python3.11/dist-packages (from torch) (3.1.6)\n",
            "Requirement already satisfied: fsspec in /usr/local/lib/python3.11/dist-packages (from torch) (2025.3.0)\n",
            "Collecting nvidia-cuda-nvrtc-cu12==12.4.127 (from torch)\n",
            "  Downloading nvidia_cuda_nvrtc_cu12-12.4.127-py3-none-manylinux2014_x86_64.whl.metadata (1.5 kB)\n",
            "Collecting nvidia-cuda-runtime-cu12==12.4.127 (from torch)\n",
            "  Downloading nvidia_cuda_runtime_cu12-12.4.127-py3-none-manylinux2014_x86_64.whl.metadata (1.5 kB)\n",
            "Collecting nvidia-cuda-cupti-cu12==12.4.127 (from torch)\n",
            "  Downloading nvidia_cuda_cupti_cu12-12.4.127-py3-none-manylinux2014_x86_64.whl.metadata (1.6 kB)\n",
            "Collecting nvidia-cudnn-cu12==9.1.0.70 (from torch)\n",
            "  Downloading nvidia_cudnn_cu12-9.1.0.70-py3-none-manylinux2014_x86_64.whl.metadata (1.6 kB)\n",
            "Collecting nvidia-cublas-cu12==12.4.5.8 (from torch)\n",
            "  Downloading nvidia_cublas_cu12-12.4.5.8-py3-none-manylinux2014_x86_64.whl.metadata (1.5 kB)\n",
            "Collecting nvidia-cufft-cu12==11.2.1.3 (from torch)\n",
            "  Downloading nvidia_cufft_cu12-11.2.1.3-py3-none-manylinux2014_x86_64.whl.metadata (1.5 kB)\n",
            "Collecting nvidia-curand-cu12==10.3.5.147 (from torch)\n",
            "  Downloading nvidia_curand_cu12-10.3.5.147-py3-none-manylinux2014_x86_64.whl.metadata (1.5 kB)\n",
            "Collecting nvidia-cusolver-cu12==11.6.1.9 (from torch)\n",
            "  Downloading nvidia_cusolver_cu12-11.6.1.9-py3-none-manylinux2014_x86_64.whl.metadata (1.6 kB)\n",
            "Collecting nvidia-cusparse-cu12==12.3.1.170 (from torch)\n",
            "  Downloading nvidia_cusparse_cu12-12.3.1.170-py3-none-manylinux2014_x86_64.whl.metadata (1.6 kB)\n",
            "Requirement already satisfied: nvidia-cusparselt-cu12==0.6.2 in /usr/local/lib/python3.11/dist-packages (from torch) (0.6.2)\n",
            "Collecting nvidia-nccl-cu12==2.21.5 (from torch)\n",
            "  Downloading nvidia_nccl_cu12-2.21.5-py3-none-manylinux2014_x86_64.whl.metadata (1.8 kB)\n",
            "Requirement already satisfied: nvidia-nvtx-cu12==12.4.127 in /usr/local/lib/python3.11/dist-packages (from torch) (12.4.127)\n",
            "Collecting nvidia-nvjitlink-cu12==12.4.127 (from torch)\n",
            "  Downloading nvidia_nvjitlink_cu12-12.4.127-py3-none-manylinux2014_x86_64.whl.metadata (1.5 kB)\n",
            "Requirement already satisfied: triton==3.2.0 in /usr/local/lib/python3.11/dist-packages (from torch) (3.2.0)\n",
            "Requirement already satisfied: sympy==1.13.1 in /usr/local/lib/python3.11/dist-packages (from torch) (1.13.1)\n",
            "Requirement already satisfied: mpmath<1.4,>=1.1.0 in /usr/local/lib/python3.11/dist-packages (from sympy==1.13.1->torch) (1.3.0)\n",
            "Requirement already satisfied: numpy in /usr/local/lib/python3.11/dist-packages (from torchvision) (2.0.2)\n",
            "Requirement already satisfied: pillow!=8.3.*,>=5.3.0 in /usr/local/lib/python3.11/dist-packages (from torchvision) (11.3.0)\n",
            "Requirement already satisfied: MarkupSafe>=2.0 in /usr/local/lib/python3.11/dist-packages (from jinja2->torch) (3.0.2)\n",
            "Downloading nvidia_cublas_cu12-12.4.5.8-py3-none-manylinux2014_x86_64.whl (363.4 MB)\n",
            "\u001b[2K   \u001b[90m━━━━━━━━━━━━━━━━━━━━━━━━━━━━━━━━━━━━━━━━\u001b[0m \u001b[32m363.4/363.4 MB\u001b[0m \u001b[31m4.5 MB/s\u001b[0m eta \u001b[36m0:00:00\u001b[0m\n",
            "\u001b[?25hDownloading nvidia_cuda_cupti_cu12-12.4.127-py3-none-manylinux2014_x86_64.whl (13.8 MB)\n",
            "\u001b[2K   \u001b[90m━━━━━━━━━━━━━━━━━━━━━━━━━━━━━━━━━━━━━━━━\u001b[0m \u001b[32m13.8/13.8 MB\u001b[0m \u001b[31m123.8 MB/s\u001b[0m eta \u001b[36m0:00:00\u001b[0m\n",
            "\u001b[?25hDownloading nvidia_cuda_nvrtc_cu12-12.4.127-py3-none-manylinux2014_x86_64.whl (24.6 MB)\n",
            "\u001b[2K   \u001b[90m━━━━━━━━━━━━━━━━━━━━━━━━━━━━━━━━━━━━━━━━\u001b[0m \u001b[32m24.6/24.6 MB\u001b[0m \u001b[31m84.2 MB/s\u001b[0m eta \u001b[36m0:00:00\u001b[0m\n",
            "\u001b[?25hDownloading nvidia_cuda_runtime_cu12-12.4.127-py3-none-manylinux2014_x86_64.whl (883 kB)\n",
            "\u001b[2K   \u001b[90m━━━━━━━━━━━━━━━━━━━━━━━━━━━━━━━━━━━━━━━━\u001b[0m \u001b[32m883.7/883.7 kB\u001b[0m \u001b[31m61.7 MB/s\u001b[0m eta \u001b[36m0:00:00\u001b[0m\n",
            "\u001b[?25hDownloading nvidia_cudnn_cu12-9.1.0.70-py3-none-manylinux2014_x86_64.whl (664.8 MB)\n",
            "\u001b[2K   \u001b[90m━━━━━━━━━━━━━━━━━━━━━━━━━━━━━━━━━━━━━━━━\u001b[0m \u001b[32m664.8/664.8 MB\u001b[0m \u001b[31m2.2 MB/s\u001b[0m eta \u001b[36m0:00:00\u001b[0m\n",
            "\u001b[?25hDownloading nvidia_cufft_cu12-11.2.1.3-py3-none-manylinux2014_x86_64.whl (211.5 MB)\n",
            "\u001b[2K   \u001b[90m━━━━━━━━━━━━━━━━━━━━━━━━━━━━━━━━━━━━━━━━\u001b[0m \u001b[32m211.5/211.5 MB\u001b[0m \u001b[31m5.7 MB/s\u001b[0m eta \u001b[36m0:00:00\u001b[0m\n",
            "\u001b[?25hDownloading nvidia_curand_cu12-10.3.5.147-py3-none-manylinux2014_x86_64.whl (56.3 MB)\n",
            "\u001b[2K   \u001b[90m━━━━━━━━━━━━━━━━━━━━━━━━━━━━━━━━━━━━━━━━\u001b[0m \u001b[32m56.3/56.3 MB\u001b[0m \u001b[31m11.9 MB/s\u001b[0m eta \u001b[36m0:00:00\u001b[0m\n",
            "\u001b[?25hDownloading nvidia_cusolver_cu12-11.6.1.9-py3-none-manylinux2014_x86_64.whl (127.9 MB)\n",
            "\u001b[2K   \u001b[90m━━━━━━━━━━━━━━━━━━━━━━━━━━━━━━━━━━━━━━━━\u001b[0m \u001b[32m127.9/127.9 MB\u001b[0m \u001b[31m8.3 MB/s\u001b[0m eta \u001b[36m0:00:00\u001b[0m\n",
            "\u001b[?25hDownloading nvidia_cusparse_cu12-12.3.1.170-py3-none-manylinux2014_x86_64.whl (207.5 MB)\n",
            "\u001b[2K   \u001b[90m━━━━━━━━━━━━━━━━━━━━━━━━━━━━━━━━━━━━━━━━\u001b[0m \u001b[32m207.5/207.5 MB\u001b[0m \u001b[31m5.7 MB/s\u001b[0m eta \u001b[36m0:00:00\u001b[0m\n",
            "\u001b[?25hDownloading nvidia_nccl_cu12-2.21.5-py3-none-manylinux2014_x86_64.whl (188.7 MB)\n",
            "\u001b[2K   \u001b[90m━━━━━━━━━━━━━━━━━━━━━━━━━━━━━━━━━━━━━━━━\u001b[0m \u001b[32m188.7/188.7 MB\u001b[0m \u001b[31m5.8 MB/s\u001b[0m eta \u001b[36m0:00:00\u001b[0m\n",
            "\u001b[?25hDownloading nvidia_nvjitlink_cu12-12.4.127-py3-none-manylinux2014_x86_64.whl (21.1 MB)\n",
            "\u001b[2K   \u001b[90m━━━━━━━━━━━━━━━━━━━━━━━━━━━━━━━━━━━━━━━━\u001b[0m \u001b[32m21.1/21.1 MB\u001b[0m \u001b[31m98.6 MB/s\u001b[0m eta \u001b[36m0:00:00\u001b[0m\n",
            "\u001b[?25hInstalling collected packages: nvidia-nvjitlink-cu12, nvidia-nccl-cu12, nvidia-curand-cu12, nvidia-cufft-cu12, nvidia-cuda-runtime-cu12, nvidia-cuda-nvrtc-cu12, nvidia-cuda-cupti-cu12, nvidia-cublas-cu12, nvidia-cusparse-cu12, nvidia-cudnn-cu12, nvidia-cusolver-cu12\n",
            "  Attempting uninstall: nvidia-nvjitlink-cu12\n",
            "    Found existing installation: nvidia-nvjitlink-cu12 12.5.82\n",
            "    Uninstalling nvidia-nvjitlink-cu12-12.5.82:\n",
            "      Successfully uninstalled nvidia-nvjitlink-cu12-12.5.82\n",
            "  Attempting uninstall: nvidia-nccl-cu12\n",
            "    Found existing installation: nvidia-nccl-cu12 2.23.4\n",
            "    Uninstalling nvidia-nccl-cu12-2.23.4:\n",
            "      Successfully uninstalled nvidia-nccl-cu12-2.23.4\n",
            "  Attempting uninstall: nvidia-curand-cu12\n",
            "    Found existing installation: nvidia-curand-cu12 10.3.6.82\n",
            "    Uninstalling nvidia-curand-cu12-10.3.6.82:\n",
            "      Successfully uninstalled nvidia-curand-cu12-10.3.6.82\n",
            "  Attempting uninstall: nvidia-cufft-cu12\n",
            "    Found existing installation: nvidia-cufft-cu12 11.2.3.61\n",
            "    Uninstalling nvidia-cufft-cu12-11.2.3.61:\n",
            "      Successfully uninstalled nvidia-cufft-cu12-11.2.3.61\n",
            "  Attempting uninstall: nvidia-cuda-runtime-cu12\n",
            "    Found existing installation: nvidia-cuda-runtime-cu12 12.5.82\n",
            "    Uninstalling nvidia-cuda-runtime-cu12-12.5.82:\n",
            "      Successfully uninstalled nvidia-cuda-runtime-cu12-12.5.82\n",
            "  Attempting uninstall: nvidia-cuda-nvrtc-cu12\n",
            "    Found existing installation: nvidia-cuda-nvrtc-cu12 12.5.82\n",
            "    Uninstalling nvidia-cuda-nvrtc-cu12-12.5.82:\n",
            "      Successfully uninstalled nvidia-cuda-nvrtc-cu12-12.5.82\n",
            "  Attempting uninstall: nvidia-cuda-cupti-cu12\n",
            "    Found existing installation: nvidia-cuda-cupti-cu12 12.5.82\n",
            "    Uninstalling nvidia-cuda-cupti-cu12-12.5.82:\n",
            "      Successfully uninstalled nvidia-cuda-cupti-cu12-12.5.82\n",
            "  Attempting uninstall: nvidia-cublas-cu12\n",
            "    Found existing installation: nvidia-cublas-cu12 12.5.3.2\n",
            "    Uninstalling nvidia-cublas-cu12-12.5.3.2:\n",
            "      Successfully uninstalled nvidia-cublas-cu12-12.5.3.2\n",
            "  Attempting uninstall: nvidia-cusparse-cu12\n",
            "    Found existing installation: nvidia-cusparse-cu12 12.5.1.3\n",
            "    Uninstalling nvidia-cusparse-cu12-12.5.1.3:\n",
            "      Successfully uninstalled nvidia-cusparse-cu12-12.5.1.3\n",
            "  Attempting uninstall: nvidia-cudnn-cu12\n",
            "    Found existing installation: nvidia-cudnn-cu12 9.3.0.75\n",
            "    Uninstalling nvidia-cudnn-cu12-9.3.0.75:\n",
            "      Successfully uninstalled nvidia-cudnn-cu12-9.3.0.75\n",
            "  Attempting uninstall: nvidia-cusolver-cu12\n",
            "    Found existing installation: nvidia-cusolver-cu12 11.6.3.83\n",
            "    Uninstalling nvidia-cusolver-cu12-11.6.3.83:\n",
            "      Successfully uninstalled nvidia-cusolver-cu12-11.6.3.83\n",
            "Successfully installed nvidia-cublas-cu12-12.4.5.8 nvidia-cuda-cupti-cu12-12.4.127 nvidia-cuda-nvrtc-cu12-12.4.127 nvidia-cuda-runtime-cu12-12.4.127 nvidia-cudnn-cu12-9.1.0.70 nvidia-cufft-cu12-11.2.1.3 nvidia-curand-cu12-10.3.5.147 nvidia-cusolver-cu12-11.6.1.9 nvidia-cusparse-cu12-12.3.1.170 nvidia-nccl-cu12-2.21.5 nvidia-nvjitlink-cu12-12.4.127\n",
            "Collecting segmentation-models-pytorch\n",
            "  Downloading segmentation_models_pytorch-0.5.0-py3-none-any.whl.metadata (17 kB)\n",
            "Requirement already satisfied: huggingface-hub>=0.24 in /usr/local/lib/python3.11/dist-packages (from segmentation-models-pytorch) (0.34.3)\n",
            "Requirement already satisfied: numpy>=1.19.3 in /usr/local/lib/python3.11/dist-packages (from segmentation-models-pytorch) (2.0.2)\n",
            "Requirement already satisfied: pillow>=8 in /usr/local/lib/python3.11/dist-packages (from segmentation-models-pytorch) (11.3.0)\n",
            "Requirement already satisfied: safetensors>=0.3.1 in /usr/local/lib/python3.11/dist-packages (from segmentation-models-pytorch) (0.6.1)\n",
            "Requirement already satisfied: timm>=0.9 in /usr/local/lib/python3.11/dist-packages (from segmentation-models-pytorch) (1.0.19)\n",
            "Requirement already satisfied: torch>=1.8 in /usr/local/lib/python3.11/dist-packages (from segmentation-models-pytorch) (2.6.0+cu124)\n",
            "Requirement already satisfied: torchvision>=0.9 in /usr/local/lib/python3.11/dist-packages (from segmentation-models-pytorch) (0.21.0+cu124)\n",
            "Requirement already satisfied: tqdm>=4.42.1 in /usr/local/lib/python3.11/dist-packages (from segmentation-models-pytorch) (4.67.1)\n",
            "Requirement already satisfied: filelock in /usr/local/lib/python3.11/dist-packages (from huggingface-hub>=0.24->segmentation-models-pytorch) (3.18.0)\n",
            "Requirement already satisfied: fsspec>=2023.5.0 in /usr/local/lib/python3.11/dist-packages (from huggingface-hub>=0.24->segmentation-models-pytorch) (2025.3.0)\n",
            "Requirement already satisfied: packaging>=20.9 in /usr/local/lib/python3.11/dist-packages (from huggingface-hub>=0.24->segmentation-models-pytorch) (25.0)\n",
            "Requirement already satisfied: pyyaml>=5.1 in /usr/local/lib/python3.11/dist-packages (from huggingface-hub>=0.24->segmentation-models-pytorch) (6.0.2)\n",
            "Requirement already satisfied: requests in /usr/local/lib/python3.11/dist-packages (from huggingface-hub>=0.24->segmentation-models-pytorch) (2.32.3)\n",
            "Requirement already satisfied: typing-extensions>=3.7.4.3 in /usr/local/lib/python3.11/dist-packages (from huggingface-hub>=0.24->segmentation-models-pytorch) (4.14.1)\n",
            "Requirement already satisfied: hf-xet<2.0.0,>=1.1.3 in /usr/local/lib/python3.11/dist-packages (from huggingface-hub>=0.24->segmentation-models-pytorch) (1.1.7)\n",
            "Requirement already satisfied: networkx in /usr/local/lib/python3.11/dist-packages (from torch>=1.8->segmentation-models-pytorch) (3.5)\n",
            "Requirement already satisfied: jinja2 in /usr/local/lib/python3.11/dist-packages (from torch>=1.8->segmentation-models-pytorch) (3.1.6)\n",
            "Requirement already satisfied: nvidia-cuda-nvrtc-cu12==12.4.127 in /usr/local/lib/python3.11/dist-packages (from torch>=1.8->segmentation-models-pytorch) (12.4.127)\n",
            "Requirement already satisfied: nvidia-cuda-runtime-cu12==12.4.127 in /usr/local/lib/python3.11/dist-packages (from torch>=1.8->segmentation-models-pytorch) (12.4.127)\n",
            "Requirement already satisfied: nvidia-cuda-cupti-cu12==12.4.127 in /usr/local/lib/python3.11/dist-packages (from torch>=1.8->segmentation-models-pytorch) (12.4.127)\n",
            "Requirement already satisfied: nvidia-cudnn-cu12==9.1.0.70 in /usr/local/lib/python3.11/dist-packages (from torch>=1.8->segmentation-models-pytorch) (9.1.0.70)\n",
            "Requirement already satisfied: nvidia-cublas-cu12==12.4.5.8 in /usr/local/lib/python3.11/dist-packages (from torch>=1.8->segmentation-models-pytorch) (12.4.5.8)\n",
            "Requirement already satisfied: nvidia-cufft-cu12==11.2.1.3 in /usr/local/lib/python3.11/dist-packages (from torch>=1.8->segmentation-models-pytorch) (11.2.1.3)\n",
            "Requirement already satisfied: nvidia-curand-cu12==10.3.5.147 in /usr/local/lib/python3.11/dist-packages (from torch>=1.8->segmentation-models-pytorch) (10.3.5.147)\n",
            "Requirement already satisfied: nvidia-cusolver-cu12==11.6.1.9 in /usr/local/lib/python3.11/dist-packages (from torch>=1.8->segmentation-models-pytorch) (11.6.1.9)\n",
            "Requirement already satisfied: nvidia-cusparse-cu12==12.3.1.170 in /usr/local/lib/python3.11/dist-packages (from torch>=1.8->segmentation-models-pytorch) (12.3.1.170)\n",
            "Requirement already satisfied: nvidia-cusparselt-cu12==0.6.2 in /usr/local/lib/python3.11/dist-packages (from torch>=1.8->segmentation-models-pytorch) (0.6.2)\n",
            "Requirement already satisfied: nvidia-nccl-cu12==2.21.5 in /usr/local/lib/python3.11/dist-packages (from torch>=1.8->segmentation-models-pytorch) (2.21.5)\n",
            "Requirement already satisfied: nvidia-nvtx-cu12==12.4.127 in /usr/local/lib/python3.11/dist-packages (from torch>=1.8->segmentation-models-pytorch) (12.4.127)\n",
            "Requirement already satisfied: nvidia-nvjitlink-cu12==12.4.127 in /usr/local/lib/python3.11/dist-packages (from torch>=1.8->segmentation-models-pytorch) (12.4.127)\n",
            "Requirement already satisfied: triton==3.2.0 in /usr/local/lib/python3.11/dist-packages (from torch>=1.8->segmentation-models-pytorch) (3.2.0)\n",
            "Requirement already satisfied: sympy==1.13.1 in /usr/local/lib/python3.11/dist-packages (from torch>=1.8->segmentation-models-pytorch) (1.13.1)\n",
            "Requirement already satisfied: mpmath<1.4,>=1.1.0 in /usr/local/lib/python3.11/dist-packages (from sympy==1.13.1->torch>=1.8->segmentation-models-pytorch) (1.3.0)\n",
            "Requirement already satisfied: MarkupSafe>=2.0 in /usr/local/lib/python3.11/dist-packages (from jinja2->torch>=1.8->segmentation-models-pytorch) (3.0.2)\n",
            "Requirement already satisfied: charset-normalizer<4,>=2 in /usr/local/lib/python3.11/dist-packages (from requests->huggingface-hub>=0.24->segmentation-models-pytorch) (3.4.2)\n",
            "Requirement already satisfied: idna<4,>=2.5 in /usr/local/lib/python3.11/dist-packages (from requests->huggingface-hub>=0.24->segmentation-models-pytorch) (3.10)\n",
            "Requirement already satisfied: urllib3<3,>=1.21.1 in /usr/local/lib/python3.11/dist-packages (from requests->huggingface-hub>=0.24->segmentation-models-pytorch) (2.5.0)\n",
            "Requirement already satisfied: certifi>=2017.4.17 in /usr/local/lib/python3.11/dist-packages (from requests->huggingface-hub>=0.24->segmentation-models-pytorch) (2025.8.3)\n",
            "Downloading segmentation_models_pytorch-0.5.0-py3-none-any.whl (154 kB)\n",
            "\u001b[2K   \u001b[90m━━━━━━━━━━━━━━━━━━━━━━━━━━━━━━━━━━━━━━━━\u001b[0m \u001b[32m154.8/154.8 kB\u001b[0m \u001b[31m13.7 MB/s\u001b[0m eta \u001b[36m0:00:00\u001b[0m\n",
            "\u001b[?25hInstalling collected packages: segmentation-models-pytorch\n",
            "Successfully installed segmentation-models-pytorch-0.5.0\n",
            "Requirement already satisfied: albumentations in /usr/local/lib/python3.11/dist-packages (2.0.8)\n",
            "Requirement already satisfied: numpy>=1.24.4 in /usr/local/lib/python3.11/dist-packages (from albumentations) (2.0.2)\n",
            "Requirement already satisfied: scipy>=1.10.0 in /usr/local/lib/python3.11/dist-packages (from albumentations) (1.16.1)\n",
            "Requirement already satisfied: PyYAML in /usr/local/lib/python3.11/dist-packages (from albumentations) (6.0.2)\n",
            "Requirement already satisfied: pydantic>=2.9.2 in /usr/local/lib/python3.11/dist-packages (from albumentations) (2.11.7)\n",
            "Requirement already satisfied: albucore==0.0.24 in /usr/local/lib/python3.11/dist-packages (from albumentations) (0.0.24)\n",
            "Requirement already satisfied: opencv-python-headless>=4.9.0.80 in /usr/local/lib/python3.11/dist-packages (from albumentations) (4.12.0.88)\n",
            "Requirement already satisfied: stringzilla>=3.10.4 in /usr/local/lib/python3.11/dist-packages (from albucore==0.0.24->albumentations) (3.12.5)\n",
            "Requirement already satisfied: simsimd>=5.9.2 in /usr/local/lib/python3.11/dist-packages (from albucore==0.0.24->albumentations) (6.5.0)\n",
            "Requirement already satisfied: annotated-types>=0.6.0 in /usr/local/lib/python3.11/dist-packages (from pydantic>=2.9.2->albumentations) (0.7.0)\n",
            "Requirement already satisfied: pydantic-core==2.33.2 in /usr/local/lib/python3.11/dist-packages (from pydantic>=2.9.2->albumentations) (2.33.2)\n",
            "Requirement already satisfied: typing-extensions>=4.12.2 in /usr/local/lib/python3.11/dist-packages (from pydantic>=2.9.2->albumentations) (4.14.1)\n",
            "Requirement already satisfied: typing-inspection>=0.4.0 in /usr/local/lib/python3.11/dist-packages (from pydantic>=2.9.2->albumentations) (0.4.1)\n",
            "Requirement already satisfied: opencv-python in /usr/local/lib/python3.11/dist-packages (4.12.0.88)\n",
            "Requirement already satisfied: numpy<2.3.0,>=2 in /usr/local/lib/python3.11/dist-packages (from opencv-python) (2.0.2)\n"
          ]
        }
      ]
    },
    {
      "cell_type": "markdown",
      "source": [
        "## 라벨링하고 저장한 zip파일 불러온 뒤 압축 해제"
      ],
      "metadata": {
        "id": "Lu5UGE43wX57"
      }
    },
    {
      "cell_type": "code",
      "source": [
        "from google.colab import files\n",
        "import zipfile\n",
        "import os\n",
        "\n",
        "# ZIP 파일 업로드\n",
        "uploaded = files.upload()\n",
        "\n",
        "# 업로드된 파일명 가져오기 (ZIP 파일명)\n",
        "zip_filename = list(uploaded.keys())[0]\n",
        "\n",
        "# 압축 해제할 경로 지정 (예: ./data)\n",
        "extract_path = './data'\n",
        "os.makedirs(extract_path, exist_ok=True)\n",
        "\n",
        "# ZIP 압축 해제\n",
        "with zipfile.ZipFile(zip_filename, 'r') as zip_ref:\n",
        "    zip_ref.extractall(extract_path)\n",
        "\n",
        "print(\"압축 해제 완료, 데이터 위치:\", extract_path)\n"
      ],
      "metadata": {
        "colab": {
          "base_uri": "https://localhost:8080/",
          "height": 92
        },
        "id": "K2nVtu3ZG6tJ",
        "outputId": "1d554bb5-caa1-4512-e50a-e5f965396c00"
      },
      "execution_count": null,
      "outputs": [
        {
          "output_type": "display_data",
          "data": {
            "text/plain": [
              "<IPython.core.display.HTML object>"
            ],
            "text/html": [
              "\n",
              "     <input type=\"file\" id=\"files-2d099c3b-b16e-4847-8ef5-08bffe788200\" name=\"files[]\" multiple disabled\n",
              "        style=\"border:none\" />\n",
              "     <output id=\"result-2d099c3b-b16e-4847-8ef5-08bffe788200\">\n",
              "      Upload widget is only available when the cell has been executed in the\n",
              "      current browser session. Please rerun this cell to enable.\n",
              "      </output>\n",
              "      <script>// Copyright 2017 Google LLC\n",
              "//\n",
              "// Licensed under the Apache License, Version 2.0 (the \"License\");\n",
              "// you may not use this file except in compliance with the License.\n",
              "// You may obtain a copy of the License at\n",
              "//\n",
              "//      http://www.apache.org/licenses/LICENSE-2.0\n",
              "//\n",
              "// Unless required by applicable law or agreed to in writing, software\n",
              "// distributed under the License is distributed on an \"AS IS\" BASIS,\n",
              "// WITHOUT WARRANTIES OR CONDITIONS OF ANY KIND, either express or implied.\n",
              "// See the License for the specific language governing permissions and\n",
              "// limitations under the License.\n",
              "\n",
              "/**\n",
              " * @fileoverview Helpers for google.colab Python module.\n",
              " */\n",
              "(function(scope) {\n",
              "function span(text, styleAttributes = {}) {\n",
              "  const element = document.createElement('span');\n",
              "  element.textContent = text;\n",
              "  for (const key of Object.keys(styleAttributes)) {\n",
              "    element.style[key] = styleAttributes[key];\n",
              "  }\n",
              "  return element;\n",
              "}\n",
              "\n",
              "// Max number of bytes which will be uploaded at a time.\n",
              "const MAX_PAYLOAD_SIZE = 100 * 1024;\n",
              "\n",
              "function _uploadFiles(inputId, outputId) {\n",
              "  const steps = uploadFilesStep(inputId, outputId);\n",
              "  const outputElement = document.getElementById(outputId);\n",
              "  // Cache steps on the outputElement to make it available for the next call\n",
              "  // to uploadFilesContinue from Python.\n",
              "  outputElement.steps = steps;\n",
              "\n",
              "  return _uploadFilesContinue(outputId);\n",
              "}\n",
              "\n",
              "// This is roughly an async generator (not supported in the browser yet),\n",
              "// where there are multiple asynchronous steps and the Python side is going\n",
              "// to poll for completion of each step.\n",
              "// This uses a Promise to block the python side on completion of each step,\n",
              "// then passes the result of the previous step as the input to the next step.\n",
              "function _uploadFilesContinue(outputId) {\n",
              "  const outputElement = document.getElementById(outputId);\n",
              "  const steps = outputElement.steps;\n",
              "\n",
              "  const next = steps.next(outputElement.lastPromiseValue);\n",
              "  return Promise.resolve(next.value.promise).then((value) => {\n",
              "    // Cache the last promise value to make it available to the next\n",
              "    // step of the generator.\n",
              "    outputElement.lastPromiseValue = value;\n",
              "    return next.value.response;\n",
              "  });\n",
              "}\n",
              "\n",
              "/**\n",
              " * Generator function which is called between each async step of the upload\n",
              " * process.\n",
              " * @param {string} inputId Element ID of the input file picker element.\n",
              " * @param {string} outputId Element ID of the output display.\n",
              " * @return {!Iterable<!Object>} Iterable of next steps.\n",
              " */\n",
              "function* uploadFilesStep(inputId, outputId) {\n",
              "  const inputElement = document.getElementById(inputId);\n",
              "  inputElement.disabled = false;\n",
              "\n",
              "  const outputElement = document.getElementById(outputId);\n",
              "  outputElement.innerHTML = '';\n",
              "\n",
              "  const pickedPromise = new Promise((resolve) => {\n",
              "    inputElement.addEventListener('change', (e) => {\n",
              "      resolve(e.target.files);\n",
              "    });\n",
              "  });\n",
              "\n",
              "  const cancel = document.createElement('button');\n",
              "  inputElement.parentElement.appendChild(cancel);\n",
              "  cancel.textContent = 'Cancel upload';\n",
              "  const cancelPromise = new Promise((resolve) => {\n",
              "    cancel.onclick = () => {\n",
              "      resolve(null);\n",
              "    };\n",
              "  });\n",
              "\n",
              "  // Wait for the user to pick the files.\n",
              "  const files = yield {\n",
              "    promise: Promise.race([pickedPromise, cancelPromise]),\n",
              "    response: {\n",
              "      action: 'starting',\n",
              "    }\n",
              "  };\n",
              "\n",
              "  cancel.remove();\n",
              "\n",
              "  // Disable the input element since further picks are not allowed.\n",
              "  inputElement.disabled = true;\n",
              "\n",
              "  if (!files) {\n",
              "    return {\n",
              "      response: {\n",
              "        action: 'complete',\n",
              "      }\n",
              "    };\n",
              "  }\n",
              "\n",
              "  for (const file of files) {\n",
              "    const li = document.createElement('li');\n",
              "    li.append(span(file.name, {fontWeight: 'bold'}));\n",
              "    li.append(span(\n",
              "        `(${file.type || 'n/a'}) - ${file.size} bytes, ` +\n",
              "        `last modified: ${\n",
              "            file.lastModifiedDate ? file.lastModifiedDate.toLocaleDateString() :\n",
              "                                    'n/a'} - `));\n",
              "    const percent = span('0% done');\n",
              "    li.appendChild(percent);\n",
              "\n",
              "    outputElement.appendChild(li);\n",
              "\n",
              "    const fileDataPromise = new Promise((resolve) => {\n",
              "      const reader = new FileReader();\n",
              "      reader.onload = (e) => {\n",
              "        resolve(e.target.result);\n",
              "      };\n",
              "      reader.readAsArrayBuffer(file);\n",
              "    });\n",
              "    // Wait for the data to be ready.\n",
              "    let fileData = yield {\n",
              "      promise: fileDataPromise,\n",
              "      response: {\n",
              "        action: 'continue',\n",
              "      }\n",
              "    };\n",
              "\n",
              "    // Use a chunked sending to avoid message size limits. See b/62115660.\n",
              "    let position = 0;\n",
              "    do {\n",
              "      const length = Math.min(fileData.byteLength - position, MAX_PAYLOAD_SIZE);\n",
              "      const chunk = new Uint8Array(fileData, position, length);\n",
              "      position += length;\n",
              "\n",
              "      const base64 = btoa(String.fromCharCode.apply(null, chunk));\n",
              "      yield {\n",
              "        response: {\n",
              "          action: 'append',\n",
              "          file: file.name,\n",
              "          data: base64,\n",
              "        },\n",
              "      };\n",
              "\n",
              "      let percentDone = fileData.byteLength === 0 ?\n",
              "          100 :\n",
              "          Math.round((position / fileData.byteLength) * 100);\n",
              "      percent.textContent = `${percentDone}% done`;\n",
              "\n",
              "    } while (position < fileData.byteLength);\n",
              "  }\n",
              "\n",
              "  // All done.\n",
              "  yield {\n",
              "    response: {\n",
              "      action: 'complete',\n",
              "    }\n",
              "  };\n",
              "}\n",
              "\n",
              "scope.google = scope.google || {};\n",
              "scope.google.colab = scope.google.colab || {};\n",
              "scope.google.colab._files = {\n",
              "  _uploadFiles,\n",
              "  _uploadFilesContinue,\n",
              "};\n",
              "})(self);\n",
              "</script> "
            ]
          },
          "metadata": {}
        },
        {
          "output_type": "stream",
          "name": "stdout",
          "text": [
            "Saving segmentation_.v1i.png-mask-semantic.zip to segmentation_.v1i.png-mask-semantic.zip\n",
            "압축 해제 완료, 데이터 위치: ./data\n"
          ]
        }
      ]
    },
    {
      "cell_type": "markdown",
      "source": [
        "### 아래 코드들은 그냥 파일 확인하는 용도"
      ],
      "metadata": {
        "id": "ysnWJnqRwdO2"
      }
    },
    {
      "cell_type": "code",
      "source": [
        "import os\n",
        "\n",
        "valid_dir = '/content/data/valid'\n",
        "print(\"valid 폴더 내 파일/폴더 목록:\", os.listdir(valid_dir))"
      ],
      "metadata": {
        "colab": {
          "base_uri": "https://localhost:8080/"
        },
        "id": "-X-hdp5NUeDu",
        "outputId": "66427607-ddcd-4a38-f6cc-c35bee7d1f71"
      },
      "execution_count": null,
      "outputs": [
        {
          "output_type": "stream",
          "name": "stdout",
          "text": [
            "valid 폴더 내 파일/폴더 목록: ['-02_mp4-0452_jpg.rf.d904c518e4b1bb2585f1bc3b207a29f5.jpg', '-02_mp4-0087_jpg.rf.26d253824cbbbb43b7465268169758d2_mask.png', '-02_mp4-0295_jpg.rf.afb6aeec6a7791747cf3beafb1751873_mask.png', '-02_mp4-0666_jpg.rf.d4e10c64c9d13dfe0fe94a5553995bd4_mask.png', '-02_mp4-0519_jpg.rf.64c96a2db17d0f01c463bb574287b1b7_mask.png', '-02_mp4-0164_jpg.rf.43ef21e4f9cf21e842d1b4e9cceb80fc_mask.png', '-02_mp4-0048_jpg.rf.3712ffa9855a929e71842b4a48961261.jpg', '-02_mp4-0662_jpg.rf.477e90dfdefdbe40a533453a4ee43fc6_mask.png', '-02_mp4-0183_jpg.rf.fa1d720039756a1d97fd5a35c8af5fde_mask.png', '0723_mp4-0182_jpg.rf.738bda997fbb1d2862cad06cb7e4b533_mask.png', '-02_mp4-0095_jpg.rf.b2bae421cd8cc54eae18feecf5bc4dfc_mask.png', '-02_mp4-0700_jpg.rf.67242038b3b516618ad04b3eacd6071f_mask.png', '-02_mp4-0626_jpg.rf.458b9c2375a64b63296f6187fd975672_mask.png', '-02_mp4-0768_jpg.rf.bfc75260836eaa8a280c69161958e298_mask.png', '0723_mp4-0027_jpg.rf.f5844ebfa7f14b7dcfee037fce1e9ade_mask.png', '-02_mp4-0748_jpg.rf.646d892b52c7b6ad38acd2b390f90f22.jpg', '0723_mp4-0016_jpg.rf.149ff8bd98fe8467c4e302ba1c9248c4.jpg', '-02_mp4-0147_jpg.rf.9a5b229712ab5b7dbebdb09251c03299.jpg', '-02_mp4-0761_jpg.rf.6d8485dce64297a3446b9b4d6cb918ce_mask.png', '-02_mp4-0734_jpg.rf.aaa4f9a153712812804330f18573cfee_mask.png', '-02_mp4-0209_jpg.rf.65f101c74452a8c134890f0f4e06ca2a_mask.png', '-02_mp4-0202_jpg.rf.9ce8377d8ef497f53c718c948ef8a7ee_mask.png', '-02_mp4-0587_jpg.rf.58849a2cd1dc8781b824c92e5c2937f0.jpg', '-02_mp4-0326_jpg.rf.1ac5e0c8e1cfcd70bf7e71e7fa579d29.jpg', '-02_mp4-0526_jpg.rf.0290dd9e61b27fc00910ab5f419a48dc.jpg', '0723_mp4-0063_jpg.rf.c3e83828690ce1c247ec309db43b19ba.jpg', '-02_mp4-0734_jpg.rf.aaa4f9a153712812804330f18573cfee.jpg', '-02_mp4-0648_jpg.rf.248e847a10a55fdab21ac34292d13255_mask.png', '0723_mp4-0139_jpg.rf.f9d9eb695ef3a9687688315b2d9292af_mask.png', '0723_mp4-0152_jpg.rf.68f3d6190bf546cf4255b4059c7a3003.jpg', '0723_mp4-0161_jpg.rf.435171eddcca187608058481a60485e1_mask.png', '0723_mp4-0106_jpg.rf.1267aa679738f7c37787422835aab6db_mask.png', '-02_mp4-0209_jpg.rf.65f101c74452a8c134890f0f4e06ca2a.jpg', '-02_mp4-0228_jpg.rf.b50d1096a84bde009f492a6b18431f65.jpg', '0723_mp4-0033_jpg.rf.1190cbf4bd44fbc719ebe9cc3be3a364.jpg', '-02_mp4-0785_jpg.rf.36d50d6aee44ef8f35b5cb9c72850c3a.jpg', '-02_mp4-0540_jpg.rf.33e1329e0c5e8ead8eed14525a8ffb89_mask.png', '0723_mp4-0014_jpg.rf.c97ee86bb5c299b9c02f5c2ad59831f0.jpg', '-02_mp4-0090_jpg.rf.e44f5eebebc5a11e42532db0dbf4edf5.jpg', '-02_mp4-0087_jpg.rf.26d253824cbbbb43b7465268169758d2.jpg', '-02_mp4-0197_jpg.rf.42e1d61d3e7c6ff46bff5b4b22b0f2b3.jpg', '0723_mp4-0182_jpg.rf.738bda997fbb1d2862cad06cb7e4b533.jpg', '0723_mp4-0035_jpg.rf.9a11459c931196cd8c811124fbf4912e.jpg', '-02_mp4-0526_jpg.rf.0290dd9e61b27fc00910ab5f419a48dc_mask.png', '-02_mp4-0362_jpg.rf.2be5677b199fe8a6a09064a4611d9721.jpg', '-02_mp4-0675_jpg.rf.e9cb4a1857b11e907e2530f7b2028f50_mask.png', '-02_mp4-0377_jpg.rf.a9624ceb383038a68aad93ba5c7040d5.jpg', '0723_mp4-0013_jpg.rf.d9f1d462e8e2013d744532ec97ca4a32_mask.png', '-02_mp4-0448_jpg.rf.8ca4d749af772f8ea8742abe505c8e29.jpg', '-02_mp4-0263_jpg.rf.623b128773bd91c55b772c763c6f5673.jpg', '-02_mp4-0423_jpg.rf.0d89171de95dc78542cc46d5100207fd.jpg', '-02_mp4-0593_jpg.rf.585f8b99bbfc7157becc2e09ad807ca2.jpg', '-02_mp4-0189_jpg.rf.fbfbbdd9deee724fe2df25e6a124e09e_mask.png', '-02_mp4-0152_jpg.rf.5b82df9d9776b42fa3b28a7486fb8ecd_mask.png', '-02_mp4-0481_jpg.rf.d926d7cfcba779d9fb19cb8bf39298e9_mask.png', '-02_mp4-0140_jpg.rf.b68ad75493d09f5e19566deb24210c52_mask.png', '-02_mp4-0243_jpg.rf.88554ab2b7a8bb37923c1adcd41fa169.jpg', '-02_mp4-0718_jpg.rf.513a95d659366d85c1849c28b9efc9f5_mask.png', '-02_mp4-0559_jpg.rf.7f7a1a4567735cf66a84a7acddbabd85.jpg', '-02_mp4-0662_jpg.rf.477e90dfdefdbe40a533453a4ee43fc6.jpg', '-02_mp4-0045_jpg.rf.4dcf8f559cfa580355a96022fd93cdde_mask.png', '-02_mp4-0048_jpg.rf.3712ffa9855a929e71842b4a48961261_mask.png', '-02_mp4-0148_jpg.rf.63868a57f5dd6438a04103db72df8bc8_mask.png', '-02_mp4-0039_jpg.rf.d39020a0adcab34fa38d967f8b22ec57.jpg', '-02_mp4-0761_jpg.rf.6d8485dce64297a3446b9b4d6cb918ce.jpg', '0723_mp4-0161_jpg.rf.435171eddcca187608058481a60485e1.jpg', '-02_mp4-0698_jpg.rf.008385a8587bf8357f695340bf56afd9_mask.png', '_classes.csv', '-02_mp4-0787_jpg.rf.9ddf6f3347ee4d821a13ba70de079192.jpg', '-02_mp4-0754_jpg.rf.6bebbe2f88318149432afe51091033d2_mask.png', '-02_mp4-0651_jpg.rf.a16a7dc60fc3197e0140c30cb7925ff7_mask.png', '-02_mp4-0716_jpg.rf.d9effe38a561c9e7f7bf3c8322b45fe1.jpg', '-02_mp4-0675_jpg.rf.e9cb4a1857b11e907e2530f7b2028f50.jpg', '0723_mp4-0115_jpg.rf.f55cde8de9300d8c54cce314af713dda_mask.png', '-02_mp4-0625_jpg.rf.fc2239274b6bdcf614d18eadf5f95227_mask.png', '0723_mp4-0198_jpg.rf.05730aa7372340aafaea808ea0ebc53f_mask.png', '0723_mp4-0179_jpg.rf.e9c87123dc61a5073c4b593f67b689bb_mask.png', '-02_mp4-0458_jpg.rf.0625b40a3074b690759140acd69b0ee5_mask.png', '-02_mp4-0442_jpg.rf.4ec9cda08c1cec2d2105f9318c3b27e9_mask.png', '0723_mp4-0050_jpg.rf.1406bd89d921dd0c19ee603ecc79a941_mask.png', '-02_mp4-0579_jpg.rf.07188815d69176d2195a18bef2428b87_mask.png', '-02_mp4-0683_jpg.rf.f51599501fb284cf68c786f3f7bf5714_mask.png', '0723_mp4-0081_jpg.rf.4e3d9ac31ca01622c71a1e5c56970761.jpg', '0723_mp4-0031_jpg.rf.1f53b5dec8564bd5974c2a0871cf1132_mask.png', '-02_mp4-0214_jpg.rf.889fb48d08581d12ed9945543ac91dec.jpg', '-02_mp4-0156_jpg.rf.e887d00b2dc74961c270133f22d4bcf0_mask.png', '-02_mp4-0665_jpg.rf.3ca9344b15c0f59d06162366cb0b72bc_mask.png', '0723_mp4-0027_jpg.rf.f5844ebfa7f14b7dcfee037fce1e9ade.jpg', '-02_mp4-0246_jpg.rf.1aa5e7623714bf3463e71985ca70d845_mask.png', '-02_mp4-0131_jpg.rf.51d9700d25de98ab761d6fed9425f0a8.jpg', '-02_mp4-0392_jpg.rf.f86614e87101a3da65b59385835bf41d_mask.png', '-02_mp4-0039_jpg.rf.d39020a0adcab34fa38d967f8b22ec57_mask.png', '-02_mp4-0768_jpg.rf.bfc75260836eaa8a280c69161958e298.jpg', '-02_mp4-0226_jpg.rf.e891ed22dc3f77e3c2a7ee0e65c14cca_mask.png', '0723_mp4-0137_jpg.rf.4ba0ec43fd853906044779a5c71ce361.jpg', '-02_mp4-0506_jpg.rf.c0213bc8822f469aa261d7232f256e2f_mask.png', '-02_mp4-0720_jpg.rf.d4eb4e8da644c75d8fb7152f3369a415_mask.png', '-02_mp4-0326_jpg.rf.1ac5e0c8e1cfcd70bf7e71e7fa579d29_mask.png', '-02_mp4-0627_jpg.rf.43f7b51ac47f02fbfe906eebfb8a6105.jpg', '-02_mp4-0086_jpg.rf.952af584abc034f03e61803e96166338.jpg', '-02_mp4-0672_jpg.rf.f42f23528297e0db7683a8dba1c77211_mask.png', '-02_mp4-0638_jpg.rf.a63da2ca3db46cd1d5108c59c580ec2d_mask.png', '-02_mp4-0045_jpg.rf.4dcf8f559cfa580355a96022fd93cdde.jpg', '-02_mp4-0416_jpg.rf.c9ea49173d16a390164d407b557b302f_mask.png', '-02_mp4-0506_jpg.rf.c0213bc8822f469aa261d7232f256e2f.jpg', '-02_mp4-0561_jpg.rf.9a64120e4f5d538208dff7454ca2cc4c.jpg', '-02_mp4-0170_jpg.rf.558fe602532bca91e93dd7cd2fa5a76f_mask.png', '-02_mp4-0685_jpg.rf.ec8165b2c68982ba046dcfd800792cbb.jpg', '-02_mp4-0134_jpg.rf.4734f5d9cfe089820cd675a79e025673.jpg', '-02_mp4-0161_jpg.rf.998faf6999365c49e82bf88fd90e1368.jpg', '-02_mp4-0593_jpg.rf.585f8b99bbfc7157becc2e09ad807ca2_mask.png', '-02_mp4-0152_jpg.rf.5b82df9d9776b42fa3b28a7486fb8ecd.jpg', '-02_mp4-0636_jpg.rf.aea6d2783594a3472d778335289616a0_mask.png', '-02_mp4-0473_jpg.rf.64c4f3d3b6579916f5b95a59f2c9b63b.jpg', '-02_mp4-0298_jpg.rf.eb55344075aee175939ebc138b007935_mask.png', '-02_mp4-0591_jpg.rf.e8b66a2557c4fd8bce7230029a6de3d5.jpg', '-02_mp4-0134_jpg.rf.4734f5d9cfe089820cd675a79e025673_mask.png', '0723_mp4-0106_jpg.rf.1267aa679738f7c37787422835aab6db.jpg', '-02_mp4-0077_jpg.rf.f9186c39e55046527d59093b470972e5_mask.png', '-02_mp4-0243_jpg.rf.88554ab2b7a8bb37923c1adcd41fa169_mask.png', '-02_mp4-0748_jpg.rf.646d892b52c7b6ad38acd2b390f90f22_mask.png', '-02_mp4-0411_jpg.rf.c92eb755300ef5d06963c20e9c1245d2_mask.png', '-02_mp4-0106_jpg.rf.e9eeedf9eefe6e8996e6f8e1b4812258.jpg', '-02_mp4-0572_jpg.rf.914c80002e9fc8ac60335c0857b0143a_mask.png', '-02_mp4-0086_jpg.rf.952af584abc034f03e61803e96166338_mask.png', '-02_mp4-0458_jpg.rf.0625b40a3074b690759140acd69b0ee5.jpg', '-02_mp4-0482_jpg.rf.d68698ba4e3834bf431425caa2c6562a_mask.png', '-02_mp4-0272_jpg.rf.47bcd4fd687fbd466f149c72144fe78c.jpg', '-02_mp4-0731_jpg.rf.488e732cb46d9191e924346cb7845b0c_mask.png', '-02_mp4-0327_jpg.rf.51b888f9b64ca9d9e8f4f17c0de5f81b_mask.png', '-02_mp4-0561_jpg.rf.9a64120e4f5d538208dff7454ca2cc4c_mask.png', '-02_mp4-0545_jpg.rf.2123874e7eac96a638385efff3254500.jpg', '0723_mp4-0189_jpg.rf.c8a2270b0d717f9be15468bc37beae8e_mask.png', '-02_mp4-0762_jpg.rf.a0fc51c4721f111a0e3b789b79590b0d.jpg', '0723_mp4-0063_jpg.rf.c3e83828690ce1c247ec309db43b19ba_mask.png', '-02_mp4-0664_jpg.rf.3f2206d07da06298dcb43968574bee47_mask.png', '-02_mp4-0569_jpg.rf.d076a7729a058717c2115613cdebb29f.jpg', '-02_mp4-0774_jpg.rf.d104d29dac91ed550c439fe24894900d_mask.png', '-02_mp4-0023_jpg.rf.3362154bd303e61cdd9126e1147a15e1_mask.png', '-02_mp4-0594_jpg.rf.7cc7fc04524dbfc0c41fe36b152d3d79.jpg', '0723_mp4-0110_jpg.rf.9589a77948915e592fb02a72514c50ab.jpg', '-02_mp4-0540_jpg.rf.33e1329e0c5e8ead8eed14525a8ffb89.jpg', '-02_mp4-0090_jpg.rf.e44f5eebebc5a11e42532db0dbf4edf5_mask.png', '0723_mp4-0017_jpg.rf.09f081565498662a33f352a9db1e80a9.jpg', '0723_mp4-0200_jpg.rf.051be1e87d4bf0e9bbb513f3f81c66d6_mask.png', '-02_mp4-0106_jpg.rf.e9eeedf9eefe6e8996e6f8e1b4812258_mask.png', '-02_mp4-0392_jpg.rf.f86614e87101a3da65b59385835bf41d.jpg', '0723_mp4-0028_jpg.rf.443aafc933362d8756c62a75b7b226dd.jpg', '0723_mp4-0071_jpg.rf.1362669d70f63d0ca50dd682a3faf9cb.jpg', '-02_mp4-0279_jpg.rf.37de70ce93f08507bc5a485b81b356b6.jpg', '0723_mp4-0110_jpg.rf.9589a77948915e592fb02a72514c50ab_mask.png', '-02_mp4-0594_jpg.rf.7cc7fc04524dbfc0c41fe36b152d3d79_mask.png', '-02_mp4-0591_jpg.rf.e8b66a2557c4fd8bce7230029a6de3d5_mask.png', '0723_mp4-0175_jpg.rf.7b80ea0b2e1d358d5ea81f14106d4ea9_mask.png', '-02_mp4-0312_jpg.rf.0bdf5bc201def65fe98d64c2701f96e1_mask.png', '-02_mp4-0220_jpg.rf.bd7d912fdf9b121ef3160783df7eeaf7_mask.png', '-02_mp4-0272_jpg.rf.47bcd4fd687fbd466f149c72144fe78c_mask.png', '-02_mp4-0037_jpg.rf.1f52d487e93ce600806bc879e12cd993.jpg', '-02_mp4-0246_jpg.rf.1aa5e7623714bf3463e71985ca70d845.jpg', '-02_mp4-0628_jpg.rf.df282d3c925b72052b7489fca7b32a4f.jpg', '0723_mp4-0010_jpg.rf.b243e4b78933fb06d71d63bd6c41fdb2_mask.png', '-02_mp4-0016_jpg.rf.364121b8fcc981e75d47f28b4a29152a_mask.png', '0723_mp4-0038_jpg.rf.1d942ec3de3a8e1d786053230020cfec.jpg', '-02_mp4-0499_jpg.rf.1605c996b90076e70fd828bdfc1710be_mask.png', '-02_mp4-0128_jpg.rf.42c89a88f7fd6ff46f1da7393c460305.jpg', '0723_mp4-0179_jpg.rf.e9c87123dc61a5073c4b593f67b689bb.jpg', '-02_mp4-0664_jpg.rf.3f2206d07da06298dcb43968574bee47.jpg', '-02_mp4-0638_jpg.rf.a63da2ca3db46cd1d5108c59c580ec2d.jpg', '0723_mp4-0198_jpg.rf.05730aa7372340aafaea808ea0ebc53f.jpg', '0723_mp4-0125_jpg.rf.de537e902b1eaa5a8c2624cdcc1f001b_mask.png', '0723_mp4-0189_jpg.rf.c8a2270b0d717f9be15468bc37beae8e.jpg', '-02_mp4-0183_jpg.rf.fa1d720039756a1d97fd5a35c8af5fde.jpg', '-02_mp4-0565_jpg.rf.5d5bbf1bbb64772e24ff6beca5127513.jpg', '-02_mp4-0119_jpg.rf.cfc7bb0c5c0114a32111a8c12176e5f2_mask.png', '-02_mp4-0663_jpg.rf.f25ba06a00fba1b3d2d06fa6cf5c48c7.jpg', '0723_mp4-0115_jpg.rf.f55cde8de9300d8c54cce314af713dda.jpg', '-02_mp4-0785_jpg.rf.36d50d6aee44ef8f35b5cb9c72850c3a_mask.png', '-02_mp4-0226_jpg.rf.e891ed22dc3f77e3c2a7ee0e65c14cca.jpg', '-02_mp4-0555_jpg.rf.b68975810ad871ce055fc47ce6d14648_mask.png', '-02_mp4-0055_jpg.rf.fa83844615f655c8f299d09c4613af03_mask.png', '-02_mp4-0720_jpg.rf.d4eb4e8da644c75d8fb7152f3369a415.jpg', '0723_mp4-0010_jpg.rf.b243e4b78933fb06d71d63bd6c41fdb2.jpg', '-02_mp4-0519_jpg.rf.64c96a2db17d0f01c463bb574287b1b7.jpg', '-02_mp4-0595_jpg.rf.b0b8d262d60ed8f79aa320f608c95798_mask.png', '-02_mp4-0192_jpg.rf.e3b2b8b0a7dfa95fbc07fc386595e0a7.jpg', '-02_mp4-0714_jpg.rf.1c300e6a3da419a13bab6203f6af2a67_mask.png', '-02_mp4-0616_jpg.rf.6273745f8e005644882f97f1beb90900.jpg', '-02_mp4-0627_jpg.rf.43f7b51ac47f02fbfe906eebfb8a6105_mask.png', '0723_mp4-0064_jpg.rf.ed5324ca2eeaf71ee935c9d044ca14e3.jpg', '-02_mp4-0214_jpg.rf.889fb48d08581d12ed9945543ac91dec_mask.png', '0723_mp4-0135_jpg.rf.3607c4d33d370eb812c259f45f7dc504.jpg', '-02_mp4-0156_jpg.rf.e887d00b2dc74961c270133f22d4bcf0.jpg', '-02_mp4-0389_jpg.rf.0ea5afd6e86b5dddbbcbdb60bd5818a4_mask.png', '-02_mp4-0454_jpg.rf.3824fa8359b26b1e51a13a9332cc7487.jpg', '-02_mp4-0104_jpg.rf.f6595300623343d459e53a5c71a18573_mask.png', '-02_mp4-0244_jpg.rf.97d49e32efc497dd932f98c0d41bdb5f.jpg', '0723_mp4-0018_jpg.rf.3cee32abaa326f66e7cd2426fdfdd044.jpg', '-02_mp4-0493_jpg.rf.32a401058abaf98bcb6beec044bfb0dd.jpg', '0723_mp4-0079_jpg.rf.cd41378da378746b7af31dc4ef0f8c1f_mask.png', '-02_mp4-0148_jpg.rf.63868a57f5dd6438a04103db72df8bc8.jpg', '0723_mp4-0116_jpg.rf.13f2bcb6d1b5f8362e3ba9a80b88fce3.jpg', '0723_mp4-0137_jpg.rf.4ba0ec43fd853906044779a5c71ce361_mask.png', '-02_mp4-0590_jpg.rf.bde42e1c162bbb10dc8805010f8f4893.jpg', '-02_mp4-0131_jpg.rf.51d9700d25de98ab761d6fed9425f0a8_mask.png', '-02_mp4-0377_jpg.rf.a9624ceb383038a68aad93ba5c7040d5_mask.png', '-02_mp4-0579_jpg.rf.07188815d69176d2195a18bef2428b87.jpg', '-02_mp4-0170_jpg.rf.558fe602532bca91e93dd7cd2fa5a76f.jpg', '-02_mp4-0560_jpg.rf.9c91d59ffdd0c47d549e7cfa16dfc8c3_mask.png', '-02_mp4-0016_jpg.rf.364121b8fcc981e75d47f28b4a29152a.jpg', '-02_mp4-0683_jpg.rf.f51599501fb284cf68c786f3f7bf5714.jpg', '0723_mp4-0139_jpg.rf.f9d9eb695ef3a9687688315b2d9292af.jpg', '-02_mp4-0190_jpg.rf.0ccc693fabc1bc006dae7c22f3f0d8b0_mask.png', '-02_mp4-0537_jpg.rf.0d5b94f1bac9304a06d5cb5675a3b8af.jpg', '-02_mp4-0499_jpg.rf.1605c996b90076e70fd828bdfc1710be.jpg', '-02_mp4-0119_jpg.rf.cfc7bb0c5c0114a32111a8c12176e5f2.jpg', '0723_mp4-0017_jpg.rf.09f081565498662a33f352a9db1e80a9_mask.png', '-02_mp4-0312_jpg.rf.0bdf5bc201def65fe98d64c2701f96e1.jpg', '0723_mp4-0134_jpg.rf.745bdf0beba127b56f06436c2fadde59_mask.png', '-02_mp4-0648_jpg.rf.248e847a10a55fdab21ac34292d13255.jpg', '-02_mp4-0537_jpg.rf.0d5b94f1bac9304a06d5cb5675a3b8af_mask.png', '-02_mp4-0678_jpg.rf.441fd91a5a3ef6301751efd12c12bb8f.jpg', '-02_mp4-0527_jpg.rf.ed21a74c0a37a2dbbf0688c8981c882c.jpg', '0723_mp4-0134_jpg.rf.745bdf0beba127b56f06436c2fadde59.jpg', '-02_mp4-0055_jpg.rf.fa83844615f655c8f299d09c4613af03.jpg', '0723_mp4-0031_jpg.rf.1f53b5dec8564bd5974c2a0871cf1132.jpg', '0723_mp4-0013_jpg.rf.d9f1d462e8e2013d744532ec97ca4a32.jpg', '-02_mp4-0755_jpg.rf.4d2c1b8305ae2f024909d21687c1e9f7.jpg', '0723_mp4-0030_jpg.rf.2511d9f1de7f880ae835d86642efab2b.jpg', '-02_mp4-0098_jpg.rf.b2d301d832f243e6951fc687b3bcd5a6.jpg', '0723_mp4-0018_jpg.rf.3cee32abaa326f66e7cd2426fdfdd044_mask.png', '-02_mp4-0252_jpg.rf.4194d3e43db67b04cc96983fd109fc13_mask.png', '-02_mp4-0322_jpg.rf.704aa45635b452ffc8713e8a0eb20854.jpg', '-02_mp4-0685_jpg.rf.ec8165b2c68982ba046dcfd800792cbb_mask.png', '-02_mp4-0590_jpg.rf.bde42e1c162bbb10dc8805010f8f4893_mask.png', '-02_mp4-0174_jpg.rf.d67dba775c1ed3a61fd14b779f15b3aa_mask.png', '-02_mp4-0665_jpg.rf.3ca9344b15c0f59d06162366cb0b72bc.jpg', '0723_mp4-0200_jpg.rf.051be1e87d4bf0e9bbb513f3f81c66d6.jpg', '-02_mp4-0416_jpg.rf.c9ea49173d16a390164d407b557b302f.jpg', '-02_mp4-0718_jpg.rf.513a95d659366d85c1849c28b9efc9f5.jpg', '-02_mp4-0545_jpg.rf.2123874e7eac96a638385efff3254500_mask.png', '-02_mp4-0774_jpg.rf.d104d29dac91ed550c439fe24894900d.jpg', '-02_mp4-0728_jpg.rf.ac1595283fce32ef054f6226af0f2b0a_mask.png', '-02_mp4-0483_jpg.rf.c119255d300a41ec72e190bc51db7e54.jpg', '-02_mp4-0616_jpg.rf.6273745f8e005644882f97f1beb90900_mask.png', '-02_mp4-0714_jpg.rf.1c300e6a3da419a13bab6203f6af2a67.jpg', '0723_mp4-0064_jpg.rf.ed5324ca2eeaf71ee935c9d044ca14e3_mask.png', '-02_mp4-0481_jpg.rf.d926d7cfcba779d9fb19cb8bf39298e9.jpg', '0723_mp4-0071_jpg.rf.1362669d70f63d0ca50dd682a3faf9cb_mask.png', '-02_mp4-0493_jpg.rf.32a401058abaf98bcb6beec044bfb0dd_mask.png', '-02_mp4-0491_jpg.rf.4360d20affd458ef26c8932207af38c9.jpg', '-02_mp4-0252_jpg.rf.4194d3e43db67b04cc96983fd109fc13.jpg', '-02_mp4-0560_jpg.rf.9c91d59ffdd0c47d549e7cfa16dfc8c3.jpg', '-02_mp4-0711_jpg.rf.020894c4eeef63b91c5b29694501f4ec_mask.png', '-02_mp4-0587_jpg.rf.58849a2cd1dc8781b824c92e5c2937f0_mask.png', '-02_mp4-0542_jpg.rf.d9b6554f947333c0e10160a95392f8f5_mask.png', '0723_mp4-0116_jpg.rf.13f2bcb6d1b5f8362e3ba9a80b88fce3_mask.png', '-02_mp4-0162_jpg.rf.2689f4343d8c10ab42ab414cc64e8a76.jpg', '-02_mp4-0482_jpg.rf.d68698ba4e3834bf431425caa2c6562a.jpg', '-02_mp4-0279_jpg.rf.37de70ce93f08507bc5a485b81b356b6_mask.png', '-02_mp4-0700_jpg.rf.67242038b3b516618ad04b3eacd6071f.jpg', '0723_mp4-0028_jpg.rf.443aafc933362d8756c62a75b7b226dd_mask.png', '0723_mp4-0016_jpg.rf.149ff8bd98fe8467c4e302ba1c9248c4_mask.png', '0723_mp4-0174_jpg.rf.66cbf3a6070d18ee382f3600754861fe.jpg', '-02_mp4-0295_jpg.rf.afb6aeec6a7791747cf3beafb1751873.jpg', '-02_mp4-0663_jpg.rf.f25ba06a00fba1b3d2d06fa6cf5c48c7_mask.png', '-02_mp4-0666_jpg.rf.d4e10c64c9d13dfe0fe94a5553995bd4.jpg', '-02_mp4-0288_jpg.rf.9be41ab7e46fb686869cbece69ead631.jpg', '-02_mp4-0381_jpg.rf.5263e390aabf5d5494c3f44eb164a7c2_mask.png', '-02_mp4-0452_jpg.rf.d904c518e4b1bb2585f1bc3b207a29f5_mask.png', '-02_mp4-0140_jpg.rf.b68ad75493d09f5e19566deb24210c52.jpg', '0723_mp4-0050_jpg.rf.1406bd89d921dd0c19ee603ecc79a941.jpg', '-02_mp4-0362_jpg.rf.2be5677b199fe8a6a09064a4611d9721_mask.png', '-02_mp4-0174_jpg.rf.d67dba775c1ed3a61fd14b779f15b3aa.jpg', '-02_mp4-0220_jpg.rf.bd7d912fdf9b121ef3160783df7eeaf7.jpg', '-02_mp4-0442_jpg.rf.4ec9cda08c1cec2d2105f9318c3b27e9.jpg', '-02_mp4-0411_jpg.rf.c92eb755300ef5d06963c20e9c1245d2.jpg', '-02_mp4-0023_jpg.rf.3362154bd303e61cdd9126e1147a15e1.jpg', '0723_mp4-0033_jpg.rf.1190cbf4bd44fbc719ebe9cc3be3a364_mask.png', '-02_mp4-0164_jpg.rf.43ef21e4f9cf21e842d1b4e9cceb80fc.jpg', '-02_mp4-0595_jpg.rf.b0b8d262d60ed8f79aa320f608c95798.jpg', '-02_mp4-0305_jpg.rf.e0c5ab1aa4084b642ff58d79c304d004_mask.png', '-02_mp4-0197_jpg.rf.42e1d61d3e7c6ff46bff5b4b22b0f2b3_mask.png', '0723_mp4-0035_jpg.rf.9a11459c931196cd8c811124fbf4912e_mask.png', '-02_mp4-0263_jpg.rf.623b128773bd91c55b772c763c6f5673_mask.png', '-02_mp4-0716_jpg.rf.d9effe38a561c9e7f7bf3c8322b45fe1_mask.png', '-02_mp4-0433_jpg.rf.e26aa2c40263305b2030452f232addfd_mask.png', '-02_mp4-0095_jpg.rf.b2bae421cd8cc54eae18feecf5bc4dfc.jpg', '-02_mp4-0002_jpg.rf.8787d346b2a850be4e7509bd00927e51_mask.png', '0723_mp4-0196_jpg.rf.66639bcd8be281ede7fd9671d00de8cb.jpg', '-02_mp4-0125_jpg.rf.13d9198c4bd5e44bd694e164c54aed8d_mask.png', '-02_mp4-0651_jpg.rf.a16a7dc60fc3197e0140c30cb7925ff7.jpg', '-02_mp4-0310_jpg.rf.dd66188e5a7df4b27d8805b31092408f.jpg', '-02_mp4-0310_jpg.rf.dd66188e5a7df4b27d8805b31092408f_mask.png', '-02_mp4-0098_jpg.rf.b2d301d832f243e6951fc687b3bcd5a6_mask.png', '-02_mp4-0206_jpg.rf.1bf0512f319fca967fc9cdac30538596_mask.png', '-02_mp4-0646_jpg.rf.e53f1f7c57359281ccc9bc91a9e90163_mask.png', '-02_mp4-0625_jpg.rf.fc2239274b6bdcf614d18eadf5f95227.jpg', '-02_mp4-0423_jpg.rf.0d89171de95dc78542cc46d5100207fd_mask.png', '-02_mp4-0542_jpg.rf.d9b6554f947333c0e10160a95392f8f5.jpg', '-02_mp4-0711_jpg.rf.020894c4eeef63b91c5b29694501f4ec.jpg', '0723_mp4-0152_jpg.rf.68f3d6190bf546cf4255b4059c7a3003_mask.png', '0723_mp4-0038_jpg.rf.1d942ec3de3a8e1d786053230020cfec_mask.png', '-02_mp4-0646_jpg.rf.e53f1f7c57359281ccc9bc91a9e90163.jpg', '-02_mp4-0147_jpg.rf.9a5b229712ab5b7dbebdb09251c03299_mask.png', '0723_mp4-0030_jpg.rf.2511d9f1de7f880ae835d86642efab2b_mask.png', '-02_mp4-0190_jpg.rf.0ccc693fabc1bc006dae7c22f3f0d8b0.jpg', '-02_mp4-0244_jpg.rf.97d49e32efc497dd932f98c0d41bdb5f_mask.png', '-02_mp4-0390_jpg.rf.c28524c33948608f3124a48b3aaf4b91.jpg', '-02_mp4-0728_jpg.rf.ac1595283fce32ef054f6226af0f2b0a.jpg', '0723_mp4-0196_jpg.rf.66639bcd8be281ede7fd9671d00de8cb_mask.png', '-02_mp4-0731_jpg.rf.488e732cb46d9191e924346cb7845b0c.jpg', '-02_mp4-0527_jpg.rf.ed21a74c0a37a2dbbf0688c8981c882c_mask.png', '-02_mp4-0559_jpg.rf.7f7a1a4567735cf66a84a7acddbabd85_mask.png', '0723_mp4-0125_jpg.rf.de537e902b1eaa5a8c2624cdcc1f001b.jpg', '0723_mp4-0079_jpg.rf.cd41378da378746b7af31dc4ef0f8c1f.jpg', '-02_mp4-0189_jpg.rf.fbfbbdd9deee724fe2df25e6a124e09e.jpg', '-02_mp4-0298_jpg.rf.eb55344075aee175939ebc138b007935.jpg', '-02_mp4-0080_jpg.rf.05c4a3c31bdc468a225a4a970ad4f148_mask.png', '-02_mp4-0077_jpg.rf.f9186c39e55046527d59093b470972e5.jpg', '-02_mp4-0491_jpg.rf.4360d20affd458ef26c8932207af38c9_mask.png', '-02_mp4-0483_jpg.rf.c119255d300a41ec72e190bc51db7e54_mask.png', '-02_mp4-0433_jpg.rf.e26aa2c40263305b2030452f232addfd.jpg', '-02_mp4-0192_jpg.rf.e3b2b8b0a7dfa95fbc07fc386595e0a7_mask.png', '0723_mp4-0135_jpg.rf.3607c4d33d370eb812c259f45f7dc504_mask.png', '-02_mp4-0636_jpg.rf.aea6d2783594a3472d778335289616a0.jpg', '-02_mp4-0104_jpg.rf.f6595300623343d459e53a5c71a18573.jpg', '-02_mp4-0125_jpg.rf.13d9198c4bd5e44bd694e164c54aed8d.jpg', '-02_mp4-0448_jpg.rf.8ca4d749af772f8ea8742abe505c8e29_mask.png', '-02_mp4-0218_jpg.rf.bffd45ea62ddfa90a16a949fbc49ccb9.jpg', '-02_mp4-0002_jpg.rf.8787d346b2a850be4e7509bd00927e51.jpg', '-02_mp4-0473_jpg.rf.64c4f3d3b6579916f5b95a59f2c9b63b_mask.png', '0723_mp4-0174_jpg.rf.66cbf3a6070d18ee382f3600754861fe_mask.png', '-02_mp4-0202_jpg.rf.9ce8377d8ef497f53c718c948ef8a7ee.jpg', '-02_mp4-0218_jpg.rf.bffd45ea62ddfa90a16a949fbc49ccb9_mask.png', '-02_mp4-0322_jpg.rf.704aa45635b452ffc8713e8a0eb20854_mask.png', '-02_mp4-0381_jpg.rf.5263e390aabf5d5494c3f44eb164a7c2.jpg', '-02_mp4-0454_jpg.rf.3824fa8359b26b1e51a13a9332cc7487_mask.png', '-02_mp4-0787_jpg.rf.9ddf6f3347ee4d821a13ba70de079192_mask.png', '0723_mp4-0081_jpg.rf.4e3d9ac31ca01622c71a1e5c56970761_mask.png', '-02_mp4-0628_jpg.rf.df282d3c925b72052b7489fca7b32a4f_mask.png', '-02_mp4-0327_jpg.rf.51b888f9b64ca9d9e8f4f17c0de5f81b.jpg', '-02_mp4-0755_jpg.rf.4d2c1b8305ae2f024909d21687c1e9f7_mask.png', '-02_mp4-0228_jpg.rf.b50d1096a84bde009f492a6b18431f65_mask.png', '-02_mp4-0555_jpg.rf.b68975810ad871ce055fc47ce6d14648.jpg', '-02_mp4-0569_jpg.rf.d076a7729a058717c2115613cdebb29f_mask.png', '-02_mp4-0754_jpg.rf.6bebbe2f88318149432afe51091033d2.jpg', '-02_mp4-0162_jpg.rf.2689f4343d8c10ab42ab414cc64e8a76_mask.png', '-02_mp4-0128_jpg.rf.42c89a88f7fd6ff46f1da7393c460305_mask.png', '-02_mp4-0672_jpg.rf.f42f23528297e0db7683a8dba1c77211.jpg', '0723_mp4-0175_jpg.rf.7b80ea0b2e1d358d5ea81f14106d4ea9.jpg', '-02_mp4-0305_jpg.rf.e0c5ab1aa4084b642ff58d79c304d004.jpg', '-02_mp4-0626_jpg.rf.458b9c2375a64b63296f6187fd975672.jpg', '-02_mp4-0161_jpg.rf.998faf6999365c49e82bf88fd90e1368_mask.png', '-02_mp4-0565_jpg.rf.5d5bbf1bbb64772e24ff6beca5127513_mask.png', '-02_mp4-0206_jpg.rf.1bf0512f319fca967fc9cdac30538596.jpg', '-02_mp4-0572_jpg.rf.914c80002e9fc8ac60335c0857b0143a.jpg', '-02_mp4-0037_jpg.rf.1f52d487e93ce600806bc879e12cd993_mask.png', '-02_mp4-0698_jpg.rf.008385a8587bf8357f695340bf56afd9.jpg', '-02_mp4-0389_jpg.rf.0ea5afd6e86b5dddbbcbdb60bd5818a4.jpg', '-02_mp4-0288_jpg.rf.9be41ab7e46fb686869cbece69ead631_mask.png', '-02_mp4-0678_jpg.rf.441fd91a5a3ef6301751efd12c12bb8f_mask.png', '0723_mp4-0014_jpg.rf.c97ee86bb5c299b9c02f5c2ad59831f0_mask.png', '-02_mp4-0080_jpg.rf.05c4a3c31bdc468a225a4a970ad4f148.jpg', '-02_mp4-0390_jpg.rf.c28524c33948608f3124a48b3aaf4b91_mask.png', '-02_mp4-0762_jpg.rf.a0fc51c4721f111a0e3b789b79590b0d_mask.png']\n"
          ]
        }
      ]
    },
    {
      "cell_type": "code",
      "source": [
        "import os\n",
        "print(\"현재 작업 디렉토리:\", os.getcwd())"
      ],
      "metadata": {
        "colab": {
          "base_uri": "https://localhost:8080/"
        },
        "id": "YOLAUu17VZ5f",
        "outputId": "6a1edf6d-7819-483b-82ef-1e4d752bd160"
      },
      "execution_count": null,
      "outputs": [
        {
          "output_type": "stream",
          "name": "stdout",
          "text": [
            "현재 작업 디렉토리: /content\n"
          ]
        }
      ]
    },
    {
      "cell_type": "code",
      "source": [
        "import os\n",
        "\n",
        "data_dir = '/content/data'\n",
        "print(\"data 폴더 내:\", os.listdir(data_dir))"
      ],
      "metadata": {
        "colab": {
          "base_uri": "https://localhost:8080/"
        },
        "id": "8I5h0bn_Vl3C",
        "outputId": "2762a1df-23b6-461f-c5b6-ee1c27c336e5"
      },
      "execution_count": null,
      "outputs": [
        {
          "output_type": "stream",
          "name": "stdout",
          "text": [
            "data 폴더 내: ['README.roboflow.txt', 'README.dataset.txt', 'valid', 'test', 'train']\n"
          ]
        }
      ]
    },
    {
      "cell_type": "code",
      "source": [
        "import os\n",
        "\n",
        "base_dir = '/content/data'\n",
        "\n",
        "for split in ['train', 'valid', 'test']:\n",
        "    split_path = os.path.join(base_dir, split)\n",
        "    print(f\"{split} 폴더 내 파일/폴더 목록:\", os.listdir(split_path))"
      ],
      "metadata": {
        "colab": {
          "base_uri": "https://localhost:8080/"
        },
        "id": "2HxfLdD4Vwx6",
        "outputId": "8cb8524b-dd5e-49b7-ceca-3b92ee216c21"
      },
      "execution_count": null,
      "outputs": [
        {
          "output_type": "stream",
          "name": "stdout",
          "text": [
            "train 폴더 내 파일/폴더 목록: ['-02_mp4-0668_jpg.rf.753102e7ab4d2ca80be5f9c5958e45dc_mask.png', '-02_mp4-0653_jpg.rf.030ea29b976ee4bc49fab16a45adb878_mask.png', '-02_mp4-0217_jpg.rf.1cc5455cac6fc82724cb3bb4bf5e4656_mask.png', '-02_mp4-0746_jpg.rf.9f3399f56d8193e62af94e480e3e5f48.jpg', '-02_mp4-0041_jpg.rf.9a7a3b4d1c3f40cae2aee06a62ceba70.jpg', '-02_mp4-0109_jpg.rf.9d95679903dcb2c8b03b1409fecb3f9f.jpg', '-02_mp4-0271_jpg.rf.c304ac0e5d22246789dba0e442236aac.jpg', '-02_mp4-0460_jpg.rf.d73f75ac8bb6b3100a7f10b1be972bab.jpg', '-02_mp4-0204_jpg.rf.809ee700132ceaaca9c7881c93e83930_mask.png', '-02_mp4-0745_jpg.rf.b40123a8dcb34c4f527ad30514ade14a.jpg', '-02_mp4-0763_jpg.rf.2a220887c38c31d397bf397df9fd054e.jpg', '-02_mp4-0020_jpg.rf.dee5a2f2fc72f7f6df2695d26db1ff55.jpg', '-02_mp4-0657_jpg.rf.d125f1de83f3d89c335073717afd24bd_mask.png', '-02_mp4-0775_jpg.rf.f827f339b0c6cdf37de682455bca3e1b.jpg', '0723_mp4-0187_jpg.rf.8183279edc0fd3f4aede633c8f94ce7b_mask.png', '-02_mp4-0046_jpg.rf.941ac6475286c4220e082b829c83d47d.jpg', '-02_mp4-0742_jpg.rf.462464af8c1b9591122ceb830588a820_mask.png', '-02_mp4-0120_jpg.rf.b0f7858b8ec41a2d8f74622d5d7309a7.jpg', '-02_mp4-0486_jpg.rf.812263fcfe450c287993dacbdfff0800.jpg', '0723_mp4-0008_jpg.rf.bb7af1b5792027faed5f675eeb980cb2.jpg', '-02_mp4-0242_jpg.rf.69f30d5b5cbe32140fb730d7601694e5.jpg', '-02_mp4-0566_jpg.rf.ba9784b19c0a2cb9f2ad023d3fe63c88_mask.png', '-02_mp4-0196_jpg.rf.95bef5065d071e01ff43803e00dfd76d_mask.png', '-02_mp4-0328_jpg.rf.556431b412e930f882eb418fee86075b.jpg', '-02_mp4-0689_jpg.rf.23b94c73ed3df2e405254f176f86b86d_mask.png', '-02_mp4-0599_jpg.rf.ed8c3834863c34f8d3e79cb048752a34.jpg', '-02_mp4-0059_jpg.rf.8a8f369d8dbc08b4538892e655507858.jpg', '-02_mp4-0185_jpg.rf.25a4a8f5037625327d5937a0b013c71d_mask.png', '-02_mp4-0656_jpg.rf.4daf98db8e86110e62115a23a46d314f_mask.png', '-02_mp4-0293_jpg.rf.014827500363302cc91bab874ec4d3c8.jpg', '-02_mp4-0352_jpg.rf.096be7b8f8ef23b25b4303bc47535080_mask.png', '-02_mp4-0224_jpg.rf.bcfc52592d43170462110def9bb3eeae.jpg', '0723_mp4-0087_jpg.rf.551b1d14087c37484818c25797bbfc23.jpg', '-02_mp4-0400_jpg.rf.8658ef2715ad049a9a6b5ffe4eee358d.jpg', '-02_mp4-0532_jpg.rf.ed6f640b93245a935344ef5b86d61adb_mask.png', '-02_mp4-0427_jpg.rf.863e71706fb445ac4db06302c6ae94ef_mask.png', '-02_mp4-0118_jpg.rf.8948ae71fe84471ba99a3e235c95bc66_mask.png', '-02_mp4-0676_jpg.rf.8801c3da9449a1f00ae6e50d51692448_mask.png', '-02_mp4-0069_jpg.rf.18221c5c501b336160f6d51f54b2658b_mask.png', '-02_mp4-0019_jpg.rf.3d4e4f5965e3d3576cd7cbdba856199a.jpg', '-02_mp4-0194_jpg.rf.f43ec3a0cff70590517f2109c30fdc96_mask.png', '-02_mp4-0436_jpg.rf.bfa0e25ba2d8d368204be6baee6de001_mask.png', '0723_mp4-0195_jpg.rf.4926569a024a1cd999f2a83f66a0a24e_mask.png', '-02_mp4-0259_jpg.rf.289f17c2d6f776bc30be8cc128b8486e.jpg', '-02_mp4-0456_jpg.rf.006b45bf7db12fd7b404231343d25ce8_mask.png', '-02_mp4-0093_jpg.rf.ddeb4b6bb0b62093dfa3381c360bfc1a_mask.png', '-02_mp4-0552_jpg.rf.adcfdd6ecd5a07bb7ff91a38260b25fd_mask.png', '-02_mp4-0044_jpg.rf.fb610f33eea370972b21fdffc5b281f7_mask.png', '-02_mp4-0376_jpg.rf.da2fc1445c20e1be42c6be2ba787e7a1.jpg', '-02_mp4-0673_jpg.rf.2403936872ef31f70a6d5415273ce166_mask.png', '-02_mp4-0307_jpg.rf.14a6812f35610d62ca455cbe958058f3_mask.png', '-02_mp4-0063_jpg.rf.e50c17d90e60a38b759d2da54c1b3fda.jpg', '-02_mp4-0297_jpg.rf.f7fcee2d629b71e3486789947c74a85e.jpg', '-02_mp4-0441_jpg.rf.a067c68040229bbcea73028b44a99dba_mask.png', '-02_mp4-0602_jpg.rf.437cd0f4a4bc7f2b2fdf79e851b30446.jpg', '-02_mp4-0466_jpg.rf.999a859bbc2889b901d10062709af685.jpg', '-02_mp4-0457_jpg.rf.78d40e2f57986c1a12fe9054c28345da_mask.png', '-02_mp4-0274_jpg.rf.1342c8688b989c550571ad227ea7c608_mask.png', '-02_mp4-0082_jpg.rf.55208b9b65c6c497bae239235a96d965.jpg', '-02_mp4-0331_jpg.rf.e6d551007246efdaf7bbec09111e356e.jpg', '-02_mp4-0314_jpg.rf.62141a76c7f381a8634707c2a4840be1_mask.png', '-02_mp4-0332_jpg.rf.ec2ac5df351c226e7820e202857a6359_mask.png', '-02_mp4-0747_jpg.rf.e70e64404dc0f097d953e1eb4aacf63b.jpg', '-02_mp4-0687_jpg.rf.97e6f11ae68ebb83f50895fed60b36de_mask.png', '-02_mp4-0522_jpg.rf.4d19444d598b9166cac57d5148e6c444_mask.png', '-02_mp4-0029_jpg.rf.cc7c0397bf3a8d221e34d6949437ae87.jpg', '-02_mp4-0736_jpg.rf.b0eef05d6abc5d9172665144c9159129.jpg', '-02_mp4-0323_jpg.rf.77266bd2528d396a1a0b7dfafb1be5fb.jpg', '0723_mp4-0167_jpg.rf.100a20f9e7b4c95948840752684a0ff4_mask.png', '-02_mp4-0373_jpg.rf.2d35f13c160f236667ef0a95cbf0f33c_mask.png', '-02_mp4-0681_jpg.rf.fe796256f63c06742a18ef6e4b2deb1e_mask.png', '-02_mp4-0072_jpg.rf.bb2d904e13b573fadd74959a3ced3e10.jpg', '-02_mp4-0296_jpg.rf.7569a21bab880d70c90d1909d4330fe4_mask.png', '-02_mp4-0040_jpg.rf.316acf0f2626f813fff77aba7618ba69_mask.png', '-02_mp4-0707_jpg.rf.81f25971df54060c661481098cc6e244_mask.png', '0723_mp4-0068_jpg.rf.08666b63e53487bc2e94f2f398c8253a_mask.png', '-02_mp4-0781_jpg.rf.881b4186e919dfd0da9dac345b98a97d.jpg', '-02_mp4-0257_jpg.rf.235c18386fe33c499cded32fb07a4756_mask.png', '0723_mp4-0173_jpg.rf.b85bbfe0899cf2c9840368136f188811.jpg', '-02_mp4-0629_jpg.rf.9539f7770f35acc5c59c2efeed4cff7d_mask.png', '-02_mp4-0387_jpg.rf.536ae4ed9aeba0ff0e9c970691e31780_mask.png', '-02_mp4-0025_jpg.rf.d71e32d5b9e89fb7f54c3a639079af16.jpg', '-02_mp4-0022_jpg.rf.3279c07f3351559b17004cdc175c50da_mask.png', '-02_mp4-0073_jpg.rf.5638c80ffefface1d26667a975f46c66.jpg', '-02_mp4-0268_jpg.rf.36680235e14b5281bfb8b9820d5e9ac7_mask.png', '-02_mp4-0293_jpg.rf.014827500363302cc91bab874ec4d3c8_mask.png', '0723_mp4-0003_jpg.rf.92ebb25a84ff4e91a428ec7dc6ad8952.jpg', '-02_mp4-0070_jpg.rf.865919f9bca3440a81d0e7a07fced456_mask.png', '-02_mp4-0061_jpg.rf.54bdf2f44e9042c694e44735d01478a0.jpg', '-02_mp4-0204_jpg.rf.809ee700132ceaaca9c7881c93e83930.jpg', '-02_mp4-0397_jpg.rf.729d0fa13596c8ccf2563acdb52b3dca.jpg', '-02_mp4-0649_jpg.rf.3cfd660e0f726eb1e9f2196282e56ac3_mask.png', '-02_mp4-0247_jpg.rf.4602505bf450e550db9dfabaaf93fd9d.jpg', '-02_mp4-0184_jpg.rf.7c284057f85b06a9237b50891a234984_mask.png', '-02_mp4-0007_jpg.rf.c6c8a283f1e80d764a121ef79de192a7.jpg', '-02_mp4-0167_jpg.rf.434f4a77bc8147dee724e8e0526d5c18_mask.png', '-02_mp4-0597_jpg.rf.b6f4b2096bc689147594a960d233cf23_mask.png', '-02_mp4-0557_jpg.rf.76fb132474679485289114a3629b37e1.jpg', '-02_mp4-0739_jpg.rf.9eb05fc952500ada41f3d29d1445f991.jpg', '-02_mp4-0029_jpg.rf.cc7c0397bf3a8d221e34d6949437ae87_mask.png', '-02_mp4-0175_jpg.rf.f5e0a9af1cf8abf3f27eee42fd6c106f.jpg', '-02_mp4-0733_jpg.rf.5e76a228e76dc7fc6fc4de469ce69b22.jpg', '-02_mp4-0130_jpg.rf.f3f7c82b662fe2c6dac0aa0e094be3f1.jpg', '-02_mp4-0777_jpg.rf.cde436c7b79da12b1b5ac399ab387d8f_mask.png', '-02_mp4-0471_jpg.rf.02fdaf68f5e9f136ad42e93c68209583.jpg', '-02_mp4-0488_jpg.rf.2082ac1ab0b3dd56b3e8cfe76bebe605.jpg', '-02_mp4-0273_jpg.rf.338805c7df06f1492eb4702cf37a3a95_mask.png', '-02_mp4-0701_jpg.rf.209277132ae71c0b53b91180746c2225.jpg', '-02_mp4-0215_jpg.rf.f8d8ba6eed4dd13a4c13f45b1357449c.jpg', '-02_mp4-0201_jpg.rf.5894636b3e9d6345e1d1af1b627db16f.jpg', '0723_mp4-0192_jpg.rf.35871317ae44f06606154d4f9ef2ffef.jpg', '-02_mp4-0113_jpg.rf.913f0484c674b22911aa6b555b73c69b.jpg', '-02_mp4-0005_jpg.rf.f7e96786ddf859a53aeb00746fe81943.jpg', '-02_mp4-0635_jpg.rf.28e5862a30dee4f8c8ed0c308b72fe6f.jpg', '-02_mp4-0609_jpg.rf.cf2a4bb104945f828dab0b1fbb423056.jpg', '0723_mp4-0136_jpg.rf.605c278c34e87a446e1c7aa572b30fe6.jpg', '-02_mp4-0236_jpg.rf.cdc10864211eb187ad5ae5e1b3cc67e5.jpg', '-02_mp4-0660_jpg.rf.1970170df914e4059cb645e7f1c88224.jpg', '-02_mp4-0764_jpg.rf.6ca337d5753c0734f41d0d4e64f6f9d2_mask.png', '-02_mp4-0402_jpg.rf.b89d94b090d9a6b4f075fadca4b3cac9.jpg', '-02_mp4-0459_jpg.rf.d82277b248dd45051f2bbad51b51c78a_mask.png', '-02_mp4-0391_jpg.rf.74e7ef79c259b4b9179f459a8ad6f736_mask.png', '-02_mp4-0696_jpg.rf.e15f01d3f6f4040e3e48ee72a421e5a0.jpg', '-02_mp4-0240_jpg.rf.6be670e1f89bb9a480a1c8b11f0aa235_mask.png', '-02_mp4-0150_jpg.rf.1167640da62b439533909e785f897e2f.jpg', '-02_mp4-0123_jpg.rf.3d0ebadfd743e101be4e96fff3a1d87e_mask.png', '0723_mp4-0129_jpg.rf.e630b51382f69e268f0de578d111a6aa_mask.png', '-02_mp4-0084_jpg.rf.e35ddefc4e02051e7f95f37377087629_mask.png', '-02_mp4-0564_jpg.rf.f9e9561b7ee50d50f36ae41bfd86444d_mask.png', '-02_mp4-0428_jpg.rf.d7c2e47c1cf2d6b683c8898bf3b370c8_mask.png', '0723_mp4-0067_jpg.rf.312008899af358b9d928edbc1730f179.jpg', '-02_mp4-0383_jpg.rf.1cf1691112d1d9d5a3a60ad3f9078c24.jpg', '-02_mp4-0513_jpg.rf.bb89c6684d0980dcae43e593f581cddf_mask.png', '-02_mp4-0118_jpg.rf.8948ae71fe84471ba99a3e235c95bc66.jpg', '-02_mp4-0316_jpg.rf.f12bf986da03b851ebe8a14eb02f118a.jpg', '0723_mp4-0160_jpg.rf.c29d1a6e59491f88bd76f7a837333c0a_mask.png', '-02_mp4-0617_jpg.rf.9a4c17b3b9ffffaacfde16a24a632e0f.jpg', '-02_mp4-0127_jpg.rf.678c55043db58829a433ad2d2262c4fb.jpg', '-02_mp4-0173_jpg.rf.e80b0f16eda8737eeefa0ecd78e531d9.jpg', '-02_mp4-0280_jpg.rf.ee646bbbf21a31caa62dc828a50565eb_mask.png', '-02_mp4-0511_jpg.rf.26ccb2346d096585447aab9bfd5391ae_mask.png', '0723_mp4-0167_jpg.rf.100a20f9e7b4c95948840752684a0ff4.jpg', '-02_mp4-0494_jpg.rf.e5eb11f7fe3913504a5a07d72a07483a.jpg', '-02_mp4-0464_jpg.rf.3907c9edfb6275118b54e53e0a886d97_mask.png', '-02_mp4-0222_jpg.rf.96409bac776a373f70fc11feb1fe9020_mask.png', '-02_mp4-0414_jpg.rf.3e083bd7ad0c03e1bf133707c57eaee2.jpg', '-02_mp4-0115_jpg.rf.f46ff3f4b9617816dc239b0e6ce64045_mask.png', '0723_mp4-0199_jpg.rf.631b0a0563432fdb9b8ee50f28103708_mask.png', '-02_mp4-0121_jpg.rf.a8d949d4307bd4663ba13d3e012551b1.jpg', '-02_mp4-0221_jpg.rf.33a2aecae66516f7ec2bddd9f8692cb1.jpg', '-02_mp4-0676_jpg.rf.8801c3da9449a1f00ae6e50d51692448.jpg', '0723_mp4-0032_jpg.rf.a043ab570dfee156c9c9813bbcdcc8f3.jpg', '-02_mp4-0141_jpg.rf.e3a1ef683aa46bb8361d732f8e92ee52_mask.png', '-02_mp4-0315_jpg.rf.13b42be336bfb0d6467d265ecec4b668_mask.png', '-02_mp4-0601_jpg.rf.cf7bb4c755bed883e77ac5455bb298f6.jpg', '-02_mp4-0034_jpg.rf.d0562fad0883742fbc71a21fa1220a17.jpg', '0723_mp4-0194_jpg.rf.f09e4dc07e8a4601710775a275947bf4_mask.png', '-02_mp4-0705_jpg.rf.fcd58cae575a3f56b035722ba6edb1ea.jpg', '-02_mp4-0547_jpg.rf.d77ef82d7298667c50dd572ef4b0ae75_mask.png', '-02_mp4-0713_jpg.rf.24a9cb4aae79ea30553580e0d2689228.jpg', '-02_mp4-0536_jpg.rf.06b78eb03b3b9e7b110447078f238ae8.jpg', '-02_mp4-0088_jpg.rf.c7e6790e24611f65e19df8805d224cda.jpg', '0723_mp4-0012_jpg.rf.e051a595ba63230415f4f688bbfcdfee.jpg', '0723_mp4-0024_jpg.rf.3f4866da8270c0d03b10866435b85e9e.jpg', '-02_mp4-0050_jpg.rf.aa4a8a74034b2b8ff0e7ad89fa356b8b.jpg', '-02_mp4-0699_jpg.rf.18e35cc3bee1dc11aacee1714b30af11_mask.png', '-02_mp4-0316_jpg.rf.f12bf986da03b851ebe8a14eb02f118a_mask.png', '-02_mp4-0697_jpg.rf.6c258e49a49ba7ad0383993f8533d516.jpg', '-02_mp4-0096_jpg.rf.af426be024e268a2a1f494e91d626f7d.jpg', '0723_mp4-0032_jpg.rf.a043ab570dfee156c9c9813bbcdcc8f3_mask.png', '0723_mp4-0056_jpg.rf.111da74b84afad7c90d267c8c695beef.jpg', '-02_mp4-0033_jpg.rf.d20e4ac2e053616f1e2fae9b1f4e6e0d_mask.png', '0723_mp4-0097_jpg.rf.3a4695bdeb20971fefe054cbb5164cf6.jpg', '-02_mp4-0528_jpg.rf.c06882843b581b883fd3336dfd5af278_mask.png', '-02_mp4-0398_jpg.rf.38d80a43e4d5208ad9e4a53bedd65b51.jpg', '-02_mp4-0234_jpg.rf.a15278bfccea648147b01c2016064aa1.jpg', '-02_mp4-0552_jpg.rf.adcfdd6ecd5a07bb7ff91a38260b25fd.jpg', '-02_mp4-0577_jpg.rf.ebc2970f4cb541564eea94d2de3d4bb8_mask.png', '-02_mp4-0771_jpg.rf.1d51f880804474d6b9f3cf39310ea17d.jpg', '-02_mp4-0549_jpg.rf.db043567c6c4fa13061d0fd050e560a8_mask.png', '-02_mp4-0533_jpg.rf.e7284c2435251eb4ff5225a63eb342e4_mask.png', '-02_mp4-0328_jpg.rf.556431b412e930f882eb418fee86075b_mask.png', '0723_mp4-0165_jpg.rf.a198223a1bb24b50cba70595d277f332_mask.png', '-02_mp4-0632_jpg.rf.459ac06caf8b98051663699f592bb608_mask.png', '-02_mp4-0186_jpg.rf.391779ffcfa06e8980647820ce496c66_mask.png', '-02_mp4-0110_jpg.rf.ca030b3bf460d9ce007a3fa506b62f69.jpg', '0723_mp4-0041_jpg.rf.8afd6dbfb16cf91cbba8449a5a6791ab.jpg', '-02_mp4-0180_jpg.rf.6af0688f17bb4c093c3be03f264a605c.jpg', '-02_mp4-0275_jpg.rf.ce26ffae684219e8144fd8ef936b13dc_mask.png', '-02_mp4-0427_jpg.rf.863e71706fb445ac4db06302c6ae94ef.jpg', '-02_mp4-0503_jpg.rf.3371795c1c511f0a11b57ea4e1401b85.jpg', '0723_mp4-0060_jpg.rf.c51add77c93e20e1c5f8cb474c18c951.jpg', '-02_mp4-0444_jpg.rf.6d56cdd87f14cac7cd8a28168ac94be0.jpg', '-02_mp4-0199_jpg.rf.20ef3fead497db4671e491247dec3c95_mask.png', '-02_mp4-0456_jpg.rf.006b45bf7db12fd7b404231343d25ce8.jpg', '-02_mp4-0778_jpg.rf.438cdc55d2c2cb760e2fade7e63eb9ce_mask.png', '-02_mp4-0207_jpg.rf.deb2f1f8df4d1e9f82cfa102856bed5f_mask.png', '-02_mp4-0017_jpg.rf.00bf43b11aa4be2749345f37fc35cff2_mask.png', '-02_mp4-0114_jpg.rf.863a5aecb0fb5d64d749d60e254357ad_mask.png', '-02_mp4-0642_jpg.rf.036ee445722d159683ee061db3bb69b7_mask.png', '-02_mp4-0600_jpg.rf.e7bb42f2fd784b2741eaf249dde010e0.jpg', '-02_mp4-0692_jpg.rf.3052269bcc2e90105eede655fabd4671.jpg', '0723_mp4-0049_jpg.rf.716bc16751a238a9e2832a9efe018beb_mask.png', '-02_mp4-0660_jpg.rf.1970170df914e4059cb645e7f1c88224_mask.png', '-02_mp4-0546_jpg.rf.6acc1b788073e70f6a34d2dec358603d.jpg', '-02_mp4-0182_jpg.rf.a8f7d64718b5f41181f8766399d38b30_mask.png', '-02_mp4-0266_jpg.rf.30e973670433425117b553b3a46a1dc8.jpg', '-02_mp4-0667_jpg.rf.76db39fdbfe6992b04715bbd6731130e.jpg', '-02_mp4-0470_jpg.rf.32af9a070644c49612cb754d7079e938_mask.png', '0723_mp4-0088_jpg.rf.57992a17970a72a0434a9bbeb4ab5a18.jpg', '-02_mp4-0181_jpg.rf.0730057e02f48e391d59525627ba74d5_mask.png', '-02_mp4-0730_jpg.rf.4191c3c540a71cae887ad466c9fa7034.jpg', '-02_mp4-0719_jpg.rf.4450672266cc537ea79dd54d3083d77d.jpg', '-02_mp4-0025_jpg.rf.d71e32d5b9e89fb7f54c3a639079af16_mask.png', '-02_mp4-0773_jpg.rf.cd5163113e1767cc4d09a481cb808c21.jpg', '-02_mp4-0383_jpg.rf.1cf1691112d1d9d5a3a60ad3f9078c24_mask.png', '0723_mp4-0029_jpg.rf.35518afdbdbadb3d5ef90932dd366aa5_mask.png', '-02_mp4-0529_jpg.rf.6f7fe5833ec0b0f65aec16d79dd23803.jpg', '-02_mp4-0773_jpg.rf.cd5163113e1767cc4d09a481cb808c21_mask.png', '-02_mp4-0446_jpg.rf.a6e7d33c9ebd286a432848c17695af53_mask.png', '-02_mp4-0195_jpg.rf.28b3eaab5050a7079a13465efbefd23d_mask.png', '0723_mp4-0096_jpg.rf.15674b12d24530220f95a76001817b52.jpg', '-02_mp4-0470_jpg.rf.32af9a070644c49612cb754d7079e938.jpg', '0723_mp4-0192_jpg.rf.35871317ae44f06606154d4f9ef2ffef_mask.png', '-02_mp4-0412_jpg.rf.24fbf996f55a73fe2b0b1afccb205056.jpg', '0723_mp4-0112_jpg.rf.a6e459114f0bfababcce594726994ce5.jpg', '-02_mp4-0340_jpg.rf.c18542335ecb428b45516f4daa1a7bcd.jpg', '-02_mp4-0315_jpg.rf.13b42be336bfb0d6467d265ecec4b668.jpg', '-02_mp4-0313_jpg.rf.e8cc7377973e3cbd291dd1ecafdda254_mask.png', '-02_mp4-0788_jpg.rf.81dd1332b7ce152693ff9b090786d95d_mask.png', '-02_mp4-0323_jpg.rf.77266bd2528d396a1a0b7dfafb1be5fb_mask.png', '-02_mp4-0767_jpg.rf.2d13e014b15ab6de1ef25a4c252fb3b9_mask.png', '-02_mp4-0574_jpg.rf.1b0dbe3a4aec66ad60200a751fcef650.jpg', '_classes.csv', '-02_mp4-0180_jpg.rf.6af0688f17bb4c093c3be03f264a605c_mask.png', '-02_mp4-0703_jpg.rf.974fa6f8b692ad66a38e4998876b757f.jpg', '-02_mp4-0042_jpg.rf.452f7dc845fd2f8b08d5dc40724aff87_mask.png', '-02_mp4-0076_jpg.rf.e7dca9c0ba4a9bd27598cccd02e65651_mask.png', '-02_mp4-0652_jpg.rf.609e92a68ad9b04098626237862866ef.jpg', '-02_mp4-0475_jpg.rf.8f7a3f82bbb0ab39a6c82541357c312c.jpg', '-02_mp4-0652_jpg.rf.609e92a68ad9b04098626237862866ef_mask.png', '-02_mp4-0035_jpg.rf.1d0c62696d772f20003e3d3476502c93_mask.png', '-02_mp4-0155_jpg.rf.3f07d818ba4652f2b88df2e1c397978c_mask.png', '-02_mp4-0245_jpg.rf.c6a08a4781c54596e2f9fefe6c11f848_mask.png', '-02_mp4-0472_jpg.rf.3602a14cf113efc4e8a43646eae35839.jpg', '-02_mp4-0749_jpg.rf.440c967f089075cb40915f6ba164f4e0.jpg', '0723_mp4-0021_jpg.rf.98824cd417dbb0b65b1c1a35b2777f5c_mask.png', '-02_mp4-0554_jpg.rf.9687accc88e7588687f5f3a88a73bcae_mask.png', '-02_mp4-0687_jpg.rf.97e6f11ae68ebb83f50895fed60b36de.jpg', '-02_mp4-0249_jpg.rf.81f18ddb64ab702fe3a05014816b272e_mask.png', '-02_mp4-0109_jpg.rf.9d95679903dcb2c8b03b1409fecb3f9f_mask.png', '-02_mp4-0359_jpg.rf.a6538a4434c3e3e1ef34a4b36052e0df_mask.png', '-02_mp4-0781_jpg.rf.881b4186e919dfd0da9dac345b98a97d_mask.png', '-02_mp4-0004_jpg.rf.063fc0e6a2ee7013cf96ca2a288962e1.jpg', '-02_mp4-0044_jpg.rf.fb610f33eea370972b21fdffc5b281f7.jpg', '-02_mp4-0094_jpg.rf.503b4150b6c7aef0a672d5c9649cc3b8.jpg', '0723_mp4-0173_jpg.rf.b85bbfe0899cf2c9840368136f188811_mask.png', '-02_mp4-0047_jpg.rf.0d3a4bc1c99c8f125193a9a40dc184cb_mask.png', '-02_mp4-0479_jpg.rf.83fdbec22586bb128dbc3392a1b648cf_mask.png', '-02_mp4-0770_jpg.rf.294597a6e2dbb55b759e792b1be06ffc.jpg', '-02_mp4-0269_jpg.rf.8e94b178d777ef314e2c01b5e677f512_mask.png', '-02_mp4-0158_jpg.rf.214e21cbc3a823d2527ef59c5f16c4a3_mask.png', '0723_mp4-0089_jpg.rf.b73a43cc538e6e042cbab487907cfa48_mask.png', '-02_mp4-0070_jpg.rf.865919f9bca3440a81d0e7a07fced456.jpg', '-02_mp4-0384_jpg.rf.a11e520953966e47686fd5f543f2a562.jpg', '-02_mp4-0182_jpg.rf.a8f7d64718b5f41181f8766399d38b30.jpg', '-02_mp4-0577_jpg.rf.ebc2970f4cb541564eea94d2de3d4bb8.jpg', '-02_mp4-0000_jpg.rf.70f2d47e633f811739883408a59fe0e6_mask.png', '-02_mp4-0783_jpg.rf.dac48a7b2ff76f185dcfd883f246f69e_mask.png', '-02_mp4-0408_jpg.rf.8a78d68d99d229813ae0c9e76f6c0580.jpg', '-02_mp4-0406_jpg.rf.d716c0edaf2fdd769be71f8848456b58.jpg', '-02_mp4-0732_jpg.rf.17267486cf0b40edc9e4717012012172.jpg', '-02_mp4-0329_jpg.rf.7f703b8835505a14bbee6a90bd9ec4f1.jpg', '-02_mp4-0658_jpg.rf.8222cf75022a14afcecddcbd81df3e3a_mask.png', '0723_mp4-0096_jpg.rf.15674b12d24530220f95a76001817b52_mask.png', '-02_mp4-0621_jpg.rf.73bf454c1788351e4d7666d5d2f6ffb9.jpg', '-02_mp4-0000_jpg.rf.70f2d47e633f811739883408a59fe0e6.jpg', '0723_mp4-0127_jpg.rf.e7ddf851ca6f8b4a5a7c29f1b4bdf7c8.jpg', '-02_mp4-0111_jpg.rf.534560fa6dacc8f28b4780772860c025.jpg', '-02_mp4-0694_jpg.rf.178fd4322e2c12e39db58906dfd260ce_mask.png', '-02_mp4-0623_jpg.rf.9cbe157f5902e7b428c08dbfd0daf45e_mask.png', '-02_mp4-0229_jpg.rf.4a61505e5623bceac615d5ba86f2b87a_mask.png', '-02_mp4-0268_jpg.rf.36680235e14b5281bfb8b9820d5e9ac7.jpg', '-02_mp4-0465_jpg.rf.820c0aee5b4a73e8f1667d634f3f9b19_mask.png', '-02_mp4-0418_jpg.rf.e0a9f27d14fa66aec823c8d3dd32c59a_mask.png', '0723_mp4-0185_jpg.rf.27167b3bc905a5606bc8210f5ae741a8_mask.png', '-02_mp4-0769_jpg.rf.3a6a2cf4bbc342ca30beef806fb754dc.jpg', '-02_mp4-0050_jpg.rf.aa4a8a74034b2b8ff0e7ad89fa356b8b_mask.png', '-02_mp4-0136_jpg.rf.eca4f3546ba2c19ff5c105877bad327c.jpg', '-02_mp4-0669_jpg.rf.ca99ec11bc2a1501f330f2802a89a1ec_mask.png', '0723_mp4-0181_jpg.rf.eb54754559594caed4d34534701e2897_mask.png', '-02_mp4-0046_jpg.rf.941ac6475286c4220e082b829c83d47d_mask.png', '0723_mp4-0160_jpg.rf.c29d1a6e59491f88bd76f7a837333c0a.jpg', '-02_mp4-0719_jpg.rf.4450672266cc537ea79dd54d3083d77d_mask.png', '0723_mp4-0151_jpg.rf.d6f04e1bf312b5d4b23ba3ad9af8d7f3_mask.png', '-02_mp4-0292_jpg.rf.1997b5f1ea282613aed9357eba873149_mask.png', '0723_mp4-0036_jpg.rf.5064ffa3cc50951fb511c6b76ef386e2_mask.png', '-02_mp4-0265_jpg.rf.93396116cbf845755c56f76bfd48d6fa.jpg', '-02_mp4-0153_jpg.rf.19b73ab6b77e68b181d398e4b16d7b53.jpg', '0723_mp4-0130_jpg.rf.e9512caa02c162ab2e6aabb923af5010.jpg', '-02_mp4-0544_jpg.rf.6fe03257832d55e0ac226b22af322af6_mask.png', '-02_mp4-0738_jpg.rf.ef920431ba2597b05f7a88703a57f585.jpg', '-02_mp4-0459_jpg.rf.d82277b248dd45051f2bbad51b51c78a.jpg', '-02_mp4-0639_jpg.rf.a9001166a38aa97ddd5d499ccaec22bf_mask.png', '-02_mp4-0083_jpg.rf.8401e505f87b7900fa83dbad719d8945.jpg', '-02_mp4-0778_jpg.rf.438cdc55d2c2cb760e2fade7e63eb9ce.jpg', '0723_mp4-0114_jpg.rf.718c3e5665b1386af2122f60c6ef1235_mask.png', '-02_mp4-0464_jpg.rf.3907c9edfb6275118b54e53e0a886d97.jpg', '-02_mp4-0658_jpg.rf.8222cf75022a14afcecddcbd81df3e3a.jpg', '-02_mp4-0120_jpg.rf.b0f7858b8ec41a2d8f74622d5d7309a7_mask.png', '-02_mp4-0518_jpg.rf.02a2fa57a7ee446d4e924f70640c5289.jpg', '-02_mp4-0341_jpg.rf.634c1aabe135ccc22e39df1c508aa872.jpg', '-02_mp4-0753_jpg.rf.0669b1ed8b60e262df950466fba6b1cd.jpg', '-02_mp4-0580_jpg.rf.f541101f5bc6c505a855fa053a1ddd2b.jpg', '-02_mp4-0179_jpg.rf.26ad83744ac34b33adba1adae26d3d9e.jpg', '-02_mp4-0105_jpg.rf.343ed3f2ed395af58dd4702302e2b645_mask.png', '-02_mp4-0075_jpg.rf.6ea529bf43453cf4da4f4d86ca3094f4.jpg', '-02_mp4-0318_jpg.rf.fc353fac7dbb92747eff48502213f6d0_mask.png', '-02_mp4-0667_jpg.rf.76db39fdbfe6992b04715bbd6731130e_mask.png', '-02_mp4-0530_jpg.rf.04aff3ef79058b1d62b5f003348fa001_mask.png', '-02_mp4-0332_jpg.rf.ec2ac5df351c226e7820e202857a6359.jpg', '-02_mp4-0264_jpg.rf.0fdd843c32c74f5c39dddeda0a707124.jpg', '-02_mp4-0007_jpg.rf.c6c8a283f1e80d764a121ef79de192a7_mask.png', '-02_mp4-0779_jpg.rf.d212728060c71860b9f74d64f1b5d646_mask.png', '-02_mp4-0325_jpg.rf.ca3708ab122cd5660a3ba2bc51a84468.jpg', '-02_mp4-0032_jpg.rf.b5d9cbd4a7cd56ab7893766df0e17db5.jpg', '-02_mp4-0792_jpg.rf.c7170819ebe246597768e8b3227cc27e.jpg', '-02_mp4-0169_jpg.rf.36139ea5385f4de762e51665df0f66fd_mask.png', '-02_mp4-0076_jpg.rf.e7dca9c0ba4a9bd27598cccd02e65651.jpg', '-02_mp4-0467_jpg.rf.cb4bd4b7c0f7d377881191b11c5575c6.jpg', '-02_mp4-0690_jpg.rf.3cdaf5ad7e132a3b4ddbf20c1540f638_mask.png', '0723_mp4-0029_jpg.rf.35518afdbdbadb3d5ef90932dd366aa5.jpg', '-02_mp4-0602_jpg.rf.437cd0f4a4bc7f2b2fdf79e851b30446_mask.png', '-02_mp4-0061_jpg.rf.54bdf2f44e9042c694e44735d01478a0_mask.png', '-02_mp4-0640_jpg.rf.24beaa5254fa9eecebfa74c9defdb0ea.jpg', '-02_mp4-0699_jpg.rf.18e35cc3bee1dc11aacee1714b30af11.jpg', '-02_mp4-0548_jpg.rf.40d6d268e5f94b5b982be04cd69ecd0b.jpg', '-02_mp4-0113_jpg.rf.913f0484c674b22911aa6b555b73c69b_mask.png', '-02_mp4-0232_jpg.rf.6b4c74b80da89980dde29ed891e1cdf0.jpg', '-02_mp4-0350_jpg.rf.5fa7f5a040d65cbe1dd9aa6ce63901f1.jpg', '-02_mp4-0107_jpg.rf.cae1397f2eff641d09d91ae9386446f1.jpg', '-02_mp4-0100_jpg.rf.fe3ff5de4236dd966fa1c727f519a1a9.jpg', '-02_mp4-0130_jpg.rf.f3f7c82b662fe2c6dac0aa0e094be3f1_mask.png', '0723_mp4-0193_jpg.rf.154d33d1b5ea057c7b8948a53dd9515b_mask.png', '-02_mp4-0060_jpg.rf.8cbb86b5fcdc2121f087107979714fdf.jpg', '-02_mp4-0240_jpg.rf.6be670e1f89bb9a480a1c8b11f0aa235.jpg', '-02_mp4-0584_jpg.rf.17318682f5dd0e6fe2d87dd010055c52_mask.png', '0723_mp4-0105_jpg.rf.7cb505b1ed378dc431f4ecd685924cf6_mask.png', '-02_mp4-0732_jpg.rf.17267486cf0b40edc9e4717012012172_mask.png', '-02_mp4-0743_jpg.rf.932c463c03efbdf24cd72edf1827653d.jpg', '-02_mp4-0078_jpg.rf.2ed4f6861a355d13ee02540a14be0950_mask.png', '-02_mp4-0680_jpg.rf.b037eb889b4259f1bd6b3215aeeac297.jpg', '-02_mp4-0042_jpg.rf.452f7dc845fd2f8b08d5dc40724aff87.jpg', '0723_mp4-0131_jpg.rf.a370ebfc0fef54e846888e13e986b7d4.jpg', '-02_mp4-0043_jpg.rf.2dc635220ca3a1cf637383541baeb1b1.jpg', '-02_mp4-0350_jpg.rf.5fa7f5a040d65cbe1dd9aa6ce63901f1_mask.png', '-02_mp4-0496_jpg.rf.faec95346298fdaeaaa211f0e7b2bdc7.jpg', '-02_mp4-0420_jpg.rf.b10d11ffeec75f3bafe5f9393e8a66d7_mask.png', '-02_mp4-0582_jpg.rf.4bc920032ea0a94366b557933e6b4ab4_mask.png', '-02_mp4-0349_jpg.rf.e401df108547c59938bfb5c1cb706742_mask.png', '-02_mp4-0668_jpg.rf.753102e7ab4d2ca80be5f9c5958e45dc.jpg', '0723_mp4-0092_jpg.rf.911a5a2a51f5a5f330c026dcbd98b8b4.jpg', '0723_mp4-0151_jpg.rf.d6f04e1bf312b5d4b23ba3ad9af8d7f3.jpg', '-02_mp4-0038_jpg.rf.095252395cbe8c355f7ca4f6407eff03.jpg', '-02_mp4-0301_jpg.rf.3235b3cb71720eaf9d166cb43a83a265_mask.png', '-02_mp4-0329_jpg.rf.7f703b8835505a14bbee6a90bd9ec4f1_mask.png', '-02_mp4-0187_jpg.rf.6957f30035b9e2aeb5f037080f03c48b_mask.png', '-02_mp4-0031_jpg.rf.b493f08ee25eac38ccad6a93de88a695_mask.png', '-02_mp4-0697_jpg.rf.6c258e49a49ba7ad0383993f8533d516_mask.png', '-02_mp4-0379_jpg.rf.f665b6385113326bb892de14ae30035c_mask.png', '0723_mp4-0102_jpg.rf.5cb900ce08cb269458deed9dd18de565_mask.png', '-02_mp4-0613_jpg.rf.a6f3fa0cb3f3ae246a482d14fd05b941_mask.png', '-02_mp4-0528_jpg.rf.c06882843b581b883fd3336dfd5af278.jpg', '-02_mp4-0301_jpg.rf.3235b3cb71720eaf9d166cb43a83a265.jpg', '-02_mp4-0269_jpg.rf.8e94b178d777ef314e2c01b5e677f512.jpg', '-02_mp4-0398_jpg.rf.38d80a43e4d5208ad9e4a53bedd65b51_mask.png', '0723_mp4-0153_jpg.rf.9283bfdd45e282657f93570999d18989_mask.png', '-02_mp4-0408_jpg.rf.8a78d68d99d229813ae0c9e76f6c0580_mask.png', '-02_mp4-0573_jpg.rf.8283c89445ce91b049d5f14bfe5929c0_mask.png', '0723_mp4-0056_jpg.rf.111da74b84afad7c90d267c8c695beef_mask.png', '-02_mp4-0437_jpg.rf.e8dfe74d18b912435215de49ac292caa.jpg', '0723_mp4-0186_jpg.rf.5547648a39de2ba3d58fc837d5d983de.jpg', '-02_mp4-0631_jpg.rf.58e98ede748083b1d6e61694d2732806.jpg', '-02_mp4-0671_jpg.rf.256ef8476aea6afaef821588f6ea1502_mask.png', '-02_mp4-0388_jpg.rf.13f7c2e2f769a6d94ad354b294cedb9f.jpg', '-02_mp4-0058_jpg.rf.ea26504dbcbb4bad030d9640c2b3d4d0.jpg', '-02_mp4-0615_jpg.rf.ab3bf138e2dd1977dfd0656857b443aa_mask.png', '-02_mp4-0776_jpg.rf.41f27b621f145f85ecbfd77a749458bd_mask.png', '-02_mp4-0674_jpg.rf.a53be823006c18b801cfe6591ce0f1af_mask.png', '-02_mp4-0688_jpg.rf.44e9831444d6fb1c9ec0ff5ea7cad47c_mask.png', '-02_mp4-0348_jpg.rf.414271271e416e80b0ab1bf3b4cf5864.jpg', '-02_mp4-0466_jpg.rf.999a859bbc2889b901d10062709af685_mask.png', '-02_mp4-0222_jpg.rf.96409bac776a373f70fc11feb1fe9020.jpg', '-02_mp4-0712_jpg.rf.350a4433f168b57037b61d0ee550900c_mask.png', '-02_mp4-0792_jpg.rf.c7170819ebe246597768e8b3227cc27e_mask.png', '-02_mp4-0494_jpg.rf.e5eb11f7fe3913504a5a07d72a07483a_mask.png', '-02_mp4-0141_jpg.rf.e3a1ef683aa46bb8361d732f8e92ee52.jpg', '-02_mp4-0021_jpg.rf.3f8997ec81ff04252a40c995cc681ce6.jpg', '-02_mp4-0576_jpg.rf.454050e791322617ef70fcdca5ad2cca_mask.png', '-02_mp4-0309_jpg.rf.2f9c2aa35ab8a195d222708f9d052475.jpg', '-02_mp4-0707_jpg.rf.81f25971df54060c661481098cc6e244.jpg', '-02_mp4-0713_jpg.rf.24a9cb4aae79ea30553580e0d2689228_mask.png', '-02_mp4-0248_jpg.rf.35f9a27c9500ef7a1e8c808266099803.jpg', '-02_mp4-0108_jpg.rf.dfca968e02387beef678b8f0dcae5f9a_mask.png', '-02_mp4-0241_jpg.rf.90639a1f997a6b96ba2c5d4bb7b44bb6.jpg', '-02_mp4-0554_jpg.rf.9687accc88e7588687f5f3a88a73bcae.jpg', '-02_mp4-0247_jpg.rf.4602505bf450e550db9dfabaaf93fd9d_mask.png', '-02_mp4-0236_jpg.rf.cdc10864211eb187ad5ae5e1b3cc67e5_mask.png', '-02_mp4-0259_jpg.rf.289f17c2d6f776bc30be8cc128b8486e_mask.png', '-02_mp4-0091_jpg.rf.b7661ea3b1d77fa682cc72508b300a19.jpg', '-02_mp4-0150_jpg.rf.1167640da62b439533909e785f897e2f_mask.png', '0723_mp4-0069_jpg.rf.47fb8958439519a60a49e74fe422188d.jpg', '-02_mp4-0067_jpg.rf.aa08c17853f38e6604fe624201e26c5c.jpg', '-02_mp4-0173_jpg.rf.e80b0f16eda8737eeefa0ecd78e531d9_mask.png', '-02_mp4-0772_jpg.rf.58f815e4fa5ac638041355be261bfcda_mask.png', '-02_mp4-0704_jpg.rf.f62d0db551b9d3b479721c984de15673_mask.png', '-02_mp4-0011_jpg.rf.13d1b40cef65a0237a74ec3b9e4b6c50.jpg', '-02_mp4-0027_jpg.rf.e9c088d9175ee9729876b154cdf3a18d.jpg', '-02_mp4-0405_jpg.rf.2dcffc37c46b53e4bed2800060cfa8e7_mask.png', '-02_mp4-0571_jpg.rf.3606d91566830eb8c7a6b36d39f125ee_mask.png', '-02_mp4-0488_jpg.rf.2082ac1ab0b3dd56b3e8cfe76bebe605_mask.png', '-02_mp4-0351_jpg.rf.6d399a5a6204ce2dce2fedc12ad3d391.jpg', '-02_mp4-0071_jpg.rf.9c25f85a5216378c3b05236138ce167b_mask.png', '-02_mp4-0289_jpg.rf.fc9f94cc1922ba3de5513171431ae5d2.jpg', '-02_mp4-0571_jpg.rf.3606d91566830eb8c7a6b36d39f125ee.jpg', '-02_mp4-0201_jpg.rf.5894636b3e9d6345e1d1af1b627db16f_mask.png', '-02_mp4-0469_jpg.rf.8a695bd35ba510199f8a7054ca1f10e5.jpg', '-02_mp4-0758_jpg.rf.961800726424425ff6dd705237a91cfa_mask.png', '-02_mp4-0102_jpg.rf.15c9d7b0375eba6b1396f95657d2a832_mask.png', '-02_mp4-0267_jpg.rf.97514932c079d9d83a96534561e85bbf.jpg', '-02_mp4-0069_jpg.rf.18221c5c501b336160f6d51f54b2658b.jpg', '-02_mp4-0394_jpg.rf.43520316e554d723cfd1f52052723b39.jpg', '-02_mp4-0613_jpg.rf.a6f3fa0cb3f3ae246a482d14fd05b941.jpg', '-02_mp4-0724_jpg.rf.b04f961793c481e0bff507f00b9d16bd_mask.png', '0723_mp4-0074_jpg.rf.763431b29012197c0e7a667069e91086_mask.png', '-02_mp4-0059_jpg.rf.8a8f369d8dbc08b4538892e655507858_mask.png', '-02_mp4-0449_jpg.rf.4d0cbcdb9c62910bf63c9646f5229e5e.jpg', '-02_mp4-0782_jpg.rf.257ec4684d3aaaa7f280e82e417145a7_mask.png', '-02_mp4-0743_jpg.rf.932c463c03efbdf24cd72edf1827653d_mask.png', '-02_mp4-0637_jpg.rf.e2fecc088d231a46d38deb4911f2deaf_mask.png', '0723_mp4-0072_jpg.rf.c84d0f984d04ec262ddcc752a682faac.jpg', '-02_mp4-0741_jpg.rf.d354c7b403d9c4561710da3dab1cfd36_mask.png', '-02_mp4-0143_jpg.rf.0d1eae0ad392c155656b1d18d1bd1d84_mask.png', '0723_mp4-0000_jpg.rf.372ebdb755327b81edbe5c200a67234a_mask.png', '-02_mp4-0479_jpg.rf.83fdbec22586bb128dbc3392a1b648cf.jpg', '-02_mp4-0193_jpg.rf.2dd985d75ccff94614ea2854f72cc51e_mask.png', '-02_mp4-0313_jpg.rf.e8cc7377973e3cbd291dd1ecafdda254.jpg', '-02_mp4-0264_jpg.rf.0fdd843c32c74f5c39dddeda0a707124_mask.png', '0723_mp4-0041_jpg.rf.8afd6dbfb16cf91cbba8449a5a6791ab_mask.png', '-02_mp4-0149_jpg.rf.7cd14a52a050ddddf0f5ed28ed9dd738.jpg', '-02_mp4-0517_jpg.rf.9f20a68a46eabc068c9d7baefe53f2e5_mask.png', '-02_mp4-0396_jpg.rf.54ddf41eb934a0bf9c3321ced6096dad_mask.png', '-02_mp4-0241_jpg.rf.90639a1f997a6b96ba2c5d4bb7b44bb6_mask.png', '-02_mp4-0744_jpg.rf.8399cffca1ac31474fdf723c9c16e40d.jpg', '-02_mp4-0564_jpg.rf.f9e9561b7ee50d50f36ae41bfd86444d.jpg', '-02_mp4-0521_jpg.rf.ec6e3295504bbcfdceb4c47fa8319327.jpg', '-02_mp4-0337_jpg.rf.a42b6742e8bc7fd774dd0e1036857939_mask.png', '-02_mp4-0271_jpg.rf.c304ac0e5d22246789dba0e442236aac_mask.png', '-02_mp4-0265_jpg.rf.93396116cbf845755c56f76bfd48d6fa_mask.png', '-02_mp4-0438_jpg.rf.89de80b593b35dfca4811ac231635e34_mask.png', '-02_mp4-0097_jpg.rf.2424b408ac76ba1f0e5fa50b4cf3c71e_mask.png', '-02_mp4-0366_jpg.rf.7038690b406d2aaba43fc1dc68da62f2_mask.png', '-02_mp4-0034_jpg.rf.d0562fad0883742fbc71a21fa1220a17_mask.png', '-02_mp4-0443_jpg.rf.38eecad2a5d363cd92f70d147f848622_mask.png', '-02_mp4-0489_jpg.rf.e0195e65ffef226acb0e3d6d2968e7db.jpg', '-02_mp4-0681_jpg.rf.fe796256f63c06742a18ef6e4b2deb1e.jpg', '-02_mp4-0573_jpg.rf.8283c89445ce91b049d5f14bfe5929c0.jpg', '-02_mp4-0198_jpg.rf.d9150e7e29dccf76f3982a9797157c6c_mask.png', '-02_mp4-0068_jpg.rf.5a10671c08e0b2ebba4d57268d3733b0_mask.png', '-02_mp4-0701_jpg.rf.209277132ae71c0b53b91180746c2225_mask.png', '-02_mp4-0053_jpg.rf.a18bdb68c2c0848bb62061b395cdbf4f.jpg', '-02_mp4-0476_jpg.rf.c8c4865456df00e9490345e2a6cd5ad5.jpg', '-02_mp4-0010_jpg.rf.c79ad8b2a45fe6900e00e4d2280a3bb6.jpg', '-02_mp4-0132_jpg.rf.c16e1008ff5c8c9518c97677a20db351_mask.png', '0723_mp4-0022_jpg.rf.87a3f8af97c00af8be4a36b320bf50d1.jpg', '0723_mp4-0172_jpg.rf.2b9b6b67993794a123ccaedad6f5fcaf_mask.png', '-02_mp4-0123_jpg.rf.3d0ebadfd743e101be4e96fff3a1d87e.jpg', '-02_mp4-0319_jpg.rf.07acff335a8c18df2f1695a191e4c097.jpg', '-02_mp4-0346_jpg.rf.8898f3ee5c40839c9fe0e2a0ffcab63c.jpg', '-02_mp4-0418_jpg.rf.e0a9f27d14fa66aec823c8d3dd32c59a.jpg', '-02_mp4-0278_jpg.rf.26a7e4d711e459de6ba3a330ef6c5f5c.jpg', '-02_mp4-0435_jpg.rf.5629145c7d1ef0c777df593986f5e4ed_mask.png', '-02_mp4-0276_jpg.rf.e25d1737f6d473062a9ec4b632ff1a5b_mask.png', '-02_mp4-0071_jpg.rf.9c25f85a5216378c3b05236138ce167b.jpg', '-02_mp4-0450_jpg.rf.0ee8be636883c88fc31fe288b47789d2.jpg', '-02_mp4-0447_jpg.rf.14a7417e81d6ffc66898af39916d95d5.jpg', '0723_mp4-0141_jpg.rf.35cad6fa6f3e7efe5457274e8b8ee305_mask.png', '0723_mp4-0100_jpg.rf.5c1a6e3c89eeec5a6e89955e5cba5b51_mask.png', '-02_mp4-0644_jpg.rf.54b7e7eb5544103fa956097a5ef5db98_mask.png', '-02_mp4-0530_jpg.rf.04aff3ef79058b1d62b5f003348fa001.jpg', '-02_mp4-0221_jpg.rf.33a2aecae66516f7ec2bddd9f8692cb1_mask.png', '-02_mp4-0417_jpg.rf.4c9f765e7cdc3c3b33d3d7004832c83d.jpg', '-02_mp4-0277_jpg.rf.7e943991650b215e70f64fb5908a57b0_mask.png', '-02_mp4-0157_jpg.rf.042731bdca30c85d622de1aa548ddcc9_mask.png', '-02_mp4-0738_jpg.rf.ef920431ba2597b05f7a88703a57f585_mask.png', '-02_mp4-0073_jpg.rf.5638c80ffefface1d26667a975f46c66_mask.png', '-02_mp4-0320_jpg.rf.8a9a35b736d1b4d2e8420104cd3f85af.jpg', '-02_mp4-0710_jpg.rf.d4dfa1c1d6ed029bac08a27544e27591.jpg', '0723_mp4-0065_jpg.rf.c1f93ca5ddc190dd327a5a983034921c_mask.png', '0723_mp4-0166_jpg.rf.2d67e37f374367ab1080efaf30756222_mask.png', '-02_mp4-0696_jpg.rf.e15f01d3f6f4040e3e48ee72a421e5a0_mask.png', '-02_mp4-0245_jpg.rf.c6a08a4781c54596e2f9fefe6c11f848.jpg', '0723_mp4-0023_jpg.rf.f04efeb17f009c66321a74a4082a9365_mask.png', '-02_mp4-0403_jpg.rf.d3f9c6f1c3274526284a858e70a53370.jpg', '-02_mp4-0158_jpg.rf.214e21cbc3a823d2527ef59c5f16c4a3.jpg', '-02_mp4-0373_jpg.rf.2d35f13c160f236667ef0a95cbf0f33c.jpg', '-02_mp4-0317_jpg.rf.a6b101e07495b95cef4597d57b4895a3_mask.png', '-02_mp4-0003_jpg.rf.ceeac60e491a15f1dfef9a73ff26ae69_mask.png', '0723_mp4-0077_jpg.rf.b862f6e2734f24b5f558ad8de361e749.jpg', '-02_mp4-0444_jpg.rf.6d56cdd87f14cac7cd8a28168ac94be0_mask.png', '-02_mp4-0393_jpg.rf.4e716f5f839ba08d0f39a7b43cdf49f4.jpg', '-02_mp4-0640_jpg.rf.24beaa5254fa9eecebfa74c9defdb0ea_mask.png', '-02_mp4-0441_jpg.rf.a067c68040229bbcea73028b44a99dba.jpg', '-02_mp4-0157_jpg.rf.042731bdca30c85d622de1aa548ddcc9.jpg', '-02_mp4-0639_jpg.rf.a9001166a38aa97ddd5d499ccaec22bf.jpg', '-02_mp4-0745_jpg.rf.b40123a8dcb34c4f527ad30514ade14a_mask.png', '-02_mp4-0084_jpg.rf.e35ddefc4e02051e7f95f37377087629.jpg', '0723_mp4-0090_jpg.rf.d1f746d0c590f9848c0a5ad4f841323a.jpg', '-02_mp4-0529_jpg.rf.6f7fe5833ec0b0f65aec16d79dd23803_mask.png', '-02_mp4-0712_jpg.rf.350a4433f168b57037b61d0ee550900c.jpg', '-02_mp4-0695_jpg.rf.ce93e5c518ea448ed0ad2089f8cfd85d_mask.png', '-02_mp4-0019_jpg.rf.3d4e4f5965e3d3576cd7cbdba856199a_mask.png', '-02_mp4-0453_jpg.rf.aec95e59d41ba9eaeb4d4d96754f2221.jpg', '0723_mp4-0091_jpg.rf.b3a603ef4f710b828be843c99a6487ed.jpg', '-02_mp4-0500_jpg.rf.cb5d6b66cbe9eddae0876962f32b826b.jpg', '-02_mp4-0260_jpg.rf.d9cb4c4e22f9a0aedc673ec1f3d8964f_mask.png', '-02_mp4-0600_jpg.rf.e7bb42f2fd784b2741eaf249dde010e0_mask.png', '0723_mp4-0062_jpg.rf.37c39ff26ba2942d3ffda776a325cc8a_mask.png', '-02_mp4-0645_jpg.rf.ef1383abdd00a2335b60b34d0ae87538.jpg', '-02_mp4-0224_jpg.rf.bcfc52592d43170462110def9bb3eeae_mask.png', '0723_mp4-0153_jpg.rf.9283bfdd45e282657f93570999d18989.jpg', '-02_mp4-0270_jpg.rf.9c038a1f82db129ace8e0142bf244884_mask.png', '0723_mp4-0130_jpg.rf.e9512caa02c162ab2e6aabb923af5010_mask.png', '-02_mp4-0597_jpg.rf.b6f4b2096bc689147594a960d233cf23.jpg', '-02_mp4-0253_jpg.rf.1e9e7e07a842f143de7f7bbbe4f58927_mask.png', '-02_mp4-0620_jpg.rf.1eb5fcf8e2659b017bef4d2edc645c0c.jpg', '-02_mp4-0361_jpg.rf.d2725be09fbd87733d6ef16c9b777157_mask.png', '-02_mp4-0027_jpg.rf.e9c088d9175ee9729876b154cdf3a18d_mask.png', '-02_mp4-0126_jpg.rf.7765465b6e7085a8d7540896b28c31be.jpg', '-02_mp4-0006_jpg.rf.275f0c0ce6614c1433ea0c4a82c2f551_mask.png', '-02_mp4-0445_jpg.rf.ad882fdc9c28f22c30f40cd138cdfe63.jpg', '-02_mp4-0324_jpg.rf.2f5624d02923826214a826c36206986e.jpg', '-02_mp4-0402_jpg.rf.b89d94b090d9a6b4f075fadca4b3cac9_mask.png', '-02_mp4-0407_jpg.rf.bea8fa41143ae10669517a65b0d6e43f.jpg', '-02_mp4-0391_jpg.rf.74e7ef79c259b4b9179f459a8ad6f736.jpg', '-02_mp4-0548_jpg.rf.40d6d268e5f94b5b982be04cd69ecd0b_mask.png', '-02_mp4-0159_jpg.rf.3df642274b25eeb76a41550882db8dc3.jpg', '-02_mp4-0208_jpg.rf.36f21a57a7284dedc1cadb7e128fbd97.jpg', '-02_mp4-0437_jpg.rf.e8dfe74d18b912435215de49ac292caa_mask.png', '-02_mp4-0611_jpg.rf.d0f92dfda3701d9bc17a3e5c25ee8db0.jpg', '-02_mp4-0216_jpg.rf.7874779750efda671318f92884ce8b4c.jpg', '-02_mp4-0436_jpg.rf.bfa0e25ba2d8d368204be6baee6de001.jpg', '-02_mp4-0733_jpg.rf.5e76a228e76dc7fc6fc4de469ce69b22_mask.png', '-02_mp4-0066_jpg.rf.a6cbe3f06e4d1239c720b31801291899.jpg', '0723_mp4-0092_jpg.rf.911a5a2a51f5a5f330c026dcbd98b8b4_mask.png', '-02_mp4-0461_jpg.rf.0755c599944068afd0aa66f6126ac480.jpg', '-02_mp4-0434_jpg.rf.7e3327f26d5ccbaaf4ef82deddf3848d.jpg', '-02_mp4-0580_jpg.rf.f541101f5bc6c505a855fa053a1ddd2b_mask.png', '-02_mp4-0179_jpg.rf.26ad83744ac34b33adba1adae26d3d9e_mask.png', '-02_mp4-0223_jpg.rf.41c147b5307959c0777f380688755c46.jpg', '-02_mp4-0215_jpg.rf.f8d8ba6eed4dd13a4c13f45b1357449c_mask.png', '-02_mp4-0049_jpg.rf.d1da64e96d1dc9ceb39132c7747b7121.jpg', '0723_mp4-0046_jpg.rf.504f519927a7efca888de6d4f789822a.jpg', '-02_mp4-0074_jpg.rf.4973ebc9d3bc9137c56d6e89e51246ad_mask.png', '-02_mp4-0426_jpg.rf.0ef9df003623f6084d82d859b7683019_mask.png', '-02_mp4-0709_jpg.rf.c3209090aea67115cdef640b58c40eb5.jpg', '-02_mp4-0736_jpg.rf.b0eef05d6abc5d9172665144c9159129_mask.png', '0723_mp4-0036_jpg.rf.5064ffa3cc50951fb511c6b76ef386e2.jpg', '-02_mp4-0461_jpg.rf.0755c599944068afd0aa66f6126ac480_mask.png', '-02_mp4-0008_jpg.rf.9f2b212f8e1d09ae02989db6d968f303_mask.png', '-02_mp4-0285_jpg.rf.ea0b67c32335a3ad911c9f49979e7917.jpg', '-02_mp4-0432_jpg.rf.0fa269003bd9ec5e6de277533581c674_mask.png', '-02_mp4-0650_jpg.rf.9429c56d8df2e059f381271085b9e524.jpg', '-02_mp4-0607_jpg.rf.75a4b74212d6ccbea8f24f288e218a53_mask.png', '0723_mp4-0039_jpg.rf.17e61cea4ba69baf50cd5fb693cf6025.jpg', '-02_mp4-0198_jpg.rf.d9150e7e29dccf76f3982a9797157c6c.jpg', '-02_mp4-0003_jpg.rf.ceeac60e491a15f1dfef9a73ff26ae69.jpg', '-02_mp4-0581_jpg.rf.11427dcd450e43edb4a4c66dd2a662db.jpg', '-02_mp4-0178_jpg.rf.1b5f77b619900e80907c6096884a70c4.jpg', '-02_mp4-0706_jpg.rf.39ed2395aac04ada2df92ad8597c4270_mask.png', '0723_mp4-0162_jpg.rf.061a4e8f4bd0b7e6bb759595a05cf515_mask.png', '-02_mp4-0051_jpg.rf.b03a0a15161d38318c766c610cde7b93.jpg', '-02_mp4-0026_jpg.rf.86e1ce7dfb724356ba17c1d2a179db57_mask.png', '-02_mp4-0578_jpg.rf.a4777253d4b322b7bc1edc2e3df4bddf_mask.png', '-02_mp4-0469_jpg.rf.8a695bd35ba510199f8a7054ca1f10e5_mask.png', '-02_mp4-0107_jpg.rf.cae1397f2eff641d09d91ae9386446f1_mask.png', '-02_mp4-0081_jpg.rf.0b22e7e62134850b92dbfea17efe84f6.jpg', '-02_mp4-0688_jpg.rf.44e9831444d6fb1c9ec0ff5ea7cad47c.jpg', '-02_mp4-0581_jpg.rf.11427dcd450e43edb4a4c66dd2a662db_mask.png', '0723_mp4-0067_jpg.rf.312008899af358b9d928edbc1730f179_mask.png', '0723_mp4-0148_jpg.rf.0a5380f356407100439bf1c7e02ecf64.jpg', '-02_mp4-0443_jpg.rf.38eecad2a5d363cd92f70d147f848622.jpg', '-02_mp4-0630_jpg.rf.e1893ffa1deba4235a04e32f6127ae74_mask.png', '0723_mp4-0052_jpg.rf.4b16bf9fa61ad2d5887cb3a214340998.jpg', '-02_mp4-0253_jpg.rf.1e9e7e07a842f143de7f7bbbe4f58927.jpg', '-02_mp4-0673_jpg.rf.2403936872ef31f70a6d5415273ce166.jpg', '-02_mp4-0024_jpg.rf.d68496f1b2350d7a6dbd542e6b117401.jpg', '-02_mp4-0064_jpg.rf.70de56867ac87ac63b4952e61c07cc26_mask.png', '-02_mp4-0267_jpg.rf.97514932c079d9d83a96534561e85bbf_mask.png', '-02_mp4-0121_jpg.rf.a8d949d4307bd4663ba13d3e012551b1_mask.png', '-02_mp4-0750_jpg.rf.f83b6a41fa27c223723aacf0c294ef96_mask.png', '0723_mp4-0097_jpg.rf.3a4695bdeb20971fefe054cbb5164cf6_mask.png', '-02_mp4-0216_jpg.rf.7874779750efda671318f92884ce8b4c_mask.png', '-02_mp4-0467_jpg.rf.cb4bd4b7c0f7d377881191b11c5575c6_mask.png', '0723_mp4-0065_jpg.rf.c1f93ca5ddc190dd327a5a983034921c.jpg', '-02_mp4-0543_jpg.rf.98b119229db3e21b90ce23b0d1557728_mask.png', '-02_mp4-0399_jpg.rf.a48ff67f6b1088441ad7730d73187afe.jpg', '-02_mp4-0598_jpg.rf.e8738853b755eb9a520862693072eed7.jpg', '-02_mp4-0657_jpg.rf.d125f1de83f3d89c335073717afd24bd.jpg', '-02_mp4-0258_jpg.rf.08a98009f805910a4d1114f3d7598bf1.jpg', '-02_mp4-0680_jpg.rf.b037eb889b4259f1bd6b3215aeeac297_mask.png', '-02_mp4-0320_jpg.rf.8a9a35b736d1b4d2e8420104cd3f85af_mask.png', '0723_mp4-0047_jpg.rf.ebffe9053fb91700936f96c5a0479fc2.jpg', '-02_mp4-0634_jpg.rf.82e9a9bbd73f2ce3aba8e4d18eb289bc_mask.png', '-02_mp4-0566_jpg.rf.ba9784b19c0a2cb9f2ad023d3fe63c88.jpg', '-02_mp4-0369_jpg.rf.e7cbf34df2c548ed3d90b80e982aceac.jpg', '-02_mp4-0133_jpg.rf.33e81e57e4033aae8374dff17471fa6f_mask.png', '0723_mp4-0090_jpg.rf.d1f746d0c590f9848c0a5ad4f841323a_mask.png', '-02_mp4-0171_jpg.rf.15bea315785b84172bdeb985879f28f0_mask.png', '-02_mp4-0599_jpg.rf.ed8c3834863c34f8d3e79cb048752a34_mask.png', '-02_mp4-0082_jpg.rf.55208b9b65c6c497bae239235a96d965_mask.png', '-02_mp4-0273_jpg.rf.338805c7df06f1492eb4702cf37a3a95.jpg', '0723_mp4-0023_jpg.rf.f04efeb17f009c66321a74a4082a9365.jpg', '-02_mp4-0188_jpg.rf.fcf94923483c63bd8ec2f1caa53c6c16.jpg', '-02_mp4-0212_jpg.rf.7a5b7aaec1f9dd72ee0bf2ec060c20c4_mask.png', '-02_mp4-0601_jpg.rf.cf7bb4c755bed883e77ac5455bb298f6_mask.png', '-02_mp4-0282_jpg.rf.38265f1fff60c9763a5b577706dbbf7b.jpg', '-02_mp4-0249_jpg.rf.81f18ddb64ab702fe3a05014816b272e.jpg', '-02_mp4-0250_jpg.rf.695979ad97b49066e22bb2ca95a89315.jpg', '-02_mp4-0058_jpg.rf.ea26504dbcbb4bad030d9640c2b3d4d0_mask.png', '-02_mp4-0582_jpg.rf.4bc920032ea0a94366b557933e6b4ab4.jpg', '-02_mp4-0051_jpg.rf.b03a0a15161d38318c766c610cde7b93_mask.png', '-02_mp4-0175_jpg.rf.f5e0a9af1cf8abf3f27eee42fd6c106f_mask.png', '-02_mp4-0492_jpg.rf.bd6f142d27aee16c551513049ef99040_mask.png', '0723_mp4-0170_jpg.rf.d681aeb6d28d641bcfaff91c09a92a00.jpg', '-02_mp4-0053_jpg.rf.a18bdb68c2c0848bb62061b395cdbf4f_mask.png', '-02_mp4-0727_jpg.rf.3ed22f8bd5276b509a66cb0e1e1e5d10.jpg', '-02_mp4-0290_jpg.rf.90dce603fe50e8796d28685bd8ea9fe7_mask.png', '-02_mp4-0364_jpg.rf.9f6deac335fe0815e5c371aa96229d64.jpg', '-02_mp4-0388_jpg.rf.13f7c2e2f769a6d94ad354b294cedb9f_mask.png', '-02_mp4-0492_jpg.rf.bd6f142d27aee16c551513049ef99040.jpg', '-02_mp4-0364_jpg.rf.9f6deac335fe0815e5c371aa96229d64_mask.png', '-02_mp4-0568_jpg.rf.86962cc3de51fb87bf164f96dee3fe89.jpg', '-02_mp4-0239_jpg.rf.bdeec299595fa8de9ea0962693fdaa0d_mask.png', '-02_mp4-0081_jpg.rf.0b22e7e62134850b92dbfea17efe84f6_mask.png', '-02_mp4-0097_jpg.rf.2424b408ac76ba1f0e5fa50b4cf3c71e.jpg', '-02_mp4-0641_jpg.rf.b5dbc3f50bcf6ea71d7cf724d47914fd_mask.png', '-02_mp4-0695_jpg.rf.ce93e5c518ea448ed0ad2089f8cfd85d.jpg', '-02_mp4-0062_jpg.rf.78ff54d59faf9831854b6ccf7aca57c4.jpg', '0723_mp4-0015_jpg.rf.8c9adf0d1b4d4825541403c266533f88.jpg', '-02_mp4-0374_jpg.rf.0b99367a292540c91685977de9f6d629.jpg', '-02_mp4-0742_jpg.rf.462464af8c1b9591122ceb830588a820.jpg', '-02_mp4-0434_jpg.rf.7e3327f26d5ccbaaf4ef82deddf3848d_mask.png', '-02_mp4-0650_jpg.rf.9429c56d8df2e059f381271085b9e524_mask.png', '-02_mp4-0225_jpg.rf.58c354d38242f35559d06d5c9020c705_mask.png', '-02_mp4-0062_jpg.rf.78ff54d59faf9831854b6ccf7aca57c4_mask.png', '-02_mp4-0022_jpg.rf.3279c07f3351559b17004cdc175c50da.jpg', '-02_mp4-0163_jpg.rf.be84baf9d1539dc06ed293468baf228f_mask.png', '-02_mp4-0348_jpg.rf.414271271e416e80b0ab1bf3b4cf5864_mask.png', '0723_mp4-0066_jpg.rf.be31f46c95136dfbd42d8d212d8adae5.jpg', '-02_mp4-0575_jpg.rf.15734148df6b6dfb394b52ad70446559_mask.png', '-02_mp4-0126_jpg.rf.7765465b6e7085a8d7540896b28c31be_mask.png', '-02_mp4-0772_jpg.rf.58f815e4fa5ac638041355be261bfcda.jpg', '-02_mp4-0384_jpg.rf.a11e520953966e47686fd5f543f2a562_mask.png', '-02_mp4-0302_jpg.rf.09c312cbc2cc9cffaa61083aef57158b.jpg', '-02_mp4-0758_jpg.rf.961800726424425ff6dd705237a91cfa.jpg', '0723_mp4-0180_jpg.rf.ee49d42c49500331a289bfad3d40ac0b_mask.png', '-02_mp4-0354_jpg.rf.a8fbde7959fb0bb7935d91e48c3aa2fc.jpg', '-02_mp4-0376_jpg.rf.da2fc1445c20e1be42c6be2ba787e7a1_mask.png', '0723_mp4-0073_jpg.rf.9a2eedd910b314afc208326253d0f716_mask.png', '0723_mp4-0148_jpg.rf.0a5380f356407100439bf1c7e02ecf64_mask.png', '0723_mp4-0003_jpg.rf.92ebb25a84ff4e91a428ec7dc6ad8952_mask.png', '-02_mp4-0489_jpg.rf.e0195e65ffef226acb0e3d6d2968e7db_mask.png', '-02_mp4-0567_jpg.rf.7a42d20b1dd1f8bd7ca413603d569299_mask.png', '-02_mp4-0478_jpg.rf.605ecd019961f928747f3e0618ceb506.jpg', '0723_mp4-0178_jpg.rf.238aeb97c92bad139e0fe352891fa863_mask.png', '-02_mp4-0314_jpg.rf.62141a76c7f381a8634707c2a4840be1.jpg', '0723_mp4-0166_jpg.rf.2d67e37f374367ab1080efaf30756222.jpg', '-02_mp4-0132_jpg.rf.c16e1008ff5c8c9518c97677a20db351.jpg', '-02_mp4-0009_jpg.rf.7fb1ba11497b90692e226eb204eb25b8_mask.png', '-02_mp4-0617_jpg.rf.9a4c17b3b9ffffaacfde16a24a632e0f_mask.png', '-02_mp4-0574_jpg.rf.1b0dbe3a4aec66ad60200a751fcef650_mask.png', '0723_mp4-0190_jpg.rf.91dcc8a3b2b5bafd7a854f485d2cad54_mask.png', '-02_mp4-0471_jpg.rf.02fdaf68f5e9f136ad42e93c68209583_mask.png', '-02_mp4-0642_jpg.rf.036ee445722d159683ee061db3bb69b7.jpg', '-02_mp4-0557_jpg.rf.76fb132474679485289114a3629b37e1_mask.png', '-02_mp4-0764_jpg.rf.6ca337d5753c0734f41d0d4e64f6f9d2.jpg', '-02_mp4-0144_jpg.rf.004182a6650d189f5ee201e123c15150.jpg', '-02_mp4-0235_jpg.rf.c570d86cd1c8a8aa654806908390bd03_mask.png', '-02_mp4-0449_jpg.rf.4d0cbcdb9c62910bf63c9646f5229e5e_mask.png', '-02_mp4-0715_jpg.rf.87d00366e8173a2e0d9f885a2aa413a4_mask.png', '-02_mp4-0319_jpg.rf.07acff335a8c18df2f1695a191e4c097_mask.png', '-02_mp4-0186_jpg.rf.391779ffcfa06e8980647820ce496c66.jpg', '-02_mp4-0514_jpg.rf.2dc3c673962c06d554ae129ef25b7b80.jpg', '0723_mp4-0000_jpg.rf.372ebdb755327b81edbe5c200a67234a.jpg', '0723_mp4-0112_jpg.rf.a6e459114f0bfababcce594726994ce5_mask.png', '-02_mp4-0311_jpg.rf.bd83b5f2a8ae266d5ea2575aa0d69e7c_mask.png', '-02_mp4-0159_jpg.rf.3df642274b25eeb76a41550882db8dc3_mask.png', '-02_mp4-0457_jpg.rf.78d40e2f57986c1a12fe9054c28345da.jpg', '-02_mp4-0446_jpg.rf.a6e7d33c9ebd286a432848c17695af53.jpg', '0723_mp4-0085_jpg.rf.e3ef4b3a9345a85b715d94e3388265b8_mask.png', '-02_mp4-0006_jpg.rf.275f0c0ce6614c1433ea0c4a82c2f551.jpg', '-02_mp4-0257_jpg.rf.235c18386fe33c499cded32fb07a4756.jpg', '-02_mp4-0615_jpg.rf.ab3bf138e2dd1977dfd0656857b443aa.jpg', '-02_mp4-0505_jpg.rf.bb798ea1d78542f167598655163e77c5_mask.png', '-02_mp4-0233_jpg.rf.3cfe86e0f99d0cbc38a9a2f579ef5e40_mask.png', '-02_mp4-0304_jpg.rf.4c2af81a07056ee5d0be28409495196f_mask.png', '-02_mp4-0065_jpg.rf.12277481f786a786573eb1b988c3ef9b_mask.png', '0723_mp4-0020_jpg.rf.7c19111cef26868029e0e2433b802a3b.jpg', '-02_mp4-0406_jpg.rf.d716c0edaf2fdd769be71f8848456b58_mask.png', '0723_mp4-0077_jpg.rf.b862f6e2734f24b5f558ad8de361e749_mask.png', '0723_mp4-0159_jpg.rf.f693d1319158ca63374aeecb18d4f68a.jpg', '-02_mp4-0066_jpg.rf.a6cbe3f06e4d1239c720b31801291899_mask.png', '0723_mp4-0091_jpg.rf.b3a603ef4f710b828be843c99a6487ed_mask.png', '0723_mp4-0047_jpg.rf.ebffe9053fb91700936f96c5a0479fc2_mask.png', '-02_mp4-0151_jpg.rf.ff23bad805ffb4cbf68aa024529a482c.jpg', '-02_mp4-0011_jpg.rf.13d1b40cef65a0237a74ec3b9e4b6c50_mask.png', '-02_mp4-0292_jpg.rf.1997b5f1ea282613aed9357eba873149.jpg', '-02_mp4-0101_jpg.rf.6d1dd79ac6c27ae4492af177ed89d330_mask.png', '-02_mp4-0079_jpg.rf.d6d5a0451ab88a2be590ecf07a07c087_mask.png', '-02_mp4-0438_jpg.rf.89de80b593b35dfca4811ac231635e34.jpg', '-02_mp4-0405_jpg.rf.2dcffc37c46b53e4bed2800060cfa8e7.jpg', '-02_mp4-0207_jpg.rf.deb2f1f8df4d1e9f82cfa102856bed5f.jpg', '0723_mp4-0180_jpg.rf.ee49d42c49500331a289bfad3d40ac0b.jpg', '-02_mp4-0254_jpg.rf.099f867ff5a9365b4163660442fa3237_mask.png', '-02_mp4-0275_jpg.rf.ce26ffae684219e8144fd8ef936b13dc.jpg', '-02_mp4-0079_jpg.rf.d6d5a0451ab88a2be590ecf07a07c087.jpg', '-02_mp4-0336_jpg.rf.d27efe411bc38e677b766f7ba3161f8a_mask.png', '-02_mp4-0357_jpg.rf.e32f515cc076d803bd46be9f3ce67dfb.jpg', '0723_mp4-0164_jpg.rf.c7644ddf80c8348d75db10dbef3e31e1_mask.png', '-02_mp4-0225_jpg.rf.58c354d38242f35559d06d5c9020c705.jpg', '-02_mp4-0129_jpg.rf.f75b02865f74b92bc6e8ba810ffd67ef_mask.png', '-02_mp4-0356_jpg.rf.0beb6cab7beaddb40971abd997b431e2.jpg', '0723_mp4-0123_jpg.rf.25d1b63380a362a1c0845d25e2f84e59.jpg', '-02_mp4-0108_jpg.rf.dfca968e02387beef678b8f0dcae5f9a.jpg', '0723_mp4-0193_jpg.rf.154d33d1b5ea057c7b8948a53dd9515b.jpg', '-02_mp4-0674_jpg.rf.a53be823006c18b801cfe6591ce0f1af.jpg', '-02_mp4-0649_jpg.rf.3cfd660e0f726eb1e9f2196282e56ac3.jpg', '0723_mp4-0191_jpg.rf.65c1c083e17b6dc68fae90dfc9f44f01_mask.png', '0723_mp4-0190_jpg.rf.91dcc8a3b2b5bafd7a854f485d2cad54.jpg', '0723_mp4-0004_jpg.rf.dec02acc0cd46706e1c8b94819b48a9d_mask.png', '-02_mp4-0280_jpg.rf.ee646bbbf21a31caa62dc828a50565eb.jpg', '-02_mp4-0188_jpg.rf.fcf94923483c63bd8ec2f1caa53c6c16_mask.png', '-02_mp4-0400_jpg.rf.8658ef2715ad049a9a6b5ffe4eee358d_mask.png', '-02_mp4-0122_jpg.rf.a091067db6e44eb3d6116289e3049396_mask.png', '-02_mp4-0211_jpg.rf.cbe8a9519314d6805906e688e2b1f38f.jpg', '-02_mp4-0783_jpg.rf.dac48a7b2ff76f185dcfd883f246f69e.jpg', '-02_mp4-0015_jpg.rf.3d6cda9c1d2d4b53f0900efb2b842505.jpg', '-02_mp4-0358_jpg.rf.10a12efdd38853e02f02a75a8db9efc0_mask.png', '-02_mp4-0262_jpg.rf.3273514bce1c6ffdc84b6c1108bc5c4b_mask.png', '-02_mp4-0726_jpg.rf.e37789a7a492288c7fe9e99033839ac9_mask.png', '-02_mp4-0780_jpg.rf.52b26ec47f68668522679a8202ea53ae.jpg', '0723_mp4-0075_jpg.rf.d73b4fc1be0f8ff5376a26181245b3f6.jpg', '-02_mp4-0751_jpg.rf.b7d904ae28b6a839094bf397610dbe6c.jpg', '-02_mp4-0608_jpg.rf.1deddaa73241ab6085a93e9ed9c0203b.jpg', '-02_mp4-0103_jpg.rf.3437b7a252800eef54e555f6b4934ee7.jpg', '-02_mp4-0679_jpg.rf.fadf576dcacee599ca606576873ae836.jpg', '0723_mp4-0108_jpg.rf.3e7024c58c6c47e1e8ddfc9940e926cc.jpg', '0723_mp4-0186_jpg.rf.5547648a39de2ba3d58fc837d5d983de_mask.png', '-02_mp4-0063_jpg.rf.e50c17d90e60a38b759d2da54c1b3fda_mask.png', '-02_mp4-0722_jpg.rf.6a3e63b6044c3d59aef357b7978cd320_mask.png', '0723_mp4-0185_jpg.rf.27167b3bc905a5606bc8210f5ae741a8.jpg', '-02_mp4-0368_jpg.rf.a9edea8e612b2d4b6bb3d72b357523ea_mask.png', '-02_mp4-0767_jpg.rf.2d13e014b15ab6de1ef25a4c252fb3b9.jpg', '-02_mp4-0074_jpg.rf.4973ebc9d3bc9137c56d6e89e51246ad.jpg', '0723_mp4-0072_jpg.rf.c84d0f984d04ec262ddcc752a682faac_mask.png', '-02_mp4-0753_jpg.rf.0669b1ed8b60e262df950466fba6b1cd_mask.png', '-02_mp4-0607_jpg.rf.75a4b74212d6ccbea8f24f288e218a53.jpg', '-02_mp4-0155_jpg.rf.3f07d818ba4652f2b88df2e1c397978c.jpg', '-02_mp4-0266_jpg.rf.30e973670433425117b553b3a46a1dc8_mask.png', '0723_mp4-0024_jpg.rf.3f4866da8270c0d03b10866435b85e9e_mask.png', '-02_mp4-0145_jpg.rf.16689ffb57e64ad8adcada3317f46872.jpg', '-02_mp4-0101_jpg.rf.6d1dd79ac6c27ae4492af177ed89d330.jpg', '0723_mp4-0127_jpg.rf.e7ddf851ca6f8b4a5a7c29f1b4bdf7c8_mask.png', '-02_mp4-0514_jpg.rf.2dc3c673962c06d554ae129ef25b7b80_mask.png', '0723_mp4-0195_jpg.rf.4926569a024a1cd999f2a83f66a0a24e.jpg', '-02_mp4-0399_jpg.rf.a48ff67f6b1088441ad7730d73187afe_mask.png', '-02_mp4-0146_jpg.rf.2d45ab6420f9fd86d97d523300f4d601.jpg', '-02_mp4-0005_jpg.rf.f7e96786ddf859a53aeb00746fe81943_mask.png', '-02_mp4-0102_jpg.rf.15c9d7b0375eba6b1396f95657d2a832.jpg', '0723_mp4-0074_jpg.rf.763431b29012197c0e7a667069e91086.jpg', '-02_mp4-0535_jpg.rf.20571e86bc9165ebed72566fcdbeccde_mask.png', '-02_mp4-0117_jpg.rf.0513325790e584f38249a0a280bfbfb1_mask.png', '-02_mp4-0589_jpg.rf.2401b9e0c7e8e65093849cd340b577a2_mask.png', '-02_mp4-0474_jpg.rf.97d09343b5aaf0b7d79468e9ad6f5f28_mask.png', '-02_mp4-0091_jpg.rf.b7661ea3b1d77fa682cc72508b300a19_mask.png', '-02_mp4-0544_jpg.rf.6fe03257832d55e0ac226b22af322af6.jpg', '-02_mp4-0078_jpg.rf.2ed4f6861a355d13ee02540a14be0950.jpg', '-02_mp4-0049_jpg.rf.d1da64e96d1dc9ceb39132c7747b7121_mask.png', '-02_mp4-0067_jpg.rf.aa08c17853f38e6604fe624201e26c5c_mask.png', '0723_mp4-0141_jpg.rf.35cad6fa6f3e7efe5457274e8b8ee305.jpg', '-02_mp4-0065_jpg.rf.12277481f786a786573eb1b988c3ef9b.jpg', '0723_mp4-0131_jpg.rf.a370ebfc0fef54e846888e13e986b7d4_mask.png', '-02_mp4-0262_jpg.rf.3273514bce1c6ffdc84b6c1108bc5c4b.jpg', '-02_mp4-0629_jpg.rf.9539f7770f35acc5c59c2efeed4cff7d.jpg', '-02_mp4-0475_jpg.rf.8f7a3f82bbb0ab39a6c82541357c312c_mask.png', '-02_mp4-0195_jpg.rf.28b3eaab5050a7079a13465efbefd23d.jpg', '-02_mp4-0124_jpg.rf.19c6d682dd760504938fee9170edf36f_mask.png', '-02_mp4-0445_jpg.rf.ad882fdc9c28f22c30f40cd138cdfe63_mask.png', '-02_mp4-0100_jpg.rf.fe3ff5de4236dd966fa1c727f519a1a9_mask.png', '0723_mp4-0069_jpg.rf.47fb8958439519a60a49e74fe422188d_mask.png', '-02_mp4-0553_jpg.rf.c54bcbb3034d6ea45313813300f631eb.jpg', '-02_mp4-0068_jpg.rf.5a10671c08e0b2ebba4d57268d3733b0.jpg', '-02_mp4-0612_jpg.rf.8dd2ea07ae88db8de98aa2feb2d48ab4.jpg', '-02_mp4-0374_jpg.rf.0b99367a292540c91685977de9f6d629_mask.png', '-02_mp4-0583_jpg.rf.7189cf93f0599771a6dc69b55ae78cb3.jpg', '-02_mp4-0756_jpg.rf.cbb91a292f470589df7c090a5115f9ae.jpg', '0723_mp4-0162_jpg.rf.061a4e8f4bd0b7e6bb759595a05cf515.jpg', '-02_mp4-0346_jpg.rf.8898f3ee5c40839c9fe0e2a0ffcab63c_mask.png', '-02_mp4-0393_jpg.rf.4e716f5f839ba08d0f39a7b43cdf49f4_mask.png', '-02_mp4-0382_jpg.rf.68c76fcf4332981feee5744ea67d4023.jpg', '-02_mp4-0414_jpg.rf.3e083bd7ad0c03e1bf133707c57eaee2_mask.png', '-02_mp4-0538_jpg.rf.493972f6b7c4b9ac67471d179f26af89.jpg', '-02_mp4-0302_jpg.rf.09c312cbc2cc9cffaa61083aef57158b_mask.png', '-02_mp4-0722_jpg.rf.6a3e63b6044c3d59aef357b7978cd320.jpg', '-02_mp4-0163_jpg.rf.be84baf9d1539dc06ed293468baf228f.jpg', '-02_mp4-0185_jpg.rf.25a4a8f5037625327d5937a0b013c71d.jpg', '-02_mp4-0072_jpg.rf.bb2d904e13b573fadd74959a3ced3e10_mask.png', '0723_mp4-0060_jpg.rf.c51add77c93e20e1c5f8cb474c18c951_mask.png', '-02_mp4-0710_jpg.rf.d4dfa1c1d6ed029bac08a27544e27591_mask.png', '-02_mp4-0558_jpg.rf.dddda68d9259d47a359f3ca58de3d614.jpg', '-02_mp4-0035_jpg.rf.1d0c62696d772f20003e3d3476502c93.jpg', '-02_mp4-0512_jpg.rf.90f2edf2f4a10605f6d888fa2c3f36ab_mask.png', '0723_mp4-0194_jpg.rf.f09e4dc07e8a4601710775a275947bf4.jpg', '-02_mp4-0709_jpg.rf.c3209090aea67115cdef640b58c40eb5_mask.png', '0723_mp4-0103_jpg.rf.e37792e89eee9c36ac30ec9dbbbc42dd.jpg', '-02_mp4-0584_jpg.rf.17318682f5dd0e6fe2d87dd010055c52.jpg', '-02_mp4-0274_jpg.rf.1342c8688b989c550571ad227ea7c608.jpg', '-02_mp4-0308_jpg.rf.49384e2acd56d9831b2170e9606b11c1.jpg', '-02_mp4-0474_jpg.rf.97d09343b5aaf0b7d79468e9ad6f5f28.jpg', '-02_mp4-0089_jpg.rf.127ce053afac6bdae093946a149b21f4.jpg', '-02_mp4-0583_jpg.rf.7189cf93f0599771a6dc69b55ae78cb3_mask.png', '0723_mp4-0165_jpg.rf.a198223a1bb24b50cba70595d277f332.jpg', '-02_mp4-0634_jpg.rf.82e9a9bbd73f2ce3aba8e4d18eb289bc.jpg', '-02_mp4-0004_jpg.rf.063fc0e6a2ee7013cf96ca2a288962e1_mask.png', '0723_mp4-0022_jpg.rf.87a3f8af97c00af8be4a36b320bf50d1_mask.png', '-02_mp4-0516_jpg.rf.509cdeb2cb4df40dc86707013e15c334_mask.png', '-02_mp4-0008_jpg.rf.9f2b212f8e1d09ae02989db6d968f303.jpg', '-02_mp4-0404_jpg.rf.aee5872e3984ad54c3a4881b2514d142.jpg', '-02_mp4-0645_jpg.rf.ef1383abdd00a2335b60b34d0ae87538_mask.png', '-02_mp4-0403_jpg.rf.d3f9c6f1c3274526284a858e70a53370_mask.png', '-02_mp4-0352_jpg.rf.096be7b8f8ef23b25b4303bc47535080.jpg', '-02_mp4-0507_jpg.rf.2e89a6e31b03f2a66cbd512b3b2ed434.jpg', '-02_mp4-0568_jpg.rf.86962cc3de51fb87bf164f96dee3fe89_mask.png', '-02_mp4-0543_jpg.rf.98b119229db3e21b90ce23b0d1557728.jpg', '0723_mp4-0163_jpg.rf.e317e0063f0946a20337fd7a7a716d07_mask.png', '-02_mp4-0230_jpg.rf.81fc21c50de5191cc7990b2ed75bffee_mask.png', '-02_mp4-0251_jpg.rf.41abd95b5e8a549ab6774e36b369fbc3.jpg', '0723_mp4-0008_jpg.rf.bb7af1b5792027faed5f675eeb980cb2_mask.png', '-02_mp4-0532_jpg.rf.ed6f640b93245a935344ef5b86d61adb.jpg', '-02_mp4-0637_jpg.rf.e2fecc088d231a46d38deb4911f2deaf.jpg', '0723_mp4-0026_jpg.rf.499db13128d3fac241a4c61fc5992cdc.jpg', '0723_mp4-0169_jpg.rf.28a221e2471be0fe61bceaaed5f8d12b.jpg', '-02_mp4-0291_jpg.rf.51ce0009e11f21938fe821e97cecbfe4.jpg', '-02_mp4-0611_jpg.rf.d0f92dfda3701d9bc17a3e5c25ee8db0_mask.png', '-02_mp4-0144_jpg.rf.004182a6650d189f5ee201e123c15150_mask.png', '-02_mp4-0394_jpg.rf.43520316e554d723cfd1f52052723b39_mask.png', '0723_mp4-0088_jpg.rf.57992a17970a72a0434a9bbeb4ab5a18_mask.png', '-02_mp4-0334_jpg.rf.6a76b02b454493d76a8ab13f55253f4a.jpg', '-02_mp4-0769_jpg.rf.3a6a2cf4bbc342ca30beef806fb754dc_mask.png', '0723_mp4-0103_jpg.rf.e37792e89eee9c36ac30ec9dbbbc42dd_mask.png', '-02_mp4-0294_jpg.rf.67ac712b0dac7be92a87ce339879f57d.jpg', '-02_mp4-0409_jpg.rf.7bb983def78b9646aa9fc5822cd1fea3_mask.png', '-02_mp4-0303_jpg.rf.f891d036a7b1c28c83f49b284012d347_mask.png', '0723_mp4-0123_jpg.rf.25d1b63380a362a1c0845d25e2f84e59_mask.png', '-02_mp4-0251_jpg.rf.41abd95b5e8a549ab6774e36b369fbc3_mask.png', '-02_mp4-0324_jpg.rf.2f5624d02923826214a826c36206986e_mask.png', '-02_mp4-0505_jpg.rf.bb798ea1d78542f167598655163e77c5.jpg', '-02_mp4-0064_jpg.rf.70de56867ac87ac63b4952e61c07cc26.jpg', '-02_mp4-0143_jpg.rf.0d1eae0ad392c155656b1d18d1bd1d84.jpg', '0723_mp4-0049_jpg.rf.716bc16751a238a9e2832a9efe018beb.jpg', '-02_mp4-0242_jpg.rf.69f30d5b5cbe32140fb730d7601694e5_mask.png', '0723_mp4-0144_jpg.rf.a6b08b7b01caf8476bf241ec7e4c13f4_mask.png', '-02_mp4-0703_jpg.rf.974fa6f8b692ad66a38e4998876b757f_mask.png', '0723_mp4-0172_jpg.rf.2b9b6b67993794a123ccaedad6f5fcaf.jpg', '-02_mp4-0307_jpg.rf.14a6812f35610d62ca455cbe958058f3.jpg', '-02_mp4-0630_jpg.rf.e1893ffa1deba4235a04e32f6127ae74.jpg', '0723_mp4-0068_jpg.rf.08666b63e53487bc2e94f2f398c8253a.jpg', '-02_mp4-0145_jpg.rf.16689ffb57e64ad8adcada3317f46872_mask.png', '0723_mp4-0156_jpg.rf.65a95744e137e342b9169e93aec4a35f_mask.png', '-02_mp4-0450_jpg.rf.0ee8be636883c88fc31fe288b47789d2_mask.png', '-02_mp4-0603_jpg.rf.4f9cb4e74fec767cb41a220339b98ff5.jpg', '-02_mp4-0013_jpg.rf.c3a837b7f2cdb40106743c615b040e84.jpg', '-02_mp4-0256_jpg.rf.67385c2352c56f7494885206288e10db.jpg', '-02_mp4-0001_jpg.rf.74ff620ea64982bb60490e87a40dca19_mask.png', '-02_mp4-0296_jpg.rf.7569a21bab880d70c90d1909d4330fe4.jpg', '-02_mp4-0549_jpg.rf.db043567c6c4fa13061d0fd050e560a8.jpg', '0723_mp4-0095_jpg.rf.6433a49a4414163bbc8a0d59a9f754eb.jpg', '-02_mp4-0409_jpg.rf.7bb983def78b9646aa9fc5822cd1fea3.jpg', '-02_mp4-0354_jpg.rf.a8fbde7959fb0bb7935d91e48c3aa2fc_mask.png', '-02_mp4-0429_jpg.rf.f317fb5ff0d19b1e78cbec31dda5a959_mask.png', '-02_mp4-0357_jpg.rf.e32f515cc076d803bd46be9f3ce67dfb_mask.png', '-02_mp4-0239_jpg.rf.bdeec299595fa8de9ea0962693fdaa0d.jpg', '-02_mp4-0290_jpg.rf.90dce603fe50e8796d28685bd8ea9fe7.jpg', '-02_mp4-0415_jpg.rf.06360c2afaf1e5db9d81a70ecf7195d3.jpg', '-02_mp4-0578_jpg.rf.a4777253d4b322b7bc1edc2e3df4bddf.jpg', '-02_mp4-0570_jpg.rf.d581d47c909c4b5c21a7bc57e9a2fc10_mask.png', '-02_mp4-0020_jpg.rf.dee5a2f2fc72f7f6df2695d26db1ff55_mask.png', '-02_mp4-0181_jpg.rf.0730057e02f48e391d59525627ba74d5.jpg', '0723_mp4-0095_jpg.rf.6433a49a4414163bbc8a0d59a9f754eb_mask.png', '-02_mp4-0031_jpg.rf.b493f08ee25eac38ccad6a93de88a695.jpg', '-02_mp4-0276_jpg.rf.e25d1737f6d473062a9ec4b632ff1a5b.jpg', '0723_mp4-0169_jpg.rf.28a221e2471be0fe61bceaaed5f8d12b_mask.png', '-02_mp4-0415_jpg.rf.06360c2afaf1e5db9d81a70ecf7195d3_mask.png', '-02_mp4-0356_jpg.rf.0beb6cab7beaddb40971abd997b431e2_mask.png', '-02_mp4-0635_jpg.rf.28e5862a30dee4f8c8ed0c308b72fe6f_mask.png', '-02_mp4-0477_jpg.rf.9a06278f37c444f7d0b0ad35628ecc21.jpg', '-02_mp4-0335_jpg.rf.668a325024ed27b5c0204ea3dd7454ff_mask.png', '-02_mp4-0486_jpg.rf.812263fcfe450c287993dacbdfff0800_mask.png', '-02_mp4-0361_jpg.rf.d2725be09fbd87733d6ef16c9b777157.jpg', '-02_mp4-0047_jpg.rf.0d3a4bc1c99c8f125193a9a40dc184cb.jpg', '-02_mp4-0724_jpg.rf.b04f961793c481e0bff507f00b9d16bd.jpg', '-02_mp4-0026_jpg.rf.86e1ce7dfb724356ba17c1d2a179db57.jpg', '-02_mp4-0009_jpg.rf.7fb1ba11497b90692e226eb204eb25b8.jpg', '-02_mp4-0518_jpg.rf.02a2fa57a7ee446d4e924f70640c5289_mask.png', '-02_mp4-0075_jpg.rf.6ea529bf43453cf4da4f4d86ca3094f4_mask.png', '0723_mp4-0187_jpg.rf.8183279edc0fd3f4aede633c8f94ce7b.jpg', '-02_mp4-0258_jpg.rf.08a98009f805910a4d1114f3d7598bf1_mask.png', '-02_mp4-0777_jpg.rf.cde436c7b79da12b1b5ac399ab387d8f.jpg', '-02_mp4-0739_jpg.rf.9eb05fc952500ada41f3d29d1445f991_mask.png', '-02_mp4-0010_jpg.rf.c79ad8b2a45fe6900e00e4d2280a3bb6_mask.png', '-02_mp4-0621_jpg.rf.73bf454c1788351e4d7666d5d2f6ffb9_mask.png', '-02_mp4-0325_jpg.rf.ca3708ab122cd5660a3ba2bc51a84468_mask.png', '0723_mp4-0191_jpg.rf.65c1c083e17b6dc68fae90dfc9f44f01.jpg', '-02_mp4-0260_jpg.rf.d9cb4c4e22f9a0aedc673ec1f3d8964f.jpg', '-02_mp4-0297_jpg.rf.f7fcee2d629b71e3486789947c74a85e_mask.png', '-02_mp4-0235_jpg.rf.c570d86cd1c8a8aa654806908390bd03.jpg', '0723_mp4-0058_jpg.rf.6815d7c2cf89949e282c050a0a958dfd_mask.png', '-02_mp4-0284_jpg.rf.d3ee8137bc79f450e59299992da1ef4f.jpg', '-02_mp4-0360_jpg.rf.5f8ca3aff004732b6e6cd24fdcb839c6.jpg', '-02_mp4-0233_jpg.rf.3cfe86e0f99d0cbc38a9a2f579ef5e40.jpg', '0723_mp4-0098_jpg.rf.15a9a0e11b27413eaeeb39523f180972_mask.png', '-02_mp4-0378_jpg.rf.ca7b5b1f1ccde2a40be1e821d6f21832_mask.png', '-02_mp4-0612_jpg.rf.8dd2ea07ae88db8de98aa2feb2d48ab4_mask.png', '0723_mp4-0089_jpg.rf.b73a43cc538e6e042cbab487907cfa48.jpg', '-02_mp4-0133_jpg.rf.33e81e57e4033aae8374dff17471fa6f.jpg', '-02_mp4-0775_jpg.rf.f827f339b0c6cdf37de682455bca3e1b_mask.png', '-02_mp4-0744_jpg.rf.8399cffca1ac31474fdf723c9c16e40d_mask.png', '-02_mp4-0717_jpg.rf.44bb0369613197f47db4a11eed519220.jpg', '-02_mp4-0378_jpg.rf.ca7b5b1f1ccde2a40be1e821d6f21832.jpg', '-02_mp4-0057_jpg.rf.70e4e36dd67596602b5d8aaad52e3000_mask.png', '-02_mp4-0212_jpg.rf.7a5b7aaec1f9dd72ee0bf2ec060c20c4.jpg', '-02_mp4-0596_jpg.rf.50f2d574227461f76f271fd62fb5fbd6_mask.png', '-02_mp4-0512_jpg.rf.90f2edf2f4a10605f6d888fa2c3f36ab.jpg', '-02_mp4-0254_jpg.rf.099f867ff5a9365b4163660442fa3237.jpg', '-02_mp4-0428_jpg.rf.d7c2e47c1cf2d6b683c8898bf3b370c8.jpg', '-02_mp4-0567_jpg.rf.7a42d20b1dd1f8bd7ca413603d569299.jpg', '0723_mp4-0039_jpg.rf.17e61cea4ba69baf50cd5fb693cf6025_mask.png', '-02_mp4-0786_jpg.rf.244a528176bef712ea3f68b2d12b36e5.jpg', '-02_mp4-0308_jpg.rf.49384e2acd56d9831b2170e9606b11c1_mask.png', '-02_mp4-0013_jpg.rf.c3a837b7f2cdb40106743c615b040e84_mask.png', '-02_mp4-0094_jpg.rf.503b4150b6c7aef0a672d5c9649cc3b8_mask.png', '-02_mp4-0154_jpg.rf.8aa338fccbeec2cd233cce20cf2f8129.jpg', '-02_mp4-0036_jpg.rf.7f88f927b4731cbb3d006f01d23cbd49_mask.png', '-02_mp4-0585_jpg.rf.7aef6cbb29c2f09e3e8c2af5c7f6e668.jpg', '-02_mp4-0146_jpg.rf.2d45ab6420f9fd86d97d523300f4d601_mask.png', '-02_mp4-0396_jpg.rf.54ddf41eb934a0bf9c3321ced6096dad.jpg', '0723_mp4-0170_jpg.rf.d681aeb6d28d641bcfaff91c09a92a00_mask.png', '-02_mp4-0789_jpg.rf.025f2b77a5c6b6f11fd00dee5b8d9085.jpg', '-02_mp4-0032_jpg.rf.b5d9cbd4a7cd56ab7893766df0e17db5_mask.png', '-02_mp4-0060_jpg.rf.8cbb86b5fcdc2121f087107979714fdf_mask.png', '-02_mp4-0598_jpg.rf.e8738853b755eb9a520862693072eed7_mask.png', '0723_mp4-0066_jpg.rf.be31f46c95136dfbd42d8d212d8adae5_mask.png', '-02_mp4-0028_jpg.rf.b1dd623d595befabda92048adc29357c.jpg', '0723_mp4-0156_jpg.rf.65a95744e137e342b9169e93aec4a35f.jpg', '-02_mp4-0726_jpg.rf.e37789a7a492288c7fe9e99033839ac9.jpg', '-02_mp4-0193_jpg.rf.2dd985d75ccff94614ea2854f72cc51e.jpg', '-02_mp4-0495_jpg.rf.9cdb5d887d7f752a11f879ff0910f6dd_mask.png', '-02_mp4-0704_jpg.rf.f62d0db551b9d3b479721c984de15673.jpg', '-02_mp4-0184_jpg.rf.7c284057f85b06a9237b50891a234984.jpg', '-02_mp4-0604_jpg.rf.c258544c3c44d59c5035342c4b2f054c_mask.png', '-02_mp4-0793_jpg.rf.4985e3a4caeaf22e63056996011714cd.jpg', '-02_mp4-0248_jpg.rf.35f9a27c9500ef7a1e8c808266099803_mask.png', '-02_mp4-0789_jpg.rf.025f2b77a5c6b6f11fd00dee5b8d9085_mask.png', '0723_mp4-0048_jpg.rf.964aa47978fd00063fc7f51d38a03ff3_mask.png', '-02_mp4-0309_jpg.rf.2f9c2aa35ab8a195d222708f9d052475_mask.png', '-02_mp4-0306_jpg.rf.c14e7fe737aa32a52982129fc6b40317_mask.png', '-02_mp4-0424_jpg.rf.e566dfac5e180f32beaa5998cf467ad1_mask.png', '-02_mp4-0533_jpg.rf.e7284c2435251eb4ff5225a63eb342e4.jpg', '-02_mp4-0136_jpg.rf.eca4f3546ba2c19ff5c105877bad327c_mask.png', '0723_mp4-0087_jpg.rf.551b1d14087c37484818c25797bbfc23_mask.png', '-02_mp4-0229_jpg.rf.4a61505e5623bceac615d5ba86f2b87a.jpg', '0723_mp4-0178_jpg.rf.238aeb97c92bad139e0fe352891fa863.jpg', '-02_mp4-0083_jpg.rf.8401e505f87b7900fa83dbad719d8945_mask.png', '-02_mp4-0395_jpg.rf.5235c7080e4ca08b5c33db157c4fab8c.jpg', '0723_mp4-0062_jpg.rf.37c39ff26ba2942d3ffda776a325cc8a.jpg', '-02_mp4-0194_jpg.rf.f43ec3a0cff70590517f2109c30fdc96.jpg', '-02_mp4-0033_jpg.rf.d20e4ac2e053616f1e2fae9b1f4e6e0d.jpg', '-02_mp4-0200_jpg.rf.7825b4cc56d821a180b096e7d9ff17b2_mask.png', '0723_mp4-0006_jpg.rf.f2b36989bcf99c40502d52c7a251ddad.jpg', '-02_mp4-0057_jpg.rf.70e4e36dd67596602b5d8aaad52e3000.jpg', '0723_mp4-0004_jpg.rf.dec02acc0cd46706e1c8b94819b48a9d.jpg', '-02_mp4-0368_jpg.rf.a9edea8e612b2d4b6bb3d72b357523ea.jpg', '0723_mp4-0171_jpg.rf.595e55bc104e2d90df7d1c85a0d662ed.jpg', '-02_mp4-0426_jpg.rf.0ef9df003623f6084d82d859b7683019.jpg', '-02_mp4-0465_jpg.rf.820c0aee5b4a73e8f1667d634f3f9b19.jpg', '0723_mp4-0158_jpg.rf.a83b0e8a303cd87260aae5f105e7bb9f.jpg', '-02_mp4-0653_jpg.rf.030ea29b976ee4bc49fab16a45adb878.jpg', '-02_mp4-0387_jpg.rf.536ae4ed9aeba0ff0e9c970691e31780.jpg', '-02_mp4-0691_jpg.rf.d20bf6738393a5b10bb1522e84a892ca_mask.png', '-02_mp4-0277_jpg.rf.7e943991650b215e70f64fb5908a57b0.jpg', '0723_mp4-0197_jpg.rf.972ede3b160194fbe8e4a93425fee1b3.jpg', '-02_mp4-0462_jpg.rf.1000238fed299ba7df46c12702be7cb8_mask.png', '0723_mp4-0163_jpg.rf.e317e0063f0946a20337fd7a7a716d07.jpg', '-02_mp4-0124_jpg.rf.19c6d682dd760504938fee9170edf36f.jpg', '-02_mp4-0372_jpg.rf.ff9bf1a7ecdf77c2027e5800229f6faa.jpg', '-02_mp4-0624_jpg.rf.65fbd2563800e02cdf3af29b5b88d9b5.jpg', '-02_mp4-0538_jpg.rf.493972f6b7c4b9ac67471d179f26af89_mask.png', '-02_mp4-0336_jpg.rf.d27efe411bc38e677b766f7ba3161f8a.jpg', '-02_mp4-0608_jpg.rf.1deddaa73241ab6085a93e9ed9c0203b_mask.png', '-02_mp4-0093_jpg.rf.ddeb4b6bb0b62093dfa3381c360bfc1a.jpg', '-02_mp4-0407_jpg.rf.bea8fa41143ae10669517a65b0d6e43f_mask.png', '0723_mp4-0181_jpg.rf.eb54754559594caed4d34534701e2897.jpg', '-02_mp4-0227_jpg.rf.6cf0270681ac176be57e0518495ba053.jpg', '-02_mp4-0208_jpg.rf.36f21a57a7284dedc1cadb7e128fbd97_mask.png', '-02_mp4-0285_jpg.rf.ea0b67c32335a3ad911c9f49979e7917_mask.png', '0723_mp4-0054_jpg.rf.e812e78cbdef3d57d8ee1c0605f2edab_mask.png', '-02_mp4-0503_jpg.rf.3371795c1c511f0a11b57ea4e1401b85_mask.png', '-02_mp4-0096_jpg.rf.af426be024e268a2a1f494e91d626f7d_mask.png', '-02_mp4-0495_jpg.rf.9cdb5d887d7f752a11f879ff0910f6dd.jpg', '-02_mp4-0620_jpg.rf.1eb5fcf8e2659b017bef4d2edc645c0c_mask.png', '-02_mp4-0522_jpg.rf.4d19444d598b9166cac57d5148e6c444.jpg', '-02_mp4-0291_jpg.rf.51ce0009e11f21938fe821e97cecbfe4_mask.png', '-02_mp4-0139_jpg.rf.03205b9403525b5928c3a140335ca46d_mask.png', '-02_mp4-0139_jpg.rf.03205b9403525b5928c3a140335ca46d.jpg', '-02_mp4-0111_jpg.rf.534560fa6dacc8f28b4780772860c025_mask.png', '-02_mp4-0484_jpg.rf.faf3a9cf75f97502bce8d75fd0fb956d_mask.png', '-02_mp4-0021_jpg.rf.3f8997ec81ff04252a40c995cc681ce6_mask.png', '-02_mp4-0702_jpg.rf.a1a5a156149d39a6f70fcae5a709a636_mask.png', '-02_mp4-0382_jpg.rf.68c76fcf4332981feee5744ea67d4023_mask.png', '0723_mp4-0015_jpg.rf.8c9adf0d1b4d4825541403c266533f88_mask.png', '-02_mp4-0117_jpg.rf.0513325790e584f38249a0a280bfbfb1.jpg', '-02_mp4-0631_jpg.rf.58e98ede748083b1d6e61694d2732806_mask.png', '-02_mp4-0333_jpg.rf.4babfba1b130756f00b31455267aefc7.jpg', '0723_mp4-0128_jpg.rf.ca4c063de644414de3103e08ccfaef9a_mask.png', '-02_mp4-0751_jpg.rf.b7d904ae28b6a839094bf397610dbe6c_mask.png', '-02_mp4-0114_jpg.rf.863a5aecb0fb5d64d749d60e254357ad.jpg', '-02_mp4-0691_jpg.rf.d20bf6738393a5b10bb1522e84a892ca.jpg', '-02_mp4-0151_jpg.rf.ff23bad805ffb4cbf68aa024529a482c_mask.png', '-02_mp4-0440_jpg.rf.47e8490d147d6a3cc4ea5c1f8c1d1f32.jpg', '-02_mp4-0447_jpg.rf.14a7417e81d6ffc66898af39916d95d5_mask.png', '-02_mp4-0462_jpg.rf.1000238fed299ba7df46c12702be7cb8.jpg', '0723_mp4-0108_jpg.rf.3e7024c58c6c47e1e8ddfc9940e926cc_mask.png', '-02_mp4-0632_jpg.rf.459ac06caf8b98051663699f592bb608.jpg', '-02_mp4-0129_jpg.rf.f75b02865f74b92bc6e8ba810ffd67ef.jpg', '-02_mp4-0690_jpg.rf.3cdaf5ad7e132a3b4ddbf20c1540f638.jpg', '-02_mp4-0043_jpg.rf.2dc635220ca3a1cf637383541baeb1b1_mask.png', '-02_mp4-0358_jpg.rf.10a12efdd38853e02f02a75a8db9efc0.jpg', '-02_mp4-0303_jpg.rf.f891d036a7b1c28c83f49b284012d347.jpg', '-02_mp4-0092_jpg.rf.290751c5a58dcdefc28ad14bb71a8878.jpg', '-02_mp4-0360_jpg.rf.5f8ca3aff004732b6e6cd24fdcb839c6_mask.png', '-02_mp4-0345_jpg.rf.babc564833cf012ba8042039433b225f.jpg', '-02_mp4-0641_jpg.rf.b5dbc3f50bcf6ea71d7cf724d47914fd.jpg', '-02_mp4-0656_jpg.rf.4daf98db8e86110e62115a23a46d314f.jpg', '-02_mp4-0270_jpg.rf.9c038a1f82db129ace8e0142bf244884.jpg', '0723_mp4-0114_jpg.rf.718c3e5665b1386af2122f60c6ef1235.jpg', '-02_mp4-0345_jpg.rf.babc564833cf012ba8042039433b225f_mask.png', '0723_mp4-0043_jpg.rf.ead56131e994a35c48909cc0ee102ad6_mask.png', '-02_mp4-0535_jpg.rf.20571e86bc9165ebed72566fcdbeccde.jpg', '0723_mp4-0043_jpg.rf.ead56131e994a35c48909cc0ee102ad6.jpg', '-02_mp4-0603_jpg.rf.4f9cb4e74fec767cb41a220339b98ff5_mask.png', '-02_mp4-0788_jpg.rf.81dd1332b7ce152693ff9b090786d95d.jpg', '0723_mp4-0145_jpg.rf.2b1e0be1c2063dc4cdba6cd15b56508f.jpg', '-02_mp4-0334_jpg.rf.6a76b02b454493d76a8ab13f55253f4a_mask.png', '-02_mp4-0372_jpg.rf.ff9bf1a7ecdf77c2027e5800229f6faa_mask.png', '-02_mp4-0395_jpg.rf.5235c7080e4ca08b5c33db157c4fab8c_mask.png', '-02_mp4-0250_jpg.rf.695979ad97b49066e22bb2ca95a89315_mask.png', '0723_mp4-0054_jpg.rf.e812e78cbdef3d57d8ee1c0605f2edab.jpg', '0723_mp4-0177_jpg.rf.f28d871e0e9ec22e0f14c1215ea8ab7c.jpg', '-02_mp4-0412_jpg.rf.24fbf996f55a73fe2b0b1afccb205056_mask.png', '-02_mp4-0546_jpg.rf.6acc1b788073e70f6a34d2dec358603d_mask.png', '-02_mp4-0424_jpg.rf.e566dfac5e180f32beaa5998cf467ad1.jpg', '-02_mp4-0765_jpg.rf.deed39ea949f50301b21c5471e976c4f_mask.png', '-02_mp4-0092_jpg.rf.290751c5a58dcdefc28ad14bb71a8878_mask.png', '-02_mp4-0589_jpg.rf.2401b9e0c7e8e65093849cd340b577a2.jpg', '0723_mp4-0145_jpg.rf.2b1e0be1c2063dc4cdba6cd15b56508f_mask.png', '-02_mp4-0237_jpg.rf.1bb1673623270d1304c4f80b28238ead.jpg', '-02_mp4-0041_jpg.rf.9a7a3b4d1c3f40cae2aee06a62ceba70_mask.png', '0723_mp4-0177_jpg.rf.f28d871e0e9ec22e0f14c1215ea8ab7c_mask.png', '-02_mp4-0317_jpg.rf.a6b101e07495b95cef4597d57b4895a3.jpg', '-02_mp4-0727_jpg.rf.3ed22f8bd5276b509a66cb0e1e1e5d10_mask.png', '-02_mp4-0480_jpg.rf.3a15f3cb6e4e2a5c3fed8c60ea6b57b6_mask.png', '-02_mp4-0513_jpg.rf.bb89c6684d0980dcae43e593f581cddf.jpg', '-02_mp4-0286_jpg.rf.7106c3a396260b733ba61afeec7d109a_mask.png', '-02_mp4-0780_jpg.rf.52b26ec47f68668522679a8202ea53ae_mask.png', '-02_mp4-0287_jpg.rf.7d4de09ef63975b0cf6d137105359563.jpg', '-02_mp4-0547_jpg.rf.d77ef82d7298667c50dd572ef4b0ae75.jpg', '-02_mp4-0286_jpg.rf.7106c3a396260b733ba61afeec7d109a.jpg', '-02_mp4-0205_jpg.rf.42cf30970bfc649ee3d9df3f51a2f3cf_mask.png', '-02_mp4-0756_jpg.rf.cbb91a292f470589df7c090a5115f9ae_mask.png', '-02_mp4-0115_jpg.rf.f46ff3f4b9617816dc239b0e6ce64045.jpg', '-02_mp4-0480_jpg.rf.3a15f3cb6e4e2a5c3fed8c60ea6b57b6.jpg', '0723_mp4-0098_jpg.rf.15a9a0e11b27413eaeeb39523f180972.jpg', '-02_mp4-0575_jpg.rf.15734148df6b6dfb394b52ad70446559.jpg', '-02_mp4-0705_jpg.rf.fcd58cae575a3f56b035722ba6edb1ea_mask.png', '-02_mp4-0460_jpg.rf.d73f75ac8bb6b3100a7f10b1be972bab_mask.png', '0723_mp4-0019_jpg.rf.51014d59ce9d249a5bdf946727630d88.jpg', '-02_mp4-0227_jpg.rf.6cf0270681ac176be57e0518495ba053_mask.png', '-02_mp4-0153_jpg.rf.19b73ab6b77e68b181d398e4b16d7b53_mask.png', '-02_mp4-0521_jpg.rf.ec6e3295504bbcfdceb4c47fa8319327_mask.png', '0723_mp4-0171_jpg.rf.595e55bc104e2d90df7d1c85a0d662ed_mask.png', '-02_mp4-0256_jpg.rf.67385c2352c56f7494885206288e10db_mask.png', '0723_mp4-0085_jpg.rf.e3ef4b3a9345a85b715d94e3388265b8.jpg', '-02_mp4-0770_jpg.rf.294597a6e2dbb55b759e792b1be06ffc_mask.png', '-02_mp4-0517_jpg.rf.9f20a68a46eabc068c9d7baefe53f2e5.jpg', '0723_mp4-0021_jpg.rf.98824cd417dbb0b65b1c1a35b2777f5c.jpg', '-02_mp4-0230_jpg.rf.81fc21c50de5191cc7990b2ed75bffee.jpg', '-02_mp4-0760_jpg.rf.35bcae6ae83640e5693b200edaa0314c.jpg', '0723_mp4-0164_jpg.rf.c7644ddf80c8348d75db10dbef3e31e1.jpg', '-02_mp4-0191_jpg.rf.17007cdeb6ff9ff4f049bd7a9b5e8e01.jpg', '-02_mp4-0671_jpg.rf.256ef8476aea6afaef821588f6ea1502.jpg', '0723_mp4-0136_jpg.rf.605c278c34e87a446e1c7aa572b30fe6_mask.png', '-02_mp4-0633_jpg.rf.9e7a9507c4979057fd1e85f2dbb5a770_mask.png', '-02_mp4-0149_jpg.rf.7cd14a52a050ddddf0f5ed28ed9dd738_mask.png', '-02_mp4-0432_jpg.rf.0fa269003bd9ec5e6de277533581c674.jpg', '-02_mp4-0541_jpg.rf.4c46f8d528a065f94fb4d72745c9bdee.jpg', '-02_mp4-0596_jpg.rf.50f2d574227461f76f271fd62fb5fbd6.jpg', '0723_mp4-0159_jpg.rf.f693d1319158ca63374aeecb18d4f68a_mask.png', '0723_mp4-0199_jpg.rf.631b0a0563432fdb9b8ee50f28103708.jpg', '-02_mp4-0330_jpg.rf.a19239639f69eae7498faa535f225e1c.jpg', '-02_mp4-0366_jpg.rf.7038690b406d2aaba43fc1dc68da62f2.jpg', '-02_mp4-0689_jpg.rf.23b94c73ed3df2e405254f176f86b86d.jpg', '-02_mp4-0644_jpg.rf.54b7e7eb5544103fa956097a5ef5db98.jpg', '-02_mp4-0793_jpg.rf.4985e3a4caeaf22e63056996011714cd_mask.png', '-02_mp4-0330_jpg.rf.a19239639f69eae7498faa535f225e1c_mask.png', '-02_mp4-0178_jpg.rf.1b5f77b619900e80907c6096884a70c4_mask.png', '-02_mp4-0278_jpg.rf.26a7e4d711e459de6ba3a330ef6c5f5c_mask.png', '-02_mp4-0536_jpg.rf.06b78eb03b3b9e7b110447078f238ae8_mask.png', '-02_mp4-0337_jpg.rf.a42b6742e8bc7fd774dd0e1036857939.jpg', '-02_mp4-0024_jpg.rf.d68496f1b2350d7a6dbd542e6b117401_mask.png', '-02_mp4-0500_jpg.rf.cb5d6b66cbe9eddae0876962f32b826b_mask.png', '-02_mp4-0541_jpg.rf.4c46f8d528a065f94fb4d72745c9bdee_mask.png', '-02_mp4-0576_jpg.rf.454050e791322617ef70fcdca5ad2cca.jpg', '-02_mp4-0477_jpg.rf.9a06278f37c444f7d0b0ad35628ecc21_mask.png', '0723_mp4-0158_jpg.rf.a83b0e8a303cd87260aae5f105e7bb9f_mask.png', '-02_mp4-0735_jpg.rf.36a9f6d1988a084ac4fe52d5dc891f82.jpg', '0723_mp4-0144_jpg.rf.a6b08b7b01caf8476bf241ec7e4c13f4.jpg', '-02_mp4-0749_jpg.rf.440c967f089075cb40915f6ba164f4e0_mask.png', '-02_mp4-0369_jpg.rf.e7cbf34df2c548ed3d90b80e982aceac_mask.png', '-02_mp4-0110_jpg.rf.ca030b3bf460d9ce007a3fa506b62f69_mask.png', '-02_mp4-0702_jpg.rf.a1a5a156149d39a6f70fcae5a709a636.jpg', '-02_mp4-0737_jpg.rf.84790c6b0bf14bb1fcb1723cb8c67e7c.jpg', '0723_mp4-0006_jpg.rf.f2b36989bcf99c40502d52c7a251ddad_mask.png', '-02_mp4-0217_jpg.rf.1cc5455cac6fc82724cb3bb4bf5e4656.jpg', '-02_mp4-0453_jpg.rf.aec95e59d41ba9eaeb4d4d96754f2221_mask.png', '-02_mp4-0333_jpg.rf.4babfba1b130756f00b31455267aefc7_mask.png', '-02_mp4-0694_jpg.rf.178fd4322e2c12e39db58906dfd260ce.jpg', '-02_mp4-0349_jpg.rf.e401df108547c59938bfb5c1cb706742.jpg', '-02_mp4-0036_jpg.rf.7f88f927b4731cbb3d006f01d23cbd49.jpg', '-02_mp4-0318_jpg.rf.fc353fac7dbb92747eff48502213f6d0.jpg', '-02_mp4-0339_jpg.rf.908424e9922eb90287f710d4ea224a07.jpg', '-02_mp4-0496_jpg.rf.faec95346298fdaeaaa211f0e7b2bdc7_mask.png', '0723_mp4-0002_jpg.rf.e1aa84fbb57c0983db10af5612cd2ba8.jpg', '-02_mp4-0763_jpg.rf.2a220887c38c31d397bf397df9fd054e_mask.png', '-02_mp4-0715_jpg.rf.87d00366e8173a2e0d9f885a2aa413a4.jpg', '-02_mp4-0211_jpg.rf.cbe8a9519314d6805906e688e2b1f38f_mask.png', '-02_mp4-0741_jpg.rf.d354c7b403d9c4561710da3dab1cfd36.jpg', '-02_mp4-0103_jpg.rf.3437b7a252800eef54e555f6b4934ee7_mask.png', '-02_mp4-0223_jpg.rf.41c147b5307959c0777f380688755c46_mask.png', '0723_mp4-0026_jpg.rf.499db13128d3fac241a4c61fc5992cdc_mask.png', '0723_mp4-0020_jpg.rf.7c19111cef26868029e0e2433b802a3b_mask.png', '-02_mp4-0122_jpg.rf.a091067db6e44eb3d6116289e3049396.jpg', '-02_mp4-0633_jpg.rf.9e7a9507c4979057fd1e85f2dbb5a770.jpg', '-02_mp4-0154_jpg.rf.8aa338fccbeec2cd233cce20cf2f8129_mask.png', '-02_mp4-0421_jpg.rf.a367329b40c8944e42d2311e1290582d.jpg', '-02_mp4-0171_jpg.rf.15bea315785b84172bdeb985879f28f0.jpg', '-02_mp4-0232_jpg.rf.6b4c74b80da89980dde29ed891e1cdf0_mask.png', '-02_mp4-0510_jpg.rf.82e8b14fc63784262ada3e64b2ea748b_mask.png', '-02_mp4-0282_jpg.rf.38265f1fff60c9763a5b577706dbbf7b_mask.png', '0723_mp4-0102_jpg.rf.5cb900ce08cb269458deed9dd18de565.jpg', '0723_mp4-0129_jpg.rf.e630b51382f69e268f0de578d111a6aa.jpg', '-02_mp4-0553_jpg.rf.c54bcbb3034d6ea45313813300f631eb_mask.png', '-02_mp4-0213_jpg.rf.7787a30c75b0ba9e681b6e69ae7cf7f7.jpg', '-02_mp4-0304_jpg.rf.4c2af81a07056ee5d0be28409495196f.jpg', '-02_mp4-0088_jpg.rf.c7e6790e24611f65e19df8805d224cda_mask.png', '-02_mp4-0052_jpg.rf.dc48505cc39ff7d8725235e171a9d270_mask.png', '-02_mp4-0730_jpg.rf.4191c3c540a71cae887ad466c9fa7034_mask.png', '0723_mp4-0197_jpg.rf.972ede3b160194fbe8e4a93425fee1b3_mask.png', '-02_mp4-0017_jpg.rf.00bf43b11aa4be2749345f37fc35cff2.jpg', '-02_mp4-0765_jpg.rf.deed39ea949f50301b21c5471e976c4f.jpg', '-02_mp4-0507_jpg.rf.2e89a6e31b03f2a66cbd512b3b2ed434_mask.png', '0723_mp4-0075_jpg.rf.d73b4fc1be0f8ff5376a26181245b3f6_mask.png', '-02_mp4-0624_jpg.rf.65fbd2563800e02cdf3af29b5b88d9b5_mask.png', '-02_mp4-0213_jpg.rf.7787a30c75b0ba9e681b6e69ae7cf7f7_mask.png', '-02_mp4-0331_jpg.rf.e6d551007246efdaf7bbec09111e356e_mask.png', '-02_mp4-0425_jpg.rf.ffdf5e60f9bc037350df6a44356f31c3_mask.png', '-02_mp4-0040_jpg.rf.316acf0f2626f813fff77aba7618ba69.jpg', '-02_mp4-0341_jpg.rf.634c1aabe135ccc22e39df1c508aa872_mask.png', '-02_mp4-0786_jpg.rf.244a528176bef712ea3f68b2d12b36e5_mask.png', '-02_mp4-0440_jpg.rf.47e8490d147d6a3cc4ea5c1f8c1d1f32_mask.png', '0723_mp4-0128_jpg.rf.ca4c063de644414de3103e08ccfaef9a.jpg', '-02_mp4-0692_jpg.rf.3052269bcc2e90105eede655fabd4671_mask.png', '-02_mp4-0623_jpg.rf.9cbe157f5902e7b428c08dbfd0daf45e.jpg', '-02_mp4-0001_jpg.rf.74ff620ea64982bb60490e87a40dca19.jpg', '-02_mp4-0038_jpg.rf.095252395cbe8c355f7ca4f6407eff03_mask.png', '-02_mp4-0556_jpg.rf.ea3e8dcf22e7c552f40b27432930684c_mask.png', '-02_mp4-0435_jpg.rf.5629145c7d1ef0c777df593986f5e4ed.jpg', '-02_mp4-0306_jpg.rf.c14e7fe737aa32a52982129fc6b40317.jpg', '0723_mp4-0105_jpg.rf.7cb505b1ed378dc431f4ecd685924cf6.jpg', '-02_mp4-0771_jpg.rf.1d51f880804474d6b9f3cf39310ea17d_mask.png', '-02_mp4-0169_jpg.rf.36139ea5385f4de762e51665df0f66fd.jpg', '-02_mp4-0335_jpg.rf.668a325024ed27b5c0204ea3dd7454ff.jpg', '-02_mp4-0339_jpg.rf.908424e9922eb90287f710d4ea224a07_mask.png', '-02_mp4-0365_jpg.rf.fc5ed98d5d0a482201c64e7b4a65e389.jpg', '-02_mp4-0510_jpg.rf.82e8b14fc63784262ada3e64b2ea748b.jpg', '-02_mp4-0089_jpg.rf.127ce053afac6bdae093946a149b21f4_mask.png', '-02_mp4-0420_jpg.rf.b10d11ffeec75f3bafe5f9393e8a66d7.jpg', '-02_mp4-0735_jpg.rf.36a9f6d1988a084ac4fe52d5dc891f82_mask.png', '-02_mp4-0404_jpg.rf.aee5872e3984ad54c3a4881b2514d142_mask.png', '-02_mp4-0167_jpg.rf.434f4a77bc8147dee724e8e0526d5c18.jpg', '-02_mp4-0289_jpg.rf.fc9f94cc1922ba3de5513171431ae5d2_mask.png', '-02_mp4-0196_jpg.rf.95bef5065d071e01ff43803e00dfd76d.jpg', '0723_mp4-0048_jpg.rf.964aa47978fd00063fc7f51d38a03ff3.jpg', '-02_mp4-0191_jpg.rf.17007cdeb6ff9ff4f049bd7a9b5e8e01_mask.png', '-02_mp4-0311_jpg.rf.bd83b5f2a8ae266d5ea2575aa0d69e7c.jpg', '-02_mp4-0478_jpg.rf.605ecd019961f928747f3e0618ceb506_mask.png', '0723_mp4-0073_jpg.rf.9a2eedd910b314afc208326253d0f716.jpg', '-02_mp4-0187_jpg.rf.6957f30035b9e2aeb5f037080f03c48b.jpg', '-02_mp4-0359_jpg.rf.a6538a4434c3e3e1ef34a4b36052e0df.jpg', '-02_mp4-0679_jpg.rf.fadf576dcacee599ca606576873ae836_mask.png', '-02_mp4-0429_jpg.rf.f317fb5ff0d19b1e78cbec31dda5a959.jpg', '-02_mp4-0105_jpg.rf.343ed3f2ed395af58dd4702302e2b645.jpg', '-02_mp4-0397_jpg.rf.729d0fa13596c8ccf2563acdb52b3dca_mask.png', '-02_mp4-0340_jpg.rf.c18542335ecb428b45516f4daa1a7bcd_mask.png', '-02_mp4-0476_jpg.rf.c8c4865456df00e9490345e2a6cd5ad5_mask.png', '-02_mp4-0294_jpg.rf.67ac712b0dac7be92a87ce339879f57d_mask.png', '-02_mp4-0516_jpg.rf.509cdeb2cb4df40dc86707013e15c334.jpg', '-02_mp4-0721_jpg.rf.ef7b9b0273bfb6bd74f1341732c4ccef.jpg', '-02_mp4-0417_jpg.rf.4c9f765e7cdc3c3b33d3d7004832c83d_mask.png', '-02_mp4-0205_jpg.rf.42cf30970bfc649ee3d9df3f51a2f3cf.jpg', '-02_mp4-0234_jpg.rf.a15278bfccea648147b01c2016064aa1_mask.png', '-02_mp4-0661_jpg.rf.9a067e3f36ae92c4e7030b353b59848e_mask.png', '-02_mp4-0015_jpg.rf.3d6cda9c1d2d4b53f0900efb2b842505_mask.png', '-02_mp4-0556_jpg.rf.ea3e8dcf22e7c552f40b27432930684c.jpg', '0723_mp4-0019_jpg.rf.51014d59ce9d249a5bdf946727630d88_mask.png', '-02_mp4-0661_jpg.rf.9a067e3f36ae92c4e7030b353b59848e.jpg', '-02_mp4-0604_jpg.rf.c258544c3c44d59c5035342c4b2f054c.jpg', '-02_mp4-0501_jpg.rf.08a5c942e13e8b45c8036353bc06ca19_mask.png', '-02_mp4-0501_jpg.rf.08a5c942e13e8b45c8036353bc06ca19.jpg', '-02_mp4-0721_jpg.rf.ef7b9b0273bfb6bd74f1341732c4ccef_mask.png', '-02_mp4-0737_jpg.rf.84790c6b0bf14bb1fcb1723cb8c67e7c_mask.png', '-02_mp4-0511_jpg.rf.26ccb2346d096585447aab9bfd5391ae.jpg', '-02_mp4-0284_jpg.rf.d3ee8137bc79f450e59299992da1ef4f_mask.png', '-02_mp4-0746_jpg.rf.9f3399f56d8193e62af94e480e3e5f48_mask.png', '-02_mp4-0558_jpg.rf.dddda68d9259d47a359f3ca58de3d614_mask.png', '-02_mp4-0779_jpg.rf.d212728060c71860b9f74d64f1b5d646.jpg', '0723_mp4-0012_jpg.rf.e051a595ba63230415f4f688bbfcdfee_mask.png', '0723_mp4-0100_jpg.rf.5c1a6e3c89eeec5a6e89955e5cba5b51.jpg', '-02_mp4-0782_jpg.rf.257ec4684d3aaaa7f280e82e417145a7.jpg', '0723_mp4-0058_jpg.rf.6815d7c2cf89949e282c050a0a958dfd.jpg', '-02_mp4-0237_jpg.rf.1bb1673623270d1304c4f80b28238ead_mask.png', '-02_mp4-0609_jpg.rf.cf2a4bb104945f828dab0b1fbb423056_mask.png', '0723_mp4-0002_jpg.rf.e1aa84fbb57c0983db10af5612cd2ba8_mask.png', '-02_mp4-0421_jpg.rf.a367329b40c8944e42d2311e1290582d_mask.png', '-02_mp4-0200_jpg.rf.7825b4cc56d821a180b096e7d9ff17b2.jpg', '-02_mp4-0052_jpg.rf.dc48505cc39ff7d8725235e171a9d270.jpg', '-02_mp4-0669_jpg.rf.ca99ec11bc2a1501f330f2802a89a1ec.jpg', '0723_mp4-0052_jpg.rf.4b16bf9fa61ad2d5887cb3a214340998_mask.png', '-02_mp4-0585_jpg.rf.7aef6cbb29c2f09e3e8c2af5c7f6e668_mask.png', '-02_mp4-0351_jpg.rf.6d399a5a6204ce2dce2fedc12ad3d391_mask.png', '-02_mp4-0750_jpg.rf.f83b6a41fa27c223723aacf0c294ef96.jpg', '-02_mp4-0365_jpg.rf.fc5ed98d5d0a482201c64e7b4a65e389_mask.png', '-02_mp4-0028_jpg.rf.b1dd623d595befabda92048adc29357c_mask.png', '-02_mp4-0760_jpg.rf.35bcae6ae83640e5693b200edaa0314c_mask.png', '-02_mp4-0199_jpg.rf.20ef3fead497db4671e491247dec3c95.jpg', '-02_mp4-0472_jpg.rf.3602a14cf113efc4e8a43646eae35839_mask.png', '-02_mp4-0425_jpg.rf.ffdf5e60f9bc037350df6a44356f31c3.jpg', '-02_mp4-0776_jpg.rf.41f27b621f145f85ecbfd77a749458bd.jpg', '-02_mp4-0379_jpg.rf.f665b6385113326bb892de14ae30035c.jpg', '-02_mp4-0484_jpg.rf.faf3a9cf75f97502bce8d75fd0fb956d.jpg', '-02_mp4-0287_jpg.rf.7d4de09ef63975b0cf6d137105359563_mask.png', '0723_mp4-0046_jpg.rf.504f519927a7efca888de6d4f789822a_mask.png', '-02_mp4-0747_jpg.rf.e70e64404dc0f097d953e1eb4aacf63b_mask.png', '-02_mp4-0127_jpg.rf.678c55043db58829a433ad2d2262c4fb_mask.png', '-02_mp4-0706_jpg.rf.39ed2395aac04ada2df92ad8597c4270.jpg', '-02_mp4-0717_jpg.rf.44bb0369613197f47db4a11eed519220_mask.png', '-02_mp4-0570_jpg.rf.d581d47c909c4b5c21a7bc57e9a2fc10.jpg']\n",
            "valid 폴더 내 파일/폴더 목록: ['-02_mp4-0452_jpg.rf.d904c518e4b1bb2585f1bc3b207a29f5.jpg', '-02_mp4-0087_jpg.rf.26d253824cbbbb43b7465268169758d2_mask.png', '-02_mp4-0295_jpg.rf.afb6aeec6a7791747cf3beafb1751873_mask.png', '-02_mp4-0666_jpg.rf.d4e10c64c9d13dfe0fe94a5553995bd4_mask.png', '-02_mp4-0519_jpg.rf.64c96a2db17d0f01c463bb574287b1b7_mask.png', '-02_mp4-0164_jpg.rf.43ef21e4f9cf21e842d1b4e9cceb80fc_mask.png', '-02_mp4-0048_jpg.rf.3712ffa9855a929e71842b4a48961261.jpg', '-02_mp4-0662_jpg.rf.477e90dfdefdbe40a533453a4ee43fc6_mask.png', '-02_mp4-0183_jpg.rf.fa1d720039756a1d97fd5a35c8af5fde_mask.png', '0723_mp4-0182_jpg.rf.738bda997fbb1d2862cad06cb7e4b533_mask.png', '-02_mp4-0095_jpg.rf.b2bae421cd8cc54eae18feecf5bc4dfc_mask.png', '-02_mp4-0700_jpg.rf.67242038b3b516618ad04b3eacd6071f_mask.png', '-02_mp4-0626_jpg.rf.458b9c2375a64b63296f6187fd975672_mask.png', '-02_mp4-0768_jpg.rf.bfc75260836eaa8a280c69161958e298_mask.png', '0723_mp4-0027_jpg.rf.f5844ebfa7f14b7dcfee037fce1e9ade_mask.png', '-02_mp4-0748_jpg.rf.646d892b52c7b6ad38acd2b390f90f22.jpg', '0723_mp4-0016_jpg.rf.149ff8bd98fe8467c4e302ba1c9248c4.jpg', '-02_mp4-0147_jpg.rf.9a5b229712ab5b7dbebdb09251c03299.jpg', '-02_mp4-0761_jpg.rf.6d8485dce64297a3446b9b4d6cb918ce_mask.png', '-02_mp4-0734_jpg.rf.aaa4f9a153712812804330f18573cfee_mask.png', '-02_mp4-0209_jpg.rf.65f101c74452a8c134890f0f4e06ca2a_mask.png', '-02_mp4-0202_jpg.rf.9ce8377d8ef497f53c718c948ef8a7ee_mask.png', '-02_mp4-0587_jpg.rf.58849a2cd1dc8781b824c92e5c2937f0.jpg', '-02_mp4-0326_jpg.rf.1ac5e0c8e1cfcd70bf7e71e7fa579d29.jpg', '-02_mp4-0526_jpg.rf.0290dd9e61b27fc00910ab5f419a48dc.jpg', '0723_mp4-0063_jpg.rf.c3e83828690ce1c247ec309db43b19ba.jpg', '-02_mp4-0734_jpg.rf.aaa4f9a153712812804330f18573cfee.jpg', '-02_mp4-0648_jpg.rf.248e847a10a55fdab21ac34292d13255_mask.png', '0723_mp4-0139_jpg.rf.f9d9eb695ef3a9687688315b2d9292af_mask.png', '0723_mp4-0152_jpg.rf.68f3d6190bf546cf4255b4059c7a3003.jpg', '0723_mp4-0161_jpg.rf.435171eddcca187608058481a60485e1_mask.png', '0723_mp4-0106_jpg.rf.1267aa679738f7c37787422835aab6db_mask.png', '-02_mp4-0209_jpg.rf.65f101c74452a8c134890f0f4e06ca2a.jpg', '-02_mp4-0228_jpg.rf.b50d1096a84bde009f492a6b18431f65.jpg', '0723_mp4-0033_jpg.rf.1190cbf4bd44fbc719ebe9cc3be3a364.jpg', '-02_mp4-0785_jpg.rf.36d50d6aee44ef8f35b5cb9c72850c3a.jpg', '-02_mp4-0540_jpg.rf.33e1329e0c5e8ead8eed14525a8ffb89_mask.png', '0723_mp4-0014_jpg.rf.c97ee86bb5c299b9c02f5c2ad59831f0.jpg', '-02_mp4-0090_jpg.rf.e44f5eebebc5a11e42532db0dbf4edf5.jpg', '-02_mp4-0087_jpg.rf.26d253824cbbbb43b7465268169758d2.jpg', '-02_mp4-0197_jpg.rf.42e1d61d3e7c6ff46bff5b4b22b0f2b3.jpg', '0723_mp4-0182_jpg.rf.738bda997fbb1d2862cad06cb7e4b533.jpg', '0723_mp4-0035_jpg.rf.9a11459c931196cd8c811124fbf4912e.jpg', '-02_mp4-0526_jpg.rf.0290dd9e61b27fc00910ab5f419a48dc_mask.png', '-02_mp4-0362_jpg.rf.2be5677b199fe8a6a09064a4611d9721.jpg', '-02_mp4-0675_jpg.rf.e9cb4a1857b11e907e2530f7b2028f50_mask.png', '-02_mp4-0377_jpg.rf.a9624ceb383038a68aad93ba5c7040d5.jpg', '0723_mp4-0013_jpg.rf.d9f1d462e8e2013d744532ec97ca4a32_mask.png', '-02_mp4-0448_jpg.rf.8ca4d749af772f8ea8742abe505c8e29.jpg', '-02_mp4-0263_jpg.rf.623b128773bd91c55b772c763c6f5673.jpg', '-02_mp4-0423_jpg.rf.0d89171de95dc78542cc46d5100207fd.jpg', '-02_mp4-0593_jpg.rf.585f8b99bbfc7157becc2e09ad807ca2.jpg', '-02_mp4-0189_jpg.rf.fbfbbdd9deee724fe2df25e6a124e09e_mask.png', '-02_mp4-0152_jpg.rf.5b82df9d9776b42fa3b28a7486fb8ecd_mask.png', '-02_mp4-0481_jpg.rf.d926d7cfcba779d9fb19cb8bf39298e9_mask.png', '-02_mp4-0140_jpg.rf.b68ad75493d09f5e19566deb24210c52_mask.png', '-02_mp4-0243_jpg.rf.88554ab2b7a8bb37923c1adcd41fa169.jpg', '-02_mp4-0718_jpg.rf.513a95d659366d85c1849c28b9efc9f5_mask.png', '-02_mp4-0559_jpg.rf.7f7a1a4567735cf66a84a7acddbabd85.jpg', '-02_mp4-0662_jpg.rf.477e90dfdefdbe40a533453a4ee43fc6.jpg', '-02_mp4-0045_jpg.rf.4dcf8f559cfa580355a96022fd93cdde_mask.png', '-02_mp4-0048_jpg.rf.3712ffa9855a929e71842b4a48961261_mask.png', '-02_mp4-0148_jpg.rf.63868a57f5dd6438a04103db72df8bc8_mask.png', '-02_mp4-0039_jpg.rf.d39020a0adcab34fa38d967f8b22ec57.jpg', '-02_mp4-0761_jpg.rf.6d8485dce64297a3446b9b4d6cb918ce.jpg', '0723_mp4-0161_jpg.rf.435171eddcca187608058481a60485e1.jpg', '-02_mp4-0698_jpg.rf.008385a8587bf8357f695340bf56afd9_mask.png', '_classes.csv', '-02_mp4-0787_jpg.rf.9ddf6f3347ee4d821a13ba70de079192.jpg', '-02_mp4-0754_jpg.rf.6bebbe2f88318149432afe51091033d2_mask.png', '-02_mp4-0651_jpg.rf.a16a7dc60fc3197e0140c30cb7925ff7_mask.png', '-02_mp4-0716_jpg.rf.d9effe38a561c9e7f7bf3c8322b45fe1.jpg', '-02_mp4-0675_jpg.rf.e9cb4a1857b11e907e2530f7b2028f50.jpg', '0723_mp4-0115_jpg.rf.f55cde8de9300d8c54cce314af713dda_mask.png', '-02_mp4-0625_jpg.rf.fc2239274b6bdcf614d18eadf5f95227_mask.png', '0723_mp4-0198_jpg.rf.05730aa7372340aafaea808ea0ebc53f_mask.png', '0723_mp4-0179_jpg.rf.e9c87123dc61a5073c4b593f67b689bb_mask.png', '-02_mp4-0458_jpg.rf.0625b40a3074b690759140acd69b0ee5_mask.png', '-02_mp4-0442_jpg.rf.4ec9cda08c1cec2d2105f9318c3b27e9_mask.png', '0723_mp4-0050_jpg.rf.1406bd89d921dd0c19ee603ecc79a941_mask.png', '-02_mp4-0579_jpg.rf.07188815d69176d2195a18bef2428b87_mask.png', '-02_mp4-0683_jpg.rf.f51599501fb284cf68c786f3f7bf5714_mask.png', '0723_mp4-0081_jpg.rf.4e3d9ac31ca01622c71a1e5c56970761.jpg', '0723_mp4-0031_jpg.rf.1f53b5dec8564bd5974c2a0871cf1132_mask.png', '-02_mp4-0214_jpg.rf.889fb48d08581d12ed9945543ac91dec.jpg', '-02_mp4-0156_jpg.rf.e887d00b2dc74961c270133f22d4bcf0_mask.png', '-02_mp4-0665_jpg.rf.3ca9344b15c0f59d06162366cb0b72bc_mask.png', '0723_mp4-0027_jpg.rf.f5844ebfa7f14b7dcfee037fce1e9ade.jpg', '-02_mp4-0246_jpg.rf.1aa5e7623714bf3463e71985ca70d845_mask.png', '-02_mp4-0131_jpg.rf.51d9700d25de98ab761d6fed9425f0a8.jpg', '-02_mp4-0392_jpg.rf.f86614e87101a3da65b59385835bf41d_mask.png', '-02_mp4-0039_jpg.rf.d39020a0adcab34fa38d967f8b22ec57_mask.png', '-02_mp4-0768_jpg.rf.bfc75260836eaa8a280c69161958e298.jpg', '-02_mp4-0226_jpg.rf.e891ed22dc3f77e3c2a7ee0e65c14cca_mask.png', '0723_mp4-0137_jpg.rf.4ba0ec43fd853906044779a5c71ce361.jpg', '-02_mp4-0506_jpg.rf.c0213bc8822f469aa261d7232f256e2f_mask.png', '-02_mp4-0720_jpg.rf.d4eb4e8da644c75d8fb7152f3369a415_mask.png', '-02_mp4-0326_jpg.rf.1ac5e0c8e1cfcd70bf7e71e7fa579d29_mask.png', '-02_mp4-0627_jpg.rf.43f7b51ac47f02fbfe906eebfb8a6105.jpg', '-02_mp4-0086_jpg.rf.952af584abc034f03e61803e96166338.jpg', '-02_mp4-0672_jpg.rf.f42f23528297e0db7683a8dba1c77211_mask.png', '-02_mp4-0638_jpg.rf.a63da2ca3db46cd1d5108c59c580ec2d_mask.png', '-02_mp4-0045_jpg.rf.4dcf8f559cfa580355a96022fd93cdde.jpg', '-02_mp4-0416_jpg.rf.c9ea49173d16a390164d407b557b302f_mask.png', '-02_mp4-0506_jpg.rf.c0213bc8822f469aa261d7232f256e2f.jpg', '-02_mp4-0561_jpg.rf.9a64120e4f5d538208dff7454ca2cc4c.jpg', '-02_mp4-0170_jpg.rf.558fe602532bca91e93dd7cd2fa5a76f_mask.png', '-02_mp4-0685_jpg.rf.ec8165b2c68982ba046dcfd800792cbb.jpg', '-02_mp4-0134_jpg.rf.4734f5d9cfe089820cd675a79e025673.jpg', '-02_mp4-0161_jpg.rf.998faf6999365c49e82bf88fd90e1368.jpg', '-02_mp4-0593_jpg.rf.585f8b99bbfc7157becc2e09ad807ca2_mask.png', '-02_mp4-0152_jpg.rf.5b82df9d9776b42fa3b28a7486fb8ecd.jpg', '-02_mp4-0636_jpg.rf.aea6d2783594a3472d778335289616a0_mask.png', '-02_mp4-0473_jpg.rf.64c4f3d3b6579916f5b95a59f2c9b63b.jpg', '-02_mp4-0298_jpg.rf.eb55344075aee175939ebc138b007935_mask.png', '-02_mp4-0591_jpg.rf.e8b66a2557c4fd8bce7230029a6de3d5.jpg', '-02_mp4-0134_jpg.rf.4734f5d9cfe089820cd675a79e025673_mask.png', '0723_mp4-0106_jpg.rf.1267aa679738f7c37787422835aab6db.jpg', '-02_mp4-0077_jpg.rf.f9186c39e55046527d59093b470972e5_mask.png', '-02_mp4-0243_jpg.rf.88554ab2b7a8bb37923c1adcd41fa169_mask.png', '-02_mp4-0748_jpg.rf.646d892b52c7b6ad38acd2b390f90f22_mask.png', '-02_mp4-0411_jpg.rf.c92eb755300ef5d06963c20e9c1245d2_mask.png', '-02_mp4-0106_jpg.rf.e9eeedf9eefe6e8996e6f8e1b4812258.jpg', '-02_mp4-0572_jpg.rf.914c80002e9fc8ac60335c0857b0143a_mask.png', '-02_mp4-0086_jpg.rf.952af584abc034f03e61803e96166338_mask.png', '-02_mp4-0458_jpg.rf.0625b40a3074b690759140acd69b0ee5.jpg', '-02_mp4-0482_jpg.rf.d68698ba4e3834bf431425caa2c6562a_mask.png', '-02_mp4-0272_jpg.rf.47bcd4fd687fbd466f149c72144fe78c.jpg', '-02_mp4-0731_jpg.rf.488e732cb46d9191e924346cb7845b0c_mask.png', '-02_mp4-0327_jpg.rf.51b888f9b64ca9d9e8f4f17c0de5f81b_mask.png', '-02_mp4-0561_jpg.rf.9a64120e4f5d538208dff7454ca2cc4c_mask.png', '-02_mp4-0545_jpg.rf.2123874e7eac96a638385efff3254500.jpg', '0723_mp4-0189_jpg.rf.c8a2270b0d717f9be15468bc37beae8e_mask.png', '-02_mp4-0762_jpg.rf.a0fc51c4721f111a0e3b789b79590b0d.jpg', '0723_mp4-0063_jpg.rf.c3e83828690ce1c247ec309db43b19ba_mask.png', '-02_mp4-0664_jpg.rf.3f2206d07da06298dcb43968574bee47_mask.png', '-02_mp4-0569_jpg.rf.d076a7729a058717c2115613cdebb29f.jpg', '-02_mp4-0774_jpg.rf.d104d29dac91ed550c439fe24894900d_mask.png', '-02_mp4-0023_jpg.rf.3362154bd303e61cdd9126e1147a15e1_mask.png', '-02_mp4-0594_jpg.rf.7cc7fc04524dbfc0c41fe36b152d3d79.jpg', '0723_mp4-0110_jpg.rf.9589a77948915e592fb02a72514c50ab.jpg', '-02_mp4-0540_jpg.rf.33e1329e0c5e8ead8eed14525a8ffb89.jpg', '-02_mp4-0090_jpg.rf.e44f5eebebc5a11e42532db0dbf4edf5_mask.png', '0723_mp4-0017_jpg.rf.09f081565498662a33f352a9db1e80a9.jpg', '0723_mp4-0200_jpg.rf.051be1e87d4bf0e9bbb513f3f81c66d6_mask.png', '-02_mp4-0106_jpg.rf.e9eeedf9eefe6e8996e6f8e1b4812258_mask.png', '-02_mp4-0392_jpg.rf.f86614e87101a3da65b59385835bf41d.jpg', '0723_mp4-0028_jpg.rf.443aafc933362d8756c62a75b7b226dd.jpg', '0723_mp4-0071_jpg.rf.1362669d70f63d0ca50dd682a3faf9cb.jpg', '-02_mp4-0279_jpg.rf.37de70ce93f08507bc5a485b81b356b6.jpg', '0723_mp4-0110_jpg.rf.9589a77948915e592fb02a72514c50ab_mask.png', '-02_mp4-0594_jpg.rf.7cc7fc04524dbfc0c41fe36b152d3d79_mask.png', '-02_mp4-0591_jpg.rf.e8b66a2557c4fd8bce7230029a6de3d5_mask.png', '0723_mp4-0175_jpg.rf.7b80ea0b2e1d358d5ea81f14106d4ea9_mask.png', '-02_mp4-0312_jpg.rf.0bdf5bc201def65fe98d64c2701f96e1_mask.png', '-02_mp4-0220_jpg.rf.bd7d912fdf9b121ef3160783df7eeaf7_mask.png', '-02_mp4-0272_jpg.rf.47bcd4fd687fbd466f149c72144fe78c_mask.png', '-02_mp4-0037_jpg.rf.1f52d487e93ce600806bc879e12cd993.jpg', '-02_mp4-0246_jpg.rf.1aa5e7623714bf3463e71985ca70d845.jpg', '-02_mp4-0628_jpg.rf.df282d3c925b72052b7489fca7b32a4f.jpg', '0723_mp4-0010_jpg.rf.b243e4b78933fb06d71d63bd6c41fdb2_mask.png', '-02_mp4-0016_jpg.rf.364121b8fcc981e75d47f28b4a29152a_mask.png', '0723_mp4-0038_jpg.rf.1d942ec3de3a8e1d786053230020cfec.jpg', '-02_mp4-0499_jpg.rf.1605c996b90076e70fd828bdfc1710be_mask.png', '-02_mp4-0128_jpg.rf.42c89a88f7fd6ff46f1da7393c460305.jpg', '0723_mp4-0179_jpg.rf.e9c87123dc61a5073c4b593f67b689bb.jpg', '-02_mp4-0664_jpg.rf.3f2206d07da06298dcb43968574bee47.jpg', '-02_mp4-0638_jpg.rf.a63da2ca3db46cd1d5108c59c580ec2d.jpg', '0723_mp4-0198_jpg.rf.05730aa7372340aafaea808ea0ebc53f.jpg', '0723_mp4-0125_jpg.rf.de537e902b1eaa5a8c2624cdcc1f001b_mask.png', '0723_mp4-0189_jpg.rf.c8a2270b0d717f9be15468bc37beae8e.jpg', '-02_mp4-0183_jpg.rf.fa1d720039756a1d97fd5a35c8af5fde.jpg', '-02_mp4-0565_jpg.rf.5d5bbf1bbb64772e24ff6beca5127513.jpg', '-02_mp4-0119_jpg.rf.cfc7bb0c5c0114a32111a8c12176e5f2_mask.png', '-02_mp4-0663_jpg.rf.f25ba06a00fba1b3d2d06fa6cf5c48c7.jpg', '0723_mp4-0115_jpg.rf.f55cde8de9300d8c54cce314af713dda.jpg', '-02_mp4-0785_jpg.rf.36d50d6aee44ef8f35b5cb9c72850c3a_mask.png', '-02_mp4-0226_jpg.rf.e891ed22dc3f77e3c2a7ee0e65c14cca.jpg', '-02_mp4-0555_jpg.rf.b68975810ad871ce055fc47ce6d14648_mask.png', '-02_mp4-0055_jpg.rf.fa83844615f655c8f299d09c4613af03_mask.png', '-02_mp4-0720_jpg.rf.d4eb4e8da644c75d8fb7152f3369a415.jpg', '0723_mp4-0010_jpg.rf.b243e4b78933fb06d71d63bd6c41fdb2.jpg', '-02_mp4-0519_jpg.rf.64c96a2db17d0f01c463bb574287b1b7.jpg', '-02_mp4-0595_jpg.rf.b0b8d262d60ed8f79aa320f608c95798_mask.png', '-02_mp4-0192_jpg.rf.e3b2b8b0a7dfa95fbc07fc386595e0a7.jpg', '-02_mp4-0714_jpg.rf.1c300e6a3da419a13bab6203f6af2a67_mask.png', '-02_mp4-0616_jpg.rf.6273745f8e005644882f97f1beb90900.jpg', '-02_mp4-0627_jpg.rf.43f7b51ac47f02fbfe906eebfb8a6105_mask.png', '0723_mp4-0064_jpg.rf.ed5324ca2eeaf71ee935c9d044ca14e3.jpg', '-02_mp4-0214_jpg.rf.889fb48d08581d12ed9945543ac91dec_mask.png', '0723_mp4-0135_jpg.rf.3607c4d33d370eb812c259f45f7dc504.jpg', '-02_mp4-0156_jpg.rf.e887d00b2dc74961c270133f22d4bcf0.jpg', '-02_mp4-0389_jpg.rf.0ea5afd6e86b5dddbbcbdb60bd5818a4_mask.png', '-02_mp4-0454_jpg.rf.3824fa8359b26b1e51a13a9332cc7487.jpg', '-02_mp4-0104_jpg.rf.f6595300623343d459e53a5c71a18573_mask.png', '-02_mp4-0244_jpg.rf.97d49e32efc497dd932f98c0d41bdb5f.jpg', '0723_mp4-0018_jpg.rf.3cee32abaa326f66e7cd2426fdfdd044.jpg', '-02_mp4-0493_jpg.rf.32a401058abaf98bcb6beec044bfb0dd.jpg', '0723_mp4-0079_jpg.rf.cd41378da378746b7af31dc4ef0f8c1f_mask.png', '-02_mp4-0148_jpg.rf.63868a57f5dd6438a04103db72df8bc8.jpg', '0723_mp4-0116_jpg.rf.13f2bcb6d1b5f8362e3ba9a80b88fce3.jpg', '0723_mp4-0137_jpg.rf.4ba0ec43fd853906044779a5c71ce361_mask.png', '-02_mp4-0590_jpg.rf.bde42e1c162bbb10dc8805010f8f4893.jpg', '-02_mp4-0131_jpg.rf.51d9700d25de98ab761d6fed9425f0a8_mask.png', '-02_mp4-0377_jpg.rf.a9624ceb383038a68aad93ba5c7040d5_mask.png', '-02_mp4-0579_jpg.rf.07188815d69176d2195a18bef2428b87.jpg', '-02_mp4-0170_jpg.rf.558fe602532bca91e93dd7cd2fa5a76f.jpg', '-02_mp4-0560_jpg.rf.9c91d59ffdd0c47d549e7cfa16dfc8c3_mask.png', '-02_mp4-0016_jpg.rf.364121b8fcc981e75d47f28b4a29152a.jpg', '-02_mp4-0683_jpg.rf.f51599501fb284cf68c786f3f7bf5714.jpg', '0723_mp4-0139_jpg.rf.f9d9eb695ef3a9687688315b2d9292af.jpg', '-02_mp4-0190_jpg.rf.0ccc693fabc1bc006dae7c22f3f0d8b0_mask.png', '-02_mp4-0537_jpg.rf.0d5b94f1bac9304a06d5cb5675a3b8af.jpg', '-02_mp4-0499_jpg.rf.1605c996b90076e70fd828bdfc1710be.jpg', '-02_mp4-0119_jpg.rf.cfc7bb0c5c0114a32111a8c12176e5f2.jpg', '0723_mp4-0017_jpg.rf.09f081565498662a33f352a9db1e80a9_mask.png', '-02_mp4-0312_jpg.rf.0bdf5bc201def65fe98d64c2701f96e1.jpg', '0723_mp4-0134_jpg.rf.745bdf0beba127b56f06436c2fadde59_mask.png', '-02_mp4-0648_jpg.rf.248e847a10a55fdab21ac34292d13255.jpg', '-02_mp4-0537_jpg.rf.0d5b94f1bac9304a06d5cb5675a3b8af_mask.png', '-02_mp4-0678_jpg.rf.441fd91a5a3ef6301751efd12c12bb8f.jpg', '-02_mp4-0527_jpg.rf.ed21a74c0a37a2dbbf0688c8981c882c.jpg', '0723_mp4-0134_jpg.rf.745bdf0beba127b56f06436c2fadde59.jpg', '-02_mp4-0055_jpg.rf.fa83844615f655c8f299d09c4613af03.jpg', '0723_mp4-0031_jpg.rf.1f53b5dec8564bd5974c2a0871cf1132.jpg', '0723_mp4-0013_jpg.rf.d9f1d462e8e2013d744532ec97ca4a32.jpg', '-02_mp4-0755_jpg.rf.4d2c1b8305ae2f024909d21687c1e9f7.jpg', '0723_mp4-0030_jpg.rf.2511d9f1de7f880ae835d86642efab2b.jpg', '-02_mp4-0098_jpg.rf.b2d301d832f243e6951fc687b3bcd5a6.jpg', '0723_mp4-0018_jpg.rf.3cee32abaa326f66e7cd2426fdfdd044_mask.png', '-02_mp4-0252_jpg.rf.4194d3e43db67b04cc96983fd109fc13_mask.png', '-02_mp4-0322_jpg.rf.704aa45635b452ffc8713e8a0eb20854.jpg', '-02_mp4-0685_jpg.rf.ec8165b2c68982ba046dcfd800792cbb_mask.png', '-02_mp4-0590_jpg.rf.bde42e1c162bbb10dc8805010f8f4893_mask.png', '-02_mp4-0174_jpg.rf.d67dba775c1ed3a61fd14b779f15b3aa_mask.png', '-02_mp4-0665_jpg.rf.3ca9344b15c0f59d06162366cb0b72bc.jpg', '0723_mp4-0200_jpg.rf.051be1e87d4bf0e9bbb513f3f81c66d6.jpg', '-02_mp4-0416_jpg.rf.c9ea49173d16a390164d407b557b302f.jpg', '-02_mp4-0718_jpg.rf.513a95d659366d85c1849c28b9efc9f5.jpg', '-02_mp4-0545_jpg.rf.2123874e7eac96a638385efff3254500_mask.png', '-02_mp4-0774_jpg.rf.d104d29dac91ed550c439fe24894900d.jpg', '-02_mp4-0728_jpg.rf.ac1595283fce32ef054f6226af0f2b0a_mask.png', '-02_mp4-0483_jpg.rf.c119255d300a41ec72e190bc51db7e54.jpg', '-02_mp4-0616_jpg.rf.6273745f8e005644882f97f1beb90900_mask.png', '-02_mp4-0714_jpg.rf.1c300e6a3da419a13bab6203f6af2a67.jpg', '0723_mp4-0064_jpg.rf.ed5324ca2eeaf71ee935c9d044ca14e3_mask.png', '-02_mp4-0481_jpg.rf.d926d7cfcba779d9fb19cb8bf39298e9.jpg', '0723_mp4-0071_jpg.rf.1362669d70f63d0ca50dd682a3faf9cb_mask.png', '-02_mp4-0493_jpg.rf.32a401058abaf98bcb6beec044bfb0dd_mask.png', '-02_mp4-0491_jpg.rf.4360d20affd458ef26c8932207af38c9.jpg', '-02_mp4-0252_jpg.rf.4194d3e43db67b04cc96983fd109fc13.jpg', '-02_mp4-0560_jpg.rf.9c91d59ffdd0c47d549e7cfa16dfc8c3.jpg', '-02_mp4-0711_jpg.rf.020894c4eeef63b91c5b29694501f4ec_mask.png', '-02_mp4-0587_jpg.rf.58849a2cd1dc8781b824c92e5c2937f0_mask.png', '-02_mp4-0542_jpg.rf.d9b6554f947333c0e10160a95392f8f5_mask.png', '0723_mp4-0116_jpg.rf.13f2bcb6d1b5f8362e3ba9a80b88fce3_mask.png', '-02_mp4-0162_jpg.rf.2689f4343d8c10ab42ab414cc64e8a76.jpg', '-02_mp4-0482_jpg.rf.d68698ba4e3834bf431425caa2c6562a.jpg', '-02_mp4-0279_jpg.rf.37de70ce93f08507bc5a485b81b356b6_mask.png', '-02_mp4-0700_jpg.rf.67242038b3b516618ad04b3eacd6071f.jpg', '0723_mp4-0028_jpg.rf.443aafc933362d8756c62a75b7b226dd_mask.png', '0723_mp4-0016_jpg.rf.149ff8bd98fe8467c4e302ba1c9248c4_mask.png', '0723_mp4-0174_jpg.rf.66cbf3a6070d18ee382f3600754861fe.jpg', '-02_mp4-0295_jpg.rf.afb6aeec6a7791747cf3beafb1751873.jpg', '-02_mp4-0663_jpg.rf.f25ba06a00fba1b3d2d06fa6cf5c48c7_mask.png', '-02_mp4-0666_jpg.rf.d4e10c64c9d13dfe0fe94a5553995bd4.jpg', '-02_mp4-0288_jpg.rf.9be41ab7e46fb686869cbece69ead631.jpg', '-02_mp4-0381_jpg.rf.5263e390aabf5d5494c3f44eb164a7c2_mask.png', '-02_mp4-0452_jpg.rf.d904c518e4b1bb2585f1bc3b207a29f5_mask.png', '-02_mp4-0140_jpg.rf.b68ad75493d09f5e19566deb24210c52.jpg', '0723_mp4-0050_jpg.rf.1406bd89d921dd0c19ee603ecc79a941.jpg', '-02_mp4-0362_jpg.rf.2be5677b199fe8a6a09064a4611d9721_mask.png', '-02_mp4-0174_jpg.rf.d67dba775c1ed3a61fd14b779f15b3aa.jpg', '-02_mp4-0220_jpg.rf.bd7d912fdf9b121ef3160783df7eeaf7.jpg', '-02_mp4-0442_jpg.rf.4ec9cda08c1cec2d2105f9318c3b27e9.jpg', '-02_mp4-0411_jpg.rf.c92eb755300ef5d06963c20e9c1245d2.jpg', '-02_mp4-0023_jpg.rf.3362154bd303e61cdd9126e1147a15e1.jpg', '0723_mp4-0033_jpg.rf.1190cbf4bd44fbc719ebe9cc3be3a364_mask.png', '-02_mp4-0164_jpg.rf.43ef21e4f9cf21e842d1b4e9cceb80fc.jpg', '-02_mp4-0595_jpg.rf.b0b8d262d60ed8f79aa320f608c95798.jpg', '-02_mp4-0305_jpg.rf.e0c5ab1aa4084b642ff58d79c304d004_mask.png', '-02_mp4-0197_jpg.rf.42e1d61d3e7c6ff46bff5b4b22b0f2b3_mask.png', '0723_mp4-0035_jpg.rf.9a11459c931196cd8c811124fbf4912e_mask.png', '-02_mp4-0263_jpg.rf.623b128773bd91c55b772c763c6f5673_mask.png', '-02_mp4-0716_jpg.rf.d9effe38a561c9e7f7bf3c8322b45fe1_mask.png', '-02_mp4-0433_jpg.rf.e26aa2c40263305b2030452f232addfd_mask.png', '-02_mp4-0095_jpg.rf.b2bae421cd8cc54eae18feecf5bc4dfc.jpg', '-02_mp4-0002_jpg.rf.8787d346b2a850be4e7509bd00927e51_mask.png', '0723_mp4-0196_jpg.rf.66639bcd8be281ede7fd9671d00de8cb.jpg', '-02_mp4-0125_jpg.rf.13d9198c4bd5e44bd694e164c54aed8d_mask.png', '-02_mp4-0651_jpg.rf.a16a7dc60fc3197e0140c30cb7925ff7.jpg', '-02_mp4-0310_jpg.rf.dd66188e5a7df4b27d8805b31092408f.jpg', '-02_mp4-0310_jpg.rf.dd66188e5a7df4b27d8805b31092408f_mask.png', '-02_mp4-0098_jpg.rf.b2d301d832f243e6951fc687b3bcd5a6_mask.png', '-02_mp4-0206_jpg.rf.1bf0512f319fca967fc9cdac30538596_mask.png', '-02_mp4-0646_jpg.rf.e53f1f7c57359281ccc9bc91a9e90163_mask.png', '-02_mp4-0625_jpg.rf.fc2239274b6bdcf614d18eadf5f95227.jpg', '-02_mp4-0423_jpg.rf.0d89171de95dc78542cc46d5100207fd_mask.png', '-02_mp4-0542_jpg.rf.d9b6554f947333c0e10160a95392f8f5.jpg', '-02_mp4-0711_jpg.rf.020894c4eeef63b91c5b29694501f4ec.jpg', '0723_mp4-0152_jpg.rf.68f3d6190bf546cf4255b4059c7a3003_mask.png', '0723_mp4-0038_jpg.rf.1d942ec3de3a8e1d786053230020cfec_mask.png', '-02_mp4-0646_jpg.rf.e53f1f7c57359281ccc9bc91a9e90163.jpg', '-02_mp4-0147_jpg.rf.9a5b229712ab5b7dbebdb09251c03299_mask.png', '0723_mp4-0030_jpg.rf.2511d9f1de7f880ae835d86642efab2b_mask.png', '-02_mp4-0190_jpg.rf.0ccc693fabc1bc006dae7c22f3f0d8b0.jpg', '-02_mp4-0244_jpg.rf.97d49e32efc497dd932f98c0d41bdb5f_mask.png', '-02_mp4-0390_jpg.rf.c28524c33948608f3124a48b3aaf4b91.jpg', '-02_mp4-0728_jpg.rf.ac1595283fce32ef054f6226af0f2b0a.jpg', '0723_mp4-0196_jpg.rf.66639bcd8be281ede7fd9671d00de8cb_mask.png', '-02_mp4-0731_jpg.rf.488e732cb46d9191e924346cb7845b0c.jpg', '-02_mp4-0527_jpg.rf.ed21a74c0a37a2dbbf0688c8981c882c_mask.png', '-02_mp4-0559_jpg.rf.7f7a1a4567735cf66a84a7acddbabd85_mask.png', '0723_mp4-0125_jpg.rf.de537e902b1eaa5a8c2624cdcc1f001b.jpg', '0723_mp4-0079_jpg.rf.cd41378da378746b7af31dc4ef0f8c1f.jpg', '-02_mp4-0189_jpg.rf.fbfbbdd9deee724fe2df25e6a124e09e.jpg', '-02_mp4-0298_jpg.rf.eb55344075aee175939ebc138b007935.jpg', '-02_mp4-0080_jpg.rf.05c4a3c31bdc468a225a4a970ad4f148_mask.png', '-02_mp4-0077_jpg.rf.f9186c39e55046527d59093b470972e5.jpg', '-02_mp4-0491_jpg.rf.4360d20affd458ef26c8932207af38c9_mask.png', '-02_mp4-0483_jpg.rf.c119255d300a41ec72e190bc51db7e54_mask.png', '-02_mp4-0433_jpg.rf.e26aa2c40263305b2030452f232addfd.jpg', '-02_mp4-0192_jpg.rf.e3b2b8b0a7dfa95fbc07fc386595e0a7_mask.png', '0723_mp4-0135_jpg.rf.3607c4d33d370eb812c259f45f7dc504_mask.png', '-02_mp4-0636_jpg.rf.aea6d2783594a3472d778335289616a0.jpg', '-02_mp4-0104_jpg.rf.f6595300623343d459e53a5c71a18573.jpg', '-02_mp4-0125_jpg.rf.13d9198c4bd5e44bd694e164c54aed8d.jpg', '-02_mp4-0448_jpg.rf.8ca4d749af772f8ea8742abe505c8e29_mask.png', '-02_mp4-0218_jpg.rf.bffd45ea62ddfa90a16a949fbc49ccb9.jpg', '-02_mp4-0002_jpg.rf.8787d346b2a850be4e7509bd00927e51.jpg', '-02_mp4-0473_jpg.rf.64c4f3d3b6579916f5b95a59f2c9b63b_mask.png', '0723_mp4-0174_jpg.rf.66cbf3a6070d18ee382f3600754861fe_mask.png', '-02_mp4-0202_jpg.rf.9ce8377d8ef497f53c718c948ef8a7ee.jpg', '-02_mp4-0218_jpg.rf.bffd45ea62ddfa90a16a949fbc49ccb9_mask.png', '-02_mp4-0322_jpg.rf.704aa45635b452ffc8713e8a0eb20854_mask.png', '-02_mp4-0381_jpg.rf.5263e390aabf5d5494c3f44eb164a7c2.jpg', '-02_mp4-0454_jpg.rf.3824fa8359b26b1e51a13a9332cc7487_mask.png', '-02_mp4-0787_jpg.rf.9ddf6f3347ee4d821a13ba70de079192_mask.png', '0723_mp4-0081_jpg.rf.4e3d9ac31ca01622c71a1e5c56970761_mask.png', '-02_mp4-0628_jpg.rf.df282d3c925b72052b7489fca7b32a4f_mask.png', '-02_mp4-0327_jpg.rf.51b888f9b64ca9d9e8f4f17c0de5f81b.jpg', '-02_mp4-0755_jpg.rf.4d2c1b8305ae2f024909d21687c1e9f7_mask.png', '-02_mp4-0228_jpg.rf.b50d1096a84bde009f492a6b18431f65_mask.png', '-02_mp4-0555_jpg.rf.b68975810ad871ce055fc47ce6d14648.jpg', '-02_mp4-0569_jpg.rf.d076a7729a058717c2115613cdebb29f_mask.png', '-02_mp4-0754_jpg.rf.6bebbe2f88318149432afe51091033d2.jpg', '-02_mp4-0162_jpg.rf.2689f4343d8c10ab42ab414cc64e8a76_mask.png', '-02_mp4-0128_jpg.rf.42c89a88f7fd6ff46f1da7393c460305_mask.png', '-02_mp4-0672_jpg.rf.f42f23528297e0db7683a8dba1c77211.jpg', '0723_mp4-0175_jpg.rf.7b80ea0b2e1d358d5ea81f14106d4ea9.jpg', '-02_mp4-0305_jpg.rf.e0c5ab1aa4084b642ff58d79c304d004.jpg', '-02_mp4-0626_jpg.rf.458b9c2375a64b63296f6187fd975672.jpg', '-02_mp4-0161_jpg.rf.998faf6999365c49e82bf88fd90e1368_mask.png', '-02_mp4-0565_jpg.rf.5d5bbf1bbb64772e24ff6beca5127513_mask.png', '-02_mp4-0206_jpg.rf.1bf0512f319fca967fc9cdac30538596.jpg', '-02_mp4-0572_jpg.rf.914c80002e9fc8ac60335c0857b0143a.jpg', '-02_mp4-0037_jpg.rf.1f52d487e93ce600806bc879e12cd993_mask.png', '-02_mp4-0698_jpg.rf.008385a8587bf8357f695340bf56afd9.jpg', '-02_mp4-0389_jpg.rf.0ea5afd6e86b5dddbbcbdb60bd5818a4.jpg', '-02_mp4-0288_jpg.rf.9be41ab7e46fb686869cbece69ead631_mask.png', '-02_mp4-0678_jpg.rf.441fd91a5a3ef6301751efd12c12bb8f_mask.png', '0723_mp4-0014_jpg.rf.c97ee86bb5c299b9c02f5c2ad59831f0_mask.png', '-02_mp4-0080_jpg.rf.05c4a3c31bdc468a225a4a970ad4f148.jpg', '-02_mp4-0390_jpg.rf.c28524c33948608f3124a48b3aaf4b91_mask.png', '-02_mp4-0762_jpg.rf.a0fc51c4721f111a0e3b789b79590b0d_mask.png']\n",
            "test 폴더 내 파일/폴더 목록: ['-02_mp4-0508_jpg.rf.975df557857893148e43e2d52f384944.jpg', '-02_mp4-0370_jpg.rf.813bc9a445726dd4dd2a09051662bc5f.jpg', '-02_mp4-0647_jpg.rf.f9e589733b6ab6955e1e7ff3fd1f3c5c.jpg', '-02_mp4-0708_jpg.rf.2cb968b26df61a877cc16b77427702ff_mask.png', '-02_mp4-0363_jpg.rf.c51fb3ab1d6fe5145aead8bd103e438f.jpg', '-02_mp4-0116_jpg.rf.546dd181a0b1fc5ca44adb66dd215518.jpg', '-02_mp4-0168_jpg.rf.a5608058c4ac28c281b61d771b7f2ea1_mask.png', '-02_mp4-0355_jpg.rf.4d31f38959baf54b6df6c5f19f1974c1_mask.png', '-02_mp4-0283_jpg.rf.df99cb58883154b81f80ba0a174cbb49.jpg', '-02_mp4-0586_jpg.rf.d1279bd7cd3a29d002728fa95e4e93c3.jpg', '0723_mp4-0176_jpg.rf.6cabdadee691f0b273693d3a320a2d14_mask.png', '-02_mp4-0054_jpg.rf.362970be239fa89f241a287f1489571f_mask.png', '-02_mp4-0515_jpg.rf.35d3b4960e1ea0d9cea9d5a50574f4a1.jpg', '0723_mp4-0101_jpg.rf.319bb47374e4281fedc645c714567dc5.jpg', '-02_mp4-0606_jpg.rf.bf6b54b34b7c3d63cab447fd91a11766.jpg', '-02_mp4-0401_jpg.rf.2c1b2cef3634eec3484ab82353efa2d8_mask.png', '0723_mp4-0149_jpg.rf.5e10bf31ff3f388125bb37299651a0eb_mask.png', '-02_mp4-0605_jpg.rf.d96d4d3fd76bf4852614a10774a8de4d.jpg', '-02_mp4-0401_jpg.rf.2c1b2cef3634eec3484ab82353efa2d8.jpg', '-02_mp4-0135_jpg.rf.2eaef57fdd369aa6c7afc1c801e96ba5_mask.png', '-02_mp4-0508_jpg.rf.975df557857893148e43e2d52f384944_mask.png', '-02_mp4-0166_jpg.rf.9cabca9ed8e53d19dd0987780ff8c8b9_mask.png', '-02_mp4-0539_jpg.rf.b20c7ddf7bf0971f9aff423282f75c0b_mask.png', '0723_mp4-0154_jpg.rf.2e5bc7511a871ee654b6b8f02ee097c2_mask.png', '-02_mp4-0030_jpg.rf.d01557589dabc6d0474295f1b5993e83_mask.png', '-02_mp4-0659_jpg.rf.6d5284a92a8ccba791405030f14d7ac2_mask.png', '-02_mp4-0255_jpg.rf.d604d884607b6172dc5650cbca5d7bce.jpg', '-02_mp4-0168_jpg.rf.a5608058c4ac28c281b61d771b7f2ea1.jpg', '-02_mp4-0766_jpg.rf.31148c5d62eb453be0e36f58bbbfd305_mask.png', '-02_mp4-0018_jpg.rf.452bbc2162cb49427bf023a90cd7e8f6.jpg', '_classes.csv', '-02_mp4-0172_jpg.rf.03eace3b545995b0b83d4227c3c236ab_mask.png', '-02_mp4-0729_jpg.rf.9d5ac42dcd6d15cce6a77d9c0763da36.jpg', '-02_mp4-0463_jpg.rf.b4a39d4ea75e1c48870ab06c1653ddbb_mask.png', '-02_mp4-0485_jpg.rf.580bbd933b26b55620e45e3a05ae3a58.jpg', '0723_mp4-0143_jpg.rf.84c55b20f55909ea8ce1c8d3f63a715b.jpg', '-02_mp4-0203_jpg.rf.42f9c011f48c4ff7304dca7528de8d22.jpg', '-02_mp4-0531_jpg.rf.048633e1b080a24a2501af1d4281a188.jpg', '-02_mp4-0367_jpg.rf.0d2e74c2fbd6b228fb27f80608172b27_mask.png', '-02_mp4-0659_jpg.rf.6d5284a92a8ccba791405030f14d7ac2.jpg', '-02_mp4-0431_jpg.rf.6082ad14d69fefe10545ee04abc69c43.jpg', '-02_mp4-0018_jpg.rf.452bbc2162cb49427bf023a90cd7e8f6_mask.png', '-02_mp4-0422_jpg.rf.c546a399329240c89790c9aec4ea5068_mask.png', '-02_mp4-0137_jpg.rf.b6bdfda059d178e8f20bf82ccbb3259d.jpg', '-02_mp4-0520_jpg.rf.e7a9138a13e1ab16c704c218631aff9d_mask.png', '-02_mp4-0371_jpg.rf.697914ec6cbe11867e1977b52f73110c_mask.png', '-02_mp4-0210_jpg.rf.aba8a067365076e6ff36910aec54f6ea_mask.png', '-02_mp4-0012_jpg.rf.1824671add8b2f1abafe040792a977ec_mask.png', '0723_mp4-0147_jpg.rf.79a4f6f88f785dce6818e1fbb98fb462_mask.png', '-02_mp4-0439_jpg.rf.e303e42e7c72046b7936d41df0903aae_mask.png', '-02_mp4-0166_jpg.rf.9cabca9ed8e53d19dd0987780ff8c8b9.jpg', '-02_mp4-0515_jpg.rf.35d3b4960e1ea0d9cea9d5a50574f4a1_mask.png', '-02_mp4-0299_jpg.rf.9211cd62eda69d34bed296291f418a4b.jpg', '0723_mp4-0149_jpg.rf.5e10bf31ff3f388125bb37299651a0eb.jpg', '-02_mp4-0422_jpg.rf.c546a399329240c89790c9aec4ea5068.jpg', '-02_mp4-0353_jpg.rf.f4870a56be83040704286f032b5353d3.jpg', '-02_mp4-0790_jpg.rf.78a45e752c3b87dae1fe50dae1cada6c_mask.png', '0723_mp4-0168_jpg.rf.7e8064ec9af2be647d20dae4918d81e5.jpg', '-02_mp4-0112_jpg.rf.3a4e671496bd5dfed8364cb0d9ab09d2_mask.png', '-02_mp4-0468_jpg.rf.467eb877b9748022e2e688e30b490492.jpg', '-02_mp4-0165_jpg.rf.72408edd4843a75abecb388e73dd7e57.jpg', '-02_mp4-0255_jpg.rf.d604d884607b6172dc5650cbca5d7bce_mask.png', '-02_mp4-0099_jpg.rf.255b6ec0717cabdb1b9c073e31c9c242_mask.png', '-02_mp4-0729_jpg.rf.9d5ac42dcd6d15cce6a77d9c0763da36_mask.png', '-02_mp4-0794_jpg.rf.106f9263abaf9f3a3bd7c6395edbe5e8_mask.png', '0723_mp4-0083_jpg.rf.718ec8bd9db8e53f6311760c674e12a2.jpg', '-02_mp4-0367_jpg.rf.0d2e74c2fbd6b228fb27f80608172b27.jpg', '-02_mp4-0606_jpg.rf.bf6b54b34b7c3d63cab447fd91a11766_mask.png', '-02_mp4-0410_jpg.rf.e955ea254942a0cd7dd02ab0210d1c24.jpg', '-02_mp4-0539_jpg.rf.b20c7ddf7bf0971f9aff423282f75c0b.jpg', '-02_mp4-0160_jpg.rf.767d89bda813f69bd51d463044cd55a2.jpg', '-02_mp4-0586_jpg.rf.d1279bd7cd3a29d002728fa95e4e93c3_mask.png', '-02_mp4-0431_jpg.rf.6082ad14d69fefe10545ee04abc69c43_mask.png', '-02_mp4-0142_jpg.rf.00966a15d3c9f97d0242e6e866fade1a_mask.png', '-02_mp4-0343_jpg.rf.9b42084f080ffa7f1849b796fd04bc5e.jpg', '-02_mp4-0509_jpg.rf.a67045aa3b0067743585856063943912.jpg', '-02_mp4-0487_jpg.rf.24f9ba0feace40f5f168b118b422c487.jpg', '-02_mp4-0410_jpg.rf.e955ea254942a0cd7dd02ab0210d1c24_mask.png', '-02_mp4-0203_jpg.rf.42f9c011f48c4ff7304dca7528de8d22_mask.png', '-02_mp4-0498_jpg.rf.92bfaa09acd72fd231a83ff5e0d5b341.jpg', '-02_mp4-0231_jpg.rf.f695148cbfbf2189a05b100f9ce10416_mask.png', '0723_mp4-0104_jpg.rf.29b1fbf129dee1c94fb56b5131629cb0.jpg', '-02_mp4-0520_jpg.rf.e7a9138a13e1ab16c704c218631aff9d.jpg', '-02_mp4-0112_jpg.rf.3a4e671496bd5dfed8364cb0d9ab09d2.jpg', '-02_mp4-0618_jpg.rf.97b08f0884b355d8906ecceea6a994a0.jpg', '-02_mp4-0757_jpg.rf.0c02d893474eab7e9017fca49126039f_mask.png', '0723_mp4-0147_jpg.rf.79a4f6f88f785dce6818e1fbb98fb462.jpg', '0723_mp4-0083_jpg.rf.718ec8bd9db8e53f6311760c674e12a2_mask.png', '-02_mp4-0592_jpg.rf.23a9ef08ad150517fcfddb13fe3734c3.jpg', '-02_mp4-0670_jpg.rf.cddf9244fdc95e399181a682f1247733.jpg', '-02_mp4-0085_jpg.rf.acf309619a364a808c0dc2b3ed0373b9.jpg', '-02_mp4-0231_jpg.rf.f695148cbfbf2189a05b100f9ce10416.jpg', '-02_mp4-0485_jpg.rf.580bbd933b26b55620e45e3a05ae3a58_mask.png', '-02_mp4-0647_jpg.rf.f9e589733b6ab6955e1e7ff3fd1f3c5c_mask.png', '-02_mp4-0099_jpg.rf.255b6ec0717cabdb1b9c073e31c9c242.jpg', '-02_mp4-0509_jpg.rf.a67045aa3b0067743585856063943912_mask.png', '-02_mp4-0439_jpg.rf.e303e42e7c72046b7936d41df0903aae.jpg', '-02_mp4-0137_jpg.rf.b6bdfda059d178e8f20bf82ccbb3259d_mask.png', '0723_mp4-0025_jpg.rf.340526dd3e0271f71ae9e3e25f4cacad.jpg', '-02_mp4-0219_jpg.rf.cdcb1eae63323c88e767a0f9a7b0b08b_mask.png', '-02_mp4-0343_jpg.rf.9b42084f080ffa7f1849b796fd04bc5e_mask.png', '-02_mp4-0370_jpg.rf.813bc9a445726dd4dd2a09051662bc5f_mask.png', '-02_mp4-0790_jpg.rf.78a45e752c3b87dae1fe50dae1cada6c.jpg', '0723_mp4-0143_jpg.rf.84c55b20f55909ea8ce1c8d3f63a715b_mask.png', '-02_mp4-0238_jpg.rf.b2ea026c20e2bf147f7f17bd47ddfc84.jpg', '-02_mp4-0419_jpg.rf.b38d3780b8b1fc7ff1e489358f0e8557.jpg', '0723_mp4-0034_jpg.rf.3350a66816d75869b93df0e6ef2702a1_mask.png', '-02_mp4-0708_jpg.rf.2cb968b26df61a877cc16b77427702ff.jpg', '0723_mp4-0037_jpg.rf.263f9ce21166ac4a697298f06c3c59be_mask.png', '-02_mp4-0562_jpg.rf.0d197c9e26659c2beafa9042e2cfeeb0.jpg', '0723_mp4-0183_jpg.rf.e36a6d8606f9d5ca5b563794535c7564_mask.png', '-02_mp4-0281_jpg.rf.1ac5dbf1107df29665e992c6f101c90a.jpg', '0723_mp4-0037_jpg.rf.263f9ce21166ac4a697298f06c3c59be.jpg', '-02_mp4-0300_jpg.rf.212877a66ab3d7ca1ebc90cebbb0e3d4.jpg', '-02_mp4-0682_jpg.rf.fd1143f7ed35b2e2c3b46e594064a31b_mask.png', '0723_mp4-0025_jpg.rf.340526dd3e0271f71ae9e3e25f4cacad_mask.png', '-02_mp4-0054_jpg.rf.362970be239fa89f241a287f1489571f.jpg', '-02_mp4-0138_jpg.rf.7f2a2a890be7bab6f24d44bbe0b98689_mask.png', '0723_mp4-0005_jpg.rf.8ec218be98c459cc2dcb7c1822f9edf4.jpg', '-02_mp4-0490_jpg.rf.c24d000b279b6cc38e11b56df771052b_mask.png', '-02_mp4-0605_jpg.rf.d96d4d3fd76bf4852614a10774a8de4d_mask.png', '-02_mp4-0300_jpg.rf.212877a66ab3d7ca1ebc90cebbb0e3d4_mask.png', '-02_mp4-0562_jpg.rf.0d197c9e26659c2beafa9042e2cfeeb0_mask.png', '0723_mp4-0040_jpg.rf.161e8db7c5bd97bbb38e7f620932c17a_mask.png', '-02_mp4-0451_jpg.rf.ee2349b0f92183cff37294ff794f8b07_mask.png', '-02_mp4-0451_jpg.rf.ee2349b0f92183cff37294ff794f8b07.jpg', '-02_mp4-0498_jpg.rf.92bfaa09acd72fd231a83ff5e0d5b341_mask.png', '-02_mp4-0766_jpg.rf.31148c5d62eb453be0e36f58bbbfd305.jpg', '-02_mp4-0618_jpg.rf.97b08f0884b355d8906ecceea6a994a0_mask.png', '-02_mp4-0487_jpg.rf.24f9ba0feace40f5f168b118b422c487_mask.png', '-02_mp4-0430_jpg.rf.fbc4faf5828dbe0c2f33b0b4357d9be0_mask.png', '-02_mp4-0281_jpg.rf.1ac5dbf1107df29665e992c6f101c90a_mask.png', '0723_mp4-0044_jpg.rf.3ad2e71022744b147956d8fca2c483be.jpg', '0723_mp4-0183_jpg.rf.e36a6d8606f9d5ca5b563794535c7564.jpg', '-02_mp4-0283_jpg.rf.df99cb58883154b81f80ba0a174cbb49_mask.png', '-02_mp4-0012_jpg.rf.1824671add8b2f1abafe040792a977ec.jpg', '0723_mp4-0188_jpg.rf.07764be2c70d3476b7f7402498eff4bd.jpg', '-02_mp4-0338_jpg.rf.61cae5762b32e0e50412ebe6d3929ebb_mask.png', '-02_mp4-0592_jpg.rf.23a9ef08ad150517fcfddb13fe3734c3_mask.png', '-02_mp4-0371_jpg.rf.697914ec6cbe11867e1977b52f73110c.jpg', '0723_mp4-0154_jpg.rf.2e5bc7511a871ee654b6b8f02ee097c2.jpg', '-02_mp4-0160_jpg.rf.767d89bda813f69bd51d463044cd55a2_mask.png', '-02_mp4-0014_jpg.rf.d00d1fe4937111187ec0cf68d4e938b1_mask.png', '-02_mp4-0757_jpg.rf.0c02d893474eab7e9017fca49126039f.jpg', '-02_mp4-0468_jpg.rf.467eb877b9748022e2e688e30b490492_mask.png', '0723_mp4-0176_jpg.rf.6cabdadee691f0b273693d3a320a2d14.jpg', '-02_mp4-0463_jpg.rf.b4a39d4ea75e1c48870ab06c1653ddbb.jpg', '-02_mp4-0238_jpg.rf.b2ea026c20e2bf147f7f17bd47ddfc84_mask.png', '-02_mp4-0014_jpg.rf.d00d1fe4937111187ec0cf68d4e938b1.jpg', '-02_mp4-0165_jpg.rf.72408edd4843a75abecb388e73dd7e57_mask.png', '-02_mp4-0682_jpg.rf.fd1143f7ed35b2e2c3b46e594064a31b.jpg', '0723_mp4-0188_jpg.rf.07764be2c70d3476b7f7402498eff4bd_mask.png', '-02_mp4-0030_jpg.rf.d01557589dabc6d0474295f1b5993e83.jpg', '-02_mp4-0172_jpg.rf.03eace3b545995b0b83d4227c3c236ab.jpg', '-02_mp4-0355_jpg.rf.4d31f38959baf54b6df6c5f19f1974c1.jpg', '-02_mp4-0430_jpg.rf.fbc4faf5828dbe0c2f33b0b4357d9be0.jpg', '-02_mp4-0142_jpg.rf.00966a15d3c9f97d0242e6e866fade1a.jpg', '0723_mp4-0005_jpg.rf.8ec218be98c459cc2dcb7c1822f9edf4_mask.png', '-02_mp4-0419_jpg.rf.b38d3780b8b1fc7ff1e489358f0e8557_mask.png', '0723_mp4-0101_jpg.rf.319bb47374e4281fedc645c714567dc5_mask.png', '-02_mp4-0490_jpg.rf.c24d000b279b6cc38e11b56df771052b.jpg', '-02_mp4-0085_jpg.rf.acf309619a364a808c0dc2b3ed0373b9_mask.png', '-02_mp4-0219_jpg.rf.cdcb1eae63323c88e767a0f9a7b0b08b.jpg', '0723_mp4-0034_jpg.rf.3350a66816d75869b93df0e6ef2702a1.jpg', '-02_mp4-0363_jpg.rf.c51fb3ab1d6fe5145aead8bd103e438f_mask.png', '-02_mp4-0116_jpg.rf.546dd181a0b1fc5ca44adb66dd215518_mask.png', '-02_mp4-0353_jpg.rf.f4870a56be83040704286f032b5353d3_mask.png', '0723_mp4-0168_jpg.rf.7e8064ec9af2be647d20dae4918d81e5_mask.png', '-02_mp4-0622_jpg.rf.78f8ffd911019ff32be9999c3bb2aa10.jpg', '-02_mp4-0056_jpg.rf.744fe0e152a4598a0094c94e48a7260a.jpg', '0723_mp4-0104_jpg.rf.29b1fbf129dee1c94fb56b5131629cb0_mask.png', '-02_mp4-0299_jpg.rf.9211cd62eda69d34bed296291f418a4b_mask.png', '-02_mp4-0056_jpg.rf.744fe0e152a4598a0094c94e48a7260a_mask.png', '-02_mp4-0670_jpg.rf.cddf9244fdc95e399181a682f1247733_mask.png', '-02_mp4-0210_jpg.rf.aba8a067365076e6ff36910aec54f6ea.jpg', '-02_mp4-0622_jpg.rf.78f8ffd911019ff32be9999c3bb2aa10_mask.png', '-02_mp4-0794_jpg.rf.106f9263abaf9f3a3bd7c6395edbe5e8.jpg', '0723_mp4-0040_jpg.rf.161e8db7c5bd97bbb38e7f620932c17a.jpg', '-02_mp4-0138_jpg.rf.7f2a2a890be7bab6f24d44bbe0b98689.jpg', '-02_mp4-0338_jpg.rf.61cae5762b32e0e50412ebe6d3929ebb.jpg', '-02_mp4-0531_jpg.rf.048633e1b080a24a2501af1d4281a188_mask.png', '-02_mp4-0135_jpg.rf.2eaef57fdd369aa6c7afc1c801e96ba5.jpg', '0723_mp4-0044_jpg.rf.3ad2e71022744b147956d8fca2c483be_mask.png']\n"
          ]
        }
      ]
    },
    {
      "cell_type": "markdown",
      "source": [
        "## 이미지와 마스크 파일을 구분\n",
        "- 다 섞여있어서 mask.png파일과 jpg파일을 구분해주는 작업"
      ],
      "metadata": {
        "id": "fteaPnZNwiyA"
      }
    },
    {
      "cell_type": "code",
      "source": [
        "import os\n",
        "import shutil\n",
        "\n",
        "def separate_images_and_masks(data_dir):\n",
        "    # 이미지와 마스크 파일을 구분하는 확장자 또는 규칙에 맞게 분류\n",
        "    image_exts = ['.jpg', '.jpeg', '.png']  # 실제 이미지 확장자\n",
        "    mask_exts = ['.png']                    # 마스크 확장자 (보통 png)\n",
        "\n",
        "    # 새 폴더 경로 지정\n",
        "    image_folder = os.path.join(data_dir, 'images')\n",
        "    mask_folder = os.path.join(data_dir, 'masks')\n",
        "    os.makedirs(image_folder, exist_ok=True)\n",
        "    os.makedirs(mask_folder, exist_ok=True)\n",
        "\n",
        "    # 데이터 폴더 내 파일 목록 가져오기\n",
        "    all_files = os.listdir(data_dir)\n",
        "\n",
        "    for file_name in all_files:\n",
        "        file_path = os.path.join(data_dir, file_name)\n",
        "\n",
        "        # 파일 여부 확인\n",
        "        if os.path.isfile(file_path):\n",
        "            ext = os.path.splitext(file_name)[1].lower()\n",
        "\n",
        "            # 확장자에 따라 폴더로 이동\n",
        "            if ext in image_exts and 'mask' not in file_name.lower():\n",
        "                shutil.move(file_path, os.path.join(image_folder, file_name))\n",
        "            elif ext in mask_exts and 'mask' in file_name.lower():\n",
        "                shutil.move(file_path, os.path.join(mask_folder, file_name))\n",
        "\n",
        "    print(f\"{data_dir} 내 이미지와 마스크 파일을 분리해 각각 images/, masks/ 폴더에 옮겼습니다.\")\n",
        "\n",
        "# train, valid, test 각각에 대해 실행\n",
        "base_dir = '/content/data'\n",
        "for split in ['train', 'valid', 'test']:\n",
        "    split_dir = os.path.join(base_dir, split)\n",
        "    separate_images_and_masks(split_dir)\n"
      ],
      "metadata": {
        "colab": {
          "base_uri": "https://localhost:8080/"
        },
        "id": "xtARR_YqWzzP",
        "outputId": "1994d0d3-ce82-4023-8965-1f4d646d6358"
      },
      "execution_count": null,
      "outputs": [
        {
          "output_type": "stream",
          "name": "stdout",
          "text": [
            "/content/data/train 내 이미지와 마스크 파일을 분리해 각각 images/, masks/ 폴더에 옮겼습니다.\n",
            "/content/data/valid 내 이미지와 마스크 파일을 분리해 각각 images/, masks/ 폴더에 옮겼습니다.\n",
            "/content/data/test 내 이미지와 마스크 파일을 분리해 각각 images/, masks/ 폴더에 옮겼습니다.\n"
          ]
        }
      ]
    },
    {
      "cell_type": "markdown",
      "source": [
        "## 차선 분할 학습용 데이터셋 클래스"
      ],
      "metadata": {
        "id": "Itcsd4gMw612"
      }
    },
    {
      "cell_type": "code",
      "source": [
        "import os\n",
        "import cv2\n",
        "import numpy as np\n",
        "from torch.utils.data import Dataset, DataLoader\n",
        "import albumentations as A\n",
        "from albumentations.pytorch import ToTensorV2\n",
        "\n",
        "class LaneSegmentationDataset(Dataset):\n",
        "    def __init__(self, image_dir, mask_dir, transform=None):\n",
        "        self.image_dir = image_dir\n",
        "        self.mask_dir = mask_dir\n",
        "        self.transform = transform\n",
        "        self.images = sorted(os.listdir(image_dir))\n",
        "        self.masks = sorted(os.listdir(mask_dir))\n",
        "\n",
        "    def __len__(self):\n",
        "        return len(self.images)\n",
        "\n",
        "    def __getitem__(self, idx):\n",
        "        img_path = os.path.join(self.image_dir, self.images[idx])\n",
        "        mask_path = os.path.join(self.mask_dir, self.masks[idx])\n",
        "\n",
        "        # 이미지 불러오기\n",
        "        image = cv2.imread(img_path)\n",
        "        image = cv2.cvtColor(image, cv2.COLOR_BGR2RGB)\n",
        "\n",
        "        # 마스크 불러오기 (그레이스케일)\n",
        "        mask = cv2.imread(mask_path, cv2.IMREAD_GRAYSCALE)\n",
        "\n",
        "        # 이미지와 마스크 크기 맞추기 (예: 이미지 크기에 맞춤)\n",
        "        if image.shape[:2] != mask.shape[:2]:\n",
        "           mask = cv2.resize(mask, (image.shape[1], image.shape[0]), interpolation=cv2.INTER_NEAREST)\n",
        "\n",
        "        # 마스크 이진화\n",
        "        #mask = np.where(mask == 255, 1, 0).astype('float32') <- 처음에 이 코드로 했지만 오류나서 주석처리 후 아래 함수로 다시 진행\n",
        "        # 마스크를 0이 아닌 곳을 모두 1(차선)로\n",
        "        mask = (mask != 0).astype('float32')\n",
        "\n",
        "\n",
        "        if self.transform:\n",
        "            augmented = self.transform(image=image, mask=mask)\n",
        "            image = augmented['image']\n",
        "            mask = augmented['mask']\n",
        "\n",
        "        return image, mask.unsqueeze(0)\n"
      ],
      "metadata": {
        "id": "JUDHfPBHaaoD"
      },
      "execution_count": null,
      "outputs": []
    },
    {
      "cell_type": "markdown",
      "source": [
        "## 이미지와 마스크를 모델 입력에 맞게 전처리하는 파이프라인"
      ],
      "metadata": {
        "id": "dZsVQWI0xT9S"
      }
    },
    {
      "cell_type": "code",
      "source": [
        "transform = A.Compose([\n",
        "    A.Resize(256, 256),  #입력 이미지와 마스크를 모두 256x256 픽셀 크기로 크기 조정\n",
        "    A.Normalize(mean=(0.485, 0.456, 0.406), std=(0.229, 0.224, 0.225)),\n",
        "    # 이미지의 각 채널별로 평균과 표준편차를 이용하여 정규화\n",
        "    ToTensorV2() #이미지와 마스크를 PyTorch가 처리할 수 있는 텐서(tensor) 형태로 변환\n",
        "])"
      ],
      "metadata": {
        "id": "jNiMoHR_adGT"
      },
      "execution_count": null,
      "outputs": []
    },
    {
      "cell_type": "code",
      "source": [
        "from torch.utils.data import DataLoader\n",
        "\n",
        "train_image_dir = '/content/data/train/images'\n",
        "train_mask_dir = '/content/data/train/masks'\n",
        "valid_image_dir = '/content/data/valid/images'\n",
        "valid_mask_dir = '/content/data/valid/masks'\n",
        "\n",
        "train_dataset = LaneSegmentationDataset(train_image_dir, train_mask_dir, transform=transform)\n",
        "valid_dataset = LaneSegmentationDataset(valid_image_dir, valid_mask_dir, transform=transform)\n",
        "\n",
        "train_loader = DataLoader(train_dataset, batch_size=8, shuffle=True)\n",
        "valid_loader = DataLoader(valid_dataset, batch_size=8, shuffle=False)\n",
        "\n",
        "#모델 학습 및 검증 시 효율적으로 데이터 배치를 반복해서 불러올 수 있도록 데이터 준비 및 로딩 파이프라인을 구성하는 역할"
      ],
      "metadata": {
        "id": "_GQVECQ5XH_L"
      },
      "execution_count": null,
      "outputs": []
    },
    {
      "cell_type": "code",
      "source": [
        "import segmentation_models_pytorch as smp\n",
        "import torch\n",
        "\n",
        "device = torch.device('cuda' if torch.cuda.is_available() else 'cpu')\n",
        "print(\"Using device:\", device)\n",
        "\n",
        "model = smp.Unet(\n",
        "    encoder_name=\"resnet34\",\n",
        "    encoder_weights=\"imagenet\",\n",
        "    in_channels=3,\n",
        "    classes=1\n",
        ").to(device)\n",
        "\n",
        "loss_fn = smp.losses.DiceLoss(smp.losses.BINARY_MODE, from_logits=True)\n",
        "optimizer = torch.optim.Adam(model.parameters(), lr=1e-4)"
      ],
      "metadata": {
        "colab": {
          "base_uri": "https://localhost:8080/"
        },
        "id": "BuVfhKmHbSqR",
        "outputId": "e9c84fdf-1471-4bd5-a723-991576e7b002"
      },
      "execution_count": null,
      "outputs": [
        {
          "output_type": "stream",
          "name": "stdout",
          "text": [
            "Using device: cuda\n"
          ]
        }
      ]
    },
    {
      "cell_type": "markdown",
      "source": [
        "- 사전 학습된 ResNet34를 인코더로 하는 UNet 모델을 GPU에서 실행 준비\n",
        "- 차선 인식 같은 이진 분할 문제에 적합한 Dice Loss와 Adam 옵티마이저를 설정해 모델 학습을 시작할 준비를 마치는 부분"
      ],
      "metadata": {
        "id": "Uyqr476lxvdM"
      }
    },
    {
      "cell_type": "code",
      "source": [
        "for images, masks in train_loader:\n",
        "    print(\"Image batch shape:\", images.shape)\n",
        "    print(\"Mask batch unique values:\", torch.unique(masks))\n",
        "    break\n",
        "# DataLoader를 통해 불러온 데이터가 제대로 구성되어 있는지, 이미지 크기와 채널, 마스크 값이 예상 범위 내에 있는지를 간단히 확인하기 위한 디버깅용 출력문"
      ],
      "metadata": {
        "colab": {
          "base_uri": "https://localhost:8080/"
        },
        "id": "sbK-zammcN7A",
        "outputId": "af69780f-0ad3-4d1f-9416-9fdc44c5d482"
      },
      "execution_count": null,
      "outputs": [
        {
          "output_type": "stream",
          "name": "stdout",
          "text": [
            "Image batch shape: torch.Size([8, 3, 256, 256])\n",
            "Mask batch unique values: tensor([0., 1.])\n"
          ]
        }
      ]
    },
    {
      "cell_type": "code",
      "source": [
        "import matplotlib.pyplot as plt\n",
        "import cv2\n",
        "import os\n",
        "\n",
        "mask_path = '/content/data/train/masks/-02_mp4-0035_jpg.rf.1d0c62696d772f20003e3d3476502c93_mask.png'  # 실제 마스크 파일명으로 변경\n",
        "mask_img = cv2.imread(mask_path, cv2.IMREAD_GRAYSCALE)\n",
        "plt.imshow(mask_img, cmap='gray')\n",
        "plt.title(\"Sample Mask Image\")\n",
        "plt.show()\n",
        "print(\"Unique values in mask:\", set(mask_img.flatten()))\n",
        "# 마스크 이미지가 라벨링 잘 되어있는지 확인하는 코드"
      ],
      "metadata": {
        "colab": {
          "base_uri": "https://localhost:8080/",
          "height": 470
        },
        "id": "W9TlUKT_cemp",
        "outputId": "6129c8bb-a677-466b-aaf6-932779105f2a"
      },
      "execution_count": null,
      "outputs": [
        {
          "output_type": "display_data",
          "data": {
            "text/plain": [
              "<Figure size 640x480 with 1 Axes>"
            ],
            "image/png": "[encoded data removed]"
          },
          "metadata": {}
        },
        {
          "output_type": "stream",
          "name": "stdout",
          "text": [
            "Unique values in mask: {np.uint8(0), np.uint8(1)}\n"
          ]
        }
      ]
    },
    {
      "cell_type": "code",
      "source": [
        "num_epochs = 10\n",
        "\n",
        "for epoch in range(num_epochs):\n",
        "    model.train()\n",
        "    train_loss = 0\n",
        "    for images, masks in train_loader:\n",
        "        images = images.to(device)\n",
        "        masks = masks.to(device)\n",
        "\n",
        "        optimizer.zero_grad()\n",
        "        outputs = model(images)\n",
        "        loss = loss_fn(outputs, masks)\n",
        "        loss.backward()\n",
        "        optimizer.step()\n",
        "\n",
        "        train_loss += loss.item()\n",
        "\n",
        "    avg_train_loss = train_loss / len(train_loader)\n",
        "\n",
        "    model.eval()\n",
        "    valid_loss = 0\n",
        "    with torch.no_grad():\n",
        "        for images, masks in valid_loader:\n",
        "            images = images.to(device)\n",
        "            masks = masks.to(device)\n",
        "            outputs = model(images)\n",
        "            loss = loss_fn(outputs, masks)\n",
        "            valid_loss += loss.item()\n",
        "    avg_valid_loss = valid_loss / len(valid_loader)\n",
        "    print(f\"Epoch [{epoch+1}/{num_epochs}] Train Loss: {avg_train_loss:.4f} Valid Loss: {avg_valid_loss:.4f}\")\n",
        "\n",
        "# Save the trained model\n",
        "torch.save(model.state_dict(), 'lane_segmentation_model.pth')\n",
        "print(\"Model saved to lane_segmentation_model.pth\")"
      ],
      "metadata": {
        "colab": {
          "base_uri": "https://localhost:8080/"
        },
        "id": "khS9uL0obXCf",
        "outputId": "f2bc9926-0609-405e-abcb-90b9a98b4a92"
      },
      "execution_count": null,
      "outputs": [
        {
          "output_type": "stream",
          "name": "stdout",
          "text": [
            "Epoch [1/10] Train Loss: 0.9502 Valid Loss: 0.9192\n",
            "Epoch [2/10] Train Loss: 0.8701 Valid Loss: 0.8346\n",
            "Epoch [3/10] Train Loss: 0.7455 Valid Loss: 0.6978\n",
            "Epoch [4/10] Train Loss: 0.5726 Valid Loss: 0.5449\n",
            "Epoch [5/10] Train Loss: 0.4249 Valid Loss: 0.4341\n",
            "Epoch [6/10] Train Loss: 0.3304 Valid Loss: 0.3705\n",
            "Epoch [7/10] Train Loss: 0.2735 Valid Loss: 0.3266\n",
            "Epoch [8/10] Train Loss: 0.2383 Valid Loss: 0.3052\n",
            "Epoch [9/10] Train Loss: 0.2183 Valid Loss: 0.2900\n",
            "Epoch [10/10] Train Loss: 0.1955 Valid Loss: 0.2870\n",
            "Model saved to lane_segmentation_model.pth\n"
          ]
        }
      ]
    },
    {
      "cell_type": "markdown",
      "source": [
        "- 여러 에폭 동안 학습 데이터로 모델 학습 수행\n",
        "- 각 에폭마다 학습 손실과 검증 손실 출력\n",
        "- 학습 완료 후 학습된 모델 파라미터 저장"
      ],
      "metadata": {
        "id": "J7iBcT3Yx_w3"
      }
    },
    {
      "cell_type": "code",
      "source": [
        "import segmentation_models_pytorch as smp\n",
        "import torch\n",
        "\n",
        "device = torch.device('cuda' if torch.cuda.is_available() else 'cpu')\n",
        "print(\"Using device:\", device)\n",
        "\n",
        "model = smp.Unet(\n",
        "    encoder_name=\"resnet34\",\n",
        "    encoder_weights=None,\n",
        "    in_channels=3,\n",
        "    classes=1\n",
        ")\n",
        "model.load_state_dict(torch.load('lane_segmentation_model.pth'))\n",
        "model = model.to(device)\n",
        "model.eval()\n",
        "\n",
        "# 위 코드는 학습을 마친 UNet 기반 차선 세그멘테이션 모델을 불러와 GPU가 있으면 GPU에서 실행하도록 준비하며, 추론용으로 최적의 상태로 설정하는 과정입니다.\n",
        "# 이 상태에서 입력 이미지나 영상 프레임을 넣으면 차선 영역을 분할하는 예측 결과를 얻을 수 있습니다."
      ],
      "metadata": {
        "colab": {
          "base_uri": "https://localhost:8080/"
        },
        "id": "mcu89Kx0l9z4",
        "outputId": "a6440d29-a725-47b6-c214-8f7917503541"
      },
      "execution_count": null,
      "outputs": [
        {
          "output_type": "stream",
          "name": "stdout",
          "text": [
            "Using device: cuda\n"
          ]
        },
        {
          "output_type": "execute_result",
          "data": {
            "text/plain": [
              "Unet(\n",
              "  (encoder): ResNetEncoder(\n",
              "    (conv1): Conv2d(3, 64, kernel_size=(7, 7), stride=(2, 2), padding=(3, 3), bias=False)\n",
              "    (bn1): BatchNorm2d(64, eps=1e-05, momentum=0.1, affine=True, track_running_stats=True)\n",
              "    (relu): ReLU(inplace=True)\n",
              "    (maxpool): MaxPool2d(kernel_size=3, stride=2, padding=1, dilation=1, ceil_mode=False)\n",
              "    (layer1): Sequential(\n",
              "      (0): BasicBlock(\n",
              "        (conv1): Conv2d(64, 64, kernel_size=(3, 3), stride=(1, 1), padding=(1, 1), bias=False)\n",
              "        (bn1): BatchNorm2d(64, eps=1e-05, momentum=0.1, affine=True, track_running_stats=True)\n",
              "        (relu): ReLU(inplace=True)\n",
              "        (conv2): Conv2d(64, 64, kernel_size=(3, 3), stride=(1, 1), padding=(1, 1), bias=False)\n",
              "        (bn2): BatchNorm2d(64, eps=1e-05, momentum=0.1, affine=True, track_running_stats=True)\n",
              "      )\n",
              "      (1): BasicBlock(\n",
              "        (conv1): Conv2d(64, 64, kernel_size=(3, 3), stride=(1, 1), padding=(1, 1), bias=False)\n",
              "        (bn1): BatchNorm2d(64, eps=1e-05, momentum=0.1, affine=True, track_running_stats=True)\n",
              "        (relu): ReLU(inplace=True)\n",
              "        (conv2): Conv2d(64, 64, kernel_size=(3, 3), stride=(1, 1), padding=(1, 1), bias=False)\n",
              "        (bn2): BatchNorm2d(64, eps=1e-05, momentum=0.1, affine=True, track_running_stats=True)\n",
              "      )\n",
              "      (2): BasicBlock(\n",
              "        (conv1): Conv2d(64, 64, kernel_size=(3, 3), stride=(1, 1), padding=(1, 1), bias=False)\n",
              "        (bn1): BatchNorm2d(64, eps=1e-05, momentum=0.1, affine=True, track_running_stats=True)\n",
              "        (relu): ReLU(inplace=True)\n",
              "        (conv2): Conv2d(64, 64, kernel_size=(3, 3), stride=(1, 1), padding=(1, 1), bias=False)\n",
              "        (bn2): BatchNorm2d(64, eps=1e-05, momentum=0.1, affine=True, track_running_stats=True)\n",
              "      )\n",
              "    )\n",
              "    (layer2): Sequential(\n",
              "      (0): BasicBlock(\n",
              "        (conv1): Conv2d(64, 128, kernel_size=(3, 3), stride=(2, 2), padding=(1, 1), bias=False)\n",
              "        (bn1): BatchNorm2d(128, eps=1e-05, momentum=0.1, affine=True, track_running_stats=True)\n",
              "        (relu): ReLU(inplace=True)\n",
              "        (conv2): Conv2d(128, 128, kernel_size=(3, 3), stride=(1, 1), padding=(1, 1), bias=False)\n",
              "        (bn2): BatchNorm2d(128, eps=1e-05, momentum=0.1, affine=True, track_running_stats=True)\n",
              "        (downsample): Sequential(\n",
              "          (0): Conv2d(64, 128, kernel_size=(1, 1), stride=(2, 2), bias=False)\n",
              "          (1): BatchNorm2d(128, eps=1e-05, momentum=0.1, affine=True, track_running_stats=True)\n",
              "        )\n",
              "      )\n",
              "      (1): BasicBlock(\n",
              "        (conv1): Conv2d(128, 128, kernel_size=(3, 3), stride=(1, 1), padding=(1, 1), bias=False)\n",
              "        (bn1): BatchNorm2d(128, eps=1e-05, momentum=0.1, affine=True, track_running_stats=True)\n",
              "        (relu): ReLU(inplace=True)\n",
              "        (conv2): Conv2d(128, 128, kernel_size=(3, 3), stride=(1, 1), padding=(1, 1), bias=False)\n",
              "        (bn2): BatchNorm2d(128, eps=1e-05, momentum=0.1, affine=True, track_running_stats=True)\n",
              "      )\n",
              "      (2): BasicBlock(\n",
              "        (conv1): Conv2d(128, 128, kernel_size=(3, 3), stride=(1, 1), padding=(1, 1), bias=False)\n",
              "        (bn1): BatchNorm2d(128, eps=1e-05, momentum=0.1, affine=True, track_running_stats=True)\n",
              "        (relu): ReLU(inplace=True)\n",
              "        (conv2): Conv2d(128, 128, kernel_size=(3, 3), stride=(1, 1), padding=(1, 1), bias=False)\n",
              "        (bn2): BatchNorm2d(128, eps=1e-05, momentum=0.1, affine=True, track_running_stats=True)\n",
              "      )\n",
              "      (3): BasicBlock(\n",
              "        (conv1): Conv2d(128, 128, kernel_size=(3, 3), stride=(1, 1), padding=(1, 1), bias=False)\n",
              "        (bn1): BatchNorm2d(128, eps=1e-05, momentum=0.1, affine=True, track_running_stats=True)\n",
              "        (relu): ReLU(inplace=True)\n",
              "        (conv2): Conv2d(128, 128, kernel_size=(3, 3), stride=(1, 1), padding=(1, 1), bias=False)\n",
              "        (bn2): BatchNorm2d(128, eps=1e-05, momentum=0.1, affine=True, track_running_stats=True)\n",
              "      )\n",
              "    )\n",
              "    (layer3): Sequential(\n",
              "      (0): BasicBlock(\n",
              "        (conv1): Conv2d(128, 256, kernel_size=(3, 3), stride=(2, 2), padding=(1, 1), bias=False)\n",
              "        (bn1): BatchNorm2d(256, eps=1e-05, momentum=0.1, affine=True, track_running_stats=True)\n",
              "        (relu): ReLU(inplace=True)\n",
              "        (conv2): Conv2d(256, 256, kernel_size=(3, 3), stride=(1, 1), padding=(1, 1), bias=False)\n",
              "        (bn2): BatchNorm2d(256, eps=1e-05, momentum=0.1, affine=True, track_running_stats=True)\n",
              "        (downsample): Sequential(\n",
              "          (0): Conv2d(128, 256, kernel_size=(1, 1), stride=(2, 2), bias=False)\n",
              "          (1): BatchNorm2d(256, eps=1e-05, momentum=0.1, affine=True, track_running_stats=True)\n",
              "        )\n",
              "      )\n",
              "      (1): BasicBlock(\n",
              "        (conv1): Conv2d(256, 256, kernel_size=(3, 3), stride=(1, 1), padding=(1, 1), bias=False)\n",
              "        (bn1): BatchNorm2d(256, eps=1e-05, momentum=0.1, affine=True, track_running_stats=True)\n",
              "        (relu): ReLU(inplace=True)\n",
              "        (conv2): Conv2d(256, 256, kernel_size=(3, 3), stride=(1, 1), padding=(1, 1), bias=False)\n",
              "        (bn2): BatchNorm2d(256, eps=1e-05, momentum=0.1, affine=True, track_running_stats=True)\n",
              "      )\n",
              "      (2): BasicBlock(\n",
              "        (conv1): Conv2d(256, 256, kernel_size=(3, 3), stride=(1, 1), padding=(1, 1), bias=False)\n",
              "        (bn1): BatchNorm2d(256, eps=1e-05, momentum=0.1, affine=True, track_running_stats=True)\n",
              "        (relu): ReLU(inplace=True)\n",
              "        (conv2): Conv2d(256, 256, kernel_size=(3, 3), stride=(1, 1), padding=(1, 1), bias=False)\n",
              "        (bn2): BatchNorm2d(256, eps=1e-05, momentum=0.1, affine=True, track_running_stats=True)\n",
              "      )\n",
              "      (3): BasicBlock(\n",
              "        (conv1): Conv2d(256, 256, kernel_size=(3, 3), stride=(1, 1), padding=(1, 1), bias=False)\n",
              "        (bn1): BatchNorm2d(256, eps=1e-05, momentum=0.1, affine=True, track_running_stats=True)\n",
              "        (relu): ReLU(inplace=True)\n",
              "        (conv2): Conv2d(256, 256, kernel_size=(3, 3), stride=(1, 1), padding=(1, 1), bias=False)\n",
              "        (bn2): BatchNorm2d(256, eps=1e-05, momentum=0.1, affine=True, track_running_stats=True)\n",
              "      )\n",
              "      (4): BasicBlock(\n",
              "        (conv1): Conv2d(256, 256, kernel_size=(3, 3), stride=(1, 1), padding=(1, 1), bias=False)\n",
              "        (bn1): BatchNorm2d(256, eps=1e-05, momentum=0.1, affine=True, track_running_stats=True)\n",
              "        (relu): ReLU(inplace=True)\n",
              "        (conv2): Conv2d(256, 256, kernel_size=(3, 3), stride=(1, 1), padding=(1, 1), bias=False)\n",
              "        (bn2): BatchNorm2d(256, eps=1e-05, momentum=0.1, affine=True, track_running_stats=True)\n",
              "      )\n",
              "      (5): BasicBlock(\n",
              "        (conv1): Conv2d(256, 256, kernel_size=(3, 3), stride=(1, 1), padding=(1, 1), bias=False)\n",
              "        (bn1): BatchNorm2d(256, eps=1e-05, momentum=0.1, affine=True, track_running_stats=True)\n",
              "        (relu): ReLU(inplace=True)\n",
              "        (conv2): Conv2d(256, 256, kernel_size=(3, 3), stride=(1, 1), padding=(1, 1), bias=False)\n",
              "        (bn2): BatchNorm2d(256, eps=1e-05, momentum=0.1, affine=True, track_running_stats=True)\n",
              "      )\n",
              "    )\n",
              "    (layer4): Sequential(\n",
              "      (0): BasicBlock(\n",
              "        (conv1): Conv2d(256, 512, kernel_size=(3, 3), stride=(2, 2), padding=(1, 1), bias=False)\n",
              "        (bn1): BatchNorm2d(512, eps=1e-05, momentum=0.1, affine=True, track_running_stats=True)\n",
              "        (relu): ReLU(inplace=True)\n",
              "        (conv2): Conv2d(512, 512, kernel_size=(3, 3), stride=(1, 1), padding=(1, 1), bias=False)\n",
              "        (bn2): BatchNorm2d(512, eps=1e-05, momentum=0.1, affine=True, track_running_stats=True)\n",
              "        (downsample): Sequential(\n",
              "          (0): Conv2d(256, 512, kernel_size=(1, 1), stride=(2, 2), bias=False)\n",
              "          (1): BatchNorm2d(512, eps=1e-05, momentum=0.1, affine=True, track_running_stats=True)\n",
              "        )\n",
              "      )\n",
              "      (1): BasicBlock(\n",
              "        (conv1): Conv2d(512, 512, kernel_size=(3, 3), stride=(1, 1), padding=(1, 1), bias=False)\n",
              "        (bn1): BatchNorm2d(512, eps=1e-05, momentum=0.1, affine=True, track_running_stats=True)\n",
              "        (relu): ReLU(inplace=True)\n",
              "        (conv2): Conv2d(512, 512, kernel_size=(3, 3), stride=(1, 1), padding=(1, 1), bias=False)\n",
              "        (bn2): BatchNorm2d(512, eps=1e-05, momentum=0.1, affine=True, track_running_stats=True)\n",
              "      )\n",
              "      (2): BasicBlock(\n",
              "        (conv1): Conv2d(512, 512, kernel_size=(3, 3), stride=(1, 1), padding=(1, 1), bias=False)\n",
              "        (bn1): BatchNorm2d(512, eps=1e-05, momentum=0.1, affine=True, track_running_stats=True)\n",
              "        (relu): ReLU(inplace=True)\n",
              "        (conv2): Conv2d(512, 512, kernel_size=(3, 3), stride=(1, 1), padding=(1, 1), bias=False)\n",
              "        (bn2): BatchNorm2d(512, eps=1e-05, momentum=0.1, affine=True, track_running_stats=True)\n",
              "      )\n",
              "    )\n",
              "  )\n",
              "  (decoder): UnetDecoder(\n",
              "    (center): Identity()\n",
              "    (blocks): ModuleList(\n",
              "      (0): UnetDecoderBlock(\n",
              "        (conv1): Conv2dReLU(\n",
              "          (0): Conv2d(768, 256, kernel_size=(3, 3), stride=(1, 1), padding=(1, 1), bias=False)\n",
              "          (1): BatchNorm2d(256, eps=1e-05, momentum=0.1, affine=True, track_running_stats=True)\n",
              "          (2): ReLU(inplace=True)\n",
              "        )\n",
              "        (attention1): Attention(\n",
              "          (attention): Identity()\n",
              "        )\n",
              "        (conv2): Conv2dReLU(\n",
              "          (0): Conv2d(256, 256, kernel_size=(3, 3), stride=(1, 1), padding=(1, 1), bias=False)\n",
              "          (1): BatchNorm2d(256, eps=1e-05, momentum=0.1, affine=True, track_running_stats=True)\n",
              "          (2): ReLU(inplace=True)\n",
              "        )\n",
              "        (attention2): Attention(\n",
              "          (attention): Identity()\n",
              "        )\n",
              "      )\n",
              "      (1): UnetDecoderBlock(\n",
              "        (conv1): Conv2dReLU(\n",
              "          (0): Conv2d(384, 128, kernel_size=(3, 3), stride=(1, 1), padding=(1, 1), bias=False)\n",
              "          (1): BatchNorm2d(128, eps=1e-05, momentum=0.1, affine=True, track_running_stats=True)\n",
              "          (2): ReLU(inplace=True)\n",
              "        )\n",
              "        (attention1): Attention(\n",
              "          (attention): Identity()\n",
              "        )\n",
              "        (conv2): Conv2dReLU(\n",
              "          (0): Conv2d(128, 128, kernel_size=(3, 3), stride=(1, 1), padding=(1, 1), bias=False)\n",
              "          (1): BatchNorm2d(128, eps=1e-05, momentum=0.1, affine=True, track_running_stats=True)\n",
              "          (2): ReLU(inplace=True)\n",
              "        )\n",
              "        (attention2): Attention(\n",
              "          (attention): Identity()\n",
              "        )\n",
              "      )\n",
              "      (2): UnetDecoderBlock(\n",
              "        (conv1): Conv2dReLU(\n",
              "          (0): Conv2d(192, 64, kernel_size=(3, 3), stride=(1, 1), padding=(1, 1), bias=False)\n",
              "          (1): BatchNorm2d(64, eps=1e-05, momentum=0.1, affine=True, track_running_stats=True)\n",
              "          (2): ReLU(inplace=True)\n",
              "        )\n",
              "        (attention1): Attention(\n",
              "          (attention): Identity()\n",
              "        )\n",
              "        (conv2): Conv2dReLU(\n",
              "          (0): Conv2d(64, 64, kernel_size=(3, 3), stride=(1, 1), padding=(1, 1), bias=False)\n",
              "          (1): BatchNorm2d(64, eps=1e-05, momentum=0.1, affine=True, track_running_stats=True)\n",
              "          (2): ReLU(inplace=True)\n",
              "        )\n",
              "        (attention2): Attention(\n",
              "          (attention): Identity()\n",
              "        )\n",
              "      )\n",
              "      (3): UnetDecoderBlock(\n",
              "        (conv1): Conv2dReLU(\n",
              "          (0): Conv2d(128, 32, kernel_size=(3, 3), stride=(1, 1), padding=(1, 1), bias=False)\n",
              "          (1): BatchNorm2d(32, eps=1e-05, momentum=0.1, affine=True, track_running_stats=True)\n",
              "          (2): ReLU(inplace=True)\n",
              "        )\n",
              "        (attention1): Attention(\n",
              "          (attention): Identity()\n",
              "        )\n",
              "        (conv2): Conv2dReLU(\n",
              "          (0): Conv2d(32, 32, kernel_size=(3, 3), stride=(1, 1), padding=(1, 1), bias=False)\n",
              "          (1): BatchNorm2d(32, eps=1e-05, momentum=0.1, affine=True, track_running_stats=True)\n",
              "          (2): ReLU(inplace=True)\n",
              "        )\n",
              "        (attention2): Attention(\n",
              "          (attention): Identity()\n",
              "        )\n",
              "      )\n",
              "      (4): UnetDecoderBlock(\n",
              "        (conv1): Conv2dReLU(\n",
              "          (0): Conv2d(32, 16, kernel_size=(3, 3), stride=(1, 1), padding=(1, 1), bias=False)\n",
              "          (1): BatchNorm2d(16, eps=1e-05, momentum=0.1, affine=True, track_running_stats=True)\n",
              "          (2): ReLU(inplace=True)\n",
              "        )\n",
              "        (attention1): Attention(\n",
              "          (attention): Identity()\n",
              "        )\n",
              "        (conv2): Conv2dReLU(\n",
              "          (0): Conv2d(16, 16, kernel_size=(3, 3), stride=(1, 1), padding=(1, 1), bias=False)\n",
              "          (1): BatchNorm2d(16, eps=1e-05, momentum=0.1, affine=True, track_running_stats=True)\n",
              "          (2): ReLU(inplace=True)\n",
              "        )\n",
              "        (attention2): Attention(\n",
              "          (attention): Identity()\n",
              "        )\n",
              "      )\n",
              "    )\n",
              "  )\n",
              "  (segmentation_head): SegmentationHead(\n",
              "    (0): Conv2d(16, 1, kernel_size=(3, 3), stride=(1, 1), padding=(1, 1))\n",
              "    (1): Identity()\n",
              "    (2): Activation(\n",
              "      (activation): Identity()\n",
              "    )\n",
              "  )\n",
              ")"
            ]
          },
          "metadata": {},
          "execution_count": 26
        }
      ]
    },
    {
      "cell_type": "code",
      "source": [
        "from google.colab import files\n",
        "\n",
        "# 컴퓨터에서 영상 파일 업로드\n",
        "uploaded = files.upload()\n",
        "\n",
        "# 업로드한 영상파일명 가져오기\n",
        "video_filename = list(uploaded.keys())[0]\n",
        "print(f\"업로드된 영상 파일명: {video_filename}\")\n"
      ],
      "metadata": {
        "colab": {
          "base_uri": "https://localhost:8080/",
          "height": 92
        },
        "id": "HxSmSQ7Ae5YR",
        "outputId": "98ab4698-f8b3-42c8-d9b6-0bde6cb6415b"
      },
      "execution_count": null,
      "outputs": [
        {
          "output_type": "display_data",
          "data": {
            "text/plain": [
              "<IPython.core.display.HTML object>"
            ],
            "text/html": [
              "\n",
              "     <input type=\"file\" id=\"files-903a6cb0-7250-43e8-a6ec-9203e070e3f5\" name=\"files[]\" multiple disabled\n",
              "        style=\"border:none\" />\n",
              "     <output id=\"result-903a6cb0-7250-43e8-a6ec-9203e070e3f5\">\n",
              "      Upload widget is only available when the cell has been executed in the\n",
              "      current browser session. Please rerun this cell to enable.\n",
              "      </output>\n",
              "      <script>// Copyright 2017 Google LLC\n",
              "//\n",
              "// Licensed under the Apache License, Version 2.0 (the \"License\");\n",
              "// you may not use this file except in compliance with the License.\n",
              "// You may obtain a copy of the License at\n",
              "//\n",
              "//      http://www.apache.org/licenses/LICENSE-2.0\n",
              "//\n",
              "// Unless required by applicable law or agreed to in writing, software\n",
              "// distributed under the License is distributed on an \"AS IS\" BASIS,\n",
              "// WITHOUT WARRANTIES OR CONDITIONS OF ANY KIND, either express or implied.\n",
              "// See the License for the specific language governing permissions and\n",
              "// limitations under the License.\n",
              "\n",
              "/**\n",
              " * @fileoverview Helpers for google.colab Python module.\n",
              " */\n",
              "(function(scope) {\n",
              "function span(text, styleAttributes = {}) {\n",
              "  const element = document.createElement('span');\n",
              "  element.textContent = text;\n",
              "  for (const key of Object.keys(styleAttributes)) {\n",
              "    element.style[key] = styleAttributes[key];\n",
              "  }\n",
              "  return element;\n",
              "}\n",
              "\n",
              "// Max number of bytes which will be uploaded at a time.\n",
              "const MAX_PAYLOAD_SIZE = 100 * 1024;\n",
              "\n",
              "function _uploadFiles(inputId, outputId) {\n",
              "  const steps = uploadFilesStep(inputId, outputId);\n",
              "  const outputElement = document.getElementById(outputId);\n",
              "  // Cache steps on the outputElement to make it available for the next call\n",
              "  // to uploadFilesContinue from Python.\n",
              "  outputElement.steps = steps;\n",
              "\n",
              "  return _uploadFilesContinue(outputId);\n",
              "}\n",
              "\n",
              "// This is roughly an async generator (not supported in the browser yet),\n",
              "// where there are multiple asynchronous steps and the Python side is going\n",
              "// to poll for completion of each step.\n",
              "// This uses a Promise to block the python side on completion of each step,\n",
              "// then passes the result of the previous step as the input to the next step.\n",
              "function _uploadFilesContinue(outputId) {\n",
              "  const outputElement = document.getElementById(outputId);\n",
              "  const steps = outputElement.steps;\n",
              "\n",
              "  const next = steps.next(outputElement.lastPromiseValue);\n",
              "  return Promise.resolve(next.value.promise).then((value) => {\n",
              "    // Cache the last promise value to make it available to the next\n",
              "    // step of the generator.\n",
              "    outputElement.lastPromiseValue = value;\n",
              "    return next.value.response;\n",
              "  });\n",
              "}\n",
              "\n",
              "/**\n",
              " * Generator function which is called between each async step of the upload\n",
              " * process.\n",
              " * @param {string} inputId Element ID of the input file picker element.\n",
              " * @param {string} outputId Element ID of the output display.\n",
              " * @return {!Iterable<!Object>} Iterable of next steps.\n",
              " */\n",
              "function* uploadFilesStep(inputId, outputId) {\n",
              "  const inputElement = document.getElementById(inputId);\n",
              "  inputElement.disabled = false;\n",
              "\n",
              "  const outputElement = document.getElementById(outputId);\n",
              "  outputElement.innerHTML = '';\n",
              "\n",
              "  const pickedPromise = new Promise((resolve) => {\n",
              "    inputElement.addEventListener('change', (e) => {\n",
              "      resolve(e.target.files);\n",
              "    });\n",
              "  });\n",
              "\n",
              "  const cancel = document.createElement('button');\n",
              "  inputElement.parentElement.appendChild(cancel);\n",
              "  cancel.textContent = 'Cancel upload';\n",
              "  const cancelPromise = new Promise((resolve) => {\n",
              "    cancel.onclick = () => {\n",
              "      resolve(null);\n",
              "    };\n",
              "  });\n",
              "\n",
              "  // Wait for the user to pick the files.\n",
              "  const files = yield {\n",
              "    promise: Promise.race([pickedPromise, cancelPromise]),\n",
              "    response: {\n",
              "      action: 'starting',\n",
              "    }\n",
              "  };\n",
              "\n",
              "  cancel.remove();\n",
              "\n",
              "  // Disable the input element since further picks are not allowed.\n",
              "  inputElement.disabled = true;\n",
              "\n",
              "  if (!files) {\n",
              "    return {\n",
              "      response: {\n",
              "        action: 'complete',\n",
              "      }\n",
              "    };\n",
              "  }\n",
              "\n",
              "  for (const file of files) {\n",
              "    const li = document.createElement('li');\n",
              "    li.append(span(file.name, {fontWeight: 'bold'}));\n",
              "    li.append(span(\n",
              "        `(${file.type || 'n/a'}) - ${file.size} bytes, ` +\n",
              "        `last modified: ${\n",
              "            file.lastModifiedDate ? file.lastModifiedDate.toLocaleDateString() :\n",
              "                                    'n/a'} - `));\n",
              "    const percent = span('0% done');\n",
              "    li.appendChild(percent);\n",
              "\n",
              "    outputElement.appendChild(li);\n",
              "\n",
              "    const fileDataPromise = new Promise((resolve) => {\n",
              "      const reader = new FileReader();\n",
              "      reader.onload = (e) => {\n",
              "        resolve(e.target.result);\n",
              "      };\n",
              "      reader.readAsArrayBuffer(file);\n",
              "    });\n",
              "    // Wait for the data to be ready.\n",
              "    let fileData = yield {\n",
              "      promise: fileDataPromise,\n",
              "      response: {\n",
              "        action: 'continue',\n",
              "      }\n",
              "    };\n",
              "\n",
              "    // Use a chunked sending to avoid message size limits. See b/62115660.\n",
              "    let position = 0;\n",
              "    do {\n",
              "      const length = Math.min(fileData.byteLength - position, MAX_PAYLOAD_SIZE);\n",
              "      const chunk = new Uint8Array(fileData, position, length);\n",
              "      position += length;\n",
              "\n",
              "      const base64 = btoa(String.fromCharCode.apply(null, chunk));\n",
              "      yield {\n",
              "        response: {\n",
              "          action: 'append',\n",
              "          file: file.name,\n",
              "          data: base64,\n",
              "        },\n",
              "      };\n",
              "\n",
              "      let percentDone = fileData.byteLength === 0 ?\n",
              "          100 :\n",
              "          Math.round((position / fileData.byteLength) * 100);\n",
              "      percent.textContent = `${percentDone}% done`;\n",
              "\n",
              "    } while (position < fileData.byteLength);\n",
              "  }\n",
              "\n",
              "  // All done.\n",
              "  yield {\n",
              "    response: {\n",
              "      action: 'complete',\n",
              "    }\n",
              "  };\n",
              "}\n",
              "\n",
              "scope.google = scope.google || {};\n",
              "scope.google.colab = scope.google.colab || {};\n",
              "scope.google.colab._files = {\n",
              "  _uploadFiles,\n",
              "  _uploadFilesContinue,\n",
              "};\n",
              "})(self);\n",
              "</script> "
            ]
          },
          "metadata": {}
        },
        {
          "output_type": "stream",
          "name": "stdout",
          "text": [
            "Saving test.mp4 to test.mp4\n",
            "업로드된 영상 파일명: test.mp4\n"
          ]
        }
      ]
    },
    {
      "cell_type": "code",
      "source": [
        "import cv2\n",
        "import numpy as np\n",
        "import torch\n",
        "\n",
        "def preprocess_frame(frame):\n",
        "    # BGR -> RGB 변환\n",
        "    frame = cv2.cvtColor(frame, cv2.COLOR_BGR2RGB)\n",
        "    # 모델과 같은 크기로 리사이즈 (예: 256x256)\n",
        "    frame = cv2.resize(frame, (256, 256))\n",
        "    # 0~1 정규화\n",
        "    frame = frame / 255.0\n",
        "    # 표준화 (학습 시 사용한 값과 동일하게)\n",
        "    mean = np.array([0.485, 0.456, 0.406])\n",
        "    std = np.array([0.229, 0.224, 0.225])\n",
        "    frame = (frame - mean) / std\n",
        "    # 채널 순서 (HWC -> CHW)\n",
        "    frame = frame.transpose(2, 0, 1)\n",
        "    # Tensor 변환, 배치 차원 추가, device 할당\n",
        "    tensor = torch.tensor(frame, dtype=torch.float32).unsqueeze(0).to(device)\n",
        "    return tensor\n"
      ],
      "metadata": {
        "id": "FL74AR45fB9K"
      },
      "execution_count": null,
      "outputs": []
    },
    {
      "cell_type": "code",
      "source": [
        "def postprocess_mask(mask_pred, original_shape):\n",
        "    # 시그모이드 활성화 후 0.5 임계값 적용\n",
        "    mask_pred = torch.sigmoid(mask_pred).cpu().detach().numpy()[0, 0]\n",
        "    mask_pred = (mask_pred > 0.5).astype(np.uint8) * 255\n",
        "    # 원본 영상 크기로 리사이즈\n",
        "    mask_pred = cv2.resize(mask_pred, (original_shape[1], original_shape[0]))\n",
        "    return mask_pred"
      ],
      "metadata": {
        "id": "qTwWnLTfgGAB"
      },
      "execution_count": null,
      "outputs": []
    },
    {
      "cell_type": "code",
      "source": [
        "# OpenCV로 영상 열기\n",
        "cap = cv2.VideoCapture(video_filename)\n",
        "\n",
        "# 저장할 결과 영상 파일명 및 코덱 설정 (mp4, 20fps)\n",
        "fourcc = cv2.VideoWriter_fourcc(*'mp4v')\n",
        "out = None\n",
        "\n",
        "while cap.isOpened():\n",
        "    ret, frame = cap.read()\n",
        "    if not ret:\n",
        "        break\n",
        "\n",
        "    h, w = frame.shape[:2]\n",
        "\n",
        "    # 영상 프레임 전처리\n",
        "    input_tensor = preprocess_frame(frame)\n",
        "\n",
        "    # 모델 추론\n",
        "    with torch.no_grad():\n",
        "        output = model(input_tensor)\n",
        "\n",
        "    # 마스크 후처리\n",
        "    lane_mask = postprocess_mask(output, (h, w))\n",
        "\n",
        "    # 차선 마스크 빨간색 오버레이 생성\n",
        "    overlay = frame.copy()\n",
        "    overlay[lane_mask == 255] = [0, 0, 255]  # 빨간색\n",
        "\n",
        "    # 원본 영상과 마스크 오버레이 합성\n",
        "    alpha = 0.5\n",
        "    output_frame = cv2.addWeighted(overlay, alpha, frame, 1 - alpha, 0)\n",
        "\n",
        "    if out is None:\n",
        "        out = cv2.VideoWriter('lane_detection_result.mp4', fourcc, 20.0, (w, h))\n",
        "    out.write(output_frame)\n",
        "\n",
        "cap.release()\n",
        "out.release()\n",
        "\n",
        "print(\"차선 인식 영상이 lane_detection_result.mp4 로 저장되었습니다.\")\n"
      ],
      "metadata": {
        "colab": {
          "base_uri": "https://localhost:8080/"
        },
        "id": "xT2yRWeKgIDZ",
        "outputId": "1711ac15-3984-46e3-9fa5-f9a4cc6454a1"
      },
      "execution_count": null,
      "outputs": [
        {
          "output_type": "stream",
          "name": "stdout",
          "text": [
            "차선 인식 영상이 lane_detection_result.mp4 로 저장되었습니다.\n"
          ]
        }
      ]
    },
    {
      "cell_type": "code",
      "source": [
        "# 영상 저장 코드\n",
        "from google.colab import files\n",
        "files.download('lane_detection_result.mp4')"
      ],
      "metadata": {
        "colab": {
          "base_uri": "https://localhost:8080/",
          "height": 17
        },
        "id": "cXQQYMj8gJwK",
        "outputId": "ab89dd0f-2511-48d8-c1d7-f224a0a26eb7"
      },
      "execution_count": null,
      "outputs": [
        {
          "output_type": "display_data",
          "data": {
            "text/plain": [
              "<IPython.core.display.Javascript object>"
            ],
            "application/javascript": [
              "\n",
              "    async function download(id, filename, size) {\n",
              "      if (!google.colab.kernel.accessAllowed) {\n",
              "        return;\n",
              "      }\n",
              "      const div = document.createElement('div');\n",
              "      const label = document.createElement('label');\n",
              "      label.textContent = `Downloading \"${filename}\": `;\n",
              "      div.appendChild(label);\n",
              "      const progress = document.createElement('progress');\n",
              "      progress.max = size;\n",
              "      div.appendChild(progress);\n",
              "      document.body.appendChild(div);\n",
              "\n",
              "      const buffers = [];\n",
              "      let downloaded = 0;\n",
              "\n",
              "      const channel = await google.colab.kernel.comms.open(id);\n",
              "      // Send a message to notify the kernel that we're ready.\n",
              "      channel.send({})\n",
              "\n",
              "      for await (const message of channel.messages) {\n",
              "        // Send a message to notify the kernel that we're ready.\n",
              "        channel.send({})\n",
              "        if (message.buffers) {\n",
              "          for (const buffer of message.buffers) {\n",
              "            buffers.push(buffer);\n",
              "            downloaded += buffer.byteLength;\n",
              "            progress.value = downloaded;\n",
              "          }\n",
              "        }\n",
              "      }\n",
              "      const blob = new Blob(buffers, {type: 'application/binary'});\n",
              "      const a = document.createElement('a');\n",
              "      a.href = window.URL.createObjectURL(blob);\n",
              "      a.download = filename;\n",
              "      div.appendChild(a);\n",
              "      a.click();\n",
              "      div.remove();\n",
              "    }\n",
              "  "
            ]
          },
          "metadata": {}
        },
        {
          "output_type": "display_data",
          "data": {
            "text/plain": [
              "<IPython.core.display.Javascript object>"
            ],
            "application/javascript": [
              "download(\"download_fef13e80-a034-43a0-befe-1de9f602ed90\", \"lane_detection_result.mp4\", 63872450)"
            ]
          },
          "metadata": {}
        }
      ]
    },
    {
      "cell_type": "code",
      "source": [
        "import os\n",
        "print(\"파일 존재 여부:\", os.path.exists('lane_detection_result.mp4'))\n",
        "print(\"파일 크기(Bytes):\", os.path.getsize('lane_detection_result.mp4') if os.path.exists('lane_detection_result.mp4') else \"파일 없음\")\n",
        "# (자꾸 오류나서 파일 있는게 맞는지 확인해본 코드)"
      ],
      "metadata": {
        "id": "HOyOASXVhvK9",
        "outputId": "4ab64767-ea51-4b3c-b9e7-b1df39fb9556",
        "colab": {
          "base_uri": "https://localhost:8080/"
        }
      },
      "execution_count": null,
      "outputs": [
        {
          "output_type": "stream",
          "name": "stdout",
          "text": [
            "파일 존재 여부: True\n",
            "파일 크기(Bytes): 472689084\n"
          ]
        }
      ]
    }
  ]
}