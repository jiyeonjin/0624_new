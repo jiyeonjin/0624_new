{
  "nbformat": 4,
  "nbformat_minor": 0,
  "metadata": {
    "colab": {
      "provenance": [],
      "authorship_tag": "ABX9TyNeFpPYaRloYDVincvhqjW3",
      "include_colab_link": true
    },
    "kernelspec": {
      "name": "python3",
      "display_name": "Python 3"
    },
    "language_info": {
      "name": "python"
    }
  },
  "cells": [
    {
      "cell_type": "markdown",
      "metadata": {
        "id": "view-in-github",
        "colab_type": "text"
      },
      "source": [
        "<a href=\"https://colab.research.google.com/github/jiyeonjin/0624_new/blob/main/0729_PeopleNet.ipynb\" target=\"_parent\"><img src=\"https://colab.research.google.com/assets/colab-badge.svg\" alt=\"Open In Colab\"/></a>"
      ]
    },
    {
      "cell_type": "code",
      "source": [
        "!pip install ultralytics yt-dlp opencv-python"
      ],
      "metadata": {
        "id": "2jEGKK_B-hBB"
      },
      "execution_count": null,
      "outputs": []
    },
    {
      "cell_type": "code",
      "source": [
        "# ✅ 1. 라이브러리 설치\n",
        "!pip install -q ultralytics yt-dlp opencv-python\n",
        "\n",
        "# ✅ 2. YouTube 영상 다운로드\n",
        "import yt_dlp\n",
        "import os\n",
        "\n",
        "# 유튜브 링크 입력 (여기만 바꾸면 돼!)\n",
        "youtube_url = \"https://youtu.be/SzRzYvQq0aQ?si=T6afHCr9eThVKcoH\"\n",
        "\n",
        "# 저장 폴더 생성\n",
        "os.makedirs(\"videos\", exist_ok=True)\n",
        "input_video_path = \"videos/input_video.mp4\"\n",
        "\n",
        "# yt-dlp 설정\n",
        "ydl_opts = {\n",
        "    'format': 'bestvideo+bestaudio/best',\n",
        "    'outtmpl': input_video_path,\n",
        "    'merge_output_format': 'mp4',\n",
        "}\n",
        "\n",
        "# 다운로드 수행\n",
        "with yt_dlp.YoutubeDL(ydl_opts) as ydl:\n",
        "    ydl.download([\"https://youtu.be/SzRzYvQq0aQ?si=T6afHCr9eThVKcoH\"])\n",
        "\n",
        "print(f\"✅ YouTube 영상 다운로드 완료: {input_video_path}\")\n",
        "\n",
        "# ✅ 3. YOLOv8 모델 불러오기\n",
        "from ultralytics import YOLO\n",
        "model = YOLO('yolov8n.pt')  # 가볍고 빠른 버전 (n), 더 정확한 건 yolov8s.pt 등 사용 가능\n",
        "\n",
        "# ✅ 4. 영상에서 사람 인식 후 저장\n",
        "import cv2\n",
        "\n",
        "output_video_path = \"videos/output_video.mp4\"\n",
        "\n",
        "cap = cv2.VideoCapture(input_video_path)\n",
        "width = int(cap.get(cv2.CAP_PROP_FRAME_WIDTH))\n",
        "height = int(cap.get(cv2.CAP_PROP_FRAME_HEIGHT))\n",
        "fps = cap.get(cv2.CAP_PROP_FPS)\n",
        "\n",
        "fourcc = cv2.VideoWriter_fourcc(*'mp4v')\n",
        "out = cv2.VideoWriter(output_video_path, fourcc, fps, (width, height))\n",
        "\n",
        "frame_count = int(cap.get(cv2.CAP_PROP_FRAME_COUNT))\n",
        "current_frame = 0\n",
        "\n",
        "print(\"🔄 영상 처리 중...\")\n",
        "\n",
        "while cap.isOpened():\n",
        "    ret, frame = cap.read()\n",
        "    if not ret:\n",
        "        break\n",
        "\n",
        "    # YOLOv8으로 사람(class 0) 인식\n",
        "    results = model(frame, classes=[0], verbose=False)[0]\n",
        "\n",
        "    # 바운딩 박스 표시\n",
        "    for box in results.boxes:\n",
        "        x1, y1, x2, y2 = map(int, box.xyxy[0])\n",
        "        conf = box.conf[0].item()\n",
        "        label = f\"Person {conf:.2f}\"\n",
        "        cv2.rectangle(frame, (x1, y1), (x2, y2), (0, 255, 0), 2)\n",
        "        cv2.putText(frame, label, (x1, y1 - 5),\n",
        "                    cv2.FONT_HERSHEY_SIMPLEX, 0.5, (0, 255, 0), 2)\n",
        "\n",
        "    out.write(frame)\n",
        "\n",
        "    current_frame += 1\n",
        "    if current_frame % 30 == 0:\n",
        "        print(f\"⏱ 처리 중: {current_frame}/{frame_count} 프레임\")\n",
        "\n",
        "cap.release()\n",
        "out.release()\n",
        "print(f\"✅ 영상 저장 완료: {output_video_path}\")\n",
        "\n",
        "# ✅ 5. 다운로드 링크 제공\n",
        "from IPython.display import FileLink, display\n",
        "print(\"⬇️ 아래 링크를 클릭해 결과 영상을 다운로드하세요:\")\n",
        "display(FileLink(output_video_path))\n"
      ],
      "metadata": {
        "id": "S6OwiEM0_lJU"
      },
      "execution_count": null,
      "outputs": []
    }
  ]
}