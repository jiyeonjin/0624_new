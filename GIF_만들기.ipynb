{
  "nbformat": 4,
  "nbformat_minor": 0,
  "metadata": {
    "colab": {
      "provenance": [],
      "gpuType": "T4",
      "authorship_tag": "ABX9TyMyX00L6/PJRsh6uae2Y0Sn",
      "include_colab_link": true
    },
    "kernelspec": {
      "name": "python3",
      "display_name": "Python 3"
    },
    "language_info": {
      "name": "python"
    },
    "accelerator": "GPU"
  },
  "cells": [
    {
      "cell_type": "markdown",
      "metadata": {
        "id": "view-in-github",
        "colab_type": "text"
      },
      "source": [
        "<a href=\"https://colab.research.google.com/github/jiyeonjin/0624_new/blob/main/GIF_%EB%A7%8C%EB%93%A4%EA%B8%B0.ipynb\" target=\"_parent\"><img src=\"https://colab.research.google.com/assets/colab-badge.svg\" alt=\"Open In Colab\"/></a>"
      ]
    },
    {
      "cell_type": "markdown",
      "source": [
        "아래 셀들을 차례대로 실행시키면 ReadMe에 올릴 수 있는 GIF 영상이 다운로드 됩니다."
      ],
      "metadata": {
        "id": "8lfkFtQL7jK6"
      }
    },
    {
      "cell_type": "code",
      "execution_count": null,
      "metadata": {
        "id": "5rgkBB6XEPIQ",
        "collapsed": true
      },
      "outputs": [],
      "source": [
        "# 코랩 새 셀에서 실행하세요\n",
        "!pip install moviepy imageio[ffmpeg]\n",
        "print(\"라이브러리 설치 완료!\")"
      ]
    },
    {
      "cell_type": "code",
      "source": [
        "# 방법 1: 직접 업로드\n",
        "from google.colab import files\n",
        "uploaded = files.upload()\n",
        "\n",
        "# 업로드된 파일 확인\n",
        "import os\n",
        "print(\"업로드된 파일들:\")\n",
        "for filename in uploaded.keys():\n",
        "    print(f\"- {filename}\")"
      ],
      "metadata": {
        "id": "j2Mxk3L0EY77"
      },
      "execution_count": null,
      "outputs": []
    },
    {
      "cell_type": "code",
      "source": [
        "import moviepy.editor as mp\n",
        "from IPython.display import Image, display\n",
        "import os\n",
        "\n",
        "def convert_video_to_gif(video_path, output_path):\n",
        "    \"\"\"\n",
        "    영상을 GIF로 변환하는 함수 (초보자용 간단 버전)\n",
        "    \"\"\"\n",
        "    print(\"영상을 GIF로 변환 시작...\")\n",
        "\n",
        "    # 영상 로드\n",
        "    clip = mp.VideoFileClip(video_path)\n",
        "    print(f\"원본 영상: {clip.duration:.1f}초, 크기: {clip.w}x{clip.h}\")\n",
        "\n",
        "    # GIF 최적화 설정\n",
        "    # 1. 길이를 30초로 제한 (너무 길면 파일이 커져요)\n",
        "    if clip.duration > 30:\n",
        "        clip = clip.subclip(0, 30)\n",
        "        print(\"30초로 단축했어요\")\n",
        "\n",
        "    # 2. 크기 줄이기 (너무 크면 파일이 커져요)\n",
        "    if clip.w > 600:\n",
        "        clip = clip.resize(width=600)\n",
        "        print(\"크기를 600px로 줄였어요\")\n",
        "\n",
        "    # 3. GIF로 저장\n",
        "    clip.write_gif(output_path, fps=8, opt='OptimizePlus')\n",
        "\n",
        "    # 정리\n",
        "    clip.close()\n",
        "\n",
        "    # 결과 확인\n",
        "    file_size = os.path.getsize(output_path) / (1024 * 1024)\n",
        "    print(f\"GIF 생성 완료! 파일 크기: {file_size:.1f}MB\")\n",
        "\n",
        "    return output_path\n",
        "\n",
        "# 사용법 (영상 파일명을 여러분 파일로 바꿔주세요!)\n",
        "video_file = \"/content/final_output_video_1.mp4\"  # ← 여기에 실제 영상 파일명 입력\n",
        "gif_file = \"lane_detection_demo.gif\"\n",
        "\n",
        "convert_video_to_gif(video_file, gif_file)"
      ],
      "metadata": {
        "id": "nbfijMddEwFO"
      },
      "execution_count": null,
      "outputs": []
    },
    {
      "cell_type": "code",
      "source": [
        "# GIF 파일을 로컬로 다운로드\n",
        "files.download(gif_file)\n",
        "print(\"GIF 다운로드 완료!\")"
      ],
      "metadata": {
        "id": "7aCkcy0nFDnS"
      },
      "execution_count": null,
      "outputs": []
    }
  ]
}