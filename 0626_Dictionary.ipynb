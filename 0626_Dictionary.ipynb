{
  "nbformat": 4,
  "nbformat_minor": 0,
  "metadata": {
    "colab": {
      "provenance": [],
      "authorship_tag": "ABX9TyMxg0wvxyE+w6w5CfxEA2Xw",
      "include_colab_link": true
    },
    "kernelspec": {
      "name": "python3",
      "display_name": "Python 3"
    },
    "language_info": {
      "name": "python"
    }
  },
  "cells": [
    {
      "cell_type": "markdown",
      "metadata": {
        "id": "view-in-github",
        "colab_type": "text"
      },
      "source": [
        "<a href=\"https://colab.research.google.com/github/jiyeonjin/0624_new/blob/main/0626_Dictionary.ipynb\" target=\"_parent\"><img src=\"https://colab.research.google.com/assets/colab-badge.svg\" alt=\"Open In Colab\"/></a>"
      ]
    },
    {
      "cell_type": "code",
      "execution_count": 7,
      "metadata": {
        "colab": {
          "base_uri": "https://localhost:8080/"
        },
        "id": "2p3-qm6sJilj",
        "outputId": "cbd9bb8c-6564-43c8-a0b7-c38d9624c1da"
      },
      "outputs": [
        {
          "output_type": "stream",
          "name": "stdout",
          "text": [
            "{'brand': 'Ford', 'model': 'Mustang', 'year': 1964}\n"
          ]
        }
      ],
      "source": [
        "thisdict={\n",
        "    \"brand\":\"Ford\",\n",
        "    \"model\":\"Mustang\",\n",
        "    \"year\":1964\n",
        "}\n",
        "print(thisdict)"
      ]
    },
    {
      "cell_type": "code",
      "source": [
        "thisdict = {\n",
        "  \"brand\": \"Ford\",\n",
        "  \"model\": \"Mustang\",\n",
        "  \"year\": 1964,\n",
        "  \"year\": 2020\n",
        "}\n",
        "print(thisdict)\n",
        "print(len(thisdict))"
      ],
      "metadata": {
        "colab": {
          "base_uri": "https://localhost:8080/"
        },
        "id": "3GU1QGD-LWzJ",
        "outputId": "a5c588e2-2580-4fff-a23c-ee77910e5fa0"
      },
      "execution_count": 8,
      "outputs": [
        {
          "output_type": "stream",
          "name": "stdout",
          "text": [
            "{'brand': 'Ford', 'model': 'Mustang', 'year': 2020}\n",
            "3\n"
          ]
        }
      ]
    },
    {
      "cell_type": "code",
      "source": [
        "thisdict = {\n",
        "  \"brand\": \"Ford\",\n",
        "  \"electric\": False,\n",
        "  \"year\": 1964,\n",
        "  \"colors\": [\"red\", \"white\", \"blue\"]\n",
        "}\n",
        "print(thisdict)"
      ],
      "metadata": {
        "colab": {
          "base_uri": "https://localhost:8080/"
        },
        "id": "rLZbZktGLZ5O",
        "outputId": "9b87c9e5-be9f-4676-ea96-19e1807d0433"
      },
      "execution_count": 9,
      "outputs": [
        {
          "output_type": "stream",
          "name": "stdout",
          "text": [
            "{'brand': 'Ford', 'electric': False, 'year': 1964, 'colors': ['red', 'white', 'blue']}\n"
          ]
        }
      ]
    },
    {
      "cell_type": "code",
      "source": [
        "thisdict = dict(name = \"John\", age = 36, country = \"Norway\")\n",
        "print(thisdict)"
      ],
      "metadata": {
        "colab": {
          "base_uri": "https://localhost:8080/"
        },
        "id": "dLbt9JUOLjXW",
        "outputId": "950670c8-fb7e-4252-ad21-29a0993db6b6"
      },
      "execution_count": 10,
      "outputs": [
        {
          "output_type": "stream",
          "name": "stdout",
          "text": [
            "{'name': 'John', 'age': 36, 'country': 'Norway'}\n"
          ]
        }
      ]
    },
    {
      "cell_type": "markdown",
      "source": [
        "# 예제 1: 센서 거리 정보 저장"
      ],
      "metadata": {
        "id": "9tKNvh3RMJEA"
      }
    },
    {
      "cell_type": "code",
      "source": [
        "sensor_data = {\n",
        "    \"front\": 7.5,\n",
        "    \"left\": 12.3,\n",
        "    \"right\": 5.8\n",
        "}\n",
        "\n",
        "# 앞쪽 거리 확인\n",
        "if sensor_data[\"front\"] < 10:\n",
        "    print(\"앞에 장애물 있음! 감속 또는 정지!\")\n"
      ],
      "metadata": {
        "colab": {
          "base_uri": "https://localhost:8080/"
        },
        "id": "1upZnnFOMBrp",
        "outputId": "4739533a-ab01-44a8-b25f-17b3c5fafea9"
      },
      "execution_count": 11,
      "outputs": [
        {
          "output_type": "stream",
          "name": "stdout",
          "text": [
            "앞에 장애물 있음! 감속 또는 정지!\n"
          ]
        }
      ]
    },
    {
      "cell_type": "markdown",
      "source": [
        "# 예제 2: 신호등 상태 확인"
      ],
      "metadata": {
        "id": "lZZIpBxnMLsJ"
      }
    },
    {
      "cell_type": "code",
      "source": [
        "traffic_light = {\n",
        "    \"color\": \"red\",\n",
        "    \"time_remaining\": 15  # 초 단위\n",
        "}\n",
        "\n",
        "if traffic_light[\"color\"] == \"red\":\n",
        "    print(\"정지하세요. 남은 대기 시간:\", traffic_light[\"time_remaining\"], \"초\")\n"
      ],
      "metadata": {
        "colab": {
          "base_uri": "https://localhost:8080/"
        },
        "id": "7vQ44OybMBd_",
        "outputId": "ae4b4d73-f56e-44bb-896b-beee2b289826"
      },
      "execution_count": 12,
      "outputs": [
        {
          "output_type": "stream",
          "name": "stdout",
          "text": [
            "정지하세요. 남은 대기 시간: 15 초\n"
          ]
        }
      ]
    },
    {
      "cell_type": "markdown",
      "source": [
        "# 예제 3: 위치 좌표 저장"
      ],
      "metadata": {
        "id": "GMk81CiOMOwL"
      }
    },
    {
      "cell_type": "code",
      "source": [
        "car_position = {\n",
        "    \"x\": 124.55,\n",
        "    \"y\": 87.10,\n",
        "    \"heading\": 90  # 동쪽(0도 기준)\n",
        "}\n",
        "\n",
        "print(f\"현재 차량 위치: ({car_position['x']}, {car_position['y']}), 방향: {car_position['heading']}도\")\n"
      ],
      "metadata": {
        "colab": {
          "base_uri": "https://localhost:8080/"
        },
        "id": "42tLfZreMErY",
        "outputId": "d90cb543-fda2-40ae-fcf8-633616d716e5"
      },
      "execution_count": 13,
      "outputs": [
        {
          "output_type": "stream",
          "name": "stdout",
          "text": [
            "현재 차량 위치: (124.55, 87.1), 방향: 90도\n"
          ]
        }
      ]
    },
    {
      "cell_type": "markdown",
      "source": [
        "# 예제 4: 장애물 종류 분류"
      ],
      "metadata": {
        "id": "n8wfcV8gMQJB"
      }
    },
    {
      "cell_type": "code",
      "source": [
        "obstacle_info = {\n",
        "    \"type\": \"사람\",\n",
        "    \"distance\": 6.2,\n",
        "    \"moving\": True\n",
        "}\n",
        "\n",
        "if obstacle_info[\"moving\"]:\n",
        "    print(f\"{obstacle_info['type']}이 움직이고 있습니다! 주의하세요.\")\n"
      ],
      "metadata": {
        "colab": {
          "base_uri": "https://localhost:8080/"
        },
        "id": "PDnLPMxJMFXp",
        "outputId": "fd438e47-79b2-472c-b3c4-4b652780ef89"
      },
      "execution_count": 14,
      "outputs": [
        {
          "output_type": "stream",
          "name": "stdout",
          "text": [
            "사람이 움직이고 있습니다! 주의하세요.\n"
          ]
        }
      ]
    },
    {
      "cell_type": "markdown",
      "source": [
        "# 예제 5: 주변 차량 정보 목록"
      ],
      "metadata": {
        "id": "9GgIqepVMSg5"
      }
    },
    {
      "cell_type": "code",
      "source": [
        "nearby_cars = {\n",
        "    \"car_1\": {\"speed\": 50, \"distance\": 20},\n",
        "    \"car_2\": {\"speed\": 40, \"distance\": 15},\n",
        "    \"car_3\": {\"speed\": 60, \"distance\": 25}\n",
        "}\n",
        "\n",
        "# 모든 차량 정보 출력\n",
        "for car_id, info in nearby_cars.items():\n",
        "    print(f\"{car_id} - 속도: {info['speed']}km/h, 거리: {info['distance']}m\")\n"
      ],
      "metadata": {
        "colab": {
          "base_uri": "https://localhost:8080/"
        },
        "id": "pSdwFwlyMEn2",
        "outputId": "a770ecff-294c-4364-a94d-886142bbaf3d"
      },
      "execution_count": 15,
      "outputs": [
        {
          "output_type": "stream",
          "name": "stdout",
          "text": [
            "car_1 - 속도: 50km/h, 거리: 20m\n",
            "car_2 - 속도: 40km/h, 거리: 15m\n",
            "car_3 - 속도: 60km/h, 거리: 25m\n"
          ]
        }
      ]
    }
  ]
}