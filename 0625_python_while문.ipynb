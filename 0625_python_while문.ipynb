{
  "nbformat": 4,
  "nbformat_minor": 0,
  "metadata": {
    "colab": {
      "provenance": [],
      "authorship_tag": "ABX9TyPe7bqZ0A+5KoMNtBIFTSMY",
      "include_colab_link": true
    },
    "kernelspec": {
      "name": "python3",
      "display_name": "Python 3"
    },
    "language_info": {
      "name": "python"
    }
  },
  "cells": [
    {
      "cell_type": "markdown",
      "metadata": {
        "id": "view-in-github",
        "colab_type": "text"
      },
      "source": [
        "<a href=\"https://colab.research.google.com/github/jiyeonjin/0624_new/blob/main/0625_python_while%EB%AC%B8.ipynb\" target=\"_parent\"><img src=\"https://colab.research.google.com/assets/colab-badge.svg\" alt=\"Open In Colab\"/></a>"
      ]
    },
    {
      "cell_type": "markdown",
      "source": [
        "1부터 5까지 숫자를 순서대로 출력하는 while문 코드"
      ],
      "metadata": {
        "id": "CqcQSUKE_mXw"
      }
    },
    {
      "cell_type": "code",
      "execution_count": 5,
      "metadata": {
        "colab": {
          "base_uri": "https://localhost:8080/"
        },
        "id": "FO4x76ic_EDZ",
        "outputId": "a2a18b93-5acb-42c6-e7d3-ba42bdee2fe2"
      },
      "outputs": [
        {
          "output_type": "stream",
          "name": "stdout",
          "text": [
            "1\n",
            "2\n",
            "3\n",
            "4\n",
            "5\n"
          ]
        }
      ],
      "source": [
        "i=1\n",
        "while i<6:\n",
        "  print(i)\n",
        "  i+=1"
      ]
    },
    {
      "cell_type": "markdown",
      "source": [
        "1부터 출력하다가 숫자가 3이 되면 반복을 멈추는 코드, while/break 사용"
      ],
      "metadata": {
        "id": "sBkYAXbX_mpH"
      }
    },
    {
      "cell_type": "code",
      "source": [
        "i=1\n",
        "while i<6:\n",
        "  print(i)\n",
        "  if i==3:\n",
        "    break\n",
        "  i+=1"
      ],
      "metadata": {
        "colab": {
          "base_uri": "https://localhost:8080/"
        },
        "id": "pMWuVpJ3_Oum",
        "outputId": "bd153704-5148-4a15-871e-89dfc50cc2c6"
      },
      "execution_count": 6,
      "outputs": [
        {
          "output_type": "stream",
          "name": "stdout",
          "text": [
            "1\n",
            "2\n",
            "3\n"
          ]
        }
      ]
    },
    {
      "cell_type": "markdown",
      "source": [
        "i가 3일 때만 출력하지 않고, 나머지 숫자는 1부터 6까지 출력하는 코드"
      ],
      "metadata": {
        "id": "IwWdwORA_-Qn"
      }
    },
    {
      "cell_type": "code",
      "source": [
        "i=0\n",
        "while i<6:\n",
        "  i+=1\n",
        "  if i==3:\n",
        "    continue\n",
        "  print(i)"
      ],
      "metadata": {
        "colab": {
          "base_uri": "https://localhost:8080/"
        },
        "id": "tQt59VQE_OrW",
        "outputId": "1a492d8f-90b4-4216-f235-97003337edf7"
      },
      "execution_count": 7,
      "outputs": [
        {
          "output_type": "stream",
          "name": "stdout",
          "text": [
            "1\n",
            "2\n",
            "4\n",
            "5\n",
            "6\n"
          ]
        }
      ]
    },
    {
      "cell_type": "markdown",
      "source": [
        "1부터 5까지 출력하고, 반복 끝나면 “i is no longer less than 6” 출력하는 코드"
      ],
      "metadata": {
        "id": "PWj0AFNoAE0b"
      }
    },
    {
      "cell_type": "code",
      "source": [
        "i=1\n",
        "while i<6:\n",
        "  print(i)\n",
        "  i+=1\n",
        "else:\n",
        "  print(\"i is no longer less than 6\")"
      ],
      "metadata": {
        "colab": {
          "base_uri": "https://localhost:8080/"
        },
        "id": "DUlVzRxr_Oom",
        "outputId": "4c4f0a31-1a64-4411-a997-f8c15e53b66b"
      },
      "execution_count": 8,
      "outputs": [
        {
          "output_type": "stream",
          "name": "stdout",
          "text": [
            "1\n",
            "2\n",
            "3\n",
            "4\n",
            "5\n",
            "i is no longer less than 6\n"
          ]
        }
      ]
    },
    {
      "cell_type": "markdown",
      "source": [
        "# 1. 속도 점검 반복\n",
        "\n",
        "조건 검사: while speed <= MAX_SPEED → 속도가 최대 속도 이하일 때 반복\n",
        "\n",
        "변수 증가: speed += 20으로 속도가 점점 증가\n",
        "\n",
        "종료 후 메시지 출력: 제한 넘으면 반복 끝내고 안내 메시지 출력"
      ],
      "metadata": {
        "id": "JDj8-P32Bcjb"
      }
    },
    {
      "cell_type": "code",
      "source": [
        "speed = 0\n",
        "MAX_SPEED = 100\n",
        "\n",
        "while speed <= MAX_SPEED:\n",
        "    print(f\"현재 속도: {speed} km/h\")\n",
        "    speed += 20\n",
        "\n",
        "print(\"속도 제한 초과! 감속 필요.\")\n"
      ],
      "metadata": {
        "colab": {
          "base_uri": "https://localhost:8080/"
        },
        "id": "NbeIMja5_OhW",
        "outputId": "0d5983d9-92f0-49cc-cbb9-881f1fc247d0"
      },
      "execution_count": 9,
      "outputs": [
        {
          "output_type": "stream",
          "name": "stdout",
          "text": [
            "현재 속도: 0 km/h\n",
            "현재 속도: 20 km/h\n",
            "현재 속도: 40 km/h\n",
            "현재 속도: 60 km/h\n",
            "현재 속도: 80 km/h\n",
            "현재 속도: 100 km/h\n",
            "속도 제한 초과! 감속 필요.\n"
          ]
        }
      ]
    },
    {
      "cell_type": "markdown",
      "source": [
        "# 2. 충돌 감지 반복\n",
        "\n",
        "거리 비교: while distance > SAFE_DISTANCE → 안전 거리보다 멀면 계속 반복\n",
        "\n",
        "거리 감소: distance -= 1로 앞차와 점점 가까워짐\n",
        "\n",
        "경고 메시지: 안전 거리 이하가 되면 반복 종료 후 경고 출력"
      ],
      "metadata": {
        "id": "khcybI_vBfZO"
      }
    },
    {
      "cell_type": "code",
      "source": [
        "distance = 10\n",
        "SAFE_DISTANCE = 5\n",
        "\n",
        "while distance > SAFE_DISTANCE:\n",
        "    print(f\"앞 차와 거리: {distance}m, 안전!\")\n",
        "    distance -= 1\n",
        "\n",
        "print(\"경고! 충돌 위험!\")\n"
      ],
      "metadata": {
        "colab": {
          "base_uri": "https://localhost:8080/"
        },
        "id": "WZgF91dvBL-T",
        "outputId": "ff113e2a-a6e9-4ecf-fabe-278fa16602a1"
      },
      "execution_count": 14,
      "outputs": [
        {
          "output_type": "stream",
          "name": "stdout",
          "text": [
            "앞 차와 거리: 10m, 안전!\n",
            "앞 차와 거리: 9m, 안전!\n",
            "앞 차와 거리: 8m, 안전!\n",
            "앞 차와 거리: 7m, 안전!\n",
            "앞 차와 거리: 6m, 안전!\n",
            "경고! 충돌 위험!\n"
          ]
        }
      ]
    },
    {
      "cell_type": "markdown",
      "source": [
        "# 3. 배터리 상태 확인\n",
        "\n",
        "잔량 확인: while battery > 0 → 배터리가 남아있을 때 반복\n",
        "\n",
        "잔량 감소: battery -= 25로 점차 배터리 줄어듦\n",
        "\n",
        "배터리 부족 알림: 0 이하 되면 반복 종료 후 알림"
      ],
      "metadata": {
        "id": "zvKs4RVzBiEk"
      }
    },
    {
      "cell_type": "code",
      "source": [
        "battery = 100\n",
        "\n",
        "while battery > 0:\n",
        "    print(f\"배터리 잔량: {battery}%\")\n",
        "    battery -= 25\n",
        "\n",
        "print(\"배터리 부족! 충전 필요!\")\n"
      ],
      "metadata": {
        "colab": {
          "base_uri": "https://localhost:8080/"
        },
        "id": "WF55XsSIBL7T",
        "outputId": "e891cde1-1e84-480c-8168-b2f025fbf3bb"
      },
      "execution_count": 11,
      "outputs": [
        {
          "output_type": "stream",
          "name": "stdout",
          "text": [
            "배터리 잔량: 100%\n",
            "배터리 잔량: 75%\n",
            "배터리 잔량: 50%\n",
            "배터리 잔량: 25%\n",
            "배터리 부족! 충전 필요!\n"
          ]
        }
      ]
    },
    {
      "cell_type": "markdown",
      "source": [
        "# 4. 주행 모드 유지\n",
        "\n",
        "모드 체크: while mode == \"자율주행\" → 자율주행 모드일 때만 반복\n",
        "\n",
        "조건에 따라 모드 변경 가능: 예시로 mode = \"수동\"으로 바꾸면 반복 종료\n",
        "\n",
        "\n",
        "\n"
      ],
      "metadata": {
        "id": "dR3wPfYMBkhf"
      }
    },
    {
      "cell_type": "code",
      "source": [
        "mode = \"자율주행\"\n",
        "\n",
        "while mode == \"자율주행\":\n",
        "    print(\"자율주행 중...\")\n",
        "    # 특정 조건으로 모드 변경 가능 (예: 수동으로 바꿈)\n",
        "    mode = \"수동\"\n",
        "\n",
        "print(\"수동 모드로 전환됨.\")\n"
      ],
      "metadata": {
        "colab": {
          "base_uri": "https://localhost:8080/"
        },
        "id": "m2XZKkL2BL3e",
        "outputId": "e3568fa7-c80f-46d1-c0d8-6a3dccd858a3"
      },
      "execution_count": 12,
      "outputs": [
        {
          "output_type": "stream",
          "name": "stdout",
          "text": [
            "자율주행 중...\n",
            "수동 모드로 전환됨.\n"
          ]
        }
      ]
    },
    {
      "cell_type": "markdown",
      "source": [
        "# 5. 센서 데이터 수집\n",
        "\n",
        "반복 횟수 제한: while count < MAX_COUNT → 최대 횟수까지 반복\n",
        "\n",
        "카운터 증가: count += 1로 반복 횟수 셈\n",
        "\n",
        "\n",
        "\n"
      ],
      "metadata": {
        "id": "7I5MCZ6HBmmU"
      }
    },
    {
      "cell_type": "code",
      "source": [
        "count = 0\n",
        "MAX_COUNT = 5\n",
        "\n",
        "while count < MAX_COUNT:\n",
        "    print(f\"센서 데이터 수집 중... {count + 1}\")\n",
        "    count += 1\n",
        "\n",
        "print(\"센서 데이터 수집 완료.\")\n"
      ],
      "metadata": {
        "colab": {
          "base_uri": "https://localhost:8080/"
        },
        "id": "3zAPSfO2BWAb",
        "outputId": "9b260340-3246-4a6d-8a23-8c55c27bc5cb"
      },
      "execution_count": 13,
      "outputs": [
        {
          "output_type": "stream",
          "name": "stdout",
          "text": [
            "센서 데이터 수집 중... 1\n",
            "센서 데이터 수집 중... 2\n",
            "센서 데이터 수집 중... 3\n",
            "센서 데이터 수집 중... 4\n",
            "센서 데이터 수집 중... 5\n",
            "센서 데이터 수집 완료.\n"
          ]
        }
      ]
    }
  ]
}