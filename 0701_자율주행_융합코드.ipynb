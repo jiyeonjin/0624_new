{
  "nbformat": 4,
  "nbformat_minor": 0,
  "metadata": {
    "colab": {
      "provenance": [],
      "authorship_tag": "ABX9TyP16dRciYqef3E15y3mKo0q",
      "include_colab_link": true
    },
    "kernelspec": {
      "name": "python3",
      "display_name": "Python 3"
    },
    "language_info": {
      "name": "python"
    }
  },
  "cells": [
    {
      "cell_type": "markdown",
      "metadata": {
        "id": "view-in-github",
        "colab_type": "text"
      },
      "source": [
        "<a href=\"https://colab.research.google.com/github/jiyeonjin/0624_new/blob/main/0701_%EC%9E%90%EC%9C%A8%EC%A3%BC%ED%96%89_%EC%9C%B5%ED%95%A9%EC%BD%94%EB%93%9C.ipynb\" target=\"_parent\"><img src=\"https://colab.research.google.com/assets/colab-badge.svg\" alt=\"Open In Colab\"/></a>"
      ]
    },
    {
      "cell_type": "markdown",
      "source": [
        "1번\n",
        "https://claude.ai/public/artifacts/ecfa16b4-2106-4e7b-a637-a17f20eb3126"
      ],
      "metadata": {
        "id": "Bos9Sc5Vg5VB"
      }
    },
    {
      "cell_type": "code",
      "execution_count": null,
      "metadata": {
        "colab": {
          "base_uri": "https://localhost:8080/"
        },
        "id": "OTkmgusUXzde",
        "outputId": "294f92f1-0267-40ee-b1b4-6dcf926ea52a"
      },
      "outputs": [
        {
          "output_type": "stream",
          "name": "stdout",
          "text": [
            "센서 초기화: {'앞': 15.0, '왼쪽': 15.0, '오른쪽': 15.0}\n"
          ]
        }
      ],
      "source": [
        "def init_sensors():\n",
        "    sensors = {\"앞\": 15.0,\"왼쪽\": 15.0,\"오른쪽\": 15.0}\n",
        "\n",
        "    print(\"센서 초기화:\", sensors)\n",
        "    return sensors\n",
        "\n",
        "sensor_data = init_sensors()"
      ]
    },
    {
      "cell_type": "markdown",
      "source": [
        "2번\n",
        "https://claude.ai/public/artifacts/2bacfb57-fa54-46bf-bd52-f4d858b045a4"
      ],
      "metadata": {
        "id": "wswrZsbwg7IY"
      }
    },
    {
      "cell_type": "code",
      "source": [
        "def scan_front(x, y, obstacles, sensors):\n",
        "    print(\"디버그 출력:앞쪽 스캔 시작\")\n",
        "\n",
        "    if (x, y + 1) in obstacles:\n",
        "        print(\"앞쪽 1칸 장애물 발견\")\n",
        "        sensors[\"앞\"] = 1.0\n",
        "\n",
        "    elif (x, y + 2) in obstacles:\n",
        "        sensors[\"앞\"] = 2.0\n",
        "        print(\"앞쪽 2칸 장애물 발견\")\n",
        "\n",
        "    elif (x, y + 3) in obstacles:\n",
        "        sensors[\"앞\"] = 3.0\n",
        "        print(\"앞쪽 3칸 장애물 발견\")\n",
        "\n",
        "    else:\n",
        "        print(\"앞쪽 장애물 없음, 센서값 15.0 유지\")\n",
        "        sensors[\"앞\"] = 15.0\n",
        "\n",
        "    print(\"print 2-16 앞쪽 스캔 완료, 함수 종료\")"
      ],
      "metadata": {
        "id": "Hne-YAPQY9AK"
      },
      "execution_count": null,
      "outputs": []
    },
    {
      "cell_type": "markdown",
      "source": [
        "3번\n",
        "https://claude.ai/public/artifacts/0bd88961-bc8c-43b4-b40b-aa0a27fe96df"
      ],
      "metadata": {
        "id": "QdV_1r7_g81f"
      }
    },
    {
      "cell_type": "code",
      "source": [
        "def scan_left(x, y, obstacles, sensors):\n",
        "    print(\"왼쪽 스캔 시작\")\n",
        "\n",
        "    if (x - 1, y) in obstacles:\n",
        "        sensors[\"왼쪽\"] = 1.0\n",
        "        print(\"왼쪽 1칸 장애물 발견\")\n",
        "\n",
        "    elif (x - 2, y) in obstacles:\n",
        "        sensors[\"왼쪽\"] = 2.0\n",
        "        print(\"왼쪽 2칸 장애물 발견\")\n",
        "\n",
        "    elif (x - 3, y) in obstacles:\n",
        "        sensors[\"왼쪽\"] = 3.0\n",
        "        print(\"왼쪽 3칸 장애물 발견\")\n",
        "\n",
        "    else:\n",
        "        sensors[\"왼쪽\"] = 15.0\n",
        "        print(\"3-15 왼쪽 장애물 없음, 센서값 15.0 유지\")\n",
        "\n",
        "    print(\"왼쪽 스캔 완료, 함수 종료\")"
      ],
      "metadata": {
        "id": "UYLp3zrHgVzU"
      },
      "execution_count": null,
      "outputs": []
    },
    {
      "cell_type": "markdown",
      "source": [
        "4번\n",
        "\n",
        "3번 내용 오른쪽 스캔으로 바꿔 코드 작성"
      ],
      "metadata": {
        "id": "XvC7QtHDyuTM"
      }
    },
    {
      "cell_type": "code",
      "source": [
        "def scan_right(x, y, obstacles, sensors):\n",
        "    print(\"오른쪽 스캔 시작\")\n",
        "\n",
        "    if (x + 1, y) in obstacles:\n",
        "        sensors[\"오른쪽\"] = 1.0\n",
        "        print(\"오른쪽 1칸 장애물 발견\")\n",
        "\n",
        "    elif (x + 2, y) in obstacles:\n",
        "        sensors[\"오른쪽\"] = 2.0\n",
        "        print(\"오른쪽 2칸 장애물 발견\")\n",
        "\n",
        "    elif (x + 3, y) in obstacles:\n",
        "        sensors[\"오른쪽\"] = 3.0\n",
        "        print(\"오른쪽 3칸 장애물 발견\")\n",
        "\n",
        "    else:\n",
        "        sensors[\"오른쪽\"] = 15.0\n",
        "        print(\"3-15 오른쪽 장애물 없음, 센서값 15.0 유지\")\n",
        "\n",
        "    print(\"오른쪽 스캔 완료, 함수 종료\")"
      ],
      "metadata": {
        "id": "2CaK8jd7ys8k"
      },
      "execution_count": null,
      "outputs": []
    },
    {
      "cell_type": "markdown",
      "source": [
        "5번\n",
        "https://claude.ai/public/artifacts/0071fea5-0417-4ac3-b753-5e47ea108c2a"
      ],
      "metadata": {
        "id": "gnO7OjDqv6e_"
      }
    },
    {
      "cell_type": "code",
      "source": [
        "def init_sensors():\n",
        "    return {\"앞\": 15.0, \"왼쪽\": 15.0, \"오른쪽\": 15.0}\n",
        "\n",
        "\n",
        "def update_sensor_data(position, obstacles):\n",
        "    print(\"함수 시작\")\n",
        "\n",
        "    x = position[\"x\"]\n",
        "    y = position[\"y\"]\n",
        "\n",
        "    print(\"print 5-6 위치 추출 완료\")\n",
        "    print(f\"print 5-7 현재 x, y값: {x}, {y}\")\n",
        "\n",
        "    sensors = init_sensors()\n",
        "\n",
        "    scan_front(x, y, obstacles, sensors)\n",
        "    scan_left(x, y, obstacles, sensors)\n",
        "    scan_right(x, y, obstacles, sensors)\n",
        "\n",
        "    print(\"print 5-17 센서 업데이트 완료, 함수 종료:\", sensors)\n",
        "\n",
        "    return sensors"
      ],
      "metadata": {
        "id": "ag3SKjV4ore3"
      },
      "execution_count": null,
      "outputs": []
    },
    {
      "cell_type": "markdown",
      "source": [
        "6번\n",
        "https://claude.ai/public/artifacts/27051f81-4a36-4075-8d2b-ec7199d9a7fb\n",
        "\n",
        "조건문 핵심: distance < safe_distance, 위험 여부 판단 기준\n",
        "\n",
        "sensors는 딕셔너리, obstacles는 리스트"
      ],
      "metadata": {
        "id": "hCcLk78PwplW"
      }
    },
    {
      "cell_type": "code",
      "source": [
        "def detect_obstacles(sensors, safe_distance):\n",
        "    print(\"print 6-4 함수 시작\")\n",
        "\n",
        "    print(\"print 6-5 입력 데이터\")\n",
        "\n",
        "    print(\"sensors:\", sensors, \"safe_distance:\", safe_distance)\n",
        "    obstacles = []\n",
        "\n",
        "    for direction, distance in sensors.items():\n",
        "\n",
        "        print(\"print 6-9 현재 방향과 거리 체크\")\n",
        "\n",
        "        if distance < safe_distance:\n",
        "\n",
        "            obstacles.append(direction)\n",
        "            print(\"print 6-12 위험! 목록에 추가\")\n",
        "\n",
        "        else:\n",
        "            print(\"print 6-14 안전\")\n",
        "\n",
        "    print(\"print 6-16 장애물 탐지 완료\")\n",
        "    print(\"최종 obstacles 리스트 출력:\", obstacles)\n",
        "\n",
        "    return obstacles\n"
      ],
      "metadata": {
        "id": "g_CBSTlIv7-a"
      },
      "execution_count": null,
      "outputs": []
    },
    {
      "cell_type": "markdown",
      "source": [
        "7번\n",
        "https://claude.ai/public/artifacts/13112488-2160-4216-8845-4187a58f746c"
      ],
      "metadata": {
        "id": "fhjealAcf-RL"
      }
    },
    {
      "cell_type": "code",
      "source": [
        "def decide_action(obstacles):\n",
        "\n",
        "    if len(obstacles) == 0:\n",
        "        action = \"직진\"\n",
        "        print(\"장애물 없음\")\n",
        "\n",
        "    elif \"앞\" in obstacles:\n",
        "        print(\"앞에 장애물 있음\")\n",
        "\n",
        "        if \"왼쪽\" not in obstacles:\n",
        "            action = \"좌회전\"\n",
        "            print(\"왼쪽 안전\")\n",
        "\n",
        "        elif \"오른쪽\" not in obstacles:\n",
        "            action = \"우회전\"\n",
        "            print(\"오른쪽 안전\")\n",
        "\n",
        "        else:\n",
        "            action = \"정지\"\n",
        "            print(\"모든 방향 위험\")\n",
        "\n",
        "    else:\n",
        "        action = \"주의해서 직진\"\n",
        "        print(\"앞은 안전, 직진\")\n",
        "\n",
        "    return action\n"
      ],
      "metadata": {
        "id": "dHwjSZWHf99V"
      },
      "execution_count": 3,
      "outputs": []
    },
    {
      "cell_type": "markdown",
      "source": [
        "8번\n",
        "https://claude.ai/public/artifacts/6ddac9ec-2dba-456b-bb09-bf6e277a8a06"
      ],
      "metadata": {
        "id": "a6WTxAQewthd"
      }
    },
    {
      "cell_type": "code",
      "source": [
        "class SimpleCar:\n",
        "    def __init__(self, name, x, y):\n",
        "        self.name = name\n",
        "        self.x = x\n",
        "        self.y = y\n",
        "        self.safe_distance = 1\n",
        "\n",
        "    def move_forward(self):\n",
        "        self.y += 1\n",
        "        print(\"전진: y =\", self.y)"
      ],
      "metadata": {
        "id": "nUIZa88LwtLy"
      },
      "execution_count": 2,
      "outputs": []
    }
  ]
}