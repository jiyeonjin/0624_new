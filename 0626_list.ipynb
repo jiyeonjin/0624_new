{
  "nbformat": 4,
  "nbformat_minor": 0,
  "metadata": {
    "colab": {
      "provenance": [],
      "authorship_tag": "ABX9TyOO84qHNVQMjZU4Oh+Mjcxu",
      "include_colab_link": true
    },
    "kernelspec": {
      "name": "python3",
      "display_name": "Python 3"
    },
    "language_info": {
      "name": "python"
    }
  },
  "cells": [
    {
      "cell_type": "markdown",
      "metadata": {
        "id": "view-in-github",
        "colab_type": "text"
      },
      "source": [
        "<a href=\"https://colab.research.google.com/github/jiyeonjin/0624_new/blob/main/0626_list.ipynb\" target=\"_parent\"><img src=\"https://colab.research.google.com/assets/colab-badge.svg\" alt=\"Open In Colab\"/></a>"
      ]
    },
    {
      "cell_type": "code",
      "execution_count": 10,
      "metadata": {
        "colab": {
          "base_uri": "https://localhost:8080/"
        },
        "id": "P6YOovTIFLme",
        "outputId": "3749d7d1-d4d8-4e0f-b9df-29833b85d56a"
      },
      "outputs": [
        {
          "output_type": "stream",
          "name": "stdout",
          "text": [
            "['apple', 'banana', 'cherry']\n"
          ]
        }
      ],
      "source": [
        "thislist=[\"apple\",\"banana\",\"cherry\"]\n",
        "print(thislist)"
      ]
    },
    {
      "cell_type": "code",
      "source": [
        "thislist=[\"apple\",\"banana\",\"cherry\",\"apple\",\"cherry\"]\n",
        "print(thislist)"
      ],
      "metadata": {
        "colab": {
          "base_uri": "https://localhost:8080/"
        },
        "id": "wmE4twM_FVAS",
        "outputId": "d86149fd-d7c8-4d62-ec66-3176263b1998"
      },
      "execution_count": 11,
      "outputs": [
        {
          "output_type": "stream",
          "name": "stdout",
          "text": [
            "['apple', 'banana', 'cherry', 'apple', 'cherry']\n"
          ]
        }
      ]
    },
    {
      "cell_type": "code",
      "source": [
        "thislist=[\"apple\",\"banana\",\"cherry\"]\n",
        "print(len(thislist))"
      ],
      "metadata": {
        "colab": {
          "base_uri": "https://localhost:8080/"
        },
        "id": "Mpfv5iagFlvK",
        "outputId": "57ef0b30-541d-4bd6-fb98-1c4a0002acfb"
      },
      "execution_count": 12,
      "outputs": [
        {
          "output_type": "stream",
          "name": "stdout",
          "text": [
            "3\n"
          ]
        }
      ]
    },
    {
      "cell_type": "code",
      "source": [
        "list1=[\"apple\",\"banana\",\"cherry\"]\n",
        "list2=[1,5,7,9,3]\n",
        "list3=[True, False, False]"
      ],
      "metadata": {
        "id": "JsOGvQXWFljh"
      },
      "execution_count": 13,
      "outputs": []
    },
    {
      "cell_type": "code",
      "source": [
        "mylist=[\"apple\",\"banana\",\"cherry\"]\n",
        "print(type(mylist))"
      ],
      "metadata": {
        "colab": {
          "base_uri": "https://localhost:8080/"
        },
        "id": "-Sy9vYEUF6gY",
        "outputId": "ba455750-2280-4424-9aae-8d3c405653db"
      },
      "execution_count": 14,
      "outputs": [
        {
          "output_type": "stream",
          "name": "stdout",
          "text": [
            "<class 'list'>\n"
          ]
        }
      ]
    },
    {
      "cell_type": "code",
      "source": [
        "thislist=list((\"apple\",\"banana\",\"cherry\"))\n",
        "print(thislist)"
      ],
      "metadata": {
        "colab": {
          "base_uri": "https://localhost:8080/"
        },
        "id": "lo6lEpxwF6Yw",
        "outputId": "19761c4b-fa68-4428-b9ce-98b34512e3c3"
      },
      "execution_count": 15,
      "outputs": [
        {
          "output_type": "stream",
          "name": "stdout",
          "text": [
            "['apple', 'banana', 'cherry']\n"
          ]
        }
      ]
    },
    {
      "cell_type": "markdown",
      "source": [
        "리스트는 여러 개의 값을 순서대로 저장할 수 있는 자료형이다.\n",
        "\n",
        "이 리스트에는 문자열과 숫자가 함께 들어 있으며 인덱스가 0부터 시작한다."
      ],
      "metadata": {
        "id": "MfvoNZEnHfem"
      }
    },
    {
      "cell_type": "code",
      "source": [
        "# 세종시 새롬북로 13의 좌표 정보\n",
        "location_info = [\"세종특별자치시 새롬북로 13\", 36.486550655802, 127.24647322839]\n",
        "\n",
        "# 출력 예시\n",
        "print(\"주소:\", location_info[0])\n",
        "print(\"위도:\", location_info[1])\n",
        "print(\"경도:\", location_info[2])"
      ],
      "metadata": {
        "colab": {
          "base_uri": "https://localhost:8080/"
        },
        "id": "m1IQ_dGFHMCA",
        "outputId": "d9fbde7d-c078-40ef-b091-18b4f7e6a8cf"
      },
      "execution_count": 16,
      "outputs": [
        {
          "output_type": "stream",
          "name": "stdout",
          "text": [
            "주소: 세종특별자치시 새롬북로 13\n",
            "위도: 36.486550655802\n",
            "경도: 127.24647322839\n"
          ]
        }
      ]
    },
    {
      "cell_type": "markdown",
      "source": [
        "# list 관련 자율주행 코드 예제1: 거리 센서 값 저장하기"
      ],
      "metadata": {
        "id": "qt9mbfXxH2_N"
      }
    },
    {
      "cell_type": "code",
      "source": [
        "distances = [12.5, 8.0, 10.2]  # [앞, 왼쪽, 오른쪽]\n",
        "\n",
        "print(\"앞쪽 거리:\", distances[0])\n",
        "print(\"왼쪽 거리:\", distances[1])\n",
        "print(\"오른쪽 거리:\", distances[2])"
      ],
      "metadata": {
        "colab": {
          "base_uri": "https://localhost:8080/"
        },
        "id": "4sSpGGVmHzgj",
        "outputId": "9bc66c2b-9611-4faf-ae9e-75dbe368b6bb"
      },
      "execution_count": 17,
      "outputs": [
        {
          "output_type": "stream",
          "name": "stdout",
          "text": [
            "앞쪽 거리: 12.5\n",
            "왼쪽 거리: 8.0\n",
            "오른쪽 거리: 10.2\n"
          ]
        }
      ]
    },
    {
      "cell_type": "markdown",
      "source": [
        "# 예제 2: 여러 지점의 GPS 좌표 저장"
      ],
      "metadata": {
        "id": "12V1XfX8IJFt"
      }
    },
    {
      "cell_type": "code",
      "source": [
        "path = [\n",
        "    [36.485, 127.246],\n",
        "    [36.486, 127.247],\n",
        "    [36.487, 127.248]\n",
        "]\n",
        "\n",
        "for point in path:\n",
        "    print(\"이동할 좌표:\", point)\n"
      ],
      "metadata": {
        "colab": {
          "base_uri": "https://localhost:8080/"
        },
        "id": "zJNLftRWIHol",
        "outputId": "322b0f7a-8f07-4522-fd22-60d9a4dfeff7"
      },
      "execution_count": 18,
      "outputs": [
        {
          "output_type": "stream",
          "name": "stdout",
          "text": [
            "이동할 좌표: [36.485, 127.246]\n",
            "이동할 좌표: [36.486, 127.247]\n",
            "이동할 좌표: [36.487, 127.248]\n"
          ]
        }
      ]
    },
    {
      "cell_type": "markdown",
      "source": [
        "# 예제 3: 장애물 감지 방향 리스트"
      ],
      "metadata": {
        "id": "wxo3hqgMIQE3"
      }
    },
    {
      "cell_type": "code",
      "source": [
        "directions = [\"앞\", \"왼쪽\", \"오른쪽\"]\n",
        "obstacle_detected = [False, True, False]\n",
        "\n",
        "for i in range(3):\n",
        "    if obstacle_detected[i]:\n",
        "        print(f\"{directions[i]}에 장애물 감지!\")\n"
      ],
      "metadata": {
        "colab": {
          "base_uri": "https://localhost:8080/"
        },
        "id": "3OFGACT_IOHF",
        "outputId": "5526babb-9e81-4e8b-d682-41a874590ea6"
      },
      "execution_count": 19,
      "outputs": [
        {
          "output_type": "stream",
          "name": "stdout",
          "text": [
            "왼쪽에 장애물 감지!\n"
          ]
        }
      ]
    },
    {
      "cell_type": "markdown",
      "source": [
        "# 예제 4: 주행 속도 기록 저장"
      ],
      "metadata": {
        "id": "OX3vFv51IUax"
      }
    },
    {
      "cell_type": "code",
      "source": [
        "speeds = [0, 10, 20, 15, 5]  # 시간순 속도 변화 (단위: km/h)\n",
        "\n",
        "average_speed = sum(speeds) / len(speeds)\n",
        "print(\"평균 속도:\", average_speed)\n"
      ],
      "metadata": {
        "colab": {
          "base_uri": "https://localhost:8080/"
        },
        "id": "xcUoonULISk9",
        "outputId": "00042b48-b3f4-4c42-9631-f3e9a85e568f"
      },
      "execution_count": 20,
      "outputs": [
        {
          "output_type": "stream",
          "name": "stdout",
          "text": [
            "평균 속도: 10.0\n"
          ]
        }
      ]
    },
    {
      "cell_type": "markdown",
      "source": [
        "# 예제 5: 자율주행 신호등 색상 순서 리스트"
      ],
      "metadata": {
        "id": "GKh1xY56IYbO"
      }
    },
    {
      "cell_type": "code",
      "source": [
        "traffic_lights = [\"빨강\", \"노랑\", \"초록\"]\n",
        "\n",
        "for light in traffic_lights:\n",
        "    print(f\"신호등 상태: {light}\")\n"
      ],
      "metadata": {
        "colab": {
          "base_uri": "https://localhost:8080/"
        },
        "id": "2di9akXKIXI9",
        "outputId": "56da9aef-7c39-4607-801f-dffd9ac4d87e"
      },
      "execution_count": 21,
      "outputs": [
        {
          "output_type": "stream",
          "name": "stdout",
          "text": [
            "신호등 상태: 빨강\n",
            "신호등 상태: 노랑\n",
            "신호등 상태: 초록\n"
          ]
        }
      ]
    }
  ]
}