{
  "nbformat": 4,
  "nbformat_minor": 0,
  "metadata": {
    "colab": {
      "provenance": [],
      "authorship_tag": "ABX9TyPhMH0Dbpu+ad8QsvKyi+7l",
      "include_colab_link": true
    },
    "kernelspec": {
      "name": "python3",
      "display_name": "Python 3"
    },
    "language_info": {
      "name": "python"
    }
  },
  "cells": [
    {
      "cell_type": "markdown",
      "metadata": {
        "id": "view-in-github",
        "colab_type": "text"
      },
      "source": [
        "<a href=\"https://colab.research.google.com/github/jiyeonjin/0624_new/blob/main/0630__init%EC%97%90_%EA%B7%B8%EB%8F%99%EC%95%88_%EB%B0%B0%EC%9A%B4_%EB%82%B4%EC%9A%A9_%EC%A0%91%EB%AA%A9%ED%95%98%EA%B8%B0.ipynb\" target=\"_parent\"><img src=\"https://colab.research.google.com/assets/colab-badge.svg\" alt=\"Open In Colab\"/></a>"
      ]
    },
    {
      "cell_type": "code",
      "execution_count": 41,
      "metadata": {
        "colab": {
          "base_uri": "https://localhost:8080/"
        },
        "id": "Np_knVQRX6-y",
        "outputId": "ffbdf520-dd0d-4062-9402-2de8307d6f29"
      },
      "outputs": [
        {
          "output_type": "stream",
          "name": "stdout",
          "text": [
            "🚗 자율주행 장애물 감지 시스템\n",
            "------------------------------\n",
            "\n",
            "🚨 감지된 장애물: ['앞', '오른쪽']\n"
          ]
        }
      ],
      "source": [
        "# 센서 데이터 (거리 측정값, 단위: 미터)\n",
        "sensors = {\n",
        "    \"앞\": 8.0,\n",
        "    \"왼쪽\": 15.0,\n",
        "    \"오른쪽\": 4.0\n",
        "}\n",
        "\n",
        "# 안전 거리 설정\n",
        "safe_distance = 10.0\n",
        "\n",
        "if __name__ == \"__main__\":\n",
        "    print(\"🚗 자율주행 장애물 감지 시스템\")\n",
        "    print(\"-\" * 30)\n",
        "\n",
        "    # 장애물 감지\n",
        "    obstacles = []\n",
        "    for direction, distance in sensors.items(): #딕셔너리의 방향과 값을 동시에 가져옴 -> 장애물 감지하는데 사용\n",
        "        if distance < safe_distance:\n",
        "            obstacles.append(direction)\n",
        "\n",
        "    print(f\"\\n🚨 감지된 장애물: {obstacles}\")"
      ]
    },
    {
      "cell_type": "markdown",
      "source": [
        "1. 함수 만들기\n",
        "\n"
      ],
      "metadata": {
        "id": "E7-aCJOnoXur"
      }
    },
    {
      "cell_type": "code",
      "source": [
        "def detect_obstacles(sensors, safe_distance):\n",
        "    obstacles = []\n",
        "    for direction, distance in sensors.items():  # 딕셔너리의 방향과 값을 동시에 가져옴 -> 장애물 감지\n",
        "        if distance < safe_distance:\n",
        "            obstacles.append(direction)\n",
        "    return obstacles"
      ],
      "metadata": {
        "id": "G19GaHlirNqi"
      },
      "execution_count": 42,
      "outputs": []
    },
    {
      "cell_type": "markdown",
      "source": [
        "2. 메인실행문 밑에 행동결정 if문 추가"
      ],
      "metadata": {
        "id": "9uBw7JbQrPCm"
      }
    },
    {
      "cell_type": "code",
      "source": [
        " if __name__ == \"__main__\":\n",
        "    print(\"🚗 자율주행 장애물 감지 시스템\")\n",
        "    print(\"-\" * 30)\n",
        "\n",
        "    # 센서 데이터\n",
        "    sensors = {\n",
        "        \"앞\": 8.0,\n",
        "        \"왼쪽\": 15.0,\n",
        "        \"오른쪽\": 4.0\n",
        "    }\n",
        "    safe_distance = 10.0\n",
        "\n",
        "    # 1. 장애물 감지\n",
        "    obstacles = detect_obstacles(sensors, safe_distance)\n",
        "    print(f\"\\n🚨 감지된 장애물: {obstacles}\")\n",
        "\n",
        "    # 2. 행동 결정 (if문 직접 작성)\n",
        "    print(\"\\n🧭 주행 판단:\")\n",
        "\n",
        "    if not obstacles:\n",
        "        print(\"✅ 직진 (장애물 없음)\")\n",
        "    elif \"앞\" not in obstacles:\n",
        "        print(\"⚠️ 주의해서 직진 (앞은 안전, 측면에 장애물 있음)\")\n",
        "    else:\n",
        "        if \"왼쪽\" not in obstacles and sensors[\"왼쪽\"] >= safe_distance:\n",
        "            print(\"↩ 좌회전 (왼쪽이 안전)\")\n",
        "        elif \"오른쪽\" not in obstacles and sensors[\"오른쪽\"] >= safe_distance:\n",
        "            print(\"↪ 우회전 (오른쪽이 안전)\")\n",
        "        else:\n",
        "            print(\"🛑 정지 (모든 방향 위험)\")\n"
      ],
      "metadata": {
        "colab": {
          "base_uri": "https://localhost:8080/"
        },
        "id": "To39cAAbrSsf",
        "outputId": "50fa6388-5c72-45ef-89e6-558f631d8430"
      },
      "execution_count": 43,
      "outputs": [
        {
          "output_type": "stream",
          "name": "stdout",
          "text": [
            "🚗 자율주행 장애물 감지 시스템\n",
            "------------------------------\n",
            "\n",
            "🚨 감지된 장애물: ['앞', '오른쪽']\n",
            "\n",
            "🧭 주행 판단:\n",
            "↩ 좌회전 (왼쪽이 안전)\n"
          ]
        }
      ]
    },
    {
      "cell_type": "markdown",
      "source": [
        "3. 행동결정 if문 함수로 작성하기"
      ],
      "metadata": {
        "id": "e1aQkbmjrsVi"
      }
    },
    {
      "cell_type": "code",
      "source": [
        "def decide_action(sensors, obstacles, safe_distance):\n",
        "\n",
        "    print(\"\\n🧭 주행 판단:\")\n",
        "\n",
        "    if not obstacles:\n",
        "        print(\"✅ 직진 (장애물 없음)\")\n",
        "    elif \"앞\" not in obstacles:\n",
        "        print(\"⚠️ 주의해서 직진 (앞은 안전, 측면에 장애물 있음)\")\n",
        "    else:\n",
        "        if \"왼쪽\" not in obstacles and sensors[\"왼쪽\"] >= safe_distance:\n",
        "            print(\"↩ 좌회전 (왼쪽이 안전)\")\n",
        "        elif \"오른쪽\" not in obstacles and sensors[\"오른쪽\"] >= safe_distance:\n",
        "            print(\"↪ 우회전 (오른쪽이 안전)\")\n",
        "        else:\n",
        "            print(\"🛑 정지 (모든 방향 위험)\")\n"
      ],
      "metadata": {
        "id": "qFHPmjqBrU6f"
      },
      "execution_count": 44,
      "outputs": []
    },
    {
      "cell_type": "markdown",
      "source": [
        "4. 최종 코드"
      ],
      "metadata": {
        "id": "WemA2RRQr5Oa"
      }
    },
    {
      "cell_type": "code",
      "source": [
        "# 장애물 감지 함수\n",
        "def detect_obstacles(sensors, safe_distance):\n",
        "\n",
        "    obstacles = []\n",
        "    for direction, distance in sensors.items():\n",
        "        if distance < safe_distance:\n",
        "            obstacles.append(direction)\n",
        "    return obstacles\n",
        "\n",
        "# 행동 결정 함수\n",
        "def decide_action(sensors, obstacles, safe_distance):\n",
        "\n",
        "    print(\"\\n🧭 주행 판단:\")\n",
        "\n",
        "    if not obstacles:\n",
        "        print(\"✅ 직진 (장애물 없음)\")\n",
        "    elif \"앞\" not in obstacles:\n",
        "        print(\"⚠️ 주의해서 직진 (앞은 안전, 측면에 장애물 있음)\")\n",
        "    else:\n",
        "        if \"왼쪽\" not in obstacles and sensors[\"왼쪽\"] >= safe_distance:\n",
        "            print(\"↩ 좌회전 (왼쪽이 안전)\")\n",
        "        elif \"오른쪽\" not in obstacles and sensors[\"오른쪽\"] >= safe_distance:\n",
        "            print(\"↪ 우회전 (오른쪽이 안전)\")\n",
        "        else:\n",
        "            print(\"🛑 정지 (모든 방향 위험)\")\n",
        "\n",
        "# 메인 실행\n",
        "if __name__ == \"__main__\":\n",
        "    print(\"🚗 자율주행 장애물 감지 시스템\")\n",
        "    print(\"-\" * 30)\n",
        "\n",
        "    # 센서 데이터\n",
        "    sensors = {\n",
        "        \"앞\": 8.0,\n",
        "        \"왼쪽\": 15.0,\n",
        "        \"오른쪽\": 4.0\n",
        "    }\n",
        "    safe_distance = 10.0\n",
        "\n",
        "    # 장애물 감지\n",
        "    obstacles = detect_obstacles(sensors, safe_distance)\n",
        "    print(f\"\\n🚨 감지된 장애물: {obstacles}\")\n",
        "\n",
        "    # 행동 결정\n",
        "    decide_action(sensors, obstacles, safe_distance)"
      ],
      "metadata": {
        "colab": {
          "base_uri": "https://localhost:8080/"
        },
        "id": "xfkc0degrgkO",
        "outputId": "d9fb5308-cc9a-487f-f241-5635f5efdb9d"
      },
      "execution_count": 45,
      "outputs": [
        {
          "output_type": "stream",
          "name": "stdout",
          "text": [
            "🚗 자율주행 장애물 감지 시스템\n",
            "------------------------------\n",
            "\n",
            "🚨 감지된 장애물: ['앞', '오른쪽']\n",
            "\n",
            "🧭 주행 판단:\n",
            "↩ 좌회전 (왼쪽이 안전)\n"
          ]
        }
      ]
    },
    {
      "cell_type": "markdown",
      "source": [
        "차트 이용해 작성한 코드"
      ],
      "metadata": {
        "id": "iaasa92PqBx_"
      }
    },
    {
      "cell_type": "code",
      "source": [
        "# 센서 데이터 (거리 측정값, 단위: 미터)\n",
        "sensors = {\n",
        "    \"앞\": 8.0,\n",
        "    \"왼쪽\": 15.0,\n",
        "    \"오른쪽\": 4.0\n",
        "}\n",
        "\n",
        "# 안전 거리 설정\n",
        "safe_distance = 10.0\n",
        "\n",
        "def has_obstacle(sensors, safe_distance):\n",
        "    \"\"\"하나라도 장애물이 있으면 True\"\"\"\n",
        "    return any(distance < safe_distance for distance in sensors.values())\n",
        "\n",
        "def is_safe(direction):\n",
        "    \"\"\"해당 방향이 안전한지 판단\"\"\"\n",
        "    return sensors[direction] >= safe_distance\n",
        "\n",
        "if __name__ == \"__main__\":\n",
        "    print(\"🚗 자율주행 행동 결정 시스템\")\n",
        "    print(\"-\" * 30)\n",
        "\n",
        "    if not has_obstacle(sensors, safe_distance):\n",
        "        print(\"✅ 직진 (장애물 없음)\")\n",
        "    else:\n",
        "        if sensors[\"앞\"] >= safe_distance:\n",
        "            print(\"⚠️ 주의해서 직진 (앞은 안전, 측면에 장애물 있음)\")\n",
        "        else:\n",
        "            if is_safe(\"왼쪽\"):\n",
        "                print(\"↩ 좌회전 (왼쪽이 안전)\")\n",
        "            elif is_safe(\"오른쪽\"):\n",
        "                print(\"↪ 우회전 (왼쪽 위험, 오른쪽 안전)\")\n",
        "            else:\n",
        "                print(\"🛑 정지 (모든 방향 위험)\")\n"
      ],
      "metadata": {
        "colab": {
          "base_uri": "https://localhost:8080/"
        },
        "id": "QPDAKcCvoa0z",
        "outputId": "2bc336f5-c3d9-48c3-a95d-5f192d0af73e"
      },
      "execution_count": 46,
      "outputs": [
        {
          "output_type": "stream",
          "name": "stdout",
          "text": [
            "🚗 자율주행 행동 결정 시스템\n",
            "------------------------------\n",
            "↩ 좌회전 (왼쪽이 안전)\n"
          ]
        }
      ]
    }
  ]
}