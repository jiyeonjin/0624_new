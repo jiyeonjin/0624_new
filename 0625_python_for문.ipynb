{
  "nbformat": 4,
  "nbformat_minor": 0,
  "metadata": {
    "colab": {
      "provenance": [],
      "authorship_tag": "ABX9TyO8y3DxKDYpazODaMOSzaf4",
      "include_colab_link": true
    },
    "kernelspec": {
      "name": "python3",
      "display_name": "Python 3"
    },
    "language_info": {
      "name": "python"
    }
  },
  "cells": [
    {
      "cell_type": "markdown",
      "metadata": {
        "id": "view-in-github",
        "colab_type": "text"
      },
      "source": [
        "<a href=\"https://colab.research.google.com/github/jiyeonjin/0624_new/blob/main/0625_python_for%EB%AC%B8.ipynb\" target=\"_parent\"><img src=\"https://colab.research.google.com/assets/colab-badge.svg\" alt=\"Open In Colab\"/></a>"
      ]
    },
    {
      "cell_type": "markdown",
      "source": [
        "for 문 예제"
      ],
      "metadata": {
        "id": "3lyqds063qX7"
      }
    },
    {
      "cell_type": "markdown",
      "source": [
        "1. 리스트 안에 있는 과일 이름을 하나씩 꺼내서 출력하는 코드. * 인덱스 번호는 0번부터 시작 *"
      ],
      "metadata": {
        "id": "p4iKNu4274Hz"
      }
    },
    {
      "cell_type": "code",
      "execution_count": 33,
      "metadata": {
        "colab": {
          "base_uri": "https://localhost:8080/"
        },
        "id": "ZT9LU7o43j2S",
        "outputId": "3e1382d3-812d-4353-c3da-0bb57c351392"
      },
      "outputs": [
        {
          "output_type": "stream",
          "name": "stdout",
          "text": [
            "apple\n",
            "banana\n",
            "cherry\n"
          ]
        }
      ],
      "source": [
        "fruits=[\"apple\",\"banana\",\"cherry\"]\n",
        "for x in fruits:\n",
        "  print(x)"
      ]
    },
    {
      "cell_type": "markdown",
      "source": [
        "2. 리스트를 출력하다가 \"banana\"가 나오면 break를 이용해 멈추는 코드"
      ],
      "metadata": {
        "id": "ivOvMvxw79yj"
      }
    },
    {
      "cell_type": "code",
      "source": [
        "fruits=[\"apple\",\"banana\",\"cherry\"]\n",
        "for x in fruits:\n",
        "  print(x)\n",
        "  if x==\"banana\":\n",
        "    break"
      ],
      "metadata": {
        "colab": {
          "base_uri": "https://localhost:8080/"
        },
        "id": "dSkB7EVT4CBe",
        "outputId": "bae961d7-9ed2-441c-fbb7-864e3ff07377"
      },
      "execution_count": 34,
      "outputs": [
        {
          "output_type": "stream",
          "name": "stdout",
          "text": [
            "apple\n",
            "banana\n"
          ]
        }
      ]
    },
    {
      "cell_type": "markdown",
      "source": [
        "3. \"banana\"가 나오기 전까지만 과일 이름을 출력하는 코드"
      ],
      "metadata": {
        "id": "RinUJmSw8JKz"
      }
    },
    {
      "cell_type": "code",
      "source": [
        "fruits=[\"apple\",\"banana\",\"cherry\"]\n",
        "for x in fruits:\n",
        "  if x == \"banana\":\n",
        "    break\n",
        "  print(x)"
      ],
      "metadata": {
        "colab": {
          "base_uri": "https://localhost:8080/"
        },
        "id": "JJMGlGm34B-u",
        "outputId": "747630f9-87f5-49ee-d20d-2ecbe98e9f67"
      },
      "execution_count": 35,
      "outputs": [
        {
          "output_type": "stream",
          "name": "stdout",
          "text": [
            "apple\n"
          ]
        }
      ]
    },
    {
      "cell_type": "markdown",
      "source": [
        "4. \"banana\"만 빼고 과일 이름을 출력하는 코드\n",
        "\n",
        "continue는 이번만 넘어가고 계속 반복, break는 아예 반복을 멈춤"
      ],
      "metadata": {
        "id": "huLk4GsM8VPU"
      }
    },
    {
      "cell_type": "code",
      "source": [
        "fruits=[\"apple\",\"banana\",\"cherry\"]\n",
        "for x in fruits:\n",
        "  if x==\"banana\":\n",
        "    continue\n",
        "  print(x)"
      ],
      "metadata": {
        "colab": {
          "base_uri": "https://localhost:8080/"
        },
        "id": "qAl9dkY-4B7u",
        "outputId": "4edee311-9727-4fb8-be61-d48cad933ae8"
      },
      "execution_count": 36,
      "outputs": [
        {
          "output_type": "stream",
          "name": "stdout",
          "text": [
            "apple\n",
            "cherry\n"
          ]
        }
      ]
    },
    {
      "cell_type": "markdown",
      "source": [
        "5. 형용사 하나당 과일 전부를 조합해서 출력하는 코드\n",
        "\n",
        "\"red\"가 나왔을 때 → apple, banana, cherry를 각각 붙여 출력\n"
      ],
      "metadata": {
        "id": "5weyV0by8gO7"
      }
    },
    {
      "cell_type": "code",
      "source": [
        "adj=[\"red\",\"big\",\"tasty\"]\n",
        "fruits=[\"apple\",\"banana\",\"cherry\"]\n",
        "\n",
        "for x in adj:\n",
        "  for y in fruits:\n",
        "    print(x,y)"
      ],
      "metadata": {
        "colab": {
          "base_uri": "https://localhost:8080/"
        },
        "id": "pm7H7qT34B2X",
        "outputId": "278f9091-5d35-4be8-f6ab-41765b4f85f4"
      },
      "execution_count": 37,
      "outputs": [
        {
          "output_type": "stream",
          "name": "stdout",
          "text": [
            "red apple\n",
            "red banana\n",
            "red cherry\n",
            "big apple\n",
            "big banana\n",
            "big cherry\n",
            "tasty apple\n",
            "tasty banana\n",
            "tasty cherry\n"
          ]
        }
      ]
    },
    {
      "cell_type": "markdown",
      "source": [
        "# 1. 여러 센서 값 확인하기\n",
        "\n",
        "for value in sensor_values: → 리스트 안의 값을 하나씩 꺼내서 검사한다.\n",
        "\n",
        "if value > 0.7: → 센서 값이 일정 기준(임계값)을 넘는지 확인하는 과정\n",
        "\n",
        "이 코드는 리스트의 값들을 하나씩 꺼내서 조건에 따라 판단하고 결과 출력하는 구조이다."
      ],
      "metadata": {
        "id": "Akiy_dyp5d5m"
      }
    },
    {
      "cell_type": "code",
      "source": [
        "sensor_values = [0.5, 0.8, 0.6, 0.9]\n",
        "\n",
        "for value in sensor_values:\n",
        "    if value > 0.7:\n",
        "        print(\"차선 인식됨\")\n",
        "    else:\n",
        "        print(\"차선 인식 안됨\")\n"
      ],
      "metadata": {
        "colab": {
          "base_uri": "https://localhost:8080/"
        },
        "id": "nZiV13UH57sf",
        "outputId": "dda46ccd-f36f-4847-95dc-ecb2acaa29df"
      },
      "execution_count": 38,
      "outputs": [
        {
          "output_type": "stream",
          "name": "stdout",
          "text": [
            "차선 인식 안됨\n",
            "차선 인식됨\n",
            "차선 인식 안됨\n",
            "차선 인식됨\n"
          ]
        }
      ]
    },
    {
      "cell_type": "markdown",
      "source": [
        "# 2. 속도 로그 기록 출력\n",
        "\n",
        "speed_log라는 리스트에 과거 속도 기록이 들어있으며, for문이 리스트를 돌면서 하나씩 speed에 넣는다.\n",
        "\n",
        "f\"문자열\"은 숫자를 글자 안에 넣어주는 형식(f-string)\n",
        "\n",
        "이 코드는 리스트 전체를 반복하며 각 항목을 출력하는 기본 패턴을 가진다.\n",
        "\n"
      ],
      "metadata": {
        "id": "eOs1Eb2m5_lP"
      }
    },
    {
      "cell_type": "code",
      "source": [
        "speed_log = [80, 85, 90, 100, 95]\n",
        "\n",
        "for speed in speed_log:\n",
        "    print(f\"기록된 속도: {speed} km/h\")\n"
      ],
      "metadata": {
        "colab": {
          "base_uri": "https://localhost:8080/"
        },
        "id": "ATmMzBtm5_u_",
        "outputId": "d3cbcb2f-50c7-4305-ffa3-5792db97ca48"
      },
      "execution_count": 39,
      "outputs": [
        {
          "output_type": "stream",
          "name": "stdout",
          "text": [
            "기록된 속도: 80 km/h\n",
            "기록된 속도: 85 km/h\n",
            "기록된 속도: 90 km/h\n",
            "기록된 속도: 100 km/h\n",
            "기록된 속도: 95 km/h\n"
          ]
        }
      ]
    },
    {
      "cell_type": "markdown",
      "source": [
        "# 3. 여러 장애물 거리 확인\n",
        "\n",
        "리스트에 있는 거리값을 반복해서 확인한다.\n",
        "\n",
        "장애물과의 거리를 5m보다 가까우면 위험하다고 판단, 이와 같이 조건에 따라 다른 메시지 출력\n"
      ],
      "metadata": {
        "id": "FYG4IiFR6M0_"
      }
    },
    {
      "cell_type": "code",
      "source": [
        "obstacle_distances = [10, 3, 7, 2, 8]\n",
        "\n",
        "for distance in obstacle_distances:\n",
        "    if distance < 5:\n",
        "        print(f\"장애물 가까움! 거리: {distance}m\")\n",
        "    else:\n",
        "        print(f\"안전 거리 확보됨. 거리: {distance}m\")\n"
      ],
      "metadata": {
        "colab": {
          "base_uri": "https://localhost:8080/"
        },
        "id": "Lf2Vghgg6Cv-",
        "outputId": "5dd52970-2e19-46ee-8797-5451abc38782"
      },
      "execution_count": 40,
      "outputs": [
        {
          "output_type": "stream",
          "name": "stdout",
          "text": [
            "안전 거리 확보됨. 거리: 10m\n",
            "장애물 가까움! 거리: 3m\n",
            "안전 거리 확보됨. 거리: 7m\n",
            "장애물 가까움! 거리: 2m\n",
            "안전 거리 확보됨. 거리: 8m\n"
          ]
        }
      ]
    },
    {
      "cell_type": "markdown",
      "source": [
        "# 4. 차량 제어 명령 반복 실행\n",
        "\n",
        "문자열로 된 여러 명령어를 리스트에 저장한다.-> for문은 숫자뿐만 아니라 문자열도 반복할 수 있다.\n"
      ],
      "metadata": {
        "id": "Xehuopiy6PkP"
      }
    },
    {
      "cell_type": "code",
      "source": [
        "commands = [\"앞으로\", \"왼쪽\", \"앞으로\", \"오른쪽\", \"정지\"]\n",
        "\n",
        "for cmd in commands:\n",
        "    print(f\"차량 명령 실행: {cmd}\")\n"
      ],
      "metadata": {
        "colab": {
          "base_uri": "https://localhost:8080/"
        },
        "id": "ahJTNR2Z6EpI",
        "outputId": "ae44a60e-0bb3-4640-b943-e6f968358d97"
      },
      "execution_count": 41,
      "outputs": [
        {
          "output_type": "stream",
          "name": "stdout",
          "text": [
            "차량 명령 실행: 앞으로\n",
            "차량 명령 실행: 왼쪽\n",
            "차량 명령 실행: 앞으로\n",
            "차량 명령 실행: 오른쪽\n",
            "차량 명령 실행: 정지\n"
          ]
        }
      ]
    },
    {
      "cell_type": "markdown",
      "source": [
        "# 5. 여러 카메라 번호 확인\n",
        "\n",
        "리스트 안에 숫자가 들어 있다. (카메라 번호)\n",
        "\n",
        "for cam in camera_ids:는 번호 하나씩 꺼내서 cam에 저장\n",
        "\n",
        "이 코드는 리스트에 숫자가 들어 있든, 글자가 들어 있든 for문은 하나씩 다 꺼내서 처리 가능하다."
      ],
      "metadata": {
        "id": "WFyXKNuJ6SYe"
      }
    },
    {
      "cell_type": "code",
      "source": [
        "camera_ids = [1, 2, 3, 4]\n",
        "\n",
        "for cam in camera_ids:\n",
        "    print(f\"{cam}번 카메라 상태 확인 중...\")\n"
      ],
      "metadata": {
        "colab": {
          "base_uri": "https://localhost:8080/"
        },
        "id": "M5TITEyn6GKS",
        "outputId": "1ff77d7b-a06d-47f2-af04-67e68d15d2a0"
      },
      "execution_count": 42,
      "outputs": [
        {
          "output_type": "stream",
          "name": "stdout",
          "text": [
            "1번 카메라 상태 확인 중...\n",
            "2번 카메라 상태 확인 중...\n",
            "3번 카메라 상태 확인 중...\n",
            "4번 카메라 상태 확인 중...\n"
          ]
        }
      ]
    }
  ]
}